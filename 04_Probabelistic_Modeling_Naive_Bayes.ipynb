{
  "nbformat": 4,
  "nbformat_minor": 0,
  "metadata": {
    "colab": {
      "name": "04_Probabelistic_Modeling_Naive_Bayes.ipynb",
      "provenance": []
    },
    "kernelspec": {
      "name": "python3",
      "display_name": "Python 3"
    },
    "language_info": {
      "name": "python"
    }
  },
  "cells": [
    {
      "cell_type": "markdown",
      "source": [
        "# Probabelistic Modeling\n",
        "\n",
        "Probability calculation is a fundamental tool for statistical inference. However, to calculate a probability, we must know in advance the [probability  distribution function and its parameters](https://statlect.com/glossary/parameter).\n",
        "\n",
        "We know that as part of the language properties, text samples are not drawn from a Gaussian (normal) distribution. A typical modeling problem involves estimating the joint probability distribution for a given dataset: $P(x, y)$.\n",
        "\n",
        "**Probability Density Estimation** is the process of selecting a probability distribution function and estimating its parameters so that it can best explain the joint probability distribution of observed data ($ x_1, x_2, x_3, …, x_n \\in X$ ).\n",
        "\n",
        "But then:\n",
        "\n",
        "* How do we select the correct distribution function?\n",
        "* How can we find the best distribution parameters to match the data?\n",
        "\n",
        "After all, if we knew the true distribution of the data, we could have easily solved it! But since we don't, we can try estimating it with one of these two methods:\n",
        "\n",
        "1. Maximum a Posteriori (MAP), a Bayesian method.\n",
        "2. Maximum Likelihood Estimation (MLE), frequentist method.\n",
        "\n",
        "The main difference is that MLE assumes that all solutions are equally likely beforehand, whereas MAP allows prior information about the form of the solution to be harnessed. Or to illustrate it with an example: MAP assumes that the coin is fair; MLE would require you to toss it several times to be sure.\n",
        "\n",
        "## Maximum Likelihood Estimation (MLE)\n",
        "\n",
        "[Maximum Likelihood Estimation](https://online.stat.psu.edu/stat415/lesson/1/1.2) involves treating the problem as an **optimization** or **search problem**, where we seek a set of parameters that results in the best fit for the joint probability of the data sample (X).\n",
        "\n",
        "\n",
        "- Assume the data is drawn from some combination of a family of parametric distributions, such as [Gaussian](https://en.wikipedia.org/wiki/Normal_distribution), [Binomial](https://en.wikipedia.org/wiki/Binomial_distribution), [Bernoulli](https://en.wikipedia.org/wiki/Bernoulli_distribution), etc.\n",
        "- Try to predict the selected distribution parameters by either calculating the derivative or by taking a `log` of a sequence probability and optimizing it as a min-max problem (as we saw in the green electricity problem).\n",
        "\n",
        "### Mathematically formulated:\n",
        "Suppose we want to predict the target label of a *test* point $x_t$ ($t$ for test).\n",
        "\n",
        "In **MLE Prediction** the problem is defined as $P(y|x_t; θ)$, where $θ$ is purely a model parameter (e.g. distribution parameters).\n",
        "\n",
        "$$θ=\\arg \\max θ P(D;θ)$$\n",
        "\n",
        "We find the best parameters by maximizing $log[P(D;θ)] $.\n",
        "\n",
        "---\n",
        "\n",
        "### Connection to Machine Learning - Generative Models\n",
        "In supervised Machine learning, we are provided with training data drawn from a distribution $D$. Our task is to find the machine learning parameters that minimize the averaged estimated error (lowering the risk).\n",
        "\n",
        "But what if we go *the other way*?\n",
        "\n",
        "If we statistically estimate the attribute distributions first, we can then use those distributions as decision boundaries to make predictions on new data.\n",
        "\n",
        "Moreover, this classification approach of modeling the joint probability distribution of the attributes as a product of their prior and conditional probability enables us to draw new values randomly from those distributions. Or in other words, we can simulate or **generate** new data points.\n",
        "\n",
        "To be precise, the prior probability refers to the probability of drawing an example with a particular label *a priori* (without observing its input pattern). And the conditional probability is the probability of drawing a specific input for a given class label $y$.\n",
        "\n",
        "A generative learning algorithm starts by estimating these two terms. Then, the classification of a new input is assigned to the class with maximal posterior class-membership probability (but remember that these posterior probabilities are estimates and not the true ones...).\n",
        "\n",
        " ## Take-aways\n",
        "* Maximum Likelihood Estimation is a probabilistic framework for solving the problem of **density estimation**.\n",
        "* It involves maximizing a likelihood function to find the probability distribution and parameters that best explain the observed data.\n",
        "* The underlying joint and conditional probabilities estimation enables us to use this knowledge to make predictions and to generate new samples."
      ],
      "metadata": {
        "id": "9C42l6P8Lrwf"
      }
    },
    {
      "cell_type": "markdown",
      "source": [
        "# Naïve Bayes Models"
      ],
      "metadata": {
        "id": "gR1LmYW82lu2"
      }
    },
    {
      "cell_type": "markdown",
      "source": [
        "## Maximum a Posteriori"
      ],
      "metadata": {
        "id": "IC8qaPtpEMhb"
      }
    },
    {
      "cell_type": "markdown",
      "source": [
        "Another way to obtain these posterior class-membership probabilities is by application of *Bayes' rule* to the estimates of the prior and class-conditional probabilities."
      ],
      "metadata": {
        "id": "Cf5_LbxxCuyR"
      }
    },
    {
      "cell_type": "markdown",
      "source": [
        "## Background\n",
        "\n",
        "\n",
        "\n",
        "Naive Bayes is a simple but important probabilistic model.\n",
        "\n",
        "The Bayes theorem is one of the two main statistical views (the second one is the frequentist theory). As opposed to frequentist view, here, in addition to counting previously observed frequencies, one can incorporate initial believes.\n",
        "\n",
        "We measure the results of a coin flip - *Heads* and *Tails*. The mean is close to 0.5, so we *assume* that the coin is fair. But How can we model that?\n",
        "\n",
        "> In **frequentist statistics**, we can add some imaginary number of throws - $m$:\n",
        "  $$ Θ = \\frac{nHeads + m}{nHead + nTails + 2m} $$\n",
        "\n",
        "if we threw the coin 10 times, and had 6 heads - $P(Θ) = \\frac{6}{10} = 0.6$, we can add 2 more throws, one head one tail, and we get $P(Θ) = \\frac{7}{11} = 0.63$, or even more - if we set $m=5$ we get $P(Θ) = \\frac{6+5}{10+2*5} = \\frac{11}{20} = 0.55$, and so on.\n",
        "  \n",
        "Another option is using Bayesian statistics.\n",
        "\n",
        "> In Bayesian statistics, $Θ$ is defined as a **random variable**, which is not associated with *any* event. In frequentist statistics, this is forbidden, but in Bayesian statistics, this is allowed, and you can specify a prior belief $P(θ)$ defining what values you believe $θ$ is likely to take on.\n",
        "\n",
        "The Bayes rule uses this notion of belief:\n",
        "$$P(θ∣D)= \\frac{P(D∣θ) P(θ)}{P(D)}$$\n",
        "Where:\n",
        "\n",
        "* $P(θ)$ is the prior distribution over the parameter(s) $θ$ before we see any data.\n",
        "* $P(D∣θ)$ is the likelihood of the data given the parameter(s) $θ$.\n",
        "* $P(θ∣D)$ is the posterior distribution over the parameter(s) $θ$ after we have observed the data.\n",
        "\n",
        "To better understand the Bayes rule, check out the following video:"
      ],
      "metadata": {
        "id": "PJlgYb1BhoPZ"
      }
    },
    {
      "cell_type": "code",
      "execution_count": null,
      "metadata": {
        "id": "n-jgvkt35zPj",
        "colab": {
          "base_uri": "https://localhost:8080/",
          "height": 321
        },
        "outputId": "4415a9ad-9c24-4572-b4b3-152dcf9ba087"
      },
      "outputs": [
        {
          "output_type": "execute_result",
          "data": {
            "text/plain": [
              "<IPython.lib.display.YouTubeVideo at 0x7e1654304490>"
            ],
            "text/html": [
              "\n",
              "        <iframe\n",
              "            width=\"400\"\n",
              "            height=\"300\"\n",
              "            src=\"https://www.youtube.com/embed/HZGCoVF3YvM\"\n",
              "            frameborder=\"0\"\n",
              "            allowfullscreen\n",
              "            \n",
              "        ></iframe>\n",
              "        "
            ],
            "image/jpeg": "[encoded data removed]"
          },
          "metadata": {},
          "execution_count": 1
        }
      ],
      "source": [
        "from IPython.display import YouTubeVideo\n",
        "YouTubeVideo('HZGCoVF3YvM')"
      ]
    },
    {
      "cell_type": "markdown",
      "source": [
        "## Classification using Generative Model - Naive Bayes\n",
        "\n",
        "An attribute, a random variable, can be of two types: [continuous or district](http://www.stat.yale.edu/Courses/1997-98/101/ranvar.htm).\n",
        "\n",
        "### Discrete random variable\n",
        "For a discrete random variable $x$, the generative approach is based on the following factorization of the joint probability distribution of (X,Y):\n",
        "$$P(X=x, Y=y)=P(X=x | Y=y)P(Y=y)$$\n",
        "\n",
        "where $P(X=x | Y=y)$ is the conditional probability of drawing a particular input pattern in a given class $y$ and $P(Y=y)$ is the prior probability of drawing an example of this class.\n",
        "\n",
        "Using [Bayes' rule](https://en.wikipedia.org/wiki/Bayes%27_theorem) this decomposition also provides access to the posterior class-membership probabilities which are useful for classification.\n",
        "\n",
        "Overall, the generative approach amounts to the following steps:\n",
        "\n",
        "1. Estimate the prior probabilities $P(Y=y)$ for all labels $y∈Y$, e.g., via simply counting the classes:\n",
        "\n",
        "$$P(Y=y)=\\frac{1}{N}\\sum_{i=1}^N1_{y_i=y}$$\n",
        "\n",
        "2. Choose a family of distributions $P$ for the input pattern and assume it is the 'correct' distribution: $P(X=x | Y=y)∈P$\n",
        "\n",
        "3. Estimate the conditional distribution in all classes.\n",
        "\n",
        "4. Classify new input patterns with\n",
        "\n",
        "\\begin{align*}\n",
        "\tf( x) &= \\arg\\max_{y\\in Y} P(Y=y\\ |\\ X = x)  & (\\mbox{optimal classification rule}^*)\\\\\n",
        "\t& = \\arg\\max_{y\\in Y}\\frac{P(X= x\\ |\\ Y = y) P(Y=y)}{P(X=x)}  &  (\\mbox{due to Bayes' rule})\t\\\\\n",
        "\t& =  \\arg\\max_{y\\in Y} P(X= x\\ |\\ Y = y)  P(Y=y) & (\\mbox{due to } P(X= x) \\mbox{ being a constant wrt. } y )\n",
        "\\end{align*}\n",
        "\n",
        "∗ - this classification rule would be optimal if we had access to the true probabilities.\n",
        "\n",
        "Depending on the choice of distribution family $P$, we obtain different classifiers.\n",
        "\n",
        "### Continuous random variable\n",
        "\n",
        "Continuous values are a bit more complicated. We can no longer calculate the conditional probabilities as we did before ( $P(X | Y)$, because there are simply way too many possible input Xs (e.g. 0.01, 0.001, 0.00001, all the way to infinity).\n",
        "\n",
        "One way to overcome it is to *bin* those values into ranges - as we did with the ages on the first example (20-39, 39-64, 65+). The other option is to calculate them using density functions.\n",
        "\n",
        "So if our $X$ is a continuous random variable, the generative approach is stated in terms of the [conditional probability density functions](https://en.wikipedia.org/wiki/Probability_density_function) $f_{X|Y=y}(x | Y=y)$ instead of the conditional probabilities $P(X=x | Y=y)$. Specifically, we work from the decomposition of the mixed density:\n",
        "\n",
        "$$f_{X,Y}(x,\\ Y=y) = f_{X|Y=y}( x\\ |\\ Y = y) f(Y=y) $$\n",
        "\n",
        "Assuming, of course that we chose the 'correct' distribution density function $f$."
      ],
      "metadata": {
        "id": "N5B3LblF2f7W"
      }
    },
    {
      "cell_type": "markdown",
      "source": [
        "To learn in a more visualized way about density functions and continuous random variables, I recommend you watching this video:"
      ],
      "metadata": {
        "id": "5stofo8-Us9x"
      }
    },
    {
      "cell_type": "code",
      "source": [
        "from IPython.display import YouTubeVideo\n",
        "YouTubeVideo('ZA4JkHKZM50')"
      ],
      "metadata": {
        "colab": {
          "base_uri": "https://localhost:8080/",
          "height": 321
        },
        "id": "vaUTyITHVK3s",
        "outputId": "09709781-c605-4c98-ec65-579b842a435b"
      },
      "execution_count": null,
      "outputs": [
        {
          "output_type": "execute_result",
          "data": {
            "text/plain": [
              "<IPython.lib.display.YouTubeVideo at 0x7e1654304790>"
            ],
            "text/html": [
              "\n",
              "        <iframe\n",
              "            width=\"400\"\n",
              "            height=\"300\"\n",
              "            src=\"https://www.youtube.com/embed/ZA4JkHKZM50\"\n",
              "            frameborder=\"0\"\n",
              "            allowfullscreen\n",
              "            \n",
              "        ></iframe>\n",
              "        "
            ],
            "image/jpeg": "[encoded data removed]"
          },
          "metadata": {},
          "execution_count": 2
        }
      ]
    },
    {
      "cell_type": "markdown",
      "source": [
        "# Exercise"
      ],
      "metadata": {
        "id": "rfAaN9tM9VRc"
      }
    },
    {
      "cell_type": "markdown",
      "source": [
        "Let's try it out.\n",
        "\n",
        "In this exercise, we will train a [Naive Bayes Classifier](https://en.wikipedia.org/wiki/Naive_Bayes_classifier). We will\n",
        "* make prior assumptions as for the distribution of our data; and\n",
        "* train a model to find the best parameters for that distribution\n",
        "\n",
        "Let's see how it works:"
      ],
      "metadata": {
        "id": "bcZJChkY9eFx"
      }
    },
    {
      "cell_type": "code",
      "source": [
        "import pandas as pd\n",
        "import matplotlib.pyplot as plt\n",
        "import seaborn as sn\n",
        "\n",
        "from sklearn import metrics\n",
        "from sklearn.feature_extraction.text import CountVectorizer, TfidfTransformer\n",
        "from sklearn.model_selection import train_test_split\n",
        "from sklearn.naive_bayes import MultinomialNB, ComplementNB\n",
        "from sklearn.pipeline import Pipeline\n",
        "\n",
        "%matplotlib inline"
      ],
      "metadata": {
        "id": "mPXriVBATQGT"
      },
      "execution_count": 1,
      "outputs": []
    },
    {
      "cell_type": "markdown",
      "source": [
        "We will use some email data which we will classify as **spam** or not."
      ],
      "metadata": {
        "id": "Qr3xbigUzFiN"
      }
    },
    {
      "cell_type": "code",
      "source": [
        "df_emails = pd.read_csv('https://raw.githubusercontent.com/liadmagen/Modeling_course/main/data/spam_or_not_spam.csv', encoding=\"UTF-8\")\n",
        "df_emails.tail()"
      ],
      "metadata": {
        "colab": {
          "base_uri": "https://localhost:8080/",
          "height": 206
        },
        "id": "mzQeLuF3_sT7",
        "outputId": "383dd916-fd62-4f40-d252-44c0fca1c959"
      },
      "execution_count": 2,
      "outputs": [
        {
          "output_type": "execute_result",
          "data": {
            "text/plain": [
              "                                                  email  label\n",
              "2995   abc s good morning america ranks it the NUMBE...      1\n",
              "2996   hyperlink hyperlink hyperlink let mortgage le...      1\n",
              "2997   thank you for shopping with us gifts for all ...      1\n",
              "2998   the famous ebay marketing e course learn to s...      1\n",
              "2999   hello this is chinese traditional 子 件 NUMBER世...      1"
            ],
            "text/html": [
              "\n",
              "  <div id=\"df-2665a5fe-4e1f-496e-94ac-93f649b5fb5b\" class=\"colab-df-container\">\n",
              "    <div>\n",
              "<style scoped>\n",
              "    .dataframe tbody tr th:only-of-type {\n",
              "        vertical-align: middle;\n",
              "    }\n",
              "\n",
              "    .dataframe tbody tr th {\n",
              "        vertical-align: top;\n",
              "    }\n",
              "\n",
              "    .dataframe thead th {\n",
              "        text-align: right;\n",
              "    }\n",
              "</style>\n",
              "<table border=\"1\" class=\"dataframe\">\n",
              "  <thead>\n",
              "    <tr style=\"text-align: right;\">\n",
              "      <th></th>\n",
              "      <th>email</th>\n",
              "      <th>label</th>\n",
              "    </tr>\n",
              "  </thead>\n",
              "  <tbody>\n",
              "    <tr>\n",
              "      <th>2995</th>\n",
              "      <td>abc s good morning america ranks it the NUMBE...</td>\n",
              "      <td>1</td>\n",
              "    </tr>\n",
              "    <tr>\n",
              "      <th>2996</th>\n",
              "      <td>hyperlink hyperlink hyperlink let mortgage le...</td>\n",
              "      <td>1</td>\n",
              "    </tr>\n",
              "    <tr>\n",
              "      <th>2997</th>\n",
              "      <td>thank you for shopping with us gifts for all ...</td>\n",
              "      <td>1</td>\n",
              "    </tr>\n",
              "    <tr>\n",
              "      <th>2998</th>\n",
              "      <td>the famous ebay marketing e course learn to s...</td>\n",
              "      <td>1</td>\n",
              "    </tr>\n",
              "    <tr>\n",
              "      <th>2999</th>\n",
              "      <td>hello this is chinese traditional 子 件 NUMBER世...</td>\n",
              "      <td>1</td>\n",
              "    </tr>\n",
              "  </tbody>\n",
              "</table>\n",
              "</div>\n",
              "    <div class=\"colab-df-buttons\">\n",
              "\n",
              "  <div class=\"colab-df-container\">\n",
              "    <button class=\"colab-df-convert\" onclick=\"convertToInteractive('df-2665a5fe-4e1f-496e-94ac-93f649b5fb5b')\"\n",
              "            title=\"Convert this dataframe to an interactive table.\"\n",
              "            style=\"display:none;\">\n",
              "\n",
              "  <svg xmlns=\"http://www.w3.org/2000/svg\" height=\"24px\" viewBox=\"0 -960 960 960\">\n",
              "    <path d=\"M120-120v-720h720v720H120Zm60-500h600v-160H180v160Zm220 220h160v-160H400v160Zm0 220h160v-160H400v160ZM180-400h160v-160H180v160Zm440 0h160v-160H620v160ZM180-180h160v-160H180v160Zm440 0h160v-160H620v160Z\"/>\n",
              "  </svg>\n",
              "    </button>\n",
              "\n",
              "  <style>\n",
              "    .colab-df-container {\n",
              "      display:flex;\n",
              "      gap: 12px;\n",
              "    }\n",
              "\n",
              "    .colab-df-convert {\n",
              "      background-color: #E8F0FE;\n",
              "      border: none;\n",
              "      border-radius: 50%;\n",
              "      cursor: pointer;\n",
              "      display: none;\n",
              "      fill: #1967D2;\n",
              "      height: 32px;\n",
              "      padding: 0 0 0 0;\n",
              "      width: 32px;\n",
              "    }\n",
              "\n",
              "    .colab-df-convert:hover {\n",
              "      background-color: #E2EBFA;\n",
              "      box-shadow: 0px 1px 2px rgba(60, 64, 67, 0.3), 0px 1px 3px 1px rgba(60, 64, 67, 0.15);\n",
              "      fill: #174EA6;\n",
              "    }\n",
              "\n",
              "    .colab-df-buttons div {\n",
              "      margin-bottom: 4px;\n",
              "    }\n",
              "\n",
              "    [theme=dark] .colab-df-convert {\n",
              "      background-color: #3B4455;\n",
              "      fill: #D2E3FC;\n",
              "    }\n",
              "\n",
              "    [theme=dark] .colab-df-convert:hover {\n",
              "      background-color: #434B5C;\n",
              "      box-shadow: 0px 1px 3px 1px rgba(0, 0, 0, 0.15);\n",
              "      filter: drop-shadow(0px 1px 2px rgba(0, 0, 0, 0.3));\n",
              "      fill: #FFFFFF;\n",
              "    }\n",
              "  </style>\n",
              "\n",
              "    <script>\n",
              "      const buttonEl =\n",
              "        document.querySelector('#df-2665a5fe-4e1f-496e-94ac-93f649b5fb5b button.colab-df-convert');\n",
              "      buttonEl.style.display =\n",
              "        google.colab.kernel.accessAllowed ? 'block' : 'none';\n",
              "\n",
              "      async function convertToInteractive(key) {\n",
              "        const element = document.querySelector('#df-2665a5fe-4e1f-496e-94ac-93f649b5fb5b');\n",
              "        const dataTable =\n",
              "          await google.colab.kernel.invokeFunction('convertToInteractive',\n",
              "                                                    [key], {});\n",
              "        if (!dataTable) return;\n",
              "\n",
              "        const docLinkHtml = 'Like what you see? Visit the ' +\n",
              "          '<a target=\"_blank\" href=https://colab.research.google.com/notebooks/data_table.ipynb>data table notebook</a>'\n",
              "          + ' to learn more about interactive tables.';\n",
              "        element.innerHTML = '';\n",
              "        dataTable['output_type'] = 'display_data';\n",
              "        await google.colab.output.renderOutput(dataTable, element);\n",
              "        const docLink = document.createElement('div');\n",
              "        docLink.innerHTML = docLinkHtml;\n",
              "        element.appendChild(docLink);\n",
              "      }\n",
              "    </script>\n",
              "  </div>\n",
              "\n",
              "\n",
              "<div id=\"df-8055443b-6573-4718-847d-770d9c6f8864\">\n",
              "  <button class=\"colab-df-quickchart\" onclick=\"quickchart('df-8055443b-6573-4718-847d-770d9c6f8864')\"\n",
              "            title=\"Suggest charts\"\n",
              "            style=\"display:none;\">\n",
              "\n",
              "<svg xmlns=\"http://www.w3.org/2000/svg\" height=\"24px\"viewBox=\"0 0 24 24\"\n",
              "     width=\"24px\">\n",
              "    <g>\n",
              "        <path d=\"M19 3H5c-1.1 0-2 .9-2 2v14c0 1.1.9 2 2 2h14c1.1 0 2-.9 2-2V5c0-1.1-.9-2-2-2zM9 17H7v-7h2v7zm4 0h-2V7h2v10zm4 0h-2v-4h2v4z\"/>\n",
              "    </g>\n",
              "</svg>\n",
              "  </button>\n",
              "\n",
              "<style>\n",
              "  .colab-df-quickchart {\n",
              "      --bg-color: #E8F0FE;\n",
              "      --fill-color: #1967D2;\n",
              "      --hover-bg-color: #E2EBFA;\n",
              "      --hover-fill-color: #174EA6;\n",
              "      --disabled-fill-color: #AAA;\n",
              "      --disabled-bg-color: #DDD;\n",
              "  }\n",
              "\n",
              "  [theme=dark] .colab-df-quickchart {\n",
              "      --bg-color: #3B4455;\n",
              "      --fill-color: #D2E3FC;\n",
              "      --hover-bg-color: #434B5C;\n",
              "      --hover-fill-color: #FFFFFF;\n",
              "      --disabled-bg-color: #3B4455;\n",
              "      --disabled-fill-color: #666;\n",
              "  }\n",
              "\n",
              "  .colab-df-quickchart {\n",
              "    background-color: var(--bg-color);\n",
              "    border: none;\n",
              "    border-radius: 50%;\n",
              "    cursor: pointer;\n",
              "    display: none;\n",
              "    fill: var(--fill-color);\n",
              "    height: 32px;\n",
              "    padding: 0;\n",
              "    width: 32px;\n",
              "  }\n",
              "\n",
              "  .colab-df-quickchart:hover {\n",
              "    background-color: var(--hover-bg-color);\n",
              "    box-shadow: 0 1px 2px rgba(60, 64, 67, 0.3), 0 1px 3px 1px rgba(60, 64, 67, 0.15);\n",
              "    fill: var(--button-hover-fill-color);\n",
              "  }\n",
              "\n",
              "  .colab-df-quickchart-complete:disabled,\n",
              "  .colab-df-quickchart-complete:disabled:hover {\n",
              "    background-color: var(--disabled-bg-color);\n",
              "    fill: var(--disabled-fill-color);\n",
              "    box-shadow: none;\n",
              "  }\n",
              "\n",
              "  .colab-df-spinner {\n",
              "    border: 2px solid var(--fill-color);\n",
              "    border-color: transparent;\n",
              "    border-bottom-color: var(--fill-color);\n",
              "    animation:\n",
              "      spin 1s steps(1) infinite;\n",
              "  }\n",
              "\n",
              "  @keyframes spin {\n",
              "    0% {\n",
              "      border-color: transparent;\n",
              "      border-bottom-color: var(--fill-color);\n",
              "      border-left-color: var(--fill-color);\n",
              "    }\n",
              "    20% {\n",
              "      border-color: transparent;\n",
              "      border-left-color: var(--fill-color);\n",
              "      border-top-color: var(--fill-color);\n",
              "    }\n",
              "    30% {\n",
              "      border-color: transparent;\n",
              "      border-left-color: var(--fill-color);\n",
              "      border-top-color: var(--fill-color);\n",
              "      border-right-color: var(--fill-color);\n",
              "    }\n",
              "    40% {\n",
              "      border-color: transparent;\n",
              "      border-right-color: var(--fill-color);\n",
              "      border-top-color: var(--fill-color);\n",
              "    }\n",
              "    60% {\n",
              "      border-color: transparent;\n",
              "      border-right-color: var(--fill-color);\n",
              "    }\n",
              "    80% {\n",
              "      border-color: transparent;\n",
              "      border-right-color: var(--fill-color);\n",
              "      border-bottom-color: var(--fill-color);\n",
              "    }\n",
              "    90% {\n",
              "      border-color: transparent;\n",
              "      border-bottom-color: var(--fill-color);\n",
              "    }\n",
              "  }\n",
              "</style>\n",
              "\n",
              "  <script>\n",
              "    async function quickchart(key) {\n",
              "      const quickchartButtonEl =\n",
              "        document.querySelector('#' + key + ' button');\n",
              "      quickchartButtonEl.disabled = true;  // To prevent multiple clicks.\n",
              "      quickchartButtonEl.classList.add('colab-df-spinner');\n",
              "      try {\n",
              "        const charts = await google.colab.kernel.invokeFunction(\n",
              "            'suggestCharts', [key], {});\n",
              "      } catch (error) {\n",
              "        console.error('Error during call to suggestCharts:', error);\n",
              "      }\n",
              "      quickchartButtonEl.classList.remove('colab-df-spinner');\n",
              "      quickchartButtonEl.classList.add('colab-df-quickchart-complete');\n",
              "    }\n",
              "    (() => {\n",
              "      let quickchartButtonEl =\n",
              "        document.querySelector('#df-8055443b-6573-4718-847d-770d9c6f8864 button');\n",
              "      quickchartButtonEl.style.display =\n",
              "        google.colab.kernel.accessAllowed ? 'block' : 'none';\n",
              "    })();\n",
              "  </script>\n",
              "</div>\n",
              "    </div>\n",
              "  </div>\n"
            ]
          },
          "metadata": {},
          "execution_count": 2
        }
      ]
    },
    {
      "cell_type": "markdown",
      "source": [
        "Let's divide the data into [**training** and **test** sets](https://builtin.com/data-science/train-test-split)"
      ],
      "metadata": {
        "id": "zdE8xSi5Aon1"
      }
    },
    {
      "cell_type": "code",
      "source": [
        "############## YOUR TURN ##############\n",
        "# Divide the data into training and test set using sklearn's train_test_split.\n",
        "# use the colunm 'email' for the training data\n",
        "# use the column 'label' as the target y\n",
        "\n",
        "X_train, X_test, y_train, y_test = train_test_split(df_emails['email'], df_emails['label'], test_size=0.2, random_state=42)\n",
        "\n",
        "print(\"X_train shape:\", X_train.shape)\n",
        "print(\"X_test shape:\", X_test.shape)\n",
        "print(\"y_train shape:\", y_train.shape)\n",
        "print(\"y_test shape:\", y_test.shape)\n",
        "\n",
        "########################################"
      ],
      "metadata": {
        "id": "2naE3XyBAkZW",
        "outputId": "4bc27ac0-d286-4ec7-db2b-f98345f7ae22",
        "colab": {
          "base_uri": "https://localhost:8080/"
        }
      },
      "execution_count": 3,
      "outputs": [
        {
          "output_type": "stream",
          "name": "stdout",
          "text": [
            "X_train shape: (2400,)\n",
            "X_test shape: (600,)\n",
            "y_train shape: (2400,)\n",
            "y_test shape: (600,)\n"
          ]
        }
      ]
    },
    {
      "cell_type": "markdown",
      "source": [
        "We are going to use some NLP-specific methods here. Machine Learning Models are expecting numerical values as their input.\n",
        "\n",
        "Therefore, we must process the text a bit - transforming every word to some fraction, based on their frequency. This score represents how unique the word is, based on their appearance count in the whole dataset.\n",
        "\n",
        "We will use a [Naive Bayes, assuming a Multinomial distribution](https://scikit-learn.org/stable/modules/generated/sklearn.naive_bayes.MultinomialNB.html)"
      ],
      "metadata": {
        "id": "976z2bfAA5Ox"
      }
    },
    {
      "cell_type": "code",
      "source": [
        "# Create Pre-processing pipeline and a Multinomial Naive Bayes classifier.\n",
        "\n",
        "# CountVectorizer calculates the frequency of words in the dataset (how often they appear)\n",
        "# TfidfTransformer calculates the frequency of a word in this document, divided by their frequency over ALL the documents.\n",
        "\n",
        "\n",
        "\n",
        "# MultinomialNB is a Naive Bayes classifier assuming a multinomial distribution\n",
        "spam_classifier = Pipeline([\n",
        "    ('vect', CountVectorizer()),\n",
        "    ('tfidf', TfidfTransformer()),\n",
        "    ('clf', MultinomialNB()),\n",
        "])\n"
      ],
      "metadata": {
        "id": "AKMTWBKUAWME"
      },
      "execution_count": 4,
      "outputs": []
    },
    {
      "cell_type": "markdown",
      "source": [
        "And we train:"
      ],
      "metadata": {
        "id": "A9hZ7HKqELET"
      }
    },
    {
      "cell_type": "code",
      "source": [
        "spam_classifier.fit(X_train.values.astype('U'), y_train)"
      ],
      "metadata": {
        "colab": {
          "base_uri": "https://localhost:8080/",
          "height": 161
        },
        "id": "ysSnLtwoBhz1",
        "outputId": "ba7ae93f-1869-4618-adf6-57ce80647bdc"
      },
      "execution_count": 5,
      "outputs": [
        {
          "output_type": "execute_result",
          "data": {
            "text/plain": [
              "Pipeline(steps=[('vect', CountVectorizer()), ('tfidf', TfidfTransformer()),\n",
              "                ('clf', MultinomialNB())])"
            ],
            "text/html": [
              "<style>#sk-container-id-1 {color: black;background-color: white;}#sk-container-id-1 pre{padding: 0;}#sk-container-id-1 div.sk-toggleable {background-color: white;}#sk-container-id-1 label.sk-toggleable__label {cursor: pointer;display: block;width: 100%;margin-bottom: 0;padding: 0.3em;box-sizing: border-box;text-align: center;}#sk-container-id-1 label.sk-toggleable__label-arrow:before {content: \"▸\";float: left;margin-right: 0.25em;color: #696969;}#sk-container-id-1 label.sk-toggleable__label-arrow:hover:before {color: black;}#sk-container-id-1 div.sk-estimator:hover label.sk-toggleable__label-arrow:before {color: black;}#sk-container-id-1 div.sk-toggleable__content {max-height: 0;max-width: 0;overflow: hidden;text-align: left;background-color: #f0f8ff;}#sk-container-id-1 div.sk-toggleable__content pre {margin: 0.2em;color: black;border-radius: 0.25em;background-color: #f0f8ff;}#sk-container-id-1 input.sk-toggleable__control:checked~div.sk-toggleable__content {max-height: 200px;max-width: 100%;overflow: auto;}#sk-container-id-1 input.sk-toggleable__control:checked~label.sk-toggleable__label-arrow:before {content: \"▾\";}#sk-container-id-1 div.sk-estimator input.sk-toggleable__control:checked~label.sk-toggleable__label {background-color: #d4ebff;}#sk-container-id-1 div.sk-label input.sk-toggleable__control:checked~label.sk-toggleable__label {background-color: #d4ebff;}#sk-container-id-1 input.sk-hidden--visually {border: 0;clip: rect(1px 1px 1px 1px);clip: rect(1px, 1px, 1px, 1px);height: 1px;margin: -1px;overflow: hidden;padding: 0;position: absolute;width: 1px;}#sk-container-id-1 div.sk-estimator {font-family: monospace;background-color: #f0f8ff;border: 1px dotted black;border-radius: 0.25em;box-sizing: border-box;margin-bottom: 0.5em;}#sk-container-id-1 div.sk-estimator:hover {background-color: #d4ebff;}#sk-container-id-1 div.sk-parallel-item::after {content: \"\";width: 100%;border-bottom: 1px solid gray;flex-grow: 1;}#sk-container-id-1 div.sk-label:hover label.sk-toggleable__label {background-color: #d4ebff;}#sk-container-id-1 div.sk-serial::before {content: \"\";position: absolute;border-left: 1px solid gray;box-sizing: border-box;top: 0;bottom: 0;left: 50%;z-index: 0;}#sk-container-id-1 div.sk-serial {display: flex;flex-direction: column;align-items: center;background-color: white;padding-right: 0.2em;padding-left: 0.2em;position: relative;}#sk-container-id-1 div.sk-item {position: relative;z-index: 1;}#sk-container-id-1 div.sk-parallel {display: flex;align-items: stretch;justify-content: center;background-color: white;position: relative;}#sk-container-id-1 div.sk-item::before, #sk-container-id-1 div.sk-parallel-item::before {content: \"\";position: absolute;border-left: 1px solid gray;box-sizing: border-box;top: 0;bottom: 0;left: 50%;z-index: -1;}#sk-container-id-1 div.sk-parallel-item {display: flex;flex-direction: column;z-index: 1;position: relative;background-color: white;}#sk-container-id-1 div.sk-parallel-item:first-child::after {align-self: flex-end;width: 50%;}#sk-container-id-1 div.sk-parallel-item:last-child::after {align-self: flex-start;width: 50%;}#sk-container-id-1 div.sk-parallel-item:only-child::after {width: 0;}#sk-container-id-1 div.sk-dashed-wrapped {border: 1px dashed gray;margin: 0 0.4em 0.5em 0.4em;box-sizing: border-box;padding-bottom: 0.4em;background-color: white;}#sk-container-id-1 div.sk-label label {font-family: monospace;font-weight: bold;display: inline-block;line-height: 1.2em;}#sk-container-id-1 div.sk-label-container {text-align: center;}#sk-container-id-1 div.sk-container {/* jupyter's `normalize.less` sets `[hidden] { display: none; }` but bootstrap.min.css set `[hidden] { display: none !important; }` so we also need the `!important` here to be able to override the default hidden behavior on the sphinx rendered scikit-learn.org. See: https://github.com/scikit-learn/scikit-learn/issues/21755 */display: inline-block !important;position: relative;}#sk-container-id-1 div.sk-text-repr-fallback {display: none;}</style><div id=\"sk-container-id-1\" class=\"sk-top-container\"><div class=\"sk-text-repr-fallback\"><pre>Pipeline(steps=[(&#x27;vect&#x27;, CountVectorizer()), (&#x27;tfidf&#x27;, TfidfTransformer()),\n",
              "                (&#x27;clf&#x27;, MultinomialNB())])</pre><b>In a Jupyter environment, please rerun this cell to show the HTML representation or trust the notebook. <br />On GitHub, the HTML representation is unable to render, please try loading this page with nbviewer.org.</b></div><div class=\"sk-container\" hidden><div class=\"sk-item sk-dashed-wrapped\"><div class=\"sk-label-container\"><div class=\"sk-label sk-toggleable\"><input class=\"sk-toggleable__control sk-hidden--visually\" id=\"sk-estimator-id-1\" type=\"checkbox\" ><label for=\"sk-estimator-id-1\" class=\"sk-toggleable__label sk-toggleable__label-arrow\">Pipeline</label><div class=\"sk-toggleable__content\"><pre>Pipeline(steps=[(&#x27;vect&#x27;, CountVectorizer()), (&#x27;tfidf&#x27;, TfidfTransformer()),\n",
              "                (&#x27;clf&#x27;, MultinomialNB())])</pre></div></div></div><div class=\"sk-serial\"><div class=\"sk-item\"><div class=\"sk-estimator sk-toggleable\"><input class=\"sk-toggleable__control sk-hidden--visually\" id=\"sk-estimator-id-2\" type=\"checkbox\" ><label for=\"sk-estimator-id-2\" class=\"sk-toggleable__label sk-toggleable__label-arrow\">CountVectorizer</label><div class=\"sk-toggleable__content\"><pre>CountVectorizer()</pre></div></div></div><div class=\"sk-item\"><div class=\"sk-estimator sk-toggleable\"><input class=\"sk-toggleable__control sk-hidden--visually\" id=\"sk-estimator-id-3\" type=\"checkbox\" ><label for=\"sk-estimator-id-3\" class=\"sk-toggleable__label sk-toggleable__label-arrow\">TfidfTransformer</label><div class=\"sk-toggleable__content\"><pre>TfidfTransformer()</pre></div></div></div><div class=\"sk-item\"><div class=\"sk-estimator sk-toggleable\"><input class=\"sk-toggleable__control sk-hidden--visually\" id=\"sk-estimator-id-4\" type=\"checkbox\" ><label for=\"sk-estimator-id-4\" class=\"sk-toggleable__label sk-toggleable__label-arrow\">MultinomialNB</label><div class=\"sk-toggleable__content\"><pre>MultinomialNB()</pre></div></div></div></div></div></div></div>"
            ]
          },
          "metadata": {},
          "execution_count": 5
        }
      ]
    },
    {
      "cell_type": "markdown",
      "source": [
        "Now that we have a classifier - let's filter some spam!!!"
      ],
      "metadata": {
        "id": "i6JmFl4CHxT-"
      }
    },
    {
      "cell_type": "code",
      "source": [
        "y_preds = spam_classifier.predict(X_test.values.astype('U'))\n"
      ],
      "metadata": {
        "id": "8cFMIIvlEJff"
      },
      "execution_count": 12,
      "outputs": []
    },
    {
      "cell_type": "markdown",
      "source": [
        "How well did we do?\n",
        "\n",
        "We can test our model results of the test set using different metrics from the sklearn metrics package.\n",
        "\n",
        "For example, the [classification_report](https://scikit-learn.org/stable/modules/generated/sklearn.metrics.classification_report.html) which calculates precision, recall, f1-score and accuracy:"
      ],
      "metadata": {
        "id": "2cFNu5WdH138"
      }
    },
    {
      "cell_type": "code",
      "source": [
        "print(metrics.classification_report(y_test, y_preds, target_names=[\"Spam\",\"Not Spam\"]))"
      ],
      "metadata": {
        "id": "HNWtO7tiBnOU",
        "outputId": "75ec53fe-1951-4e6e-f875-57dcf4a5e197",
        "colab": {
          "base_uri": "https://localhost:8080/"
        }
      },
      "execution_count": 7,
      "outputs": [
        {
          "output_type": "stream",
          "name": "stdout",
          "text": [
            "              precision    recall  f1-score   support\n",
            "\n",
            "        Spam       0.87      1.00      0.93       505\n",
            "    Not Spam       1.00      0.19      0.32        95\n",
            "\n",
            "    accuracy                           0.87       600\n",
            "   macro avg       0.93      0.59      0.62       600\n",
            "weighted avg       0.89      0.87      0.83       600\n",
            "\n"
          ]
        }
      ]
    },
    {
      "cell_type": "markdown",
      "source": [
        "Pay attention to the results. Our dataset is not balanced, hence we have large differences between the different f1-scores.\n",
        "\n",
        "If we plot a confusion table, we can clearly see that we didn't do so well, despite the high f1-score:"
      ],
      "metadata": {
        "id": "1slBCp86aV6X"
      }
    },
    {
      "cell_type": "code",
      "source": [
        "conf_mat = metrics.confusion_matrix(y_test, y_preds)\n",
        "df_cm = pd.DataFrame(conf_mat, [\"Spam\",\"Not Spam\"], [\"Spam\",\"Not Spam\"])\n",
        "\n",
        "sn.set(font_scale=1.4)\n",
        "sn.heatmap(df_cm, annot=True, fmt='d', cmap=\"YlGnBu\")\n"
      ],
      "metadata": {
        "id": "eCqyioH3Ev16",
        "outputId": "afa085ee-f246-4fe3-ef15-0cdd98ee18f2",
        "colab": {
          "base_uri": "https://localhost:8080/",
          "height": 461
        }
      },
      "execution_count": 8,
      "outputs": [
        {
          "output_type": "execute_result",
          "data": {
            "text/plain": [
              "<Axes: >"
            ]
          },
          "metadata": {},
          "execution_count": 8
        },
        {
          "output_type": "display_data",
          "data": {
            "text/plain": [
              "<Figure size 640x480 with 2 Axes>"
            ],
            "image/png": "[encoded data removed]"
          },
          "metadata": {}
        }
      ]
    },
    {
      "cell_type": "markdown",
      "source": [
        "This is one of the reasons that the Mathew's Correlation Coefficients is such a good alternative to the F1-Score:"
      ],
      "metadata": {
        "id": "ddw7lXE2Cgju"
      }
    },
    {
      "cell_type": "code",
      "source": [
        "print(metrics.matthews_corrcoef(y_test, y_preds))"
      ],
      "metadata": {
        "id": "u-4ptCWZB0ef",
        "outputId": "7c37105b-9298-4585-f304-7526370d4e06",
        "colab": {
          "base_uri": "https://localhost:8080/"
        }
      },
      "execution_count": 9,
      "outputs": [
        {
          "output_type": "stream",
          "name": "stdout",
          "text": [
            "0.4054699249153405\n"
          ]
        }
      ]
    },
    {
      "cell_type": "markdown",
      "source": [
        "# Can we do better?\n",
        "\n",
        "Let's try it again - this time with another inductive bias - we will assume the distribution of the text is of [`ComplementNB`](https://scikit-learn.org/stable/modules/generated/sklearn.naive_bayes.ComplementNB.html#sklearn.naive_bayes.ComplementNB)\n",
        "\n",
        "---\n",
        "## Your turn:\n",
        "\n",
        "Create a pipeline with a [Complement Naive Bayes classifier](https://scikit-learn.org/stable/modules/naive_bayes.html#complement-naive-bayes), which fits better imbalanced classes, and train it on our dataset.\n",
        "\n",
        "Check your results on the test-set and plot a confussion matrix.\n",
        "\n",
        "How did your new model do?"
      ],
      "metadata": {
        "id": "fY1ovWpYGmpa"
      }
    },
    {
      "cell_type": "code",
      "source": [
        "### Your turn ###\n",
        "\n",
        "# MultinomialNB is a Naive Bayes classifier assuming a multinomial distribution\n",
        "\n",
        "complement_spam_classifier = Pipeline([\n",
        "    ('vect', CountVectorizer()),\n",
        "    ('tfidf', TfidfTransformer()),\n",
        "    ('clf', ComplementNB()),\n",
        "])\n",
        "\n",
        "complement_spam_classifier.fit(X_train.values.astype('U'), y_train)\n",
        "\n",
        "##################"
      ],
      "metadata": {
        "id": "mgSAIYlhGNmC",
        "colab": {
          "base_uri": "https://localhost:8080/",
          "height": 161
        },
        "outputId": "9d7271dd-a9ed-43bd-f602-1c49612aa9e0"
      },
      "execution_count": 20,
      "outputs": [
        {
          "output_type": "execute_result",
          "data": {
            "text/plain": [
              "Pipeline(steps=[('vect', CountVectorizer()), ('tfidf', TfidfTransformer()),\n",
              "                ('clf', ComplementNB())])"
            ],
            "text/html": [
              "<style>#sk-container-id-5 {color: black;background-color: white;}#sk-container-id-5 pre{padding: 0;}#sk-container-id-5 div.sk-toggleable {background-color: white;}#sk-container-id-5 label.sk-toggleable__label {cursor: pointer;display: block;width: 100%;margin-bottom: 0;padding: 0.3em;box-sizing: border-box;text-align: center;}#sk-container-id-5 label.sk-toggleable__label-arrow:before {content: \"▸\";float: left;margin-right: 0.25em;color: #696969;}#sk-container-id-5 label.sk-toggleable__label-arrow:hover:before {color: black;}#sk-container-id-5 div.sk-estimator:hover label.sk-toggleable__label-arrow:before {color: black;}#sk-container-id-5 div.sk-toggleable__content {max-height: 0;max-width: 0;overflow: hidden;text-align: left;background-color: #f0f8ff;}#sk-container-id-5 div.sk-toggleable__content pre {margin: 0.2em;color: black;border-radius: 0.25em;background-color: #f0f8ff;}#sk-container-id-5 input.sk-toggleable__control:checked~div.sk-toggleable__content {max-height: 200px;max-width: 100%;overflow: auto;}#sk-container-id-5 input.sk-toggleable__control:checked~label.sk-toggleable__label-arrow:before {content: \"▾\";}#sk-container-id-5 div.sk-estimator input.sk-toggleable__control:checked~label.sk-toggleable__label {background-color: #d4ebff;}#sk-container-id-5 div.sk-label input.sk-toggleable__control:checked~label.sk-toggleable__label {background-color: #d4ebff;}#sk-container-id-5 input.sk-hidden--visually {border: 0;clip: rect(1px 1px 1px 1px);clip: rect(1px, 1px, 1px, 1px);height: 1px;margin: -1px;overflow: hidden;padding: 0;position: absolute;width: 1px;}#sk-container-id-5 div.sk-estimator {font-family: monospace;background-color: #f0f8ff;border: 1px dotted black;border-radius: 0.25em;box-sizing: border-box;margin-bottom: 0.5em;}#sk-container-id-5 div.sk-estimator:hover {background-color: #d4ebff;}#sk-container-id-5 div.sk-parallel-item::after {content: \"\";width: 100%;border-bottom: 1px solid gray;flex-grow: 1;}#sk-container-id-5 div.sk-label:hover label.sk-toggleable__label {background-color: #d4ebff;}#sk-container-id-5 div.sk-serial::before {content: \"\";position: absolute;border-left: 1px solid gray;box-sizing: border-box;top: 0;bottom: 0;left: 50%;z-index: 0;}#sk-container-id-5 div.sk-serial {display: flex;flex-direction: column;align-items: center;background-color: white;padding-right: 0.2em;padding-left: 0.2em;position: relative;}#sk-container-id-5 div.sk-item {position: relative;z-index: 1;}#sk-container-id-5 div.sk-parallel {display: flex;align-items: stretch;justify-content: center;background-color: white;position: relative;}#sk-container-id-5 div.sk-item::before, #sk-container-id-5 div.sk-parallel-item::before {content: \"\";position: absolute;border-left: 1px solid gray;box-sizing: border-box;top: 0;bottom: 0;left: 50%;z-index: -1;}#sk-container-id-5 div.sk-parallel-item {display: flex;flex-direction: column;z-index: 1;position: relative;background-color: white;}#sk-container-id-5 div.sk-parallel-item:first-child::after {align-self: flex-end;width: 50%;}#sk-container-id-5 div.sk-parallel-item:last-child::after {align-self: flex-start;width: 50%;}#sk-container-id-5 div.sk-parallel-item:only-child::after {width: 0;}#sk-container-id-5 div.sk-dashed-wrapped {border: 1px dashed gray;margin: 0 0.4em 0.5em 0.4em;box-sizing: border-box;padding-bottom: 0.4em;background-color: white;}#sk-container-id-5 div.sk-label label {font-family: monospace;font-weight: bold;display: inline-block;line-height: 1.2em;}#sk-container-id-5 div.sk-label-container {text-align: center;}#sk-container-id-5 div.sk-container {/* jupyter's `normalize.less` sets `[hidden] { display: none; }` but bootstrap.min.css set `[hidden] { display: none !important; }` so we also need the `!important` here to be able to override the default hidden behavior on the sphinx rendered scikit-learn.org. See: https://github.com/scikit-learn/scikit-learn/issues/21755 */display: inline-block !important;position: relative;}#sk-container-id-5 div.sk-text-repr-fallback {display: none;}</style><div id=\"sk-container-id-5\" class=\"sk-top-container\"><div class=\"sk-text-repr-fallback\"><pre>Pipeline(steps=[(&#x27;vect&#x27;, CountVectorizer()), (&#x27;tfidf&#x27;, TfidfTransformer()),\n",
              "                (&#x27;clf&#x27;, ComplementNB())])</pre><b>In a Jupyter environment, please rerun this cell to show the HTML representation or trust the notebook. <br />On GitHub, the HTML representation is unable to render, please try loading this page with nbviewer.org.</b></div><div class=\"sk-container\" hidden><div class=\"sk-item sk-dashed-wrapped\"><div class=\"sk-label-container\"><div class=\"sk-label sk-toggleable\"><input class=\"sk-toggleable__control sk-hidden--visually\" id=\"sk-estimator-id-17\" type=\"checkbox\" ><label for=\"sk-estimator-id-17\" class=\"sk-toggleable__label sk-toggleable__label-arrow\">Pipeline</label><div class=\"sk-toggleable__content\"><pre>Pipeline(steps=[(&#x27;vect&#x27;, CountVectorizer()), (&#x27;tfidf&#x27;, TfidfTransformer()),\n",
              "                (&#x27;clf&#x27;, ComplementNB())])</pre></div></div></div><div class=\"sk-serial\"><div class=\"sk-item\"><div class=\"sk-estimator sk-toggleable\"><input class=\"sk-toggleable__control sk-hidden--visually\" id=\"sk-estimator-id-18\" type=\"checkbox\" ><label for=\"sk-estimator-id-18\" class=\"sk-toggleable__label sk-toggleable__label-arrow\">CountVectorizer</label><div class=\"sk-toggleable__content\"><pre>CountVectorizer()</pre></div></div></div><div class=\"sk-item\"><div class=\"sk-estimator sk-toggleable\"><input class=\"sk-toggleable__control sk-hidden--visually\" id=\"sk-estimator-id-19\" type=\"checkbox\" ><label for=\"sk-estimator-id-19\" class=\"sk-toggleable__label sk-toggleable__label-arrow\">TfidfTransformer</label><div class=\"sk-toggleable__content\"><pre>TfidfTransformer()</pre></div></div></div><div class=\"sk-item\"><div class=\"sk-estimator sk-toggleable\"><input class=\"sk-toggleable__control sk-hidden--visually\" id=\"sk-estimator-id-20\" type=\"checkbox\" ><label for=\"sk-estimator-id-20\" class=\"sk-toggleable__label sk-toggleable__label-arrow\">ComplementNB</label><div class=\"sk-toggleable__content\"><pre>ComplementNB()</pre></div></div></div></div></div></div></div>"
            ]
          },
          "metadata": {},
          "execution_count": 20
        }
      ]
    },
    {
      "cell_type": "code",
      "source": [
        "y_preds_complement = complement_spam_classifier.predict(X_test.values.astype('U'))\n",
        "\n",
        "print(metrics.classification_report(y_test, y_preds_complement, target_names=[\"Spam\",\"Not Spam\"]))"
      ],
      "metadata": {
        "colab": {
          "base_uri": "https://localhost:8080/"
        },
        "id": "VPZykHrQAI2J",
        "outputId": "ab1095f8-70dd-4e04-f5f9-c3fe52c22652"
      },
      "execution_count": 21,
      "outputs": [
        {
          "output_type": "stream",
          "name": "stdout",
          "text": [
            "              precision    recall  f1-score   support\n",
            "\n",
            "        Spam       0.91      1.00      0.95       505\n",
            "    Not Spam       1.00      0.46      0.63        95\n",
            "\n",
            "    accuracy                           0.92       600\n",
            "   macro avg       0.95      0.73      0.79       600\n",
            "weighted avg       0.92      0.92      0.90       600\n",
            "\n"
          ]
        }
      ]
    },
    {
      "cell_type": "code",
      "source": [
        "conf_mat_complement = metrics.confusion_matrix(y_test, y_preds_complement)\n",
        "df_cm_complement = pd.DataFrame(conf_mat_complement, [\"Spam\",\"Not Spam\"], [\"Spam\",\"Not Spam\"])\n",
        "\n",
        "sn.set(font_scale=1.4)\n",
        "sn.heatmap(df_cm, annot=True, fmt='d', cmap=\"YlGnBu\")\n",
        "plt.title('Confusion Matrix for Complement Naive Bayes')\n",
        "\n"
      ],
      "metadata": {
        "colab": {
          "base_uri": "https://localhost:8080/",
          "height": 483
        },
        "id": "nWYS6mTwAT24",
        "outputId": "d869e018-0895-4695-af17-aecdcf15452f"
      },
      "execution_count": 22,
      "outputs": [
        {
          "output_type": "execute_result",
          "data": {
            "text/plain": [
              "Text(0.5, 1.0, 'Confusion Matrix for Complement Naive Bayes')"
            ]
          },
          "metadata": {},
          "execution_count": 22
        },
        {
          "output_type": "display_data",
          "data": {
            "text/plain": [
              "<Figure size 640x480 with 2 Axes>"
            ],
            "image/png": "[encoded data removed]"
          },
          "metadata": {}
        }
      ]
    },
    {
      "cell_type": "code",
      "source": [
        "print(metrics.matthews_corrcoef(y_test, y_preds_complement))"
      ],
      "metadata": {
        "colab": {
          "base_uri": "https://localhost:8080/"
        },
        "id": "uYbE0jaOA3dX",
        "outputId": "8c591c99-3387-4f89-d1fb-20fdeab5c647"
      },
      "execution_count": 23,
      "outputs": [
        {
          "output_type": "stream",
          "name": "stdout",
          "text": [
            "0.6485938537529389\n"
          ]
        }
      ]
    },
    {
      "cell_type": "markdown",
      "source": [
        "## Or even better\n",
        "\n",
        "There is one major problem with the Naive-Bayes model:\n",
        "\n",
        "If a word did not exist during the training, it was never counted. If such a word suddenly appear during inference, it will cause a division by 0 (the posterior - the previous observation is 0).\n",
        "\n",
        "Think about it for a moment: in spam messages, we ALWAYS have newly invented words! Spam senders are trying to trick the spam-detector model by changing letters (i=!) to alter existing words to new words.\n",
        "\n",
        "### How can we overcome this?\n",
        "\n",
        "One way to solve it is called the \"Add-one Smoothing\", where we add one (1) to both the denominator and numerator. But this smoothing value doesn't have to be 1. We can change this value to *any* positive number, even fractions!\n",
        "\n",
        "$P(w | positive) = \\frac{number of samples with w and y = positive + \\alpha}{N+\\alpha * K}$\n",
        "\n",
        "Try playing with the Additive (also called Laplace/Lidstone) smoothing parameter of the MultinomialNB or the ComplementNB. The parameter is named **alpha** in the scikit-learn implementation.\n",
        "\n",
        "Challenge yourself: Can you score above 95%? above 98%? above 99%?"
      ],
      "metadata": {
        "id": "b5rJ3U91a3Rk"
      }
    },
    {
      "cell_type": "code",
      "source": [
        "# Create Pre-processing pipeline and a Complement Naive Bayes classifier with additive smoothing.\n",
        "\n",
        "# Try different values of alpha (e.g., 0.1, 0.5, 1.0)\n",
        "alpha_value = 0.1\n",
        "\n",
        "complement_spam_classifier_smoothed = Pipeline([\n",
        "    ('vect', CountVectorizer()),\n",
        "    ('tfidf', TfidfTransformer()),\n",
        "    ('clf', ComplementNB(alpha=alpha_value)),\n",
        "])\n",
        "\n",
        "complement_spam_classifier_smoothed.fit(X_train.values.astype('U'), y_train)\n",
        "y_preds_complement_smoothed = complement_spam_classifier_smoothed.predict(X_test.values.astype('U'))\n",
        "\n",
        "# Evaluate the performance\n",
        "print(metrics.classification_report(y_test, y_preds_complement_smoothed, target_names=[\"Spam\",\"Not Spam\"]))\n",
        "conf_mat_complement_smoothed = metrics.confusion_matrix(y_test, y_preds_complement_smoothed)\n",
        "df_cm_complement_smoothed = pd.DataFrame(conf_mat_complement_smoothed, [\"Spam\",\"Not Spam\"], [\"Spam\",\"Not Spam\"])\n",
        "\n",
        "# Plot the confusion matrix\n",
        "sn.set(font_scale=1.4)\n",
        "sn.heatmap(df_cm_complement_smoothed, annot=True, fmt='d', cmap=\"YlGnBu\")\n",
        "plt.title('Confusion Matrix for Complement Naive Bayes with Additive Smoothing')\n",
        "plt.show()\n",
        "\n",
        "# Print Matthews correlation coefficient\n",
        "print(metrics.matthews_corrcoef(y_test, y_preds_complement_smoothed))\n"
      ],
      "metadata": {
        "id": "gxeHx6jiEC_U",
        "outputId": "9fec2696-2718-4937-f4a2-6eb3541bbb56",
        "colab": {
          "base_uri": "https://localhost:8080/",
          "height": 640
        }
      },
      "execution_count": 26,
      "outputs": [
        {
          "output_type": "stream",
          "name": "stdout",
          "text": [
            "              precision    recall  f1-score   support\n",
            "\n",
            "        Spam       0.99      1.00      1.00       505\n",
            "    Not Spam       1.00      0.95      0.97        95\n",
            "\n",
            "    accuracy                           0.99       600\n",
            "   macro avg       1.00      0.97      0.98       600\n",
            "weighted avg       0.99      0.99      0.99       600\n",
            "\n"
          ]
        },
        {
          "output_type": "display_data",
          "data": {
            "text/plain": [
              "<Figure size 640x480 with 2 Axes>"
            ],
            "image/png": "[encoded data removed]"
          },
          "metadata": {}
        },
        {
          "output_type": "stream",
          "name": "stdout",
          "text": [
            "0.9685455566755944\n"
          ]
        }
      ]
    },
    {
      "cell_type": "code",
      "source": [
        "from sklearn.model_selection import GridSearchCV\n",
        "\n",
        "# Define a range of alpha values to search over\n",
        "alpha_values = [0.1, 0.5, 1.0, 1.5, 2.0]\n",
        "\n",
        "# Create a parameter grid\n",
        "param_grid = {'clf__alpha': alpha_values}\n",
        "\n",
        "# Perform grid search\n",
        "grid_search = GridSearchCV(complement_spam_classifier_smoothed, param_grid, cv=5, scoring='matthews_corrcoef')\n",
        "grid_search.fit(X_train.values.astype('U'), y_train)\n",
        "\n",
        "# Get the best alpha value from the grid search\n",
        "best_alpha = grid_search.best_params_['clf__alpha']\n",
        "print(f\"Best alpha value: {best_alpha}\")\n",
        "\n",
        "# Use the best model for predictions\n",
        "best_complement_spam_classifier = grid_search.best_estimator_\n",
        "y_preds_best = best_complement_spam_classifier.predict(X_test.values.astype('U'))\n"
      ],
      "metadata": {
        "id": "8El_lHRCEg3Z",
        "outputId": "a34b4b8c-7a2b-4411-986b-2a8334cba8c8",
        "colab": {
          "base_uri": "https://localhost:8080/"
        }
      },
      "execution_count": 25,
      "outputs": [
        {
          "output_type": "stream",
          "name": "stdout",
          "text": [
            "Best alpha value: 0.1\n"
          ]
        }
      ]
    },
    {
      "cell_type": "markdown",
      "source": [
        "# Diving deeper\n",
        "\n",
        "To dive deeper into the topic and to observe more examples, please consider [reading or watching this article](http://www.cs.cornell.edu/courses/cs4780/2018fa/lectures/lecturenote05.html)"
      ],
      "metadata": {
        "id": "DsKrxogz-Q82"
      }
    },
    {
      "cell_type": "markdown",
      "source": [
        "## Bonus: Try another model\n",
        "\n",
        "Try comparing your achieved results with another model (kNN, Decision Tree, Random Forest). Hint: you'll need to still use the TFIDF.\n",
        "\n",
        "Which model yield the best results?"
      ],
      "metadata": {
        "id": "bvcfc9GSIqMy"
      }
    }
  ]
}
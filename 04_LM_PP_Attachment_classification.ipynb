{
  "nbformat": 4,
  "nbformat_minor": 0,
  "metadata": {
    "colab": {
      "provenance": [],
      "collapsed_sections": [
        "ZEHsHqnBEnM0",
        "MRYNWqK-Gu3F",
        "vyls_Vs7MxYj"
      ],
      "toc_visible": true,
      "include_colab_link": true
    },
    "kernelspec": {
      "name": "python3",
      "display_name": "Python 3"
    },
    "widgets": {
      "application/vnd.jupyter.widget-state+json": {
        "24c791af39314b6ab0cc7ae40c89d10d": {
          "model_module": "@jupyter-widgets/controls",
          "model_name": "HBoxModel",
          "model_module_version": "1.5.0",
          "state": {
            "_dom_classes": [],
            "_model_module": "@jupyter-widgets/controls",
            "_model_module_version": "1.5.0",
            "_model_name": "HBoxModel",
            "_view_count": null,
            "_view_module": "@jupyter-widgets/controls",
            "_view_module_version": "1.5.0",
            "_view_name": "HBoxView",
            "box_style": "",
            "children": [
              "IPY_MODEL_35e4062863904605a4efe36c8d61040b",
              "IPY_MODEL_f34e4acf04f6400984ee65777952966b",
              "IPY_MODEL_26047c7ed4a74fd2886b7a13fff45e01"
            ],
            "layout": "IPY_MODEL_c3b81721b7a94415bce8da09e5cf5087"
          }
        },
        "35e4062863904605a4efe36c8d61040b": {
          "model_module": "@jupyter-widgets/controls",
          "model_name": "HTMLModel",
          "model_module_version": "1.5.0",
          "state": {
            "_dom_classes": [],
            "_model_module": "@jupyter-widgets/controls",
            "_model_module_version": "1.5.0",
            "_model_name": "HTMLModel",
            "_view_count": null,
            "_view_module": "@jupyter-widgets/controls",
            "_view_module_version": "1.5.0",
            "_view_name": "HTMLView",
            "description": "",
            "description_tooltip": null,
            "layout": "IPY_MODEL_08865ce2083b4f9980c4bdd3696e5b58",
            "placeholder": "​",
            "style": "IPY_MODEL_45433cbabf5d497aaa44949e89ca8836",
            "value": ""
          }
        },
        "f34e4acf04f6400984ee65777952966b": {
          "model_module": "@jupyter-widgets/controls",
          "model_name": "FloatProgressModel",
          "model_module_version": "1.5.0",
          "state": {
            "_dom_classes": [],
            "_model_module": "@jupyter-widgets/controls",
            "_model_module_version": "1.5.0",
            "_model_name": "FloatProgressModel",
            "_view_count": null,
            "_view_module": "@jupyter-widgets/controls",
            "_view_module_version": "1.5.0",
            "_view_name": "ProgressView",
            "bar_style": "success",
            "description": "",
            "description_tooltip": null,
            "layout": "IPY_MODEL_6a5e6960e7d94ae3b3dcd514788f77f6",
            "max": 1,
            "min": 0,
            "orientation": "horizontal",
            "style": "IPY_MODEL_d6d693d1e8a04e69872a91f11210c1ce",
            "value": 1
          }
        },
        "26047c7ed4a74fd2886b7a13fff45e01": {
          "model_module": "@jupyter-widgets/controls",
          "model_name": "HTMLModel",
          "model_module_version": "1.5.0",
          "state": {
            "_dom_classes": [],
            "_model_module": "@jupyter-widgets/controls",
            "_model_module_version": "1.5.0",
            "_model_name": "HTMLModel",
            "_view_count": null,
            "_view_module": "@jupyter-widgets/controls",
            "_view_module_version": "1.5.0",
            "_view_name": "HTMLView",
            "description": "",
            "description_tooltip": null,
            "layout": "IPY_MODEL_6a093ccf10e24ee7bff154c20af8d5a8",
            "placeholder": "​",
            "style": "IPY_MODEL_c29bb121e750474495d5367b0b3a41db",
            "value": " 25858/? [00:00&lt;00:00, 91391.26it/s]"
          }
        },
        "c3b81721b7a94415bce8da09e5cf5087": {
          "model_module": "@jupyter-widgets/base",
          "model_name": "LayoutModel",
          "model_module_version": "1.2.0",
          "state": {
            "_model_module": "@jupyter-widgets/base",
            "_model_module_version": "1.2.0",
            "_model_name": "LayoutModel",
            "_view_count": null,
            "_view_module": "@jupyter-widgets/base",
            "_view_module_version": "1.2.0",
            "_view_name": "LayoutView",
            "align_content": null,
            "align_items": null,
            "align_self": null,
            "border": null,
            "bottom": null,
            "display": null,
            "flex": null,
            "flex_flow": null,
            "grid_area": null,
            "grid_auto_columns": null,
            "grid_auto_flow": null,
            "grid_auto_rows": null,
            "grid_column": null,
            "grid_gap": null,
            "grid_row": null,
            "grid_template_areas": null,
            "grid_template_columns": null,
            "grid_template_rows": null,
            "height": null,
            "justify_content": null,
            "justify_items": null,
            "left": null,
            "margin": null,
            "max_height": null,
            "max_width": null,
            "min_height": null,
            "min_width": null,
            "object_fit": null,
            "object_position": null,
            "order": null,
            "overflow": null,
            "overflow_x": null,
            "overflow_y": null,
            "padding": null,
            "right": null,
            "top": null,
            "visibility": null,
            "width": null
          }
        },
        "08865ce2083b4f9980c4bdd3696e5b58": {
          "model_module": "@jupyter-widgets/base",
          "model_name": "LayoutModel",
          "model_module_version": "1.2.0",
          "state": {
            "_model_module": "@jupyter-widgets/base",
            "_model_module_version": "1.2.0",
            "_model_name": "LayoutModel",
            "_view_count": null,
            "_view_module": "@jupyter-widgets/base",
            "_view_module_version": "1.2.0",
            "_view_name": "LayoutView",
            "align_content": null,
            "align_items": null,
            "align_self": null,
            "border": null,
            "bottom": null,
            "display": null,
            "flex": null,
            "flex_flow": null,
            "grid_area": null,
            "grid_auto_columns": null,
            "grid_auto_flow": null,
            "grid_auto_rows": null,
            "grid_column": null,
            "grid_gap": null,
            "grid_row": null,
            "grid_template_areas": null,
            "grid_template_columns": null,
            "grid_template_rows": null,
            "height": null,
            "justify_content": null,
            "justify_items": null,
            "left": null,
            "margin": null,
            "max_height": null,
            "max_width": null,
            "min_height": null,
            "min_width": null,
            "object_fit": null,
            "object_position": null,
            "order": null,
            "overflow": null,
            "overflow_x": null,
            "overflow_y": null,
            "padding": null,
            "right": null,
            "top": null,
            "visibility": null,
            "width": null
          }
        },
        "45433cbabf5d497aaa44949e89ca8836": {
          "model_module": "@jupyter-widgets/controls",
          "model_name": "DescriptionStyleModel",
          "model_module_version": "1.5.0",
          "state": {
            "_model_module": "@jupyter-widgets/controls",
            "_model_module_version": "1.5.0",
            "_model_name": "DescriptionStyleModel",
            "_view_count": null,
            "_view_module": "@jupyter-widgets/base",
            "_view_module_version": "1.2.0",
            "_view_name": "StyleView",
            "description_width": ""
          }
        },
        "6a5e6960e7d94ae3b3dcd514788f77f6": {
          "model_module": "@jupyter-widgets/base",
          "model_name": "LayoutModel",
          "model_module_version": "1.2.0",
          "state": {
            "_model_module": "@jupyter-widgets/base",
            "_model_module_version": "1.2.0",
            "_model_name": "LayoutModel",
            "_view_count": null,
            "_view_module": "@jupyter-widgets/base",
            "_view_module_version": "1.2.0",
            "_view_name": "LayoutView",
            "align_content": null,
            "align_items": null,
            "align_self": null,
            "border": null,
            "bottom": null,
            "display": null,
            "flex": null,
            "flex_flow": null,
            "grid_area": null,
            "grid_auto_columns": null,
            "grid_auto_flow": null,
            "grid_auto_rows": null,
            "grid_column": null,
            "grid_gap": null,
            "grid_row": null,
            "grid_template_areas": null,
            "grid_template_columns": null,
            "grid_template_rows": null,
            "height": null,
            "justify_content": null,
            "justify_items": null,
            "left": null,
            "margin": null,
            "max_height": null,
            "max_width": null,
            "min_height": null,
            "min_width": null,
            "object_fit": null,
            "object_position": null,
            "order": null,
            "overflow": null,
            "overflow_x": null,
            "overflow_y": null,
            "padding": null,
            "right": null,
            "top": null,
            "visibility": null,
            "width": "20px"
          }
        },
        "d6d693d1e8a04e69872a91f11210c1ce": {
          "model_module": "@jupyter-widgets/controls",
          "model_name": "ProgressStyleModel",
          "model_module_version": "1.5.0",
          "state": {
            "_model_module": "@jupyter-widgets/controls",
            "_model_module_version": "1.5.0",
            "_model_name": "ProgressStyleModel",
            "_view_count": null,
            "_view_module": "@jupyter-widgets/base",
            "_view_module_version": "1.2.0",
            "_view_name": "StyleView",
            "bar_color": null,
            "description_width": ""
          }
        },
        "6a093ccf10e24ee7bff154c20af8d5a8": {
          "model_module": "@jupyter-widgets/base",
          "model_name": "LayoutModel",
          "model_module_version": "1.2.0",
          "state": {
            "_model_module": "@jupyter-widgets/base",
            "_model_module_version": "1.2.0",
            "_model_name": "LayoutModel",
            "_view_count": null,
            "_view_module": "@jupyter-widgets/base",
            "_view_module_version": "1.2.0",
            "_view_name": "LayoutView",
            "align_content": null,
            "align_items": null,
            "align_self": null,
            "border": null,
            "bottom": null,
            "display": null,
            "flex": null,
            "flex_flow": null,
            "grid_area": null,
            "grid_auto_columns": null,
            "grid_auto_flow": null,
            "grid_auto_rows": null,
            "grid_column": null,
            "grid_gap": null,
            "grid_row": null,
            "grid_template_areas": null,
            "grid_template_columns": null,
            "grid_template_rows": null,
            "height": null,
            "justify_content": null,
            "justify_items": null,
            "left": null,
            "margin": null,
            "max_height": null,
            "max_width": null,
            "min_height": null,
            "min_width": null,
            "object_fit": null,
            "object_position": null,
            "order": null,
            "overflow": null,
            "overflow_x": null,
            "overflow_y": null,
            "padding": null,
            "right": null,
            "top": null,
            "visibility": null,
            "width": null
          }
        },
        "c29bb121e750474495d5367b0b3a41db": {
          "model_module": "@jupyter-widgets/controls",
          "model_name": "DescriptionStyleModel",
          "model_module_version": "1.5.0",
          "state": {
            "_model_module": "@jupyter-widgets/controls",
            "_model_module_version": "1.5.0",
            "_model_name": "DescriptionStyleModel",
            "_view_count": null,
            "_view_module": "@jupyter-widgets/base",
            "_view_module_version": "1.2.0",
            "_view_name": "StyleView",
            "description_width": ""
          }
        }
      }
    }
  },
  "cells": [
    {
      "cell_type": "markdown",
      "metadata": {
        "id": "view-in-github",
        "colab_type": "text"
      },
      "source": [
        "<a href=\"https://colab.research.google.com/github/NastasiaMazur/ML_all_notebooks/blob/main/04_LM_PP_Attachment_classification.ipynb\" target=\"_parent\"><img src=\"https://colab.research.google.com/assets/colab-badge.svg\" alt=\"Open In Colab\"/></a>"
      ]
    },
    {
      "cell_type": "markdown",
      "metadata": {
        "id": "w-EolZK1El9L"
      },
      "source": [
        "# PP Attachment"
      ]
    },
    {
      "cell_type": "markdown",
      "source": [
        "The Preposition Phrase attachment problem is the difficulty to decide if a preposition in a sentence is attached to a verb or a noun.\n",
        "\n",
        "In some cases it may even confuse the reader. For example, the sentence:\n",
        "\n",
        "> San Jose cops kill man with a knife\n",
        "\n",
        "can be interpreted as either the man or the cops had a knife. The difference in the syntax parsing would be attaching the preposition phrase either to the Verb Phrase (\"kill with knife\")\n",
        "\n",
        "![image.png](data:image/png;base64,iVBORw0KGgoAAAANSUhEUgAAANcAAACICAIAAAD7x+nAAAAPoElEQVR4nO2df2wT5R/Hn34zBRTkl4oOZ4tgxATwx5yyzrh26jp12S6SjIqyTQyChoUlYptgsk2jxFaMMxC3Sdw60FFn0FsC28rEdYaVsIk4u+AUtQdjM5CB6wgbhOF9/3jKrbS3/rhe77nrPq8s5No+9zyfe/rm8zzP3fV9KpZlEQAQ5X+kAwAAUCEgA0CFAHlAhQB5QIUAeUCFAHlAhQB5QIUAeUCFAHlAhcJhGFRcjDQapFIhnQ45naQDUiygQuFgCTqdiGVRRQWqqCAdkGJRwXVkwahUyONBGg3pOJRPEukAFEx5OdLpkEaDdDrfHyAMyIUxwTCIYZDTiWw2VFwMg7JAQIXiwDBo0SIEfSkMWJ0Ih1sXMwyy2ZBaTTogxQLzQuHgdXFHB1KrfYtlQBgwIgPkgREZIA+oECAPqBAgD6gQIA+oUDg9PT1VVVV6vb6yspJhGNLhKBhYI0fHlStXXC7XkSNHXC7X4sWLtVqtVqs9duwYTdNz586lKCozM5N0jMoDVBgR//zzD1ae2+3WarXp6elarXbmzJn+ZY4fP07TtNvtpiiKoqjbbruNVLSKA1QYihMnTrhcLpfLNTY2hpX32GOPhd7lwoULNE3TNJ2WlkZR1PLly6UJVdGACgP577//sPKOHDly99134zH3vvvui7aeQ4cO0TQ9NjZGUVRubm48Qk0YQIU+hoaGsPKOHj2KlZeenj537twYq/3zzz9pmnY4HHiYXrhwoSjRJhhTXYUnT57Eme/8+fNYeenp6aK3cvXqVTxML1y4kKIorVYrehOKZoqq8OjRo1h8c+bMwZnvgQcekKDdrq4umqb/+usvnBpnzJghQaPyZwqp0Ov1chO+1NRULL477rhD+kjOnj2LU2NmZiZFUUuXLpU+BlmR+Cr0eDz4JEt/fz834UtKksUtba2trTRNI4QoisrJySEdDjESVoU///wzznzTpk3DJ1mWLVtGOih++vr6aJru6OjAw/SCBQtIRyQ1CaXC0dFRbsx98MEHceZLTk4mHVdEjI2N4WF68eLFFEU9/vjjpCOSjkRQ4ZkzZ7Dyfv/9d27MVe7E3+Vy0TQ9MDCAU+NNN91EOqK4o2AVut1unPmuXbuGlffII4+QDko0BgYGcGo0GAwURS1ZsoR0RHFEYSq8evWq6zoajQZnPnVC/+5o//79NE3PmDGDoqinn36adDhxQRkqPHv2LFbeL7/8or3OrFmzSMclHW63m6bp7u5uPEzPmzePdERiImsV/vbbb/gky8WLF7Hy0tLSSAdFkpGRETxML1++nKKohJmByFGF3Ji7YMECfJIlsWdFAujo6KBp+t9//8WpkXQ4sSI7Fer1eqw8rVabYOOO6DAMQ9N0U1NTe3s76VhiQnYqBKYg8LsTgDygQoA8oEKAPMRUqFKh4uIbXnIb+A+cogNgGKTRIP9fnHLvKL3TSOZCp5O/y1gWsSyYUgaCTWNttol3bDafmSxSeKcRWyOrVKiuDtlsPiGqVD4LSm4jYBtACDEM0ukm0iG2q8MPGVB0p5HMhcXFPjteXmw2BD8wD0CjmTBKxPoL8HZXaqexhMAtt7ezavXES7yB/zIz2fZ2UtHJl/Z2NjOTZdkb+kfpnUb4xnc8rfGf6yDEM6DgtYviBpp4gJ8k4HT6RmcORXcO+Z9fVFTcsFjmhWUnFtFAcTHS61FdHek4xIPk6oRrubgY1dfzrE4mKw8EnJFReuco5jqy0jsaCIEyrp3g4RgG5USF/LwwEiALJjbKyIVAYgMqBMgjIxV6vd6amhq9Xl9TU+P1ekmHowBGRka++eYbvV7f0tJCOpaYkMUa+fTp03a7vbOz02g0Go1Gu91ut9szMjKMRuO9995LOjo54nQ6Dx482NvbO3/+/NTU1EuXLg0ODppMJoX6IxJWodvtttvt/f39RqPx+eef9/+oubnZbrenpKQYjUbw5cWcOHHC4XA4HI6VK1dmZ2cfOHAgIyMD91tPT4/Vas3KynrttddIhxk1xFTY2dlpt9sRQkajMSMjI8Ziic3Q0BAW38yZMw0Gg8FgmD59eklJSXCf7Nmzp6mpyWw2K+snswRUKCDJhUiZiU1bW5vD4WAYBouPm58UFha+/fbbvL03NDRksVhmzZplNpunTZsmbbxCkfLWiYaGhry8PIvFcurUKQG7nzp1ymKx5OXlNTQ0iB6brDh+/PiHH36o1+vff//97u7ugE/z8vLCduChQ4eys7O/++67uMUoJlKocHh4uLq6WqfTVVdXDw8Py6o2WTEwMFBbW7t69erNmzc3Nzdfu3YtoMDw8LBOp4v8qD/55JMNGzb8/fffYkcqMvEdkf0Xvy+99JK4le/duzcxltLj4+N42jc0NIRH3rvuuiu42OnTp0tKSpqamqKqvK+vz2KxpKWlvfnmmyLFKz7xUqFkMzlFL6W7urocDkdHRwcW34oVKyYr6Xa7P/roo927dwtrqLGx8csvvzSZTE8++aTQYOOI+CoksqpV1lKaYRic/JYsWWIwGML6weGj27FjRyyNjoyMWK1WhJDJZJLb09HEVCHxtCTzpfTo6CgW3+XLl3Hyi8SIp7m5ubOz84MPPhAlhsOHD1ut1ldeeaWgoECUCkVBHBXKaooW18moMA4fPnzw4MGffvoJiy/yR0vs3bu3v7/fZDKJG89nn33W3d1tNptl8pCLmFTo9Xrx1TZ85W327NkiRhYjcojtjz/+wMnv4Ycfzs7Ofuqpp6LavaamBiG0YcOGeMTm8XgsFsvSpUtLS0vjUX9UCFShDPPNZEifp4eHh7H4kpKScPILeIZtJFit1pSUlHj3LU3TVVVVZrM5Kysrrg2FJmoVynzuNRnSzFnb29sdDkdfXx8Wn4AniWLeeecd7gJxvLly5YrFYrl48aLZbL799tslaDGYKFSorHUoL3E6hN7eXpz8MjIyDAbDypUrY6mN9wJxvOnu7rZYLPn5+WvXrpWyXUxEKiS++BUXsdL5uXPnsPjmzJmDk9/NN98cY2whLhBLwBdffPHDDz+YTKaHHnpIynbDqFBWi19xiWVqi8V35swZLL577rlHlJDy8/N37NhBtp8HBgasVmtycrLZbJas0VAq1Ov1ksVBnMitofV6fXZ2tsFgePTRR0UMQK/X0zQtk/MMLS0tVqtVMrtsWdxrDUxxZPS7E2DKAioEyAMqBMgTToUMg4qLfXahMZomK9PgI4SbtADk7ObNG4M0gYVTIZag04lYFlVUKNI0OTZCu0kLQM5u3rwxSBFYmHuxEWI9nkk/QohVq2+wFC0vD3zTvzzG42EzM33Oo1zldXWsWu3bt64usCRvhdynoWvmogrb3CR4PD7DWYxaPWmXhAUhtq7OZ8bK3uhg61+GCLwxSBNYuIrLy1m1ms3MZMvL+b1qOU9g9vr3zV7/jgObut4Wrg1XXlTke5PTmccz8WZRkU8i/q1wFBX56uHgrZmLqrx84vvnbW5yOKdeztBXGLgPuMaDv2x/jUoMbwzSBBaBvD0etr3dJ0fuW8ey4PyUfZWF/I/jXwwnE/8kgyVSVHSD1v2b4K0wICnx1uz/JlcJb3OTw+smLQA5u3nzxiBNYNEkWf9vMWAgDthgo1chfon/x/knyBCDXywq5G0uJPhrCM7IUeE/HtTV8fecf2GEIoxOBCaLQQLCrU64pRHDIJsNqdWBBcJ6UgeTmemb7eN5vn89eA7Mzd51OlRRgRjGt1QPoKgo0Jedt2b8Et34GAbe5kKC3aTFmqFHstJjWeTxoPp6cVqUNWFUiociPIsPnt3jMTraXBjV6qSoyNdQ8BpCqtUJR+wTI/9eKSoKkwvZ69NyaSCYC6W6jmyzTTznSWIU64hdUeHrM8FnhZSCJCpUqZBaHThKSoZiVcid01Zm+FEA99QA5IHryAB5QIUAP1IOkqDCqInTLehyu7M9Kyvrxx9/lKYtUCEQiMvleuaZZ8rKyr7//nuxnElCo4yn7gCSYbFYvF5va2trUlKSXq9va2vLycl59913n3jiifg1CrkQ8HHs2LEXXnhhxYoV27ZtS0rypadnn32Wpulvv/12+/bt8WsaVAgghFBlZWVDQ0NjY+Nzzz0X8NH06dOxo01+fn5PT088WgcVTnV6e3tXrVql0Wg+/vjjW2+9dbJiubm5u3fvrq2tjdFGkRdQ4ZSmqqqqurr6888/pygqbOHZs2d/+umnycnJBQUFfX19IoYBKpyinDx5cs2aNfPmzdu5c+f8+fMj33HVqlU7d+6srKzctWuXWMGACqcitbW1Vqt1+/btq1evFrD7nXfeWV1dfcstt6xdu9bj8cQeD6hwatHf3//qq68mJSXt2rUrOTk5lqpefvnlbdu2vffee4I93zlAhVOIr776auvWrWVlZYWFhaJUmJKSUldXNz4+vn79+sHBQcH1gAqnBOfOndu4cePo6OiePXsWLVokbuXr1q0zmUxbtmz5+uuvhdUAKkx89u3bt2nTptLS0vXr18epifvvv7+hoeHChQubNm06f/58tLuDChMZr9e7efPmwcHBxsZGCez833jjjY0bN77++us0TUe1I6gwYdm/f39hYeG6detKSkoka3TZsmX79u1jGOatt966dOlShHuBChOQy5cvm83mvr6+pqYmib2BMaWlpWvWrCkoKGhpaYmkPKgw0Whra6Mo6sUXX9yyZQvBMFJTUw8cOPDrr79u3bp1fHw8dGFQYeLAsmxZWVlXV1dra2tcb8SKHLPZnJubm5OTE9qcGH79FDV6vT4ehs+xVyu3u7WDmewAQYUAeWBEBsgDKgTIAyoMRwgjZH9DYIUSOvJoj8tm85lPRxsFzAvDEGwwwr0TvCFneKMNHXmEx8UV02iE+cCACsMR4ptQlgo5RFeh4PLXgRE5MhhmwmRd2PirUqGKCqRS+RJGRQXSaHzO9f5lcAF/j31ur7COZ06nLw8xDFKpfI8h4J5HgMPm/uWOImz9AcceXJ63ZrxXhJFLYU+naLAVbIDL7mQboevhTL9DG4BHbhXO2wrL+vwa8Y6how1rRR587MHleWsO7Uke0E74A5viBDttClZh6G0BVuHBYA9m7G6KXZ8jf6AAr/HpZMfOW6H/p6E9yQPaCf0xwCLk04e/OexkG6HrCb0twCo8mKIin/strtD/MQjCVDjZsfNWGKDCiB/IAfPCCMD22jqdwAc+RYsAq3AOnQ7V10+4dtfX8xvBRn4ggo89tCd5ABGqderCdRGeCfk/KEDcXCjAKjwYHJ7/Mw2C0xiuH7+M0Io8+NjZcLkwtCf5jcCZGoA8MCID5AEVAuQBFQLkARUC5AEVAuQBFQLkARUC5AEVAuQBFQLk+T/d6c6L6IgNywAAAABJRU5ErkJggg==)\n",
        "\n",
        "or to the Noun Phrase (\"man with knife\").\n",
        "\n",
        "![image.png](data:image/png;base64,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)"
      ],
      "metadata": {
        "id": "ndm17vHr9oR2"
      }
    },
    {
      "cell_type": "markdown",
      "source": [
        "\n",
        "Let's try out the Preposition Phrase attachment classification!\n",
        "\n",
        "Through this exercise, you'll practice classification of linguistic aspects of text."
      ],
      "metadata": {
        "id": "gddvmPua9ncH"
      }
    },
    {
      "cell_type": "markdown",
      "metadata": {
        "id": "ZEHsHqnBEnM0"
      },
      "source": [
        "# Setup\n",
        "Loading the data"
      ]
    },
    {
      "cell_type": "code",
      "metadata": {
        "id": "IQeJMBC9EjQj"
      },
      "source": [
        "import csv\n",
        "\n",
        "from tqdm.notebook import tqdm\n",
        "from typing import Dict, List, Tuple\n",
        "from random import choice\n",
        "from urllib.request import urlopen\n"
      ],
      "execution_count": 5,
      "outputs": []
    },
    {
      "cell_type": "code",
      "metadata": {
        "id": "f5y8hLSTDcmT"
      },
      "source": [
        "def read_pp_examples(file_url: str) -> List[Dict]:\n",
        "  \"\"\"Reads the pp samples from a remtoe url and loads them into a dictionary\n",
        "\n",
        "  Args:\n",
        "      file_url (str): a url to load the dataset from\n",
        "\n",
        "  Returns:\n",
        "      Dict: a dictionary with two keys: answer and pp\n",
        "  \"\"\"\n",
        "  pp_examples = []\n",
        "\n",
        "  for line in tqdm(urlopen(file_url)):\n",
        "    line = line.decode(\"utf-8\").strip().split()\n",
        "    assert(len(line) == 5)\n",
        "    v,n1,p,n2,answer = line\n",
        "    pp_examples.append( {'answer':answer,'keywords':(v,n1,p,n2)} )\n",
        "  return pp_examples"
      ],
      "execution_count": 6,
      "outputs": []
    },
    {
      "cell_type": "code",
      "metadata": {
        "id": "_kc6IkpCDphJ"
      },
      "source": [
        "pp_samples_url = 'https://raw.githubusercontent.com/liadmagen/NLP-Course/master/dataset/pp_examples.txt'"
      ],
      "execution_count": 7,
      "outputs": []
    },
    {
      "cell_type": "code",
      "metadata": {
        "id": "4i0rtj1RFkug",
        "outputId": "54442173-d6a9-45d8-b9b5-8c214d51d1ed",
        "colab": {
          "base_uri": "https://localhost:8080/",
          "referenced_widgets": [
            "24c791af39314b6ab0cc7ae40c89d10d",
            "35e4062863904605a4efe36c8d61040b",
            "f34e4acf04f6400984ee65777952966b",
            "26047c7ed4a74fd2886b7a13fff45e01",
            "c3b81721b7a94415bce8da09e5cf5087",
            "08865ce2083b4f9980c4bdd3696e5b58",
            "45433cbabf5d497aaa44949e89ca8836",
            "6a5e6960e7d94ae3b3dcd514788f77f6",
            "d6d693d1e8a04e69872a91f11210c1ce",
            "6a093ccf10e24ee7bff154c20af8d5a8",
            "c29bb121e750474495d5367b0b3a41db"
          ],
          "height": 49
        }
      },
      "source": [
        "pp_examples = read_pp_examples(pp_samples_url)\n"
      ],
      "execution_count": 8,
      "outputs": [
        {
          "output_type": "display_data",
          "data": {
            "text/plain": [
              "0it [00:00, ?it/s]"
            ],
            "application/vnd.jupyter.widget-view+json": {
              "version_major": 2,
              "version_minor": 0,
              "model_id": "24c791af39314b6ab0cc7ae40c89d10d"
            }
          },
          "metadata": {}
        }
      ]
    },
    {
      "cell_type": "markdown",
      "metadata": {
        "id": "MRYNWqK-Gu3F"
      },
      "source": [
        "# Step #1 - Look at the data\n",
        "\n",
        "Step 1 is (always) to examine the data!\n",
        "\n",
        "That means to check the data statistics, load some sample at random and ensure it is correctly labeled, and if possible, plot and visualize the data (histograms, distribution, etc.)."
      ]
    },
    {
      "cell_type": "code",
      "metadata": {
        "id": "a59ypmWhGlIZ",
        "outputId": "1ee27b19-ceec-472e-d259-9e92b607d360",
        "colab": {
          "base_uri": "https://localhost:8080/"
        }
      },
      "source": [
        "print(f\"There are {len(pp_examples)} samples in the dataset\")"
      ],
      "execution_count": 9,
      "outputs": [
        {
          "output_type": "stream",
          "name": "stdout",
          "text": [
            "There are 25858 samples in the dataset\n"
          ]
        }
      ]
    },
    {
      "cell_type": "code",
      "metadata": {
        "id": "_W9FOJmkG1HF",
        "outputId": "1344e75a-2bba-4ea8-f6ce-75b8baeb7190",
        "colab": {
          "base_uri": "https://localhost:8080/"
        }
      },
      "source": [
        "print(choice(pp_examples))"
      ],
      "execution_count": 10,
      "outputs": [
        {
          "output_type": "stream",
          "name": "stdout",
          "text": [
            "{'answer': 'V', 'keywords': ('paid', 'Dec.', 'to', 'holders')}\n"
          ]
        }
      ]
    },
    {
      "cell_type": "markdown",
      "source": [
        "Of course, we can reach the dictionary's parts by specifying the key in a squared brackets."
      ],
      "metadata": {
        "id": "avutga3uvG29"
      }
    },
    {
      "cell_type": "code",
      "metadata": {
        "id": "iLCTVAyAG4Cm",
        "outputId": "79d27114-1b5f-4251-89dc-8b76ea63e845",
        "colab": {
          "base_uri": "https://localhost:8080/"
        }
      },
      "source": [
        "random_example = choice(pp_examples)\n",
        "random_example['keywords']"
      ],
      "execution_count": 11,
      "outputs": [
        {
          "output_type": "execute_result",
          "data": {
            "text/plain": [
              "('BE', 'MIDDLEMAN', 'for', 'gifts')"
            ]
          },
          "metadata": {},
          "execution_count": 11
        }
      ]
    },
    {
      "cell_type": "code",
      "metadata": {
        "id": "W4tkr91VHHC0",
        "outputId": "15ab1811-0742-491a-b7a9-ac648990b02c",
        "colab": {
          "base_uri": "https://localhost:8080/",
          "height": 35
        }
      },
      "source": [
        "random_example['answer']"
      ],
      "execution_count": 12,
      "outputs": [
        {
          "output_type": "execute_result",
          "data": {
            "text/plain": [
              "'N'"
            ],
            "application/vnd.google.colaboratory.intrinsic+json": {
              "type": "string"
            }
          },
          "metadata": {},
          "execution_count": 12
        }
      ]
    },
    {
      "cell_type": "markdown",
      "metadata": {
        "id": "vyls_Vs7MxYj"
      },
      "source": [
        "# Step 2: Deciding on the measurement"
      ]
    },
    {
      "cell_type": "code",
      "metadata": {
        "id": "r1Av7fCNHN2K",
        "outputId": "fe35e370-0fc1-4ea4-fcc3-536ca9f7512e",
        "colab": {
          "base_uri": "https://localhost:8080/"
        }
      },
      "source": [
        "# we can split the dataset simply through dividing the list\n",
        "\n",
        "amt = int(0.75 * len(pp_examples))\n",
        "train_examples, test_examples = pp_examples[:amt], pp_examples[amt:]\n",
        "\n",
        "print(len(train_examples), len(test_examples))"
      ],
      "execution_count": 13,
      "outputs": [
        {
          "output_type": "stream",
          "name": "stdout",
          "text": [
            "19393 6465\n"
          ]
        }
      ]
    },
    {
      "cell_type": "markdown",
      "metadata": {
        "id": "ds9ZfBzmNXjN"
      },
      "source": [
        "We'll define a classifier evaluator.\n",
        "\n",
        "Given a set of examples and an evaluator, it returns the accuracy score"
      ]
    },
    {
      "cell_type": "code",
      "metadata": {
        "id": "r-uR21gwNGo1"
      },
      "source": [
        "def evaluate_classifier(examples, pp_resolver):\n",
        "  \"\"\"evaluate the classifier and returns the accuracy score.\n",
        "\n",
        "  Args:\n",
        "      examples (List): a list of {'keywords':(v,n1,p,n2), 'answer':answer }\n",
        "      pp_resolver (_type_): a model with a classify() function that maps from\n",
        "        (v,n1,p,n2) to 'N' / 'V'\n",
        "\n",
        "  Returns:\n",
        "      float: The accurcy score of the classifier\n",
        "  \"\"\"\n",
        "  correct = 0.0\n",
        "  incorrect = 0.0\n",
        "  for example in examples:\n",
        "      answer = pp_resolver.classify(example['keywords'])\n",
        "      if answer == example['answer']:\n",
        "          correct += 1\n",
        "      else:\n",
        "          incorrect += 1\n",
        "  return correct / (correct + incorrect)\n"
      ],
      "execution_count": 15,
      "outputs": []
    },
    {
      "cell_type": "markdown",
      "metadata": {
        "id": "w8v47ip3OkRi"
      },
      "source": [
        "# Classifiers"
      ]
    },
    {
      "cell_type": "markdown",
      "metadata": {
        "id": "dUdapHv7NzVD"
      },
      "source": [
        "Let's test it on an extremely naive classifiers:"
      ]
    },
    {
      "cell_type": "code",
      "metadata": {
        "id": "z9gXjgytNJLN"
      },
      "source": [
        "class AlwaysSayN:\n",
        "    \"\"\"\n",
        "    This naive clasifier answers always with 'Noun'\n",
        "    \"\"\"\n",
        "    def __init__(self): pass\n",
        "    def classify(self, pp):\n",
        "        return 'N'\n"
      ],
      "execution_count": 16,
      "outputs": []
    },
    {
      "cell_type": "code",
      "metadata": {
        "id": "h7DkSKB1NScS"
      },
      "source": [
        "class AlwaysSayV:\n",
        "    \"\"\"\n",
        "    This naive clasifier answers always with 'Verb'\n",
        "    \"\"\"\n",
        "    def __init__(self): pass\n",
        "    def classify(self, pp):\n",
        "        return 'V'\n"
      ],
      "execution_count": 17,
      "outputs": []
    },
    {
      "cell_type": "code",
      "source": [
        "evaluate_classifier(test_examples, AlwaysSayV())"
      ],
      "metadata": {
        "colab": {
          "base_uri": "https://localhost:8080/"
        },
        "id": "Qk8WtRXdtr1D",
        "outputId": "ed9fa0dc-e80c-4caf-8861-9e5500e8ba08"
      },
      "execution_count": 18,
      "outputs": [
        {
          "output_type": "execute_result",
          "data": {
            "text/plain": [
              "0.4634184068058778"
            ]
          },
          "metadata": {},
          "execution_count": 18
        }
      ]
    },
    {
      "cell_type": "code",
      "metadata": {
        "id": "Y61B9XkjNT2u",
        "outputId": "8996d250-78e7-4c6c-eb4b-0b7223e701e7",
        "colab": {
          "base_uri": "https://localhost:8080/"
        }
      },
      "source": [
        "evaluate_classifier(test_examples, AlwaysSayN())"
      ],
      "execution_count": 19,
      "outputs": [
        {
          "output_type": "execute_result",
          "data": {
            "text/plain": [
              "0.5365815931941222"
            ]
          },
          "metadata": {},
          "execution_count": 19
        }
      ]
    },
    {
      "cell_type": "markdown",
      "metadata": {
        "id": "3xHV9Q9WOOFC"
      },
      "source": [
        "We can see that saying always 'Noun', leads to an accuracy result of 53%.\n",
        "\n",
        "---\n",
        "\n",
        "\n",
        "\n",
        "It also means that our dataset is quite balaneced ;)\n",
        "\n",
        "We could, instead, have tested which class has the majority and simply select it:"
      ]
    },
    {
      "cell_type": "code",
      "metadata": {
        "id": "eozkgMzfOCWD"
      },
      "source": [
        "class MajorityClassResolver:\n",
        "  def __init__(self, training_examples: List):\n",
        "    \"\"\"Initializes the class, testing which class is the majority and saves it as a property.\n",
        "\n",
        "    Args:\n",
        "        training_examples (List): A list of dictionary training examples.\n",
        "    \"\"\"\n",
        "    answers = [item['answer'] for item in training_examples]\n",
        "    num_n = len([a for a in answers if a == 'N'])\n",
        "    num_v = len([a for a in answers if a == 'V'])\n",
        "    if num_v > num_n:\n",
        "        self.answer = 'V'\n",
        "    else:\n",
        "        self.answer = 'N'\n",
        "\n",
        "  def classify(self, pp: Tuple) -> str:\n",
        "    \"\"\"classify a 4 keywords tuple as N or V attachment, based on the previously calculated majority class\n",
        "\n",
        "    Args:\n",
        "        pp (Tuple): a tuple of V, N1, PP, N2 to be classified\n",
        "\n",
        "    Returns:\n",
        "        str: the prediction - N or V\n",
        "    \"\"\"\n",
        "    return self.answer\n"
      ],
      "execution_count": 20,
      "outputs": []
    },
    {
      "cell_type": "code",
      "metadata": {
        "id": "SGM5CODLODIv",
        "outputId": "49c4f36e-2923-4f58-b173-022aaa15e6ad",
        "colab": {
          "base_uri": "https://localhost:8080/"
        }
      },
      "source": [
        "evaluate_classifier(test_examples, MajorityClassResolver(train_examples))"
      ],
      "execution_count": 21,
      "outputs": [
        {
          "output_type": "execute_result",
          "data": {
            "text/plain": [
              "0.5365815931941222"
            ]
          },
          "metadata": {},
          "execution_count": 21
        }
      ]
    },
    {
      "cell_type": "markdown",
      "source": [
        "Or make it a bit more sophisticated by peeking at the training examples:"
      ],
      "metadata": {
        "id": "1fQDTH8YuX9t"
      }
    },
    {
      "cell_type": "code",
      "metadata": {
        "id": "EVTth8ybNUkQ"
      },
      "source": [
        "class LookupResolver:\n",
        "  def __init__(self, training_examples: List):\n",
        "    \"\"\"Initializes the class, load all the training dataset into the memory and during prediction, return the answer if the keywords match a previously saved one.\n",
        "\n",
        "    Args:\n",
        "        training_examples (List): _description_\n",
        "    \"\"\"\n",
        "    self.answers = {}\n",
        "    for item in training_examples:\n",
        "        self.answers[item['keywords']] = item['answer']\n",
        "    self.backoff = MajorityClassResolver(training_examples)\n",
        "\n",
        "  def classify(self, pp: Tuple) -> str:\n",
        "    \"\"\"Classify a 4 keywords tuple as N or V attachment.\n",
        "     If the tuple was found in the previously stored answers, return it.\n",
        "     Otherwise, return the majority class.\n",
        "\n",
        "    Args:\n",
        "        pp (Tuple): a tuple of V, N1, PP, N2 to be classified\n",
        "\n",
        "    Returns:\n",
        "        str: the prediction - N or V\n",
        "    \"\"\"\n",
        "    if pp in self.answers:\n",
        "        return self.answers[pp]\n",
        "    else:\n",
        "        return self.backoff.classify(pp)"
      ],
      "execution_count": 22,
      "outputs": []
    },
    {
      "cell_type": "code",
      "source": [
        "# If you want to understand what is stored in the `answers` property, uncomment and run the following line:\n",
        "# LookupResolver(train_examples).answers"
      ],
      "metadata": {
        "id": "N_BBE-dM2-k4"
      },
      "execution_count": null,
      "outputs": []
    },
    {
      "cell_type": "code",
      "metadata": {
        "id": "gqi-FzCAN71L",
        "outputId": "8b292dfd-0df1-4165-92dd-18c1612c30c0",
        "colab": {
          "base_uri": "https://localhost:8080/"
        }
      },
      "source": [
        "evaluate_classifier(test_examples, LookupResolver(train_examples))"
      ],
      "execution_count": 23,
      "outputs": [
        {
          "output_type": "execute_result",
          "data": {
            "text/plain": [
              "0.6009280742459396"
            ]
          },
          "metadata": {},
          "execution_count": 23
        }
      ]
    },
    {
      "cell_type": "markdown",
      "metadata": {
        "id": "Rm2DFH7YPN_Z"
      },
      "source": [
        "# Exercise - Your Turn:"
      ]
    },
    {
      "cell_type": "markdown",
      "metadata": {
        "id": "BFRReTKOHTN8"
      },
      "source": [
        "Implement a discriminative PP-attachment model, using a classifier of your choice (i.e. - Naive Bayes Classifier https://web.stanford.edu/~jurafsky/slp3/4.pdf, [Support Vector Machine](https://scikit-learn.org/stable/modules/generated/sklearn.svm.SVC.html#sklearn.svm.SVC), etc.) from a toolkit such as [sklearn](https://scikit-learn.org/stable/modules/generated/sklearn.naive_bayes.GaussianNB.html#sklearn.naive_bayes.GaussianNB).\n",
        "\n",
        "Please take a good look at the data beforehand. Try to answer questions such as:\n",
        "- What is the frequency of the pepositions?\n",
        "- Which prepositions are a clear indicator to be almost only V or N? Or in other words, which pair frequency of preposition and the answer is above 90?\n",
        "- Which prepositionas are relatively \"confusing\"? e.g., their frequency is almost equal for V and N.\n",
        "- Which words are frequent as verbs? as first noun? as second noun?\n",
        "\n",
        "Regarding the model itself, try to think which features may be helpful.\n",
        "\n",
        "Possible features for back-off algorithm or ML one:\n",
        "\n",
        "Single items ​\n",
        "* Identity of v ​\n",
        "* Identity of p ​\n",
        "* Identity of n1 ​\n",
        "* Identity of n2 ​\n",
        "\n",
        "Pairs:​\n",
        "* dentity of (v, p) ​\n",
        "* Identity of (n1, p) ​\n",
        "* Identity of (p, n1)​\n",
        "\n",
        "Triplets:​\n",
        "* Identity of (v, n1, p)​\n",
        "* Identity of (v, p, n2) ​\n",
        "* Identity of (n1, p, n2) ​\n",
        "\n",
        "Quadruple:​\n",
        "* Identity of (v, n1, p, n2)​\n",
        "\n",
        "\n",
        "Corpus Level:​\n",
        "\n",
        "* Have we seen the (v, p) pair in a 5-word window in a big corpus?​\n",
        "* Have we seen the (n1, p) pair in a 5-word window in a big corpus? ​\n",
        "* Have we seen the (n1, p, n2) triplet in a 5-word window in a big corpus?​\n",
        "*  Also: we can use counts, or binned counts.​\n",
        "* You can use a bigger corpus for additional training purposes as well.\n",
        "\n",
        "If we had the original sentences, we could have used a distance feature, such as:​\n",
        "* Distance (in words) between v and p ​\n",
        "* Distance (in words) between n1 and p​\n",
        "\n",
        "However, you can try implementing the average distance (in words) from a larger corpus.\n",
        "\n",
        "Additionally, think which other methods we learned that could help. Looking at the data might give you some ideas.\n"
      ]
    },
    {
      "cell_type": "markdown",
      "source": [
        "For the corpus level features, you can simply load one of the english corpuses in NLTK (such as [brown - but don't forget to download it first](https://www.nltk.org/book/ch02.html)). If you use a tagged corpus - such that the words are tagged by their parts of speech, you can create more interesting linguistic-related features.\n",
        "\n",
        "You can also consider using [WordNet](https://wordnet.princeton.edu/), a large *lexical* database of English words, which is also [implemented in NLTK](https://www.nltk.org/howto/wordnet.html).\n",
        "\n",
        "Finally, if you need inspiration and ideas, here are some selected papers:\n",
        "- [An Analysis of Prepositional-Phrase Attachment Disambiguation](http://ejournals.asia/stj1/ijclr2.pdf) - an overview of different papers dealing with this problem using different methods (kNN, SVN, etc.).\n",
        "- [The spy saw a cop with a telescope: Who has the telescope?](https://www.semanticscholar.org/paper/The-spy-saw-a-cop-with-a-telescope%3A-Who-has-the-Yan-Nguyen/3220ad0619b72404cb9b1acb9e093a8a564f0f4e) - An linguistic analysis of the potentials reasons (and features) to disambiguify pp attachment.\n",
        "- [PREPOSITIONAL PHRASE ATTACHMENT AMBIGUITY RESOLUTION USING SEMANTIC HIERARCHIES](https://eprints.mdx.ac.uk/2471/1/ppattachhier.pdf)\n",
        "- [Corpus Based PP Attachment Ambiguity Resolution with a Semantic Dictionary](https://aclanthology.org/W97-0109.pdf)"
      ],
      "metadata": {
        "id": "4mZAGEBA7K1I"
      }
    },
    {
      "cell_type": "markdown",
      "source": [
        "My code:"
      ],
      "metadata": {
        "id": "kwLyj9hQE4D2"
      }
    },
    {
      "cell_type": "markdown",
      "source": [
        "# Step # 1 - Look at the data"
      ],
      "metadata": {
        "id": "JJe-ZRrdFvyO"
      }
    },
    {
      "cell_type": "code",
      "source": [
        "\n",
        "print(f\"There are {len(pp_examples)} samples in the dataset\")\n",
        "\n",
        "random_example = choice(pp_examples)\n",
        "print(random_example['keywords'])\n",
        "random_example['answer']\n"
      ],
      "metadata": {
        "colab": {
          "base_uri": "https://localhost:8080/",
          "height": 70
        },
        "id": "qk5rUD0TE6fu",
        "outputId": "ccf8e173-82f0-4bea-ce4e-6094443a173f"
      },
      "execution_count": 32,
      "outputs": [
        {
          "output_type": "stream",
          "name": "stdout",
          "text": [
            "There are 25858 samples in the dataset\n",
            "('was', 'interpretation', 'of', 'description')\n"
          ]
        },
        {
          "output_type": "execute_result",
          "data": {
            "text/plain": [
              "'N'"
            ],
            "application/vnd.google.colaboratory.intrinsic+json": {
              "type": "string"
            }
          },
          "metadata": {},
          "execution_count": 32
        }
      ]
    },
    {
      "cell_type": "markdown",
      "source": [
        "**Q: What is the frequency of the pepositions?**\n",
        "- extract prepositions from the *dataset*\n",
        "- calculate the frequency of each preposition"
      ],
      "metadata": {
        "id": "1PDFitcHGL_V"
      }
    },
    {
      "cell_type": "code",
      "source": [
        "from collections import Counter\n",
        "\n",
        "prepositions = [example['keywords'][2] for example in pp_examples]\n",
        "prepositions_counts = Counter(prepositions)\n",
        "\n",
        "print(\"Prepositions Frequency:\")\n",
        "print(prepositions_counts)"
      ],
      "metadata": {
        "colab": {
          "base_uri": "https://localhost:8080/"
        },
        "id": "vBh3QLo6Fo-p",
        "outputId": "f6df1c31-2008-465d-8e22-e6edec8788ae"
      },
      "execution_count": 34,
      "outputs": [
        {
          "output_type": "stream",
          "name": "stdout",
          "text": [
            "Prepositions Frequency:\n",
            "Counter({'of': 6727, 'in': 4428, 'for': 2763, 'to': 2754, 'from': 1649, 'on': 1603, 'with': 1106, 'at': 941, 'as': 660, 'by': 560, 'into': 292, 'about': 242, 'over': 214, 'against': 193, 'through': 170, 'after': 153, 'between': 143, 'during': 135, 'under': 124, 'than': 108, 'since': 100, 'among': 93, 'before': 82, 'without': 67, 'within': 61, 'until': 51, 'like': 46, 'toward': 38, 'despite': 32, 'around': 31, 'off': 28, 'above': 27, 'amid': 26, 'across': 23, 'behind': 19, 'throughout': 18, 'per': 16, 'below': 16, 'beyond': 13, 'along': 11, 'upon': 11, 'via': 10, 'outside': 8, 'inside': 7, 'near': 6, 'except': 5, 'onto': 5, 'beneath': 4, 'out': 4, 'past': 4, 'up': 3, 'down': 3, 'In': 2, 'alongside': 2, 'For': 2, 'unlike': 2, 'next': 2, 'towards': 2, 'unto': 1, 'versus': 1, 'vs.': 1, 'aboard': 1, 'Around': 1, 'From': 1, 'beside': 1, 'pending': 1, 'besides': 1, 'On': 1, 'amongst': 1, 'Till': 1, 'WITH': 1})\n"
          ]
        }
      ]
    },
    {
      "cell_type": "markdown",
      "source": [
        "**Q: Which prepositions are a clear indicator to be almost only V or N? Or in other words, which pair frequency of preposition and the answer is above 90?**\n",
        "- create a dictionary to count pairs of prepositions and answers"
      ],
      "metadata": {
        "id": "W79SgOo0I6Vn"
      }
    },
    {
      "cell_type": "code",
      "source": [
        "pair_counts = Counter([(example['keywords'][2], example['answer']) for example in pp_examples])\n",
        "#print(pair_counts)\n",
        "pairs_above_90 = {pair: count for pair, count in pair_counts.items() if count > 90}\n",
        "\n",
        "print(\"Pairs Frequency (Above 90):\")\n",
        "print(pairs_above_90)"
      ],
      "metadata": {
        "colab": {
          "base_uri": "https://localhost:8080/"
        },
        "id": "n-BEmkiYJIWt",
        "outputId": "90b171b7-5a18-4169-c977-2c97690d7380"
      },
      "execution_count": 39,
      "outputs": [
        {
          "output_type": "stream",
          "name": "stdout",
          "text": [
            "Counter({('of', 'N'): 6442, ('in', 'V'): 2423, ('to', 'V'): 2120, ('in', 'N'): 2005, ('for', 'N'): 1557, ('for', 'V'): 1206, ('from', 'V'): 1150, ('on', 'N'): 803, ('on', 'V'): 800, ('at', 'V'): 696, ('with', 'V'): 647, ('to', 'N'): 634, ('from', 'N'): 499, ('with', 'N'): 459, ('as', 'V'): 443, ('by', 'V'): 357, ('of', 'V'): 285, ('into', 'V'): 246, ('at', 'N'): 245, ('as', 'N'): 217, ('by', 'N'): 203, ('about', 'N'): 183, ('through', 'V'): 149, ('after', 'V'): 133, ('against', 'N'): 119, ('over', 'V'): 118, ('during', 'V'): 117, ('between', 'N'): 115, ('under', 'V'): 100, ('over', 'N'): 96, ('than', 'N'): 92, ('against', 'V'): 74, ('since', 'V'): 73, ('before', 'V'): 68, ('about', 'V'): 59, ('without', 'V'): 56, ('among', 'N'): 53, ('within', 'V'): 50, ('until', 'V'): 47, ('into', 'N'): 46, ('among', 'V'): 40, ('like', 'N'): 38, ('despite', 'V'): 32, ('between', 'V'): 28, ('since', 'N'): 27, ('toward', 'N'): 26, ('off', 'V'): 25, ('amid', 'V'): 25, ('under', 'N'): 24, ('around', 'V'): 24, ('through', 'N'): 21, ('after', 'N'): 20, ('during', 'N'): 18, ('than', 'V'): 16, ('throughout', 'V'): 15, ('per', 'N'): 15, ('above', 'N'): 14, ('before', 'N'): 14, ('across', 'V'): 13, ('above', 'V'): 13, ('behind', 'N'): 13, ('toward', 'V'): 12, ('within', 'N'): 11, ('without', 'N'): 11, ('across', 'N'): 10, ('upon', 'V'): 9, ('via', 'V'): 9, ('beyond', 'V'): 8, ('below', 'V'): 8, ('below', 'N'): 8, ('like', 'V'): 8, ('along', 'V'): 7, ('around', 'N'): 7, ('outside', 'V'): 6, ('behind', 'V'): 6, ('onto', 'V'): 5, ('beyond', 'N'): 5, ('along', 'N'): 4, ('until', 'N'): 4, ('except', 'V'): 4, ('inside', 'V'): 4, ('beneath', 'V'): 3, ('near', 'V'): 3, ('off', 'N'): 3, ('throughout', 'N'): 3, ('inside', 'N'): 3, ('near', 'N'): 3, ('In', 'V'): 2, ('outside', 'N'): 2, ('For', 'N'): 2, ('out', 'N'): 2, ('unlike', 'V'): 2, ('next', 'V'): 2, ('past', 'N'): 2, ('up', 'V'): 2, ('past', 'V'): 2, ('upon', 'N'): 2, ('out', 'V'): 2, ('down', 'N'): 2, ('unto', 'N'): 1, ('versus', 'N'): 1, ('alongside', 'V'): 1, ('vs.', 'N'): 1, ('per', 'V'): 1, ('alongside', 'N'): 1, ('amid', 'N'): 1, ('aboard', 'V'): 1, ('Around', 'V'): 1, ('From', 'N'): 1, ('beside', 'V'): 1, ('pending', 'V'): 1, ('besides', 'N'): 1, ('via', 'N'): 1, ('On', 'V'): 1, ('up', 'N'): 1, ('amongst', 'V'): 1, ('down', 'V'): 1, ('beneath', 'N'): 1, ('Till', 'V'): 1, ('WITH', 'V'): 1, ('except', 'N'): 1, ('towards', 'V'): 1, ('towards', 'N'): 1})\n",
            "Pairs Frequency (Above 90):\n",
            "{('to', 'N'): 634, ('to', 'V'): 2120, ('of', 'N'): 6442, ('for', 'N'): 1557, ('at', 'V'): 696, ('over', 'N'): 96, ('on', 'N'): 803, ('in', 'V'): 2423, ('in', 'N'): 2005, ('over', 'V'): 118, ('by', 'V'): 357, ('with', 'N'): 459, ('on', 'V'): 800, ('from', 'N'): 499, ('as', 'V'): 443, ('into', 'V'): 246, ('from', 'V'): 1150, ('during', 'V'): 117, ('with', 'V'): 647, ('than', 'N'): 92, ('after', 'V'): 133, ('for', 'V'): 1206, ('of', 'V'): 285, ('as', 'N'): 217, ('between', 'N'): 115, ('under', 'V'): 100, ('through', 'V'): 149, ('at', 'N'): 245, ('against', 'N'): 119, ('about', 'N'): 183, ('by', 'N'): 203}\n"
          ]
        }
      ]
    },
    {
      "cell_type": "markdown",
      "source": [
        "**Q: Which prepositionas are relatively \"confusing\"? e.g., their frequency is almost equal for V and N.**\n",
        "\n"
      ],
      "metadata": {
        "id": "sjQwadfFKuIB"
      }
    },
    {
      "cell_type": "code",
      "source": [
        "confusing_prepositions = [p for p, count in prepositions_counts.items() if abs(pair_counts[(p, 'N')] - pair_counts[(p, 'V')]) <= 10]\n",
        "\n",
        "print(\"Confusing Prepositions:\")\n",
        "print(confusing_prepositions)\n"
      ],
      "metadata": {
        "colab": {
          "base_uri": "https://localhost:8080/"
        },
        "id": "kTM1q9TxKxJm",
        "outputId": "084f465b-ccf3-4f69-f44b-c230d3166f76"
      },
      "execution_count": 40,
      "outputs": [
        {
          "output_type": "stream",
          "name": "stdout",
          "text": [
            "Confusing Prepositions:\n",
            "['on', 'beneath', 'outside', 'across', 'In', 'above', 'along', 'unto', 'beyond', 'upon', 'versus', 'near', 'alongside', 'below', 'vs.', 'For', 'out', 'unlike', 'behind', 'next', 'aboard', 'except', 'past', 'up', 'inside', 'via', 'Around', 'From', 'beside', 'pending', 'besides', 'onto', 'On', 'amongst', 'down', 'Till', 'WITH', 'towards']\n"
          ]
        }
      ]
    },
    {
      "cell_type": "markdown",
      "source": [
        "**Q: Which words are frequent as verbs? as first noun? as second noun?**"
      ],
      "metadata": {
        "id": "DO3XaLGBLOgs"
      }
    },
    {
      "cell_type": "code",
      "source": [
        "verbs = [example['keywords'][0] for example in pp_examples]\n",
        "nouns1 = [example['keywords'][1] for example in pp_examples]\n",
        "nouns2 = [example['keywords'][3] for example in pp_examples]\n",
        "\n",
        "print(\"Frequent Verbs:\")\n",
        "print(Counter(verbs))\n",
        "\n",
        "print(\"\\nFrequent Nouns (1st):\")\n",
        "print(Counter(nouns1))\n",
        "\n",
        "print(\"\\nFrequent Nouns (2nd):\")\n",
        "print(Counter(nouns2))\n"
      ],
      "metadata": {
        "colab": {
          "base_uri": "https://localhost:8080/"
        },
        "id": "f1gGBpz5LQSz",
        "outputId": "8246d362-049e-4cd8-8732-05da7b52b42f"
      },
      "execution_count": 44,
      "outputs": [
        {
          "output_type": "stream",
          "name": "stdout",
          "text": [
            "Frequent Verbs:\n",
            "Counter({'is': 958, 'rose': 555, 'had': 527, 'was': 477, 'have': 351, 'be': 322, 'has': 314, 'are': 300, 'buy': 248, 'fell': 245, 'reported': 240, 'sell': 210, 'increased': 205, 'been': 190, 'make': 187, \"'s\": 183, 'take': 167, 'made': 166, 'posted': 159, 'put': 149, 'including': 134, 'get': 126, 'were': 122, 'received': 120, 'increase': 119, 'sold': 119, 'give': 117, 'provide': 116, 'raised': 116, 'took': 114, 'pay': 105, 'said': 100, 'reduce': 100, 'cut': 98, 'named': 97, 'acquire': 96, 'report': 91, 'see': 91, 'dropped': 85, 'says': 85, 'include': 85, 'included': 82, 'raise': 80, 'filed': 79, 'become': 76, 'set': 74, 'bought': 71, 'closed': 70, 'taking': 70, 'receive': 69, 'buying': 69, 'jumped': 68, 'making': 67, 'following': 66, 'bring': 66, 'lost': 64, 'holds': 64, 'acquired': 64, 'owns': 63, 'completed': 63, 'keep': 62, 'use': 62, 'hold': 61, 'selling': 61, 'build': 61, 'offer': 60, 'approved': 60, 'reduced': 59, 'held': 58, 'announced': 58, 'boost': 58, 'reached': 56, 'do': 56, 'reflecting': 55, 'lowered': 54, 'seeking': 54, 'climbed': 51, 'won': 51, 'got': 51, 'grew': 50, 'attributed': 50, 'provides': 49, 'expects': 48, 'gained': 48, 'includes': 47, 'given': 47, 'plunged': 46, 'show': 46, 'boosted': 46, 'increasing': 46, 'sent': 46, 'declined': 45, 'opened': 45, 'follows': 45, 'reflected': 44, 'produce': 44, 'putting': 44, 'seek': 44, 'purchase': 43, 'reflects': 43, 'reach': 42, 'reflect': 42, 'expect': 42, 'taken': 42, 'paid': 41, 'makes': 41, 'giving': 41, 'left': 40, 'called': 40, 'offering': 40, 'raising': 40, 'represents': 39, 'told': 39, 'takes': 39, 'produced': 39, 'gave': 38, 'showed': 38, 'cited': 38, 'spend': 38, 'create': 38, 'begin': 37, 'provided': 36, 'signed': 36, 'faces': 36, 'expand': 35, 'maintain': 34, 'accept': 34, 'getting': 34, 'gives': 33, 'brought': 33, 'bringing': 33, 'offered': 33, 'slipped': 33, 'offset': 32, 'joined': 32, 'develop': 32, 'elected': 32, 'spent': 31, 'purchased': 31, 'represent': 31, 'prevent': 31, 'puts': 31, 'find': 31, 'considered': 31, 'require': 31, 'leave': 31, 'meet': 31, 'caused': 30, 'post': 30, 'play': 30, 'building': 30, 'awarded': 30, 'followed': 30, 'open': 29, 'issued': 29, 'holding': 29, 'win': 29, 'add': 28, 'representing': 28, 'providing': 28, 'turned': 27, 'citing': 27, 'allow': 27, 'carry': 27, 'offers': 27, 'found': 27, 'yield': 27, 'hit': 26, 'extend': 26, 'created': 26, 'cover': 26, 'transfer': 26, 'showing': 25, 'resume': 25, 'paying': 25, 'added': 25, 'supply': 25, 'doing': 25, 'sells': 24, 'limit': 24, 'face': 24, 'used': 24, 'considering': 24, 'own': 24, 'saw': 24, 'began': 24, 'consider': 24, 'disclose': 24, 'having': 23, 'ended': 23, 'extended': 23, 'reducing': 23, 'issue': 23, 'rise': 23, 'using': 23, 'became': 23, 'announce': 23, 'obtain': 23, 'lose': 23, 'convert': 23, 'avoid': 23, 'improve': 23, 'need': 22, 'sees': 22, 'cutting': 22, 'move': 22, 'moved': 21, 'turn': 21, 'finance': 21, 'slid': 21, 'gain': 21, 'deliver': 21, 'read': 21, 'leaving': 20, 'want': 20, 'retain': 20, 'change': 20, 'support': 20, 'pushing': 20, 'protect': 20, 'seen': 20, 'boosting': 20, 'losing': 19, 'cause': 19, 'setting': 19, 'close': 19, 'owned': 19, 'discussing': 19, 'ease': 19, 'creating': 18, 'placed': 18, 'started': 18, 'surged': 18, 'rejected': 18, 'downgraded': 18, 'estimated': 18, 'increases': 18, 'write': 18, 'introduce': 18, 'met': 18, 'establish': 18, 'block': 18, 'launched': 18, 'indicating': 18, 'compares': 18, 'replace': 18, 'declared': 17, 'estimate': 17, 'changed': 17, 'disclosed': 17, 'cast': 17, 'producing': 17, 'expanding': 17, 'reporting': 17, 'played': 17, 'blamed': 17, 'did': 17, 'suspended': 17, 'adding': 17, 'exceeded': 17, 'speed': 17, 'affect': 17, 'reduces': 17, 'earned': 17, 'predicted': 17, 'continue': 17, 'slashed': 17, 'complete': 17, 'permit': 16, 'delay': 16, 'seeks': 16, 'represented': 16, 'send': 16, 'kept': 16, 'place': 16, 'market': 16, 'shift': 16, 'keeping': 16, 'drop': 16, 'acquiring': 16, 'becoming': 16, 'established': 16, 'discuss': 16, 'handle': 15, 'uses': 15, 'remove': 15, 'run': 15, 'running': 15, 'receiving': 15, 'seeing': 15, 'eliminate': 15, 'negotiating': 15, 'recorded': 15, 'lower': 15, 'help': 15, 'opposed': 15, 'raises': 15, 'cost': 15, 'remain': 15, 'know': 15, 'invest': 15, 'restrict': 14, 'launch': 14, 'accepted': 14, 'soared': 14, 'pushed': 14, 'calls': 14, 'prompted': 14, 'entered': 14, 'authorized': 14, 'reaching': 14, 'controls': 14, 'introduced': 14, 'pursue': 14, 'join': 14, 'shown': 14, 'follow': 14, 'trade': 14, 'requiring': 14, 'gets': 14, 'attracted': 14, 'earn': 14, 'beat': 14, 'hear': 14, 'match': 14, 'led': 14, 'distribute': 13, 'described': 13, 'impose': 13, 'retains': 13, 'marked': 13, 'built': 13, 'achieve': 13, 'doubled': 13, 'settle': 13, 'combine': 13, 'lowering': 13, 'ending': 13, 'developing': 13, 'brings': 13, 'start': 13, 'form': 13, 'triggered': 13, 'proposed': 13, 'slash': 13, 'carrying': 13, 'obtained': 13, 'drew': 12, 'expressed': 12, 'file': 12, 'swap': 12, 'halted': 12, 'shows': 12, 'suffered': 12, 'end': 12, 'handled': 12, 'realize': 12, 'promote': 12, 'operates': 12, 'developed': 12, 'carried': 12, 'lend': 12, 'being': 12, 'control': 12, 'values': 12, 'attract': 12, 'covering': 12, 'double': 12, 'encourage': 12, 'granted': 12, 'pending': 12, 'denied': 12, 'turning': 12, 'runs': 12, 'record': 12, 'requested': 12, 'went': 11, 'heads': 11, 'advanced': 11, 'involving': 11, 'broke': 11, 'sending': 11, 'passing': 11, 'closing': 11, 'share': 11, 'viewed': 11, 'faced': 11, 'marks': 11, 'assume': 11, 'joining': 11, 'mark': 11, 'approve': 11, 'supported': 11, 'rising': 11, 'wrote': 11, 'ensure': 11, 'finding': 11, 'drive': 11, 'opening': 11, 'remains': 11, 'sued': 11, 'does': 11, 'conduct': 11, 'forecast': 11, 'pays': 11, 'eliminating': 11, 'sought': 11, 'imposed': 11, 'transform': 11, 'shut': 11, 'trimmed': 11, 'released': 11, 'strike': 11, 'exchange': 11, 'handling': 11, 'shifting': 11, 'becomes': 10, 'dumped': 10, 'stop': 10, 'review': 10, 'preserve': 10, 'delayed': 10, 'experienced': 10, 'owes': 10, 'expected': 10, 'anticipate': 10, 'tumbled': 10, 'learned': 10, 'facing': 10, 'fight': 10, 'requires': 10, 'lifted': 10, 'fill': 10, 'return': 10, 'exceed': 10, 'demand': 10, 'retained': 10, 'spending': 10, 'passed': 10, 'asked': 10, 'produces': 10, 'converting': 10, 'monitor': 10, 'save': 10, 'force': 10, 'posting': 10, 'causing': 10, 'work': 10, 'knocked': 10, 'negotiated': 9, 'replaced': 9, 'redeem': 9, 'tested': 9, 'release': 9, 'backed': 9, 'defended': 9, 'hurt': 9, 'involves': 9, 'present': 9, 'covers': 9, 'averaged': 9, 'exploring': 9, 'strengthen': 9, 'watching': 9, 'combining': 9, 'pouring': 9, 'regarding': 9, 'presented': 9, 'featuring': 9, 'discussed': 9, 'publish': 9, 'means': 9, 'cleared': 9, 'alter': 9, 'ban': 9, 'push': 9, 'playing': 9, 'submitted': 9, 'resolve': 9, 'conducting': 9, 'call': 9, 'renewing': 9, 'bid': 9, 'defend': 9, 'owning': 9, 'pass': 9, 'restore': 9, 'banned': 9, 'directs': 9, 'eased': 9, 'shot': 9, 'adopt': 9, 'blame': 9, 'urged': 9, 'generates': 9, 'indicted': 9, 'places': 9, 'linking': 9, 'buys': 9, 'experiencing': 9, 'pick': 9, 'excluding': 9, 'Given': 9, 'decreased': 9, 'topped': 9, 'withdrew': 8, 'view': 8, 'sank': 8, 'suspend': 8, 'enter': 8, 'confirmed': 8, 'ignoring': 8, 'imposing': 8, 'draw': 8, 'bear': 8, 'adjust': 8, 'explain': 8, 'yielding': 8, 'drove': 8, 'sustained': 8, 'discovered': 8, 'resumed': 8, 'completing': 8, 'bolster': 8, 'trading': 8, 'postpone': 8, 'purchasing': 8, 'removing': 8, 'drawing': 8, 'oppose': 8, 'disrupt': 8, 'unveil': 8, 'mean': 8, 'contributed': 8, 'appointed': 8, 'projecting': 8, 'needs': 8, 'meeting': 8, 'voted': 8, 'channel': 8, 'transferred': 8, 'leaves': 8, 'spark': 8, 'maintaining': 8, 'spin': 8, 'fend': 8, 'blocking': 8, 'involve': 8, 'spends': 8, 'manages': 8, 'investigating': 8, 'export': 8, 'promised': 8, 'views': 8, 'planning': 8, 'assumes': 8, 'inched': 8, 'predicting': 8, 'sets': 8, 'plans': 8, 'edged': 8, 'describes': 8, 'picked': 8, 'supporting': 8, 'curb': 8, 'head': 8, 'shipping': 8, 'say': 7, 'replacing': 7, 'operate': 7, 'dismissed': 7, 'testing': 7, 'questioned': 7, 'came': 7, 'quoted': 7, 'dominated': 7, 'credited': 7, 'indicates': 7, 'signal': 7, 'sends': 7, 'press': 7, 'scaled': 7, 'negotiate': 7, 'acquires': 7, 'study': 7, 'scheduled': 7, 'generate': 7, 'projected': 7, 'limiting': 7, 'break': 7, 'measures': 7, 'declining': 7, 'bears': 7, 'incurred': 7, 'go': 7, 'switched': 7, 'quit': 7, 'Consider': 7, 'risen': 7, 'feel': 7, 'waive': 7, 'visited': 7, 'mount': 7, 'dropping': 7, 'visit': 7, 'check': 7, 'sign': 7, 'generated': 7, 'concerning': 7, 'driven': 7, 'moving': 7, 'extending': 7, 'preparing': 7, 'design': 7, 'favor': 7, 'fueled': 7, 'postponed': 7, 'considers': 7, 'throw': 7, 'accepting': 7, 'pulled': 7, 'awaiting': 7, 'transport': 7, 'lent': 7, 'controlled': 7, 'recommending': 7, 'throwing': 7, 'ran': 7, 'enhance': 7, 'coordinate': 7, 'halt': 7, 'begun': 7, 'test': 7, 'invested': 7, 'winning': 7, 'improves': 7, 'noted': 7, 'guarantee': 7, 'remember': 7, 'interviewed': 7, 'targeted': 6, 'abandoned': 6, 'criticized': 6, 'covered': 6, 'detected': 6, 'execute': 6, 'assist': 6, 'totaled': 6, 'satisfy': 6, 'manage': 6, 'triggering': 6, 'settled': 6, 'demanded': 6, 'forced': 6, 'pull': 6, 'expanded': 6, 'pursuing': 6, 'compare': 6, 'correct': 6, 'estimates': 6, 'capped': 6, 'lead': 6, 'store': 6, 'transforms': 6, 'sharing': 6, 'curtail': 6, 'justify': 6, 'asking': 6, 'address': 6, 'shed': 6, 'identify': 6, 'caught': 6, 'wear': 6, 'establishing': 6, 'dilute': 6, 'exclude': 6, 'renew': 6, 'assuming': 6, 'anticipates': 6, 'accommodate': 6, 'attracting': 6, 'fighting': 6, 'minimize': 6, 'provoked': 6, 'opposing': 6, 'track': 6, 'processes': 6, \"'re\": 6, 'abandon': 6, 'recognize': 6, 'dragging': 6, 'name': 6, 'hearing': 6, 'done': 6, 'helped': 6, 'conducted': 6, 'cites': 6, 'registered': 6, 'tell': 6, 'consolidate': 6, 'carries': 6, 'deny': 6, 'counter': 6, 'step': 6, 'leading': 6, 'assess': 6, 'apply': 6, 'detect': 6, 'gaining': 6, 'experience': 6, 'wants': 6, 'display': 6, 'revive': 6, 'based': 6, 'funding': 6, 'announcing': 6, 'oversees': 6, 'inherited': 6, 'divert': 6, 'achieved': 6, 'serve': 6, 'claimed': 6, 'reject': 6, 'approached': 6, 'granting': 6, 'recommended': 6, 'captured': 6, 'lift': 6, 'indicate': 6, 'studying': 6, 'unload': 6, 'introducing': 6, 'racked': 6, 'perform': 6, 'receives': 6, 'predict': 6, 'Following': 6, 'exposed': 6, 'exported': 6, 'surrounding': 6, 'split': 6, 'lay': 6, 'convicted': 6, 'revised': 6, 'creates': 6, 'ask': 6, 'supplies': 6, 'fled': 5, 'ordered': 5, 'spurred': 5, 'plummeted': 5, 'squeeze': 5, 'stopped': 5, 'features': 5, 'line': 5, 'confirm': 5, 'foresee': 5, 'continued': 5, 'enjoyed': 5, 'proved': 5, 'trigger': 5, 'anticipating': 5, 'involved': 5, 'reviewing': 5, 'adds': 5, 'hired': 5, 'serving': 5, 'stimulate': 5, 'analyzed': 5, 'recover': 5, 'prove': 5, 'listed': 5, 'defending': 5, 'prevented': 5, 'improving': 5, 'draws': 5, 'fear': 5, 'ordering': 5, 'grown': 5, 'warned': 5, 'swapping': 5, 'curbing': 5, 'obtaining': 5, 'converted': 5, 'challenge': 5, 'spur': 5, 'extends': 5, 'pour': 5, 'gathered': 5, 'pulling': 5, 'illustrated': 5, 'exchanged': 5, 'matching': 5, 'writing': 5, 'laying': 5, 'exercise': 5, 'maintained': 5, 'dipped': 5, 'evaluate': 5, 'question': 5, 'illustrate': 5, 'submit': 5, 'grabbed': 5, 'mentioned': 5, 'marking': 5, 'threw': 5, 'back': 5, 'urging': 5, 'affecting': 5, 'consume': 5, 'founded': 5, 'merge': 5, 'slow': 5, 'lease': 5, 'characterized': 5, 'served': 5, 'contains': 5, 'arranged': 5, 'changing': 5, 'repurchase': 5, 'staged': 5, 'slowing': 5, 'awaited': 5, 'valued': 5, 'auctioned': 5, 'prefer': 5, 'easing': 5, 'gotten': 5, 'allowing': 5, 'blocked': 5, 'ruled': 5, 'influence': 5, 'regain': 5, 'ship': 5, 'boosts': 5, 'suggest': 5, 'rejecting': 5, 'delivered': 5, 'justifies': 5, 'advising': 5, 'assumed': 5, 'publishes': 5, 'challenged': 5, 'miss': 5, 'forcing': 5, 'direct': 5, 'fuel': 5, 'secure': 5, 'fly': 5, 'outperformed': 5, 'eat': 5, 'tracking': 5, 'shake': 5, 'Using': 5, 'cancel': 5, 'haul': 5, 'laid': 5, 'processing': 5, 'allowed': 5, 'driving': 5, 'advised': 5, 'rebut': 5, 'filing': 5, 'cuts': 5, 'unveiled': 5, 'finished': 5, 'exploit': 5, 'funnel': 5, 'violated': 5, 'steered': 5, 'drawn': 5, 'distributed': 5, 'highlight': 5, 'falling': 5, 'absorb': 5, 'fought': 5, 'changes': 5, 'ignore': 5, 'indicated': 5, 'switch': 5, 'constitute': 5, 'idle': 5, 'pressing': 5, 'install': 5, 'discourage': 5, 'donated': 5, 'defer': 5, 'casting': 5, 'Leading': 5, 'demanding': 5, 'battled': 5, 'Includes': 5, 'fall': 5, 'Excluding': 5, 'try': 5, 'poured': 5, 'spawned': 5, 'leads': 5, 'depress': 5, 'enjoy': 5, 'promises': 5, 'priced': 5, 'amassed': 5, 'pose': 5, 'subsidizing': 5, 'resigned': 4, 'stretch': 4, 'watched': 4, 'issuing': 4, 'diminish': 4, 'retire': 4, 'suffering': 4, 'basing': 4, 'opposes': 4, 'feeling': 4, 'override': 4, 'outnumbered': 4, 'killed': 4, 'narrowed': 4, 'gather': 4, 'manufacturing': 4, 'cite': 4, 'diminished': 4, 'decrease': 4, 'solidify': 4, 'notified': 4, 'Citing': 4, 'tendering': 4, 'prompting': 4, 'publishing': 4, 'stay': 4, 'decline': 4, 'avoiding': 4, 'assure': 4, 'supplied': 4, 'allocate': 4, 'termed': 4, 'supplying': 4, 'introduces': 4, 'summed': 4, 'joins': 4, 'bribed': 4, 'affected': 4, 'contain': 4, 'canceled': 4, 'expecting': 4, 'loses': 4, 'filled': 4, 'renewed': 4, 'clearing': 4, 'lacked': 4, 'seize': 4, 'climbing': 4, 'pared': 4, 'intensify': 4, 'required': 4, 'Regarding': 4, 'executed': 4, 'recall': 4, 'matched': 4, 'riding': 4, 'opens': 4, 'pump': 4, 'Take': 4, 'yielded': 4, 'separate': 4, 'reclaim': 4, 'linked': 4, 'succeed': 4, 'treats': 4, 'vote': 4, 'limits': 4, 'recognized': 4, 'packed': 4, 'blames': 4, 'heard': 4, 'entering': 4, 'launching': 4, 'borrow': 4, 'reset': 4, 'plays': 4, 'remained': 4, 'violate': 4, 'tap': 4, 'determine': 4, 'sustain': 4, 'induce': 4, 'studied': 4, 'crack': 4, 'knocking': 4, 'misrepresented': 4, 'sweetened': 4, 'measure': 4, 'underscored': 4, 'reaches': 4, 'promoting': 4, 'lagged': 4, 'tracks': 4, 'delaying': 4, 'overcome': 4, 'facilitate': 4, 'fund': 4, 'speeding': 4, 'attach': 4, 'reorganize': 4, 'trim': 4, 'surrendered': 4, 'underwrite': 4, 'limited': 4, 'succeeds': 4, 'price': 4, 'repay': 4, 'working': 4, 'going': 4, 'portraying': 4, 'grab': 4, 'endured': 4, 'favors': 4, 'permitted': 4, 'challenging': 4, 'steal': 4, 'reverse': 4, 'solve': 4, 'resembles': 4, 'worked': 4, 'executing': 4, 'protecting': 4, 'reassume': 4, 'tied': 4, 'identifying': 4, 'compared': 4, 'connecting': 4, 'deferring': 4, 'reinforce': 4, 'wanted': 4, 'slashing': 4, 'collect': 4, 'spreading': 4, 'settling': 4, 'marketing': 4, 'co-founded': 4, 'targeting': 4, 'spread': 4, 'soliciting': 4, 'tie': 4, 'flew': 4, 'keeps': 4, 'repeated': 4, 'ride': 4, 'treating': 4, 'propelled': 4, 'restricted': 4, 'slowed': 4, 'doubling': 4, 'pricing': 4, 'removed': 4, 'promise': 4, 'kill': 4, 'concluding': 4, 'begins': 4, 'relocate': 4, 'interpreted': 4, 'focus': 4, 'Put': 4, 'finds': 4, 'approach': 4, 'construct': 4, 'reveal': 4, 'select': 4, 'charge': 4, 'altered': 4, 'exposing': 4, 'supports': 4, 'Are': 4, 'hide': 4, 'chart': 4, 'measuring': 4, 'assign': 4, 'reinforced': 4, 'shares': 4, 'incur': 4, 'charged': 4, 'converts': 4, 'link': 4, 'comparing': 4, 'organizing': 4, 'mail': 4, 'reimburse': 4, 'solicit': 4, 'permits': 4, 'explaining': 4, 'extract': 4, 'terminated': 4, 'afforded': 4, 'stage': 4, 'attacked': 4, 'describe': 4, 'await': 4, 'teaches': 4, 'overseeing': 4, 'establishes': 4, 'defraud': 4, 'characterize': 4, 'calling': 4, 'enact': 4, 'grant': 4, 'connects': 4, 'maneuvered': 4, 'distributes': 4, 'assimilate': 4, 'insure': 4, 'quashed': 4, 'suggests': 4, 'awaits': 4, 'endure': 4, 'forecasting': 4, 'airlifted': 4, 'manufacture': 4, 'adopting': 4, 'guarantees': 4, 'retrofit': 4, 'dispatched': 4, 'leasing': 4, 'missed': 4, 'operating': 4, 'risk': 4, 'touted': 3, 'sensed': 3, 'fielded': 3, 'express': 3, 'inhibit': 3, 'costing': 3, 'challenges': 3, 'poses': 3, 'freeing': 3, 'accuses': 3, 'quell': 3, 'peg': 3, 'bars': 3, 'mandate': 3, 'praised': 3, 'garner': 3, 'weighing': 3, 'enjoying': 3, 'distributing': 3, 'noticed': 3, 'assigned': 3, 'strengthens': 3, 'forms': 3, 'merged': 3, 'depressed': 3, 'capture': 3, 'kicked': 3, 'ousted': 3, 'watch': 3, 'reinforces': 3, 'underscores': 3, 'conclude': 3, 'filling': 3, 'embraced': 3, 'feared': 3, 'resolving': 3, 'assert': 3, 'restricting': 3, 'lopped': 3, 'bemoaning': 3, 'quoting': 3, 'encouraged': 3, 'plunging': 3, 'wins': 3, 'shape': 3, 'spells': 3, 'tighten': 3, 'installing': 3, 'suspending': 3, 'Change': 3, 'loaded': 3, 'speak': 3, 'repeat': 3, 'exacerbating': 3, 'substituted': 3, 'attributing': 3, 'wrest': 3, 'undermine': 3, 'Is': 3, 'prevents': 3, 'organize': 3, 'stirred': 3, 'field': 3, 'relinquish': 3, 'restricts': 3, 'rebounded': 3, 'adjusted': 3, 'examine': 3, 'managing': 3, 'ties': 3, 'drag': 3, 'tracing': 3, 'connect': 3, 'owed': 3, 'alleging': 3, 'jailed': 3, 'reinvest': 3, 'hurled': 3, 'enjoys': 3, 'trimming': 3, 'formed': 3, 'advise': 3, 'honor': 3, 'protects': 3, 'launches': 3, 'alternating': 3, 'drafted': 3, 'encourages': 3, 'suggesting': 3, 'repeal': 3, 'specify': 3, 'equal': 3, 'leaped': 3, 'abandoning': 3, 'serves': 3, 'appreciated': 3, 'forge': 3, 'contemplating': 3, 'contained': 3, 'accumulating': 3, 'monitored': 3, 'catch': 3, 'spotted': 3, 'hitting': 3, 'mounting': 3, 'valuing': 3, 'like': 3, 'adopted': 3, 'handed': 3, 'predicts': 3, 'busted': 3, 'plagued': 3, 'hires': 3, 'elect': 3, 'focusing': 3, 'choose': 3, 'shared': 3, 'beginning': 3, 'handles': 3, 'expose': 3, 'relieve': 3, 'accepts': 3, 'recovered': 3, 'clear': 3, 'deduct': 3, 'knew': 3, 'approves': 3, 'explore': 3, 'rated': 3, 'monitors': 3, 'accused': 3, 'inform': 3, 'imagine': 3, 'derived': 3, 'invites': 3, 'escape': 3, 'depicts': 3, 'detailing': 3, 'ranked': 3, 'submitting': 3, 'believe': 3, 'lists': 3, 'reconsider': 3, 'achieving': 3, 'rid': 3, 'backs': 3, 'crossed': 3, 'affects': 3, 'crush': 3, 'stamping': 3, 'flying': 3, 'restoring': 3, 'employs': 3, 'suing': 3, 'echoing': 3, 'lacks': 3, 'demonstrate': 3, 'maintains': 3, 'presents': 3, 'fired': 3, 'combing': 3, 'elevated': 3, 'undermining': 3, 'levied': 3, 'spell': 3, 'signing': 3, 'escaped': 3, 'subsidize': 3, 'forgotten': 3, 'answer': 3, 'incorporate': 3, 'transformed': 3, 'Says': 3, 'repurchased': 3, 'propose': 3, 'confusing': 3, 'reinstated': 3, 'answered': 3, 'combat': 3, 'emerged': 3, 'withheld': 3, 'pulls': 3, 'figure': 3, 'wasting': 3, 'pumped': 3, 'concentrate': 3, 'widen': 3, 'depriving': 3, 'gathering': 3, 'recalls': 3, 'applying': 3, 'describing': 3, 'lure': 3, 'continuing': 3, 'reeled': 3, 'turns': 3, 'traded': 3, 'shield': 3, 'modify': 3, 'auction': 3, 'widened': 3, 'deserves': 3, 'tender': 3, 'consolidating': 3, 'understand': 3, 'register': 3, 'foresees': 3, 'preserving': 3, 'illustrates': 3, 'threatened': 3, 'prepare': 3, 'starting': 3, 'acknowledged': 3, 'claiming': 3, 'appealed': 3, 'boasts': 3, 'earmark': 3, 'claim': 3, 'banning': 3, 'underscoring': 3, 'stepped': 3, 'commit': 3, 'avoided': 3, 'greeting': 3, 'attribute': 3, 'aggravate': 3, 'favored': 3, 'collecting': 3, 'asks': 3, 'striking': 3, 'headed': 3, 'dealt': 3, 'lifting': 3, 'visiting': 3, 'schedule': 3, 'overhaul': 3, 'curry': 3, 'shorten': 3, 'encountered': 3, 'piled': 3, 'diagnosed': 3, 'reports': 3, 'sharpen': 3, 'Shaving': 3, 'feeds': 3, 'survey': 3, 'entitled': 3, 'outstripped': 3, 'peddling': 3, 'damaged': 3, 'spraying': 3, 'expedite': 3, 'notify': 3, 'guaranteeing': 3, 'containing': 3, 'stem': 3, 'precipitated': 3, 'delivering': 3, 'seems': 3, 'borrowed': 3, 'judging': 3, 'project': 3, 'recovering': 3, 'refer': 3, 'restored': 3, 'process': 3, 'spilled': 3, 'exempt': 3, 'fix': 3, 'enlist': 3, 'decries': 3, 'imposes': 3, 'hampered': 3, 'issues': 3, 'come': 3, 'arranging': 3, 'plunge': 3, 'leased': 3, 'invests': 3, 'meaning': 3, 'recognizes': 3, 'donating': 3, 'drain': 3, 'recommend': 3, 'cross': 3, 'prohibit': 3, 'arrange': 3, 'embraces': 3, 'assemble': 3, 'chew': 3, 'Putting': 3, 'confirming': 3, 'ferry': 3, 'stir': 3, 'coordinates': 3, 'assessing': 3, 'protested': 3, 'reading': 3, 'injected': 3, 'proclaimed': 3, 'streamline': 3, 'attributes': 3, 'storing': 3, 'prepared': 2, 'appear': 2, 'struck': 2, 'bearing': 2, 'smoked': 2, 'plummeting': 2, 'shouted': 2, 'brushed': 2, 'determining': 2, 'cropped': 2, 'recouped': 2, 'scooped': 2, 'Added': 2, 'stranding': 2, 'realizing': 2, 'pushes': 2, 'distinguish': 2, 'counting': 2, 'erased': 2, 'order': 2, 'salvage': 2, 'free': 2, 'Contributing': 2, 'improved': 2, 'Offsetting': 2, 'mirrors': 2, 'ignored': 2, 'endorse': 2, 'spurned': 2, 'sponsoring': 2, 'license': 2, 'standing': 2, 'investigates': 2, 'dampened': 2, 'vented': 2, 'complements': 2, 'slapped': 2, 'saying': 2, 'endorsed': 2, 'rescue': 2, 'erase': 2, 'overstated': 2, 'transforming': 2, 'guide': 2, 'cool': 2, 'chalking': 2, 'peppered': 2, 'calm': 2, 'initiate': 2, 'planned': 2, 'mulling': 2, 'confronts': 2, 'idled': 2, 'allocating': 2, 'total': 2, 'withdraw': 2, 'dump': 2, 'reiterated': 2, 'feed': 2, 'liberalize': 2, 'planting': 2, 'pave': 2, 'resigning': 2, 'stepping': 2, 'look': 2, 'reinvented': 2, 'rhymed': 2, 'excised': 2, 'remembers': 2, 'applaud': 2, 'exacerbates': 2, 'command': 2, 'de-emphasize': 2, 'paint': 2, 'featured': 2, 'assembling': 2, 'dismisses': 2, 'dispatch': 2, 'pile': 2, 'chronicles': 2, 'heighten': 2, 'backing': 2, 'admit': 2, 'confronting': 2, 'resisting': 2, 'missing': 2, 'stricken': 2, 'Speed': 2, 'charging': 2, 'lodged': 2, 'sandwiched': 2, 'precludes': 2, 'erode': 2, 'barring': 2, 'strip': 2, 'welcomed': 2, 'comprise': 2, 'siphon': 2, 'presage': 2, 'diminishing': 2, 'hedge': 2, 'sang': 2, 'attached': 2, 'guaranteed': 2, 'repeating': 2, 'Expect': 2, 'Stuffing': 2, 'fires': 2, 'amass': 2, 'answering': 2, 'sparked': 2, 'abolish': 2, 'clarify': 2, 'licenses': 2, 'yanking': 2, 'Downgraded': 2, 'stealing': 2, 'scanning': 2, 'battles': 2, 'discarded': 2, 'subjected': 2, 'thought': 2, 'extorted': 2, 'removes': 2, 'appeal': 2, 'snap': 2, 'defeat': 2, 'dismissing': 2, 'fulfill': 2, 'hiding': 2, 'motivate': 2, 'organized': 2, 'employing': 2, 'compensate': 2, 'nullify': 2, 'deprive': 2, 'applied': 2, 'liked': 2, 'recoup': 2, 'initiated': 2, 'loosen': 2, 'instigated': 2, 'am': 2, 'equate': 2, 'educating': 2, 'point': 2, 'advises': 2, 'bred': 2, 'managed': 2, 'owe': 2, 'thrusting': 2, 'retrieve': 2, 'flash': 2, 'charges': 2, 'relax': 2, 'fits': 2, 'enlarge': 2, 'shove': 2, 're-examine': 2, 'deflect': 2, 'ends': 2, 'returns': 2, 'Including': 2, 'bore': 2, 'trades': 2, 'scour': 2, 'grow': 2, 'renews': 2, 'confiscated': 2, 'ceased': 2, 'mimic': 2, 'reviving': 2, 'pinpoint': 2, 'plan': 2, 'overwhelm': 2, 'firmed': 2, 'outlines': 2, 'shave': 2, 'manufactures': 2, 'breaking': 2, 'notice': 2, 'occasion': 2, 'bested': 2, 'drives': 2, 'debunk': 2, 'top': 2, 'advocating': 2, 'regulates': 2, 'rebuffed': 2, 'alleviate': 2, 'condemn': 2, 'permitting': 2, 'invade': 2, 'embark': 2, 'unite': 2, 're-establish': 2, 'downgrading': 2, 'pitted': 2, 'ring': 2, 'writes': 2, 'lavishing': 2, 'luring': 2, 'enhances': 2, 'lasting': 2, 'researched': 2, 'forbids': 2, 'billing': 2, 'financing': 2, 'cease': 2, 'hidden': 2, 'taped': 2, 'insures': 2, 'intermixed': 2, 'trotted': 2, 'donate': 2, 'helping': 2, 'flooded': 2, 'upheld': 2, 'comes': 2, 'knows': 2, 'inherit': 2, 'strikes': 2, 'witnessing': 2, 'breaks': 2, 'level': 2, 'signaled': 2, 'assembled': 2, 'travel': 2, 'protesting': 2, 'sentenced': 2, 'torched': 2, 'returning': 2, 'attests': 2, 'rank': 2, 'exonerated': 2, 'heightened': 2, 'thrust': 2, 'submits': 2, 'sparking': 2, 'dragged': 2, 'sublet': 2, 'chooses': 2, 'releases': 2, 'Echoing': 2, 'rode': 2, 'Give': 2, 'identified': 2, 'needed': 2, 'warrant': 2, 'approaching': 2, 'recanted': 2, 'heed': 2, 'thrown': 2, 'emphasizing': 2, 'urge': 2, 'foil': 2, 'sue': 2, 'controlling': 2, 'hailed': 2, 'jettisoning': 2, 'value': 2, 'suffer': 2, 'bombarded': 2, 'tightened': 2, 'convened': 2, 'meld': 2, 'shifted': 2, 'infuse': 2, 'maximize': 2, 'rebuilding': 2, 'define': 2, 'assailed': 2, 'infringe': 2, 'rebuild': 2, 'resuming': 2, 'aid': 2, 'whip': 2, 'retaining': 2, 'stressed': 2, 'dismiss': 2, 'plead': 2, 'wreaked': 2, 'foster': 2, 'worsen': 2, 'ushered': 2, 'wrapping': 2, 'blurring': 2, 'depicted': 2, 're-enacting': 2, 'aired': 2, 'damp': 2, 'entitling': 2, 'fulfilled': 2, 'accompanied': 2, 'portend': 2, 'locking': 2, 'continues': 2, 'averting': 2, 'dumping': 2, 'rallied': 2, 'questioning': 2, 'outgained': 2, 'swelled': 2, 'ensuring': 2, 'solving': 2, 'restructured': 2, 'rolling': 2, 'dominates': 2, 'translate': 2, 'splits': 2, 'neutralizes': 2, 'prop': 2, 'depict': 2, 'upgrade': 2, 'quotes': 2, 'contribute': 2, 'deciding': 2, 'pitched': 2, 'drill': 2, 'funneling': 2, 'indexing': 2, 'pursued': 2, 'jeopardize': 2, 'trumpeting': 2, 'reward': 2, 'spurring': 2, 'map': 2, 'addressed': 2, 'fulfilling': 2, 'defines': 2, 'locating': 2, 'destroying': 2, 'gone': 2, 'substituting': 2, 'steer': 2, 'mishandled': 2, 'allay': 2, 'perpetuate': 2, 'lurched': 2, 'prepares': 2, 'championed': 2, 'misleading': 2, 'fallen': 2, 'refused': 2, 'builds': 2, 'slated': 2, 'overstate': 2, 'securing': 2, 'notifying': 2, 'cornered': 2, 'bases': 2, 'rent': 2, 'disputed': 2, 'destroy': 2, 'records': 2, 'supervising': 2, 'conceal': 2, 'modeled': 2, 'quadrupling': 2, 'advance': 2, 'tackle': 2, 'eliminated': 2, 'strapped': 2, 'reap': 2, 'commits': 2, 'mounted': 2, 'amend': 2, 'earning': 2, 'published': 2, 'regained': 2, 'attending': 2, 'picking': 2, 'implies': 2, 'broadens': 2, 'wields': 2, 'convey': 2, 'offsetting': 2, 'Selling': 2, 'bequeathed': 2, 'proving': 2, 'outweigh': 2, 'decided': 2, 'safeguard': 2, 'wrestle': 2, 'complicate': 2, 'aroused': 2, 'insulate': 2, 'signals': 2, 'causes': 2, 'regains': 2, 'expresses': 2, 'dogged': 2, 'rearrange': 2, 'clean': 2, 'transporting': 2, 'summarize': 2, 'occupy': 2, 'decreed': 2, 'portrays': 2, 'reads': 2, 'confuse': 2, 'swell': 2, 'choked': 2, 'scouting': 2, 'forgive': 2, 'dubbed': 2, 'sparks': 2, 'sidestepped': 2, 'dominate': 2, 'outfit': 2, 'informing': 2, 'transmitting': 2, 'lies': 2, 'downplayed': 2, 'shrugged': 2, 'returned': 2, 'addressing': 2, 'benefited': 2, 'halved': 2, 'releasing': 2, 'overturn': 2, 'subpoena': 2, 'pledged': 2, 'succeeded': 2, 'practicing': 2, 'notch': 2, 'cushion': 2, 'targets': 2, 'outlined': 2, 'chosen': 2, 'resell': 2, 'convince': 2, 'miscalculated': 2, 'affirming': 2, 'drum': 2, 'shattered': 2, 'wearing': 2, 'advocates': 2, 'dish': 2, 'satisfying': 2, 'spreads': 2, 'reform': 2, 'probe': 2, 'omit': 2, 'lack': 2, 'target': 2, 'eyeing': 2, 'forming': 2, 'hosted': 2, 'tumble': 2, 'inhibited': 2, 'Record': 2, 'misstates': 2, 'scrap': 2, 'proposing': 2, 'refuted': 2, 'inspect': 2, 'telling': 2, 'deserve': 2, 'counts': 2, 'grows': 2, 'milk': 2, 'chairs': 2, 'rekindle': 2, 'jolted': 2, 'reconstructed': 2, 'seizing': 2, 'undercut': 2, 'deposit': 2, 'curbed': 2, 'manned': 2, 'weaken': 2, 'Fending': 2, 'rally': 2, 'woo': 2, 'discouraging': 2, 'devoted': 2, 'alleged': 2, 'quantify': 2, 'licensing': 2, 'reschedule': 2, 'flashed': 2, 'intensified': 2, 'wiped': 2, 'scored': 2, 'downsize': 2, 'shore': 2, 'probing': 2, 'weigh': 2, 'planted': 2, 'letting': 2, 'pre-register': 2, 'frees': 2, 'saved': 2, 'mastered': 2, 'integrate': 2, 'stating': 2, 'underwriting': 2, 'oust': 2, 'leaked': 2, 'equaling': 2, 'fit': 2, 'choosing': 2, 'encouraging': 2, 'trailed': 2, 'manipulate': 2, 'spared': 2, 'pits': 2, 'happen': 2, 'pegged': 2, 'underscore': 2, 'denounced': 2, 'convenes': 2, 'reshape': 2, 'treat': 2, 'Included': 2, 'cleaning': 2, 'harm': 2, 'forfeit': 2, 'attended': 2, 'completes': 2, 'divided': 2, 'plant': 2, 'occupied': 2, 'performed': 2, 'reconcile': 2, 'fostered': 2, 'surpass': 2, 'load': 2, 'seal': 2, 'appeared': 2, 'convict': 2, 'pokes': 2, 'chasing': 2, 'embracing': 2, 'rub': 2, 'chastises': 2, 'resisted': 2, 'undo': 2, 'inflame': 2, 'routing': 2, 'weaving': 2, 'arrest': 2, 'enacting': 2, 'secured': 2, 'undertaken': 2, 'withstand': 2, 'dived': 2, 'cap': 2, 'afford': 2, 'kicking': 2, 'investing': 2, 'designing': 2, 'extort': 2, 'enforce': 2, 'dried': 2, 'tells': 2, 'ceded': 2, 'recycles': 2, 'recommends': 2, 'anticipated': 2, 'refinancing': 2, 'blaming': 2, 'train': 2, 'shaved': 2, 'vault': 2, 'prepay': 2, 'Died': 2, 'dedicated': 2, 'encircling': 2, 'Reflecting': 2, 'preferring': 2, 'fatten': 2, 'divvying': 2, 'accompanies': 2, 'omitted': 2, 'label': 2, 'reinvesting': 2, 'singling': 2, 'treated': 2, 'reclassified': 2, 'surveyed': 2, 'wiping': 2, 'revising': 2, 'Appointed': 2, 'mind': 2, 'engaged': 2, 'seem': 2, 'appoint': 2, 'hurts': 2, 'contributing': 2, 'stressing': 2, 'print': 2, 'pumping': 2, 'bolstered': 2, 'forecasts': 2, 'prolong': 2, 'voiced': 2, 'attracts': 2, 'installed': 2, 'pledging': 2, 'Addressing': 2, 'adapted': 2, 'selects': 2, 'licensed': 2, 'prohibits': 2, 'celebrated': 2, 'confers': 2, 'funds': 2, 'demolished': 2, 'invited': 2, 'accompany': 2, 'Excluded': 2, 'equip': 2, 'Substituting': 2, 'resemble': 2, 'hobbling': 2, 'importing': 2, 'discontinue': 2, 'buy-back': 2, 'Fueling': 2, 'clears': 2, 'reappraised': 2, 'reappraise': 2, 'shaken': 2, 'contemplated': 2, 'avert': 2, 'singled': 2, 'rained': 2, 'Succeeding': 2, 'parachute': 2, 'growing': 2, 'refinance': 2, 'lends': 2, 'surrender': 2, 'divide': 2, 'reckoning': 2, 'assists': 2, 'reassigned': 2, 'violating': 2, 'estimating': 2, 'studies': 2, 'Adding': 2, 'presages': 2, 're-evaluate': 2, 'constructing': 2, 'stabilized': 2, 'forbidding': 2, 'hindering': 2, 'whipping': 2, 'FACING': 2, 'slimmed': 2, 'borrowing': 2, 'EXPANDS': 2, 'manipulating': 2, 'supervises': 2, 'claims': 2, 'Kissing': 2, 'monitoring': 2, 'conveyed': 2, 'Takes': 2, 'minimizing': 2, 'announces': 2, 'admits': 2, 'Ending': 2, 'burn': 2, 'pours': 2, 'rushed': 2, 'board': 2, 'ferrying': 2, 'touting': 2, 'massaging': 2, 'forgo': 2, 'weighed': 2, 'subtracting': 1, 'filmed': 1, 'plug': 1, 'salve': 1, 'exemplifies': 1, 'Link': 1, 'breathed': 1, 'wanting': 1, 'thwart': 1, 'revoking': 1, 'meets': 1, 'paves': 1, 'falls': 1, 'focused': 1, 'synchronize': 1, 'signs': 1, 'TREATING': 1, 'painted': 1, 'beefing': 1, 'Sees': 1, 'rattled': 1, 'pressure': 1, 'Explains': 1, 'amending': 1, 'spooked': 1, 'tipped': 1, 'collected': 1, 'hammering': 1, 'suggested': 1, 'reversed': 1, 'battered': 1, 'overshadowed': 1, 'prices': 1, 'contacting': 1, 'contact': 1, 'expire': 1, 'advancing': 1, 'snare': 1, 'outpacing': 1, 'plunking': 1, 'foreshadowed': 1, 'AVOIDED': 1, 'washing': 1, 'redress': 1, 'absorbing': 1, 'rein': 1, 'eyed': 1, 'withdrawing': 1, 'fueling': 1, 'reincorporating': 1, 'solidified': 1, 'amortize': 1, 'sliding': 1, 'cracked': 1, 'headlined': 1, 'Concerning': 1, 'croak': 1, 'infuriated': 1, 'deregulate': 1, 'deflected': 1, 'tightening': 1, 'hook': 1, 'assuring': 1, 'impact': 1, 'governing': 1, 'Barring': 1, 'angered': 1, 'blasting': 1, 'shedding': 1, 'owing': 1, 'resuscitate': 1, 'saluted': 1, 'eke': 1, 'premiere': 1, 'Backs': 1, 'trying': 1, 'brandishing': 1, 'purge': 1, 'edging': 1, 'labeled': 1, 'interpret': 1, 'pare': 1, 'sung': 1, 'frying': 1, 'reshaped': 1, 'stirring': 1, 'transports': 1, 'ranks': 1, 'Predicting': 1, 'stunned': 1, 'articulate': 1, 'facilitating': 1, 'taboo': 1, 'courting': 1, 'quits': 1, 'meting': 1, 'interrupt': 1, 'sound': 1, 'overhauled': 1, 'chose': 1, 'Impose': 1, 'Withhold': 1, 'Restrict': 1, 'captioned': 1, 'depend': 1, 'heaping': 1, 'defends': 1, 'asserted': 1, 'Drawing': 1, 'offend': 1, 'lamented': 1, 'scooping': 1, 'discerns': 1, 'soften': 1, 'uphold': 1, 'reconciling': 1, 'provoking': 1, 'flee': 1, 'precluded': 1, 'shoot': 1, 'braved': 1, 'fractioning': 1, 'spot': 1, 'shun': 1, 'excluded': 1, 'proclaiming': 1, 'chanted': 1, 'juxtapose': 1, 'liberated': 1, 'cloud': 1, 'sow': 1, 'deactivates': 1, 'obviate': 1, 'slip': 1, 'relive': 1, 'recapture': 1, 'sipping': 1, 'savoring': 1, 'exercised': 1, 'skyrocketed': 1, 'preclude': 1, 'embody': 1, 'Feeling': 1, 'heating': 1, 'enlisted': 1, 'disassemble': 1, 'overstating': 1, 'goes': 1, 'spins': 1, 'substitute': 1, 'learns': 1, 'brief': 1, 'savored': 1, 'reinvent': 1, 'muscled': 1, 'plotted': 1, 'denies': 1, 'married': 1, 'grasp': 1, 'sipped': 1, 'dispute': 1, 'Compounding': 1, 'disallowed': 1, 'Buying': 1, 'redevelop': 1, 'sabotage': 1, 'surpassed': 1, 'Concocts': 1, 'nixed': 1, 'inaugurated': 1, 'interrogated': 1, 'drafting': 1, 'condemned': 1, 'loan': 1, 'fostering': 1, 'segregated': 1, 'color-coding': 1, 'governed': 1, 'abolished': 1, 'outselling': 1, 'unleashes': 1, 'galvanizing': 1, 'protest': 1, 'airing': 1, 'refund': 1, 'impair': 1, 'disobey': 1, 'administer': 1, 'healing': 1, 'pardoned': 1, 'damage': 1, 'update': 1, 'enacted': 1, 'stays': 1, 'weighs': 1, 'reorganizes': 1, 'bolsters': 1, 'buck': 1, 'finagled': 1, 'catching': 1, 'toned': 1, 'polled': 1, 'skid': 1, 'calculating': 1, 'restated': 1, 'combined': 1, 'ward': 1, 'looking': 1, 'downsized': 1, 'halves': 1, 'eroding': 1, 'socialize': 1, 'dismantle': 1, 'exceeds': 1, 'adjusting': 1, 'merging': 1, 'prompt': 1, 'confirms': 1, 'commencing': 1, 'advertising': 1, 'trumpets': 1, 'outpaced': 1, 'breed': 1, 'recalculating': 1, 'classifies': 1, 'participated': 1, 'flay': 1, 'seized': 1, 'duplicate': 1, 'unlocked': 1, 'transplanting': 1, 'Pushing': 1, 'surfaced': 1, 'HOLD': 1, 'replaces': 1, 'reinstituting': 1, 're-establishing': 1, 'relishes': 1, 'formulates': 1, 'supercede': 1, 'burdened': 1, 'inviting': 1, 'revived': 1, 'invokes': 1, 'requesting': 1, 'concentrating': 1, 'unveiling': 1, 'underlined': 1, 'retired': 1, 'decreasing': 1, 'arouses': 1, 'SIGNALED': 1, 'phasing': 1, 'walk': 1, 'conjures': 1, 'devote': 1, 'commissioned': 1, 'phoned': 1, 'tangle': 1, 'investigated': 1, 'sprinkles': 1, 'hire': 1, 'complains': 1, 'state': 1, 'SHUN': 1, 'tend': 1, 'crisscrossing': 1, 'wait': 1, 'withhold': 1, 'IS': 1, 'committed': 1, 'discontinued': 1, 'panic': 1, 'buffer': 1, 'bolstering': 1, 'swept': 1, 'distracting': 1, 'deters': 1, 'meted': 1, 'narrow': 1, 'Narrowing': 1, 'Reading': 1, 'disregarded': 1, 'unleashing': 1, 'undertake': 1, 'jacking': 1, 'swear': 1, 'renouncing': 1, 'jump': 1, 'transmit': 1, 'import': 1, 'zapping': 1, 'comprises': 1, 'suppress': 1, 'subsidizes': 1, 'lock': 1, 'previewing': 1, 'faking': 1, 'hitched': 1, 'crash': 1, 'works': 1, 'parallels': 1, 're-entered': 1, 'stand': 1, 'uncover': 1, 'unleash': 1, 'uncovering': 1, 'nail': 1, 'flipped': 1, 'observing': 1, 'predispose': 1, 'eradicate': 1, 'deprives': 1, 'recruits': 1, 'rescheduled': 1, 'denying': 1, 'terminate': 1, 'violates': 1, 'waved': 1, 'undertaking': 1, 'displeases': 1, 'shrinking': 1, 'imitate': 1, 'destabilize': 1, 'clubbed': 1, 'summoned': 1, 'encompass': 1, 'budgeted': 1, 'sacrifice': 1, 'eclipse': 1, 'omits': 1, 'scarfing': 1, 'rival': 1, 'yanked': 1, 'grasping': 1, 'glean': 1, 'aggravated': 1, 'accusing': 1, 'pegs': 1, 'rumored': 1, 'survived': 1, 'bedevil': 1, 'propel': 1, 'ratified': 1, 'dwarf': 1, 'Joining': 1, 'reestablish': 1, 'indulging': 1, 'seduce': 1, 'bullies': 1, 'ogles': 1, 'displays': 1, 'smoothed': 1, 'fine': 1, 'devotes': 1, 'sounded': 1, 'summoning': 1, 'radioing': 1, 'recognizing': 1, 'validating': 1, 'argues': 1, 'helps': 1, 'coming': 1, 'shuttered': 1, 'utilize': 1, 'flattened': 1, 'toasted': 1, 'benefits': 1, 'casts': 1, 'reproduce': 1, 'rocking': 1, 'betting': 1, 'buzzes': 1, 'softened': 1, 'heralded': 1, 'Carrying': 1, 'pin': 1, 'shoves': 1, 'Explaining': 1, 'fended': 1, 'anchor': 1, 'tying': 1, 'subordinates': 1, 'saddled': 1, 'shrank': 1, 'Reviewing': 1, 'discount': 1, 'demonstrated': 1, 'sunk': 1, 'spun': 1, 'disputes': 1, 'Underscoring': 1, 'echoed': 1, 'touch': 1, 'placate': 1, 'surprised': 1, 'executes': 1, 're-entering': 1, 'STAGED': 1, 'BACKED': 1, 'shelled': 1, 'dissolve': 1, 'defeating': 1, 'blend': 1, 'rolls': 1, 'rolled': 1, 'wipe': 1, 'reserving': 1, 'galvanized': 1, 'lighten': 1, 'stain': 1, 'analyzing': 1, 'digesting': 1, 'eked': 1, 'initialed': 1, 'soothe': 1, 'base': 1, 'underwent': 1, 'stockpile': 1, 'soiled': 1, 'liberalized': 1, 'floated': 1, 'pin-pointed': 1, 'bucked': 1, 'outline': 1, 'broaden': 1, 'deals': 1, 'portray': 1, 'Weighing': 1, 'distance': 1, 'respond': 1, 'jolt': 1, 'parried': 1, 'prints': 1, 'imported': 1, 'teaching': 1, 'unloading': 1, 'publicize': 1, 'saving': 1, 'eclipsing': 1, 'revealed': 1, 'relaxing': 1, 'scouring': 1, 'likes': 1, 'noting': 1, 'Compare': 1, 'abdicate': 1, 'reimburses': 1, 'freezes': 1, 'resurrects': 1, 'Produce': 1, 'exaggerate': 1, 'solves': 1, 'attaches': 1, 'Rated': 1, 'tossed': 1, 'processed': 1, 'unwind': 1, 'encapsulate': 1, 'bridging': 1, 'bounces': 1, 'sinking': 1, 'prod': 1, 'looms': 1, 'ponying': 1, 'discounting': 1, 'hauled': 1, 'whips': 1, 'Arrested': 1, 'torpedo': 1, 'outperforms': 1, 'expands': 1, 'deal': 1, 'BECOME': 1, 'eases': 1, 'inducing': 1, 'confiscating': 1, 'witnessed': 1, 'carting': 1, 'narrows': 1, 'merit': 1, 'operated': 1, 'pre-empt': 1, 'influences': 1, 'Gets': 1, 'Misunderstanding': 1, 'request': 1, 'rationalize': 1, 'legitimize': 1, 'endorsing': 1, 'Titled': 1, 'Being': 1, 'pop': 1, 'curtailing': 1, 'alienate': 1, 'Seeking': 1, 'liquidate': 1, 'recounts': 1, 'sweated': 1, 'earns': 1, 'mitigate': 1, 'advocate': 1, 'funneled': 1, 'drink': 1, 'attained': 1, 'sidetrack': 1, 'learn': 1, 'toting': 1, 'snaps': 1, 'sweeps': 1, 'count': 1, 'located': 1, 'petition': 1, 'flowed': 1, 'exacerbated': 1, 'streamed': 1, 'shocked': 1, 'hangs': 1, 'warn': 1, 'harbors': 1, 'heaped': 1, 'chucked': 1, 'blow': 1, 'sharpening': 1, 'preventing': 1, 'flooding': 1, 'stabilizing': 1, 'modified': 1, 'circumvent': 1, 'guard': 1, 'crams': 1, 'clocks': 1, 'modernize': 1, 'informed': 1, 'elevates': 1, 'rearranges': 1, 'dooming': 1, 'redeeming': 1, 'Buried': 1, \"'m\": 1, 'crimp': 1, 'repairing': 1, 'braving': 1, 'automates': 1, 'Stretching': 1, 'lectures': 1, 'averaging': 1, 'rescued': 1, 'shouldering': 1, 'garnered': 1, 'sneaking': 1, 'ensures': 1, 'reopens': 1, 'condemns': 1, 'arranges': 1, 'modernized': 1, 'slaps': 1, 'bottled': 1, 'authorize': 1, 'Call': 1, 'landed': 1, 'frequents': 1, 'burnishing': 1, 'befall': 1, 'lowers': 1, 'integrating': 1, 'implying': 1, 'welcomes': 1, 'transmitted': 1, 'hashing': 1, 'succeeding': 1, 'diverting': 1, 'restrain': 1, 'written': 1, 'outweighed': 1, 'pit': 1, 'refocus': 1, 'further': 1, 'stated': 1, 'adorned': 1, 'list': 1, 'equates': 1, 'seats': 1, 'streamlining': 1, 'subject': 1, 'welcome': 1, 'condone': 1, 'accelerate': 1, 'pinning': 1, 'Paying': 1, 'conducts': 1, 'stock': 1, 'couched': 1, 'exhausted': 1, 'explores': 1, 'transferring': 1, 'circulating': 1, 'shunning': 1, 'hosts': 1, 'kicks': 1, 'arose': 1, 'solicits': 1, 'remodeling': 1, 'refurbishing': 1, 'costs': 1, 'flaunts': 1, 'knowing': 1, 'requisitioned': 1, 'decking': 1, 'reconstructing': 1, 'authorizing': 1, 'stole': 1, 'erupt': 1, 'calculated': 1, 'vacuum': 1, 'explained': 1, 'log': 1, 'inserted': 1, 'squelch': 1, 'wash': 1, 'picture': 1, \"'S\": 1, 'celebrates': 1, 'scares': 1, 'checks': 1, 'exhibit': 1, 'shining': 1, 'strengthened': 1, 'bucking': 1, 'divest': 1, 'ceding': 1, 'unnerved': 1, 'fold': 1, 'repair': 1, 'earmarking': 1, 'exhausting': 1, 'seemed': 1, 'discounted': 1, 'stalling': 1, 'reopening': 1, 'preserved': 1, 'declares': 1, 'outlast': 1, 'capturing': 1, 'racking': 1, 'feature': 1, 'winding': 1, 'originating': 1, 'contracted': 1, 'waited': 1, 'died': 1, 'engulfed': 1, 'envisions': 1, 'suit': 1, 'discomfit': 1, 'inflict': 1, 'outbid': 1, 'warns': 1, 'emphasizes': 1, 'scribbled': 1, 'triggers': 1, 'please': 1, 'Place': 1, 'peruse': 1, 'updating': 1, 'computerizing': 1, 'staked': 1, 'occupies': 1, 'stripping': 1, 'bill': 1, 'obstructing': 1, 'framing': 1, 'MONITORED': 1, 'nominate': 1, 'bode': 1, 'points': 1, 'understand/adopt': 1, 'altering': 1, 'attack': 1, 'amplify': 1, 'well-stated': 1, 'threaten': 1, 'lessen': 1, 'smooth': 1, 'booking': 1, 'highlighting': 1, 'brands': 1, 'blanketed': 1, 'inflicted': 1, 'forgiving': 1, 'Develop': 1, 'leaping': 1, 'average': 1, 'sprinkle': 1, 'roam': 1, 'shuttling': 1, 'wrapped': 1, 'poked': 1, 'stashed': 1, 'BE': 1, 'lambasted': 1, 'stacking': 1, 'upgraded': 1, 'stimulating': 1, 'repatriate': 1, 'shaking': 1, 'ripped': 1, 'grafted': 1, 'elongate': 1, 'urges': 1, 'survive': 1, 'reapportion': 1, 'revise': 1, 'accord': 1, 'carving': 1, 'ignite': 1, 'depleted': 1, 'shorting': 1, 'compiles': 1, 'constituted': 1, 'Assuming': 1, 'conditioned': 1, 'wrestles': 1, 'piped': 1, 'shoving': 1, 'farms': 1, 'suffers': 1, 'touched': 1, 'tucked': 1, 'ventilated': 1, 'inject': 1, 'singing': 1, 'stores': 1, 'arrested': 1, 'rethinking': 1, 'rate': 1, 'assigns': 1, 'piece': 1, 'strips': 1, 'freeze': 1, 'heeded': 1, 'Revising': 1, 'enlightening': 1, 'bottle': 1, 'Leaving': 1, 'romancing': 1, 'outlining': 1, 'battling': 1, 'misstated': 1, 'obscure': 1, 'familiarize': 1, 'refocused': 1, 'punished': 1, 'investigate': 1, 'naming': 1, 'weakening': 1, 'enjoin': 1, 'pitching': 1, 'Sharing': 1, 'gyrated': 1, 'steadied': 1, 'waged': 1, 'relating': 1, 'insulating': 1, 'crushing': 1, 'structuring': 1, 'paved': 1, 'reaffirmed': 1, 'defrauding': 1, 'churn': 1, 'poking': 1, 'inserting': 1, 'passes': 1, 'defrauded': 1, 'misrepresenting': 1, 'celebrate': 1, 'extricate': 1, 'hurling': 1, 'entombed': 1, 'diversify': 1, 'marrying': 1, 'countered': 1, 'combines': 1, 'flopped': 1, 'sub-underwriting': 1, 'note': 1, 'hiring': 1, 'edge': 1, 'photographing': 1, 'deflecting': 1, 'detaining': 1, 'complement': 1, 'hindered': 1, 'shapes': 1, 'designs': 1, 'faked': 1, 'drinking': 1, 'reshaping': 1, 'Changing': 1, 'shoe-horn': 1, 'watches': 1, 'interview': 1, 'hamper': 1, 'redesign': 1, 'tilt': 1, 'mandating': 1, 'awarding': 1, 'nicknamed': 1, 'examining': 1, 'shuffled': 1, 'chase': 1, 'referring': 1, 'pitches': 1, 'expressing': 1, 'piling': 1, 'learning': 1, 'mirrored': 1, 'understate': 1, 'constitutes': 1, 'depresses': 1, 'Increase': 1, 'polish': 1, 'praise': 1, 'bar': 1, 'referred': 1, 'pioneered': 1, 'siphoning': 1, 'houses': 1, 'worsened': 1, 'battle': 1, 'Witness': 1, 'deploring': 1, 'rescinding': 1, 'strafe': 1, 'Dragging': 1, 'spewed': 1, 'crumpled': 1, 'enjoined': 1, 'co-host': 1, 'revamping': 1, 'stretches': 1, 'influenced': 1, 'oversee': 1, 'counsels': 1, 'struggled': 1, 'Supporting': 1, 'acting': 1, 'siphoned': 1, 'restructuring': 1, 'damped': 1, 'twists': 1, 'enclosing': 1, 'rim': 1, 'dot': 1, 'overemphasize': 1, 'uncovered': 1, 'accrue': 1, 'redirected': 1, 'pointed': 1, 'displaying': 1, 'appraise': 1, 'blurred': 1, 'purchases': 1, 'crafted': 1, 'matches': 1, 'commemorated': 1, 'shrouded': 1, 'shook': 1, 'balloons': 1, 'disrupting': 1, 'volunteered': 1, 'chaired': 1, 'denouncing': 1, 'melds': 1, 'stapling': 1, 'Divide': 1, 'proofreading': 1, 'Doing': 1, 'stymied': 1, 'spearheading': 1, 'lined': 1, 'reserves': 1, 'fed': 1, 'Reverse': 1, 'flaunt': 1, 'labels': 1, 'test-drive': 1, 'felt': 1, 'dig': 1, 'resembling': 1, 'laundering': 1, 'designed': 1, 'slammed': 1, 'finish': 1, 'skipped': 1, 'vent': 1, 'stretching': 1, 'squeezed': 1, 'acknowledge': 1, 'abused': 1, 'respect': 1, 'revved': 1, 'attends': 1, 'Have': 1, 'excited': 1, 'distilling': 1, 'admitting': 1, 'computerize': 1, 'plugged': 1, 'generating': 1, 'hosting': 1, 'touring': 1, 'attacking': 1, 'jack': 1, 'flies': 1, 'augment': 1, 'entertained': 1, 'terminating': 1, 're-evaluating': 1, 'orchestrating': 1, 'relaunch': 1, 'imprisoning': 1, 'stabbing': 1, 'threatening': 1, 'risking': 1, 'blast': 1, 'topple': 1, 'criticize': 1, 'restart': 1, 'rules': 1, 'shakes': 1, 'reunite': 1, 'Combatting': 1, 'portends': 1, 'touts': 1, 'refers': 1, 'CONVICTS': 1, 'appreciate': 1, 'popularized': 1, 'stuck': 1, 'invoke': 1, 'regulate': 1, 'shielded': 1, 'underperforms': 1, 'appreciates': 1, 'rubbed': 1, 'defeated': 1, 'concedes': 1, 'exonerating': 1, 'channeled': 1, 'induces': 1, 'dealing': 1, 'recentralized': 1, 'dispel': 1, 'weakened': 1, 'tapped': 1, 'highlights': 1, 'teach': 1, 'Creates': 1, 'waiving': 1, 'Meet': 1, 'dogs': 1, 'Replacing': 1, 'reminds': 1, 'praises': 1, 'underperform': 1, 'declaring': 1, 'culminating': 1, 'attempting': 1, 'outflank': 1, 'whipped': 1, 'embarrass': 1, 'co-authored': 1, 'reminded': 1, 'files': 1, 'fire': 1, 'looks': 1, 'distorts': 1, 'stick': 1, 'tout': 1, 'Holding': 1, 'preoccupied': 1, 'Alter': 1, 'practiced': 1, 'foreseen': 1, 'sour': 1, 'Keeping': 1, 'markets': 1, 'Stroking': 1, 'hobbled': 1, 'determined': 1, 'vacated': 1, 'remanded': 1, 'collapse': 1, 'cede': 1, 'proposes': 1, 'bridge': 1, 'ambushed': 1, 'lecture': 1, 'fleeing': 1, 'impressed': 1, 'detecting': 1, 'haunting': 1, 'saturate': 1, 'straining': 1, 'examined': 1, 'MAKE': 1, 'erodes': 1, 'sworn': 1, 'evaluating': 1, 'vary': 1, 'broadening': 1, 'demonstrates': 1, 'counseling': 1, 'enrolled': 1, 'shoved': 1, 'Rearding': 1, 'Stick': 1, 'readied': 1, 'Plugging': 1, 'fouled': 1, 'ferret': 1, 'deducting': 1, 'blurt': 1, 'embellish': 1, 'wears': 1, 'amasses': 1, 'allows': 1, 'exempting': 1, 'underfunded': 1, 'voting': 1, 'defuse': 1, 'skipping': 1, 'court': 1, 'uprooted': 1, 'saves': 1, 'weather': 1, 'glutted': 1, 'Reward': 1, 'blunt': 1, 'Discussing': 1, 'buoying': 1, 'reckons': 1, 'finalized': 1, 'mirror': 1, 'land': 1, 'logged': 1, 'rejoined': 1, 'unroll': 1, 'squeezes': 1, 'recounted': 1, 'alleviating': 1, 'strengthening': 1, 'subordinate': 1, 'decribed': 1, 'approving': 1, 'Asked': 1, 'identifies': 1, 'destroyed': 1, 'scraps': 1, 'lugging': 1, 'lobbying': 1, 'aided': 1, 'loaned': 1, 'syndicating': 1, 'reselling': 1, 'engineered': 1, 'outperform': 1, 'discard': 1, 'reviews': 1, 'raking': 1, 'sort': 1, 'drumming': 1, 'alerting': 1, 'washed': 1, 'favoring': 1, 'placing': 1, 'attaching': 1, 'mining': 1, 'multiply': 1, 'vacating': 1, 'vacate': 1, 'SHAKE': 1, 'grouses': 1, 'audit': 1, 'nursed': 1, 'shepherded': 1, 'co-produce': 1, 'courted': 1, 'indemnify': 1, 'outperforming': 1, 'wreak': 1, 'sum': 1, 'committing': 1, 'remembering': 1, 'ratifying': 1, 'remembered': 1, 'understood': 1, 'exhibiting': 1, 'peaked': 1, 'prodding': 1, 'shell': 1, 're-emphasize': 1, 'reinstate': 1, 'contemplates': 1, 'tax': 1, 'likened': 1, 'hang': 1, 'relaunched': 1, 'rule': 1, 'slumped': 1, 'stabbed': 1, 'tours': 1, 'arrives': 1, 'commemorate': 1, 'invite': 1, 'upgrading': 1, 'undertook': 1, 'emboldened': 1, 'float': 1, 'starts': 1, 'encasing': 1, 'convene': 1, 'rounded': 1, 'counseled': 1, 'frame': 1, 'fixed': 1, 'fixing': 1, 'rises': 1, 'code': 1, 'speaking': 1, 'ridicules': 1, 'sailing': 1, 'Pending': 1, 'live': 1, 'preserves': 1, 'exaggerated': 1, 'pondering': 1, 'scheduling': 1, 'equipping': 1, 'enters': 1, 'relinquished': 1, 'inflate': 1, 'cinch': 1, 'wage': 1, 'tallied': 1, 'wreaking': 1, 'complicates': 1, 'credit': 1, 'holed': 1, 'deprived': 1, 'snorts': 1, 'thumbs': 1, 'outsell': 1, 'sniffs': 1, 'carved': 1, 'reinforcing': 1, 'concluded': 1, 'regulated': 1, 'rotated': 1, 'RATTLED': 1, 'raided': 1, 'furthering': 1, 'airlifting': 1, 'acquit': 1, 'crimping': 1, 'reassessing': 1, 'cheating': 1, 'dialing': 1, 'accumulate': 1, 'clarifying': 1, 'Had': 1, 'deriving': 1, 'rumbles': 1, 'storming': 1, 'thank': 1, 'COMPARE': 1, 'reopened': 1, 'kills': 1, 'overshadowing': 1, 'enticing': 1, 'coextrude': 1, 'constrains': 1, 'masked': 1, 'let': 1, 'rotate': 1, 'nearing': 1, 'Lost': 1, 'Depicting': 1, 'drains': 1, 'retaking': 1, 'spawns': 1, 'shortening': 1, 'govern': 1, 'mute': 1, 'floating': 1, 'impeded': 1, 'brew': 1, 'poaching': 1, 'tag': 1, 'entrust': 1, 'unplug': 1, 'juggling': 1, 'Investigating': 1, 'spewing': 1, 'thwarted': 1, 'HEARS': 1, 'designated': 1, 'bogged': 1, 'capping': 1, 'outsold': 1, 'heaved': 1, 'inspecting': 1, 'mopping': 1, 'strain': 1, 'approaches': 1, 'restate': 1, 'fined': 1, 'implicated': 1, 'document': 1, 'quadruples': 1, 'Cracking': 1, 'invented': 1, 'wring': 1, 'exporting': 1, 'designating': 1, 'pillorying': 1, 'loans': 1, 'reclaims': 1, 'Corresponding': 1, 'craning': 1, 'consult': 1, 'computing': 1, 'accomodate': 1, 'rerouting': 1, 'swung': 1, 'knock': 1, 'stomach': 1, 'wore': 1, 'research': 1, 'forging': 1, 'instill': 1, 'Getting': 1, 'enlisting': 1, 'observed': 1, 'tolerate': 1, 'observe': 1, 'reciting': 1, 'shriveled': 1, 'reacted': 1, 'model': 1, 'shutting': 1, 'toured': 1, 'toppled': 1, 'Called': 1, 'scale': 1, 'gauge': 1, 'foot': 1, 'ushers': 1, 'alarms': 1, 'hospitalized': 1, 'supervised': 1, 'culminates': 1, 'fears': 1, 'endanger': 1, 'presenting': 1, 'proclaims': 1, 'cleanse': 1, 'envisioned': 1, 'typified': 1, 'dismantled': 1, 'broadcasting': 1, 'broadcast': 1, 'flush': 1, 'pummel': 1, 'regret': 1, 'participating': 1, 'selected': 1, 'reopen': 1, 'spoke': 1, 'reignite': 1, 'clutter': 1, 'trails': 1, 'oversaw': 1, 'regulating': 1, 'renamed': 1, 'swallowed': 1, 'snatched': 1, 'reforming': 1, 'greeted': 1, 'detract': 1, 'shipped': 1, 'performs': 1, 'known': 1, 'Allowing': 1, 'rendering': 1, 'transfers': 1, 'concerns': 1, 'staging': 1, 'enduring': 1, 'lagging': 1, 'append': 1, 'Denied': 1, 'telephoning': 1, 'Managing': 1, 'trail': 1, 'tops': 1, 'embargoed': 1, 'chop': 1, 'Noting': 1, 'slam-dunk': 1, 'slipping': 1, 'remedy': 1, 'fomenting': 1, 'edit': 1, 'recites': 1, 'mixing': 1, 'subtitled': 1, 'deplores': 1, 'emphaticize': 1, 'prefers': 1, 'disdain': 1, 'ai': 1, 'endowed': 1, 'kindled': 1, 'funded': 1, 'assuage': 1, 'jeopardizes': 1, 'convincing': 1, 'muster': 1, 'Look': 1, 'resurrect': 1, 'stash': 1, 'Improving': 1, 'telephoned': 1, 'relayed': 1, 'Born': 1, 'splashed': 1, 'scold': 1, 'overthrow': 1, 'indict': 1, 'finger': 1, 'dictate': 1, 'skidded': 1, 'mentions': 1, 'devise': 1, 'SIMPLIFYING': 1, 'DELAYS': 1, 'grants': 1, 'asserting': 1, 'lumps': 1, 'careening': 1, 'lobby': 1, 'breathing': 1, 'Get': 1, 'fields': 1, 'subdued': 1, 'deleting': 1, 'affiliating': 1, 'veto': 1, 'regenerate': 1, 'parcel': 1, 'shifts': 1, 'expunge': 1, 'confer': 1, 'usurp': 1, 'breached': 1, 'underlying': 1, 'decide': 1, 'addresses': 1, 'Linking': 1, 'injects': 1, 'relaxed': 1, 'snapped': 1, 'grabbing': 1, 'diagnosing': 1, 'weds': 1, 'thanking': 1, 'sponsors': 1, 'disrupted': 1, 'compound': 1, 'expel': 1, 'freed': 1, 'slain': 1, 'proffered': 1, 'scuttle': 1, 'round': 1, 'instituting': 1, 'eschewed': 1, 'constructed': 1, 'hits': 1, 'ignores': 1, 'lumping': 1, 'pictures': 1, 'contemporize': 1, 'hammer': 1, 'feeding': 1, 'grace': 1, 'epitomize': 1, 'searched': 1, 'compiling': 1, 'dabs': 1, 'soar': 1, 'deflated': 1, 'access': 1, 'renovate': 1, 'develops': 1, 'cash': 1, 'void': 1, 'WON': 1, 'flood': 1, 'underline': 1, 'resides': 1, 'fashioned': 1, 'overlooking': 1, 'stripped': 1, 'enable': 1, 'Cementing': 1, 'talk': 1, 'sneak': 1, 'plies': 1, 'stresses': 1, 'rest': 1, 'bury': 1, 'rang': 1, 'plummet': 1, 'viewing': 1, 'scuttled': 1, 'regards': 1, 'minting': 1, 'shouting': 1, 'Buy': 1, 'disclosing': 1, 'proven': 1})\n",
            "\n",
            "Frequent Nouns (1st):\n",
            "Counter({'%': 1834, 'loss': 266, 'stake': 246, 'shares': 211, 'part': 195, 'number': 154, 'yesterday': 142, 'president': 142, 'increase': 129, 'value': 121, 'lot': 121, 'profit': 121, 'offer': 120, 'income': 119, 'money': 114, 'share': 114, 'interest': 111, 'sales': 107, 'gain': 106, 'earnings': 99, 'year': 98, 'sale': 96, 'decline': 96, 'drop': 90, 'cents': 90, 'company': 89, 'agreement': 88, 'rate': 82, 'stock': 81, 'bid': 79, 'control': 79, 'market': 77, 'points': 77, 'support': 76, 'contract': 76, 'prices': 75, 'price': 74, 'dividend': 72, 'growth': 71, 'amount': 71, 'business': 69, 'losses': 68, 'gains': 65, 'impact': 64, 'rise': 63, 'use': 63, 'information': 62, 'position': 61, 'assets': 60, 'rates': 60, 'production': 59, 'role': 58, 'stocks': 55, 'damage': 55, 'week': 55, 'costs': 53, 'total': 53, 'approval': 52, 'kind': 51, 'revenue': 51, 'operations': 51, 'effect': 50, 'chairman': 49, 'problems': 49, 'director': 49, 'changes': 49, 'change': 48, 'time': 48, 'charge': 48, 'acquisition': 47, 'way': 46, 'debt': 45, 'orders': 45, 'products': 45, 'average': 45, 'rating': 44, 'unit': 43, 'return': 42, 'suit': 42, 'case': 42, 'trading': 41, 'talks': 41, 'funds': 40, 'interests': 40, 'demand': 40, 'cost': 40, 'investment': 40, 'point': 39, 'place': 39, 'system': 39, 'problem': 39, 'month': 39, 'issue': 39, 'rights': 39, 'estimate': 38, 'Friday': 38, 'purchase': 38, 'plan': 37, 'work': 37, 'plant': 37, 'access': 37, 'pressure': 36, 'force': 36, 'people': 36, 'line': 35, 'payment': 35, 'day': 34, 'ratings': 34, 'series': 34, 'action': 33, 'size': 33, 'power': 33, 'financing': 33, 'group': 33, 'competition': 33, 'attention': 33, 'dollars': 33, 'loans': 32, 'version': 32, 'results': 32, 'net': 32, 'payments': 32, 'companies': 32, 'volume': 31, 'portion': 31, 'tons': 31, 'jump': 31, 'bill': 30, 'proposal': 30, 'offering': 30, 'questions': 30, 'spending': 29, 'details': 29, 'news': 29, 'contracts': 29, 'name': 28, 'advantage': 28, 'reserves': 28, 'positions': 28, 'service': 28, 'order': 28, 'increases': 28, 'level': 28, 'decision': 28, 'today': 27, 'performance': 27, 'services': 27, 'source': 27, 'profits': 27, 'signs': 26, 'result': 26, 'subject': 26, 'amounts': 26, 'list': 26, 'need': 26, 'letter': 26, 'years': 26, 'office': 25, 'bonds': 25, 'issues': 25, 'sense': 25, 'something': 25, 'base': 25, 'policy': 25, 'responsibility': 25, 'cash': 24, 'look': 24, 'right': 24, 'Inc.': 24, 'concern': 24, 'billions': 24, 'ownership': 24, 'piece': 24, 'evidence': 24, 'confidence': 24, 'charges': 24, 'hundreds': 24, 'Monday': 23, 'aid': 23, 'capacity': 23, 'benefits': 23, 'effects': 23, 'holdings': 22, 'report': 22, 'yen': 22, 'days': 22, 'end': 22, 'nothing': 22, 'capital': 22, 'life': 22, 'majority': 22, 'returns': 22, 'executive': 21, 'member': 21, 'funding': 21, 'plans': 21, 'government': 21, 'businesses': 21, 'offices': 21, 'vote': 21, 'venture': 21, 'employees': 21, 'program': 21, 'product': 21, 'data': 21, 'jobs': 21, 'deal': 21, 'flow': 21, 'rest': 21, 'yields': 21, 'development': 21, 'terms': 21, 'thousands': 21, 'times': 20, 'sort': 20, 'step': 20, 'efforts': 20, 'workers': 20, 'provision': 20, 'form': 20, 'cut': 20, 'premium': 20, 'settlement': 20, 'concerns': 20, 'meeting': 20, 'millions': 20, 'blow': 20, 'tax': 20, 'threat': 20, 'claims': 20, 'range': 20, 'difference': 20, 'measure': 20, 'supply': 20, 'account': 19, 'room': 19, 'hands': 19, 'plunge': 19, 'reduction': 19, 'half': 19, 'ban': 19, 'division': 19, 'levels': 19, 'move': 19, 'cars': 19, 'portfolio': 19, 'worth': 19, 'investments': 19, 'proceeds': 19, 'restrictions': 19, 'ads': 18, 'months': 18, 'response': 18, 'improvement': 18, 'markets': 18, 'investors': 18, 'record': 18, 'barrels': 18, 'plants': 18, 'technology': 18, 'yield': 18, 'board': 18, 'declines': 18, 'trades': 18, 'members': 18, 'view': 18, 'customers': 18, 'headquarters': 18, 'package': 18, 'announcement': 18, 'battle': 18, 'standards': 17, 'buying': 17, 'limit': 17, 'computers': 17, 'risk': 17, 'presence': 17, 'purchases': 17, 'quarter': 17, 'deficit': 17, 'exports': 17, 'head': 17, 'discussions': 17, 'hours': 17, 'supplies': 17, 'versions': 17, 'reports': 17, 'negotiations': 17, 'resources': 17, 'anything': 17, 'reputation': 16, 'estimates': 16, 'calls': 16, 'fleet': 16, 'job': 16, 'parts': 16, 'taxes': 16, 'plenty': 16, 'feet': 16, 'boost': 16, 'movies': 16, 'flights': 16, 'merger': 16, 'distribution': 16, 'projections': 16, 'protection': 16, 'idea': 16, 'acres': 16, 'goods': 15, 'criticism': 15, 'opposition': 15, 'building': 15, 'wave': 15, 'professor': 15, 'date': 15, 'buyers': 15, 'expansion': 15, 'strength': 15, 'subsidiary': 15, 'importance': 15, 'lack': 15, 'securities': 15, 'accounts': 15, 'bit': 15, 'firm': 15, 'image': 15, 'lines': 15, 'groups': 15, 'pence': 15, 'country': 15, 'economy': 15, 'lead': 14, 'buyer': 14, 'authority': 14, 'spokesman': 14, 'session': 14, 'addition': 14, 'events': 14, 'thing': 14, 'officer': 14, 'properties': 14, 'facility': 14, 'summer': 14, 'buy-out': 14, 'vehicles': 14, 'resignation': 14, 'ties': 14, 'emphasis': 14, 'bids': 14, 'variety': 14, 'credit': 14, 'stakes': 14, 'coupon': 14, 'involvement': 14, 'marks': 14, 'things': 14, 'Corp.': 14, 'influence': 14, 'request': 14, 'percentage': 14, 'question': 14, 'network': 14, 'units': 14, 'fund': 14, 'chance': 13, 'process': 13, 'requirements': 13, 'stage': 13, 'guide': 13, 'one': 13, 'round': 13, 'takeover': 13, 'target': 13, 'equivalent': 13, 'staff': 13, 'operation': 13, 'debate': 13, 'barriers': 13, 'stores': 13, 'statements': 13, 'weakness': 13, 'programs': 13, 'output': 13, 'state': 13, 'collection': 13, 'options': 13, 'dollar': 13, 'matter': 13, 'cap': 13, 'victim': 13, 'hope': 12, 'delivery': 12, 'bank': 12, 'trends': 12, 'eye': 12, 'surge': 12, 'partner': 12, 'claim': 12, 'oil': 12, 'creation': 12, 'maker': 12, 'strike': 12, 'cause': 12, 'dispute': 12, 'stories': 12, 'divisions': 12, 'blocks': 12, 'trade': 12, 'differences': 12, 'agreements': 12, 'sign': 12, 'dividends': 12, 'forces': 12, 'bulk': 12, 'example': 12, 'industry': 12, 'trouble': 12, 'setback': 12, 'advice': 12, 'acquisitions': 12, 'contributions': 12, 'editor': 12, 'rule': 12, 'views': 12, 'hearings': 12, 'reserve': 12, 'extension': 12, 'issuance': 12, 'link': 12, 'francs': 12, 'benefit': 12, 'Co.': 12, 'thanks': 11, 'post': 11, 'reason': 11, 'night': 11, 'volatility': 11, 'ceiling': 11, 'commitment': 11, 'world': 11, 'alternatives': 11, 'facilities': 11, 'requests': 11, 'help': 11, 'miles': 11, 'demands': 11, 'projects': 11, 'grip': 11, 'machines': 11, 'strategy': 11, 'relationship': 11, 'statement': 11, 'focus': 11, 'suspension': 11, 'fight': 11, 'fees': 11, 'argument': 11, 'research': 11, 'season': 11, 'insurance': 11, 'Tuesday': 11, 'release': 11, 'wage': 11, 'construction': 11, 'team': 11, 'space': 11, 'cuts': 11, 'liability': 11, 'Congress': 11, 'campaign': 11, 'option': 11, 'talk': 11, 'letters': 11, 'basis': 11, 'ground': 11, 'challenge': 11, 'side': 10, 'center': 10, 'margin': 10, 'official': 10, 'maximum': 10, 'advance': 10, 'activity': 10, 'quality': 10, 'entry': 10, 'doubt': 10, 'inquiries': 10, 'seats': 10, 'subsidies': 10, 'pace': 10, 'man': 10, 'deposits': 10, 'guarantee': 10, 'transaction': 10, 'party': 10, 'proposals': 10, 'shipments': 10, 'heat': 10, 'possibility': 10, 'holding': 10, 'targets': 10, 'treatment': 10, 'items': 10, 'experience': 10, 'commitments': 10, 'site': 10, 'degree': 10, 'decisions': 10, 'appeal': 10, 'deals': 10, 'pattern': 10, 'expenses': 10, 'period': 10, 'set': 10, 'quantities': 10, 'margins': 10, 'forecast': 10, 'blame': 10, 'game': 10, 'story': 10, 'home': 10, 'relief': 10, 'slowdown': 10, 'title': 9, 'allegations': 9, 'recovery': 9, 'slide': 9, 'host': 9, 'implications': 9, 'baskets': 9, 'handful': 9, 'budget': 9, 'signal': 9, 'ratio': 9, 'victims': 9, 'leaders': 9, 'morning': 9, 'limits': 9, 'prospects': 9, 'public': 9, 'article': 9, 'generation': 9, 'officials': 9, 'directors': 9, 'types': 9, 'guarantees': 9, 'reaction': 9, 'judgment': 9, 'family': 9, 'type': 9, 'care': 9, 'player': 9, 'names': 9, 'exposure': 9, 'fall': 9, 'security': 9, 'activities': 9, 'copy': 9, 'relationships': 9, 'everything': 9, 'clients': 9, 'steps': 9, 'managers': 9, 'promise': 9, 'tests': 9, 'loan': 9, 'attempt': 9, 'provisions': 9, 'remainder': 9, 'steel': 9, 'rules': 9, 'brands': 9, 'alliance': 9, 'comment': 9, 'gas': 9, 'goal': 9, 'victory': 9, 'city': 9, 'liquidity': 9, 'pieces': 9, 'devaluation': 9, 'word': 9, 'store': 9, 'runs': 8, 'salary': 8, 'search': 8, 'call': 8, 'trader': 8, 'hit': 8, 'breakdown': 8, 'minutes': 8, 'two-thirds': 8, 'holders': 8, 'concessions': 8, 'effort': 8, 'priority': 8, 'conversations': 8, 'votes': 8, 'alliances': 8, 'success': 8, 'slate': 8, 'supplier': 8, 'fears': 8, 'start': 8, 'complaints': 8, 'note': 8, 'comfort': 8, 'model': 8, 'opportunities': 8, 'relations': 8, 'Thursday': 8, 'term': 8, 'show': 8, 'arguments': 8, 'weight': 8, 'appetite': 8, 'mix': 8, 'actions': 8, 'future': 8, 'debut': 8, 'index': 8, 'lots': 8, 'progress': 8, 'concept': 8, 'investigation': 8, 'lawsuits': 8, 'partners': 8, 'string': 8, 'dialogue': 8, 'kinds': 8, 'plea': 8, 'elections': 8, 'recommendation': 8, 'area': 8, 'attacks': 8, 'ventures': 8, 'hand': 8, 'areas': 8, 'shot': 8, 'water': 8, 'trips': 8, 'art': 8, 'damages': 8, 'write-down': 8, 'advertising': 8, 'section': 8, 'aspects': 8, 'veto': 8, 'Bush': 8, 'expectations': 8, 'cases': 8, 'war': 8, 'computer': 8, 'couple': 8, 'offers': 8, 'passengers': 8, 'abortions': 8, 'reporter': 8, 'obstacle': 7, 'parent': 7, 'warrants': 7, 'approach': 7, 'availability': 7, 'momentum': 7, 'incentives': 7, 'tone': 7, 'manager': 7, 'improvements': 7, 'film': 7, 'brand': 7, 'factor': 7, 'message': 7, 'chunk': 7, 'perception': 7, 'opportunity': 7, 'turmoil': 7, 'resolution': 7, 'operator': 7, 'land': 7, 'pipeline': 7, 'topic': 7, 'consumers': 7, 'surplus': 7, 'Wednesday': 7, 'shareholders': 7, 'indication': 7, 'agency': 7, 'application': 7, 'values': 7, 'highs': 7, 'discounts': 7, 'Saturday': 7, 'links': 7, 'compromise': 7, 'floor': 7, 'savings': 7, 'copies': 7, 'conflict': 7, 'car': 7, 'component': 7, 'spread': 7, 'counsel': 7, 'election': 7, 'bills': 7, 'nature': 7, 'beginning': 7, 'legislation': 7, 'outcome': 7, 'resistance': 7, 'arbitrage': 7, 'paper': 7, 'attitude': 7, 'transition': 7, 'sentence': 7, 'execution': 7, 'backing': 7, 'imports': 7, 'photos': 7, 'paintings': 7, 'management': 7, 'Bank': 7, 'pound': 7, 'potential': 7, 'opinions': 7, 'definition': 7, 'consensus': 7, 'balance': 7, 'backlog': 7, 'figure': 7, 'producers': 7, 'moves': 7, 'policies': 7, 'coverage': 7, 'everyone': 7, 'picture': 7, 'sellers': 7, 'shift': 7, 'numbers': 7, 'countries': 7, 'gallons': 7, 'complaint': 7, 'shortage': 7, 'Noriega': 7, 'collapse': 7, 'portions': 7, 'coffee': 7, 'Hastings': 7, 'pages': 6, 'arrangement': 6, 'Giants': 6, 'run': 6, 'signals': 6, 'opinion': 6, 'failure': 6, 'reading': 6, 'portfolios': 6, 'selling': 6, 'judge': 6, 'pall': 6, 'direction': 6, 'speculation': 6, 'resemblance': 6, 'burst': 6, 'executives': 6, 'rebound': 6, 'peak': 6, 'producer': 6, 'heart': 6, 'partnership': 6, 'high': 6, 'dismissal': 6, 'lawsuit': 6, 'visits': 6, 'write-off': 6, 'aircraft': 6, 'chips': 6, 'minimum': 6, 'administration': 6, 'difficulties': 6, 'appointment': 6, 'spokeswoman': 6, 'forms': 6, 'magazine': 6, 'Department': 6, 'segments': 6, 'formation': 6, 'bet': 6, 'tension': 6, 'deduction': 6, 'words': 6, 'secretary': 6, 'danger': 6, 'waves': 6, 'trend': 6, 'gene': 6, 'field': 6, 'cards': 6, 'chip': 6, 'notes': 6, 'testimony': 6, 'challenges': 6, 'verdict': 6, 'appreciation': 6, 'property': 6, 'doors': 6, 'posts': 6, 'accusations': 6, 'participation': 6, 'chances': 6, 'law': 6, 'cattle': 6, 'raise': 6, 'Nov.': 6, 'electricity': 6, 'fee': 6, 'career': 6, 'door': 6, 'pursuit': 6, 'reasons': 6, 'obstacles': 6, 'budgets': 6, 'handling': 6, 'discrimination': 6, 'protests': 6, 'disclosure': 6, 'swings': 6, 'light': 6, 'permission': 6, 'Oct.': 6, 'explanation': 6, 'house': 6, 'standard': 6, 'seat': 6, 'someone': 6, 'key': 6, 'efficiency': 6, 'loyalty': 6, 'expenditures': 6, 'rebates': 6, 'plug': 6, 'pounds': 6, 'inches': 6, 'flag': 6, 'franchise': 6, 'committee': 6, 'analysts': 6, 'employment': 6, 'lawyer': 6, 'risks': 6, 'status': 6, 'feelings': 6, 'break': 6, 'town': 6, 'sex': 6, 'hopes': 6, 'advantages': 6, 'path': 6, 'speed': 6, 'material': 6, 'estate': 6, 'recession': 6, 'applications': 6, 'duty': 6, 'reminder': 6, 'stance': 6, 'gap': 6, 'slump': 6, 'lire': 6, 'explosion': 6, 'registration': 6, 'quotes': 6, 'successor': 6, 'Secretary': 6, 'block': 6, 'removal': 6, 'schedules': 6, 'drugs': 6, 'mind': 6, 'regulation': 6, 'consideration': 6, 'core': 6, 'anniversary': 6, 'merchandise': 6, 'movie': 6, 'chain': 6, 'food': 6, 'restructuring': 6, 'violations': 6, 'buy-back': 6, 'choice': 6, 'project': 6, 'father': 6, 'fares': 6, 'models': 6, 'climb': 6, 'earthquake': 6, 'wind': 6, 'drives': 6, 'doubling': 6, 'hearing': 5, 'commercial': 5, 'pitch': 5, 'sigh': 5, 'statistics': 5, 'stability': 5, 'safety': 5, 'delays': 5, 'fear': 5, 'panic': 5, 'sector': 5, 'leverage': 5, 'mark': 5, 'leader': 5, 'contribution': 5, 'hour': 5, 'protest': 5, 'trip': 5, 'arms': 5, 'drag': 5, 'turnaround': 5, 'reinvestment': 5, 'assumption': 5, 'reliance': 5, 'payout': 5, 'refunds': 5, 'restitution': 5, 'premiums': 5, 'course': 5, 'reversal': 5, 'probe': 5, 'remarks': 5, 'integrity': 5, 'delay': 5, 'channels': 5, 'hold': 5, 'one-third': 5, 'history': 5, 'attack': 5, 'investor': 5, 'praise': 5, 'faith': 5, 'systems': 5, 'shifts': 5, 'mail': 5, 'transactions': 5, 'games': 5, 'wad': 5, 'consultant': 5, 'machine': 5, 'answers': 5, 'tanks': 5, 'licenses': 5, 'indictment': 5, 'owner': 5, 'warnings': 5, 'empire': 5, 'airline': 5, 'controls': 5, 'campaigns': 5, 'candidate': 5, 'situation': 5, 'studies': 5, 'films': 5, 'transfer': 5, 'shop': 5, 'discount': 5, 'culmination': 5, 'comments': 5, 'condition': 5, 'Act': 5, 'decliners': 5, 'responses': 5, 'address': 5, 'uncertainty': 5, 'expertise': 5, 'reactions': 5, 'forecasts': 5, 'launch': 5, 'commissions': 5, 'weeks': 5, 'laws': 5, 'penalty': 5, 'injunction': 5, 'disruption': 5, 'flight': 5, 'powers': 5, 'discipline': 5, 'vision': 5, 'task': 5, 'equipment': 5, 'moment': 5, 'appeals': 5, 'conclusion': 5, 'publisher': 5, 'exodus': 5, 'accord': 5, 'strategies': 5, 'firms': 5, 'taste': 5, 'bunch': 5, 'writer': 5, 'currency': 5, 'edge': 5, 'No.': 5, 'inventories': 5, 'sets': 5, 'load': 5, 'candidates': 5, 'outlook': 5, 'schools': 5, 'exploration': 5, 'baseline': 5, 'assessment': 5, 'tickets': 5, 'school': 5, 'split': 5, 'papers': 5, 'check': 5, 'traffic': 5, 'stations': 5, 'rod': 5, 'refuge': 5, 'inflation': 5, 'April': 5, 'feeling': 5, 'revival': 5, 'ministry': 5, 'homes': 5, 'edition': 5, 'conviction': 5, 'factory': 5, 'aspect': 5, 'consent': 5, 'expressions': 5, 'struggle': 5, 'rumors': 5, 'figures': 5, 'Showtime': 5, 'champion': 5, 'injuries': 5, 'dispersant': 5, 'scene': 5, 'pact': 5, 'briefing': 5, 'software': 5, 'police': 4, 'softening': 4, 'practice': 4, 'memories': 4, 'three-quarters': 4, 'validity': 4, 'declaration': 4, 'significance': 4, 'combination': 4, 'ones': 4, 'shots': 4, 'repeat': 4, 'dominance': 4, 'cotton': 4, 'harbinger': 4, 'halt': 4, 'test': 4, 'extent': 4, 'afternoon': 4, 'traders': 4, 'Sept.': 4, 'planes': 4, 'disaster': 4, 'quotas': 4, 'quota': 4, 'visit': 4, 'element': 4, 'Union': 4, 'conference': 4, 'notice': 4, 'locations': 4, 'thrifts': 4, 'circulation': 4, 'images': 4, 'schedule': 4, 'excitement': 4, 'flags': 4, 'easing': 4, 'centerpiece': 4, 'cooperation': 4, 'episodes': 4, 'repeal': 4, 'ability': 4, 'Average': 4, 'sources': 4, 'drawing': 4, 'strengths': 4, 'prospect': 4, 'drive': 4, 'U.S.': 4, 'filings': 4, 'movement': 4, 'music': 4, 'substitute': 4, 'experts': 4, 'reporters': 4, 'feat': 4, 'House': 4, 'provider': 4, 'turn': 4, 'impasse': 4, 'health': 4, 'tale': 4, 'duties': 4, 'rent': 4, 'commission': 4, 'tens': 4, 'touch': 4, 'match': 4, 'Guber': 4, 'milk': 4, 'rally': 4, 'residents': 4, 'documents': 4, 'communications': 4, 'embarrassment': 4, 'anyone': 4, 'penalties': 4, 'responsibilities': 4, 'consulting': 4, 'engine': 4, 'passion': 4, 'devices': 4, 'giants': 4, 'complex': 4, 'banks': 4, 'machinery': 4, 'carriers': 4, 'cities': 4, 'pickup': 4, 'fire': 4, 'cornerstone': 4, 'refinancing': 4, 'marketing': 4, 'decrease': 4, 'deliveries': 4, 'presidency': 4, 'sell-off': 4, 'jurisdiction': 4, 'low': 4, 'study': 4, 'Association': 4, 'rallies': 4, 'murder': 4, 'burden': 4, 'freedom': 4, 'favor': 4, 'characters': 4, 'grant': 4, 'review': 4, 'UAL': 4, 'retreat': 4, 'catalyst': 4, 'footage': 4, 'crop': 4, 'messages': 4, 'elements': 4, 'array': 4, 'age': 4, 'experiment': 4, 'identity': 4, 'segment': 4, 'solution': 4, 'fit': 4, 'near-monopoly': 4, 'psyllium': 4, 'profile': 4, 'bearing': 4, 'cycles': 4, 'tip': 4, 'departments': 4, 'membership': 4, 'portrayal': 4, 'guilders': 4, 'second': 4, 'seller': 4, 'supporters': 4, 'grades': 4, 'satisfaction': 4, 'fortune': 4, 'write-offs': 4, 'Semel': 4, 'structure': 4, 'withdrawal': 4, 'woman': 4, 'specter': 4, 'futures': 4, 'conditions': 4, 'sample': 4, 'groundwork': 4, 'consequences': 4, 'billings': 4, 'havoc': 4, 'toll': 4, 'sheet': 4, 'reinsurance': 4, 'equity': 4, 'projection': 4, 'ways': 4, 'branches': 4, 'convictions': 4, 'violation': 4, 'voters': 4, 'sites': 4, 'checks': 4, 'deregulation': 4, 'packages': 4, 'longing': 4, 'weapon': 4, 'conflicts': 4, 'contact': 4, 'judgments': 4, 'courses': 4, 'revisions': 4, 'quarters': 4, 'confirmation': 4, 'spring': 4, 'guidelines': 4, 'farmers': 4, 'reflection': 4, 'symbol': 4, 'admission': 4, 'license': 4, 'bribe': 4, 'filing': 4, 'passage': 4, 'slowing': 4, 'factors': 4, 'cocoa': 4, 'virus': 4, 'reorganization': 4, 'introduction': 4, 'suppliers': 4, 'credibility': 4, 'showing': 4, 'subscribers': 4, 'apples': 4, 'assistance': 4, 'cloud': 4, 'confrontation': 4, 'prize': 4, 'warning': 4, 'lid': 4, 'rejection': 4, 'Sunday': 4, 'prosecution': 4, 'energy': 4, 'outlets': 4, 'adults': 4, 'flexibility': 4, 'owners': 4, 'posture': 4, 'bonus': 4, 'pictures': 4, 'copper': 4, 'buildings': 4, 'regime': 4, 'others': 4, 'Tower': 4, 'kids': 4, 'advances': 4, 'sorts': 4, 'chief': 4, 'pleas': 4, 'installation': 4, 'deterioration': 4, 'hospital': 4, 'Galileo': 4, 'tags': 4, 'influx': 4, 'sharing': 4, 'warranty': 4, 'RTC': 3, 'opponents': 3, 'colors': 3, 'troubles': 3, 'buy-outs': 3, 'materials': 3, 'Savings': 3, 'contributor': 3, 'players': 3, 'Group': 3, 'walls': 3, 'mention': 3, 'spots': 3, 'tips': 3, 'judges': 3, 'allocation': 3, 'nation': 3, 'cancellation': 3, 'exemption': 3, 'delegation': 3, 'collateral': 3, 'upsurge': 3, 'popularity': 3, 'award': 3, 'scores': 3, 'emergence': 3, 'refinery': 3, 'ups': 3, 'trial': 3, 'spirits': 3, 'shivers': 3, 'originations': 3, 'atmosphere': 3, 'lessons': 3, 'excess': 3, 'inflows': 3, 'centers': 3, 'megawatts': 3, 'approvals': 3, 'distributor': 3, 'blueprint': 3, 'press': 3, 'accounting': 3, 'exceptions': 3, 'agencies': 3, 'defenses': 3, 'softness': 3, 'notices': 3, 'river': 3, 'heads': 3, 'reference': 3, 'speech': 3, 'departure': 3, 'shortages': 3, 'postponement': 3, 'indexes': 3, 'songs': 3, 'controversy': 3, 'dependence': 3, 'lock': 3, 'functions': 3, 'highway': 3, 'citizens': 3, 'star': 3, 'enthusiasm': 3, 'stand': 3, 'brokers': 3, 'justification': 3, 'parallels': 3, 'legality': 3, 'drops': 3, 'memory': 3, 'aim': 3, 'lesson': 3, 'quarterly': 3, 'ideals': 3, 'meetings': 3, 'principles': 3, 'corn': 3, 'roles': 3, 'fans': 3, 'stuff': 3, 'Jaguar': 3, 'payouts': 3, 'arsenals': 3, 'economies': 3, 'profitability': 3, 'arrest': 3, 'eggs': 3, 'instructions': 3, 'reward': 3, 'swap': 3, 'vulnerability': 3, 'governor': 3, 'columnist': 3, 'tea': 3, 'mortgages': 3, 'pill': 3, 'club': 3, 'labels': 3, 'leg': 3, 'pair': 3, 'trust': 3, 'shopping': 3, 'association': 3, 'display': 3, 'batch': 3, 'diversion': 3, 'critic': 3, 'tariffs': 3, 'initiatives': 3, 'comparisons': 3, 'burdens': 3, 'visibility': 3, 'act': 3, 'Committee': 3, 'Council': 3, 'seminars': 3, 'flashes': 3, 'function': 3, 'components': 3, 'narrowing': 3, 'recognition': 3, 'careers': 3, 'practices': 3, 'thinking': 3, 'initiative': 3, 'culture': 3, 'Ross': 3, 'attractiveness': 3, 'competitors': 3, 'Bill': 3, 'brunt': 3, 'vehicle': 3, 'waiver': 3, 'intrusion': 3, 'ally': 3, 'erosion': 3, 'assurances': 3, 'Dec.': 3, 'cease-fire': 3, 'asylum': 3, 'reductions': 3, 'volumes': 3, 'inclusion': 3, 'bikes': 3, 'techniques': 3, 'distributors': 3, 'organisms': 3, 'mission': 3, 'chapters': 3, 'ranks': 3, 'graduate': 3, 'publication': 3, 'Journal': 3, 'disagreement': 3, 'arm': 3, 'shops': 3, 'Series': 3, 'towel': 3, 'survey': 3, 'errors': 3, 'terminals': 3, 'lag': 3, 'terminal': 3, 'design': 3, 'station': 3, 'client': 3, 'pullback': 3, 'about-face': 3, 'disappearance': 3, 'conversation': 3, 'donations': 3, 'KOFY': 3, 'logic': 3, 'specifications': 3, 'mandate': 3, 'clearance': 3, 'defects': 3, 'genes': 3, 'printer': 3, 'integration': 3, 'push': 3, 'lawyers': 3, 'grounds': 3, 'petition': 3, 'needs': 3, 'Mixte': 3, 'rendition': 3, 'foot': 3, 'population': 3, 'tabs': 3, 'lull': 3, 'epicenter': 3, 'item': 3, 'following': 3, 'roll': 3, 'Kate': 3, 'men': 3, 'A': 3, 'ruling': 3, 'incentive': 3, 'voting': 3, 'repayment': 3, 'fate': 3, 'assortment': 3, 'ton': 3, 'bias': 3, 'surpluses': 3, 'sanctions': 3, 'climate': 3, 'bans': 3, 'dinner': 3, 'modifications': 3, 'foundations': 3, 'China': 3, 'Thatcher': 3, 'sports': 3, 'commute': 3, 'awareness': 3, 'interpretations': 3, 'frenzy': 3, 'timetable': 3, 'Board': 3, 'failures': 3, 'vacancies': 3, 'leads': 3, 'procedures': 3, 'audience': 3, 'souring': 3, 'Exterior': 3, 'credits': 3, 'works': 3, 'death': 3, 'Korea': 3, 'indications': 3, 'tomorrow': 3, 'boom': 3, 'relocation': 3, 'adviser': 3, 'person': 3, 'exchange': 3, 'exchanges': 3, 'grade': 3, 'bargains': 3, 'cue': 3, 'programming': 3, 'fare': 3, 'damper': 3, 'insult': 3, 'Fund': 3, 'event': 3, 'parents': 3, 'transportation': 3, 'envy': 3, 'March': 3, 'repurchase': 3, 'towns': 3, 'immunity': 3, 'standing': 3, 'celebration': 3, 'peace': 3, 'democracy': 3, 'fuel': 3, 'stop': 3, 'endorsement': 3, 'pile': 3, 'pillar': 3, 'spot': 3, 'twist': 3, 'restoration': 3, 'downturn': 3, 'maintenance': 3, 'shareholder': 3, 'tab': 3, 'helicopter': 3, 'language': 3, 'parties': 3, 'losers': 3, 'mother': 3, 'violence': 3, 'rewards': 3, 'Jr.': 3, 'injections': 3, 'book': 3, 'child': 3, 'smoke': 3, 'ideas': 3, 'memo': 3, 'houses': 3, 'preview': 3, 'fields': 3, 'chunks': 3, 'answer': 3, 'bases': 3, 'pool': 3, 'likelihood': 3, 'District': 3, 'August': 3, 'suits': 3, 'completion': 3, 'touches': 3, 'testing': 3, 'anticipation': 3, 'usage': 3, 'drug': 3, 'face': 3, 'arrangements': 3, 'solutions': 3, 'preference': 3, 'diamonds': 3, 'streets': 3, 'hole': 3, 'hotels': 3, 'importer': 3, 'play': 3, 'disputes': 3, 'districts': 3, 'belief': 3, 'rose': 3, 'matters': 3, 'prosecutions': 3, 'expense': 3, 'mettle': 3, 'two-hundredths': 3, 'furor': 3, 'Farmers': 3, 'blacks': 3, 'citations': 3, 'HBO': 3, 'ace': 3, 'TV': 3, 'defect': 3, 'co-chairman': 3, 'theft': 3, 'pricing': 3, 'cans': 3, 'cent': 3, 'interviews': 3, 'stream': 3, 'leaves': 3, 'Francisco': 3, 'teams': 3, 'acceleration': 3, 'emeritus': 3, 'fine': 3, 'recapitalization': 3, 'mood': 3, 'strain': 3, 'top': 3, 'scenes': 3, 'gainers': 3, 'reimbursement': 3, 'march': 3, 'dictators': 3, 'track': 3, 'inquiry': 3, 'termination': 3, 'depositions': 3, 'offerings': 3, 'uniform': 3, 'irony': 3, 'publicity': 3, 'sedan': 3, 'shadow': 3, 'visitors': 3, 'sections': 3, 'housing': 3, 'spurt': 3, 'frustration': 3, 'variation': 3, 'panels': 3, 'freight': 3, 'commodities': 3, 'suggestions': 3, 'headway': 3, 'SKr29': 3, 'Trelleborg': 3, 'phase': 3, 'trucks': 3, 'tasks': 3, 'bang': 3, 'psychology': 3, 'buildup': 3, 'variations': 3, 'furs': 3, 'presidents': 3, 'clash': 3, 'entertainment': 3, 'thought': 3, 'charity': 3, 'wealth': 3, 'Spain': 3, 'litigation': 3, 'proportion': 3, 'Departments': 3, 'dwellings': 3, 'choices': 3, 'deaths': 3, 'salespeople': 3, 'XR4Ti': 3, 'scramble': 3, 'deductibility': 3, 'adjusters': 3, 'recommendations': 3, 'watch': 3, 'Germany': 3, 'double-decking': 3, 'painting': 3, 'uptick': 3, 'Grenfell': 3, 'methods': 3, 'Russians': 3, 'pitcher': 2, 'Williams': 2, 'ball': 2, 'Toronto': 2, 'expression': 2, 'institutions': 2, 'parachute': 2, 'LIN': 2, 'legitimacy': 2, 'runners': 2, 'nurses': 2, 'pay': 2, 'falls': 2, 'selection': 2, 'conservatives': 2, 'parade': 2, 'consortium': 2, 'scenario': 2, 'emissions': 2, 'bottles': 2, 'bedlam': 2, 'Columbia': 2, 'Aristech': 2, 'sentiment': 2, 'bellwether': 2, 'dealings': 2, 'clothes': 2, 'rush': 2, 'portrait': 2, 'sponsorship': 2, 'leaps': 2, 'indicator': 2, 'manufacture': 2, 'representative': 2, 'CFCs': 2, 'opening': 2, 'sea': 2, 'elephant': 2, 'chaos': 2, 'Contras': 2, 'Fruit': 2, 'Berry': 2, 'Applied': 2, 'imbalances': 2, 'Comments': 2, 'tower': 2, 'defense': 2, 'plane': 2, 'bags': 2, 'sway': 2, 'allowance': 2, 'Cheer': 2, 'detergent': 2, 'cup': 2, 'objections': 2, 'weather': 2, 'tightening': 2, 'Saatchi': 2, 'conclusions': 2, 'Bronx': 2, 'inspiration': 2, 'cleanup': 2, 'setbacks': 2, 'periods': 2, 'rents': 2, 'newcomers': 2, 'thrift': 2, 'laughingstock': 2, 'audiences': 2, 'ring': 2, 'court': 2, 'activists': 2, 'reception': 2, 'institution': 2, 'fools': 2, 'shows': 2, 'collaboration': 2, 'competitor': 2, 'worries': 2, 'swing': 2, 'Canada': 2, 'Street': 2, 'priorities': 2, 'students': 2, 'stranger': 2, 'gist': 2, 'humor': 2, 'tendency': 2, 'cutbacks': 2, 'holder': 2, 'massacre': 2, 'objects': 2, 'inference': 2, 'privilege': 2, 'Fifth': 2, 'Mullins': 2, 'reprieve': 2, 'recall': 2, 'brethren': 2, 'distaste': 2, 'foundation': 2, 'Show': 2, 'slice': 2, 'replacements': 2, 'manufacturers': 2, 'uses': 2, 'principal': 2, 'usefulness': 2, 'exercises': 2, 'McGregor': 2, 'representatives': 2, 'Mitchell': 2, 'performer': 2, 'tapestry': 2, 'jazz': 2, 'blessing': 2, 'insects': 2, 'borrowing': 2, 'anger': 2, 'beer': 2, 'sound': 2, 'background': 2, 'dealer': 2, 'articles': 2, 'attraction': 2, 'air': 2, 'weapons': 2, 'Norwegians': 2, 'heavens': 2, 'obsession': 2, 'boon': 2, 'developers': 2, 'reservations': 2, 'diners': 2, 'replacement': 2, 'fixture': 2, 'inkling': 2, 'Sunbird': 2, 'lab': 2, 'Institutes': 2, 'outlet': 2, 'receptivity': 2, 'similarity': 2, 'dent': 2, 'Sony': 2, 'promotion': 2, 'upgrade': 2, 'content': 2, 'favorite': 2, 'counterclaims': 2, 'followers': 2, 'guests': 2, 'co-author': 2, 'rioting': 2, 'closure': 2, 'dormitory': 2, 'voice': 2, 'helm': 2, 'Nissan': 2, 'restaurant': 2, 'sedans': 2, 'expectation': 2, 'summit': 2, 'setting': 2, 'elimination': 2, 'demonstrations': 2, 'harm': 2, 'dignity': 2, 'motives': 2, 'uniformity': 2, 'deductions': 2, 'hackles': 2, 'searches': 2, 'tool': 2, 'Comfort': 2, 'tumor': 2, 'window': 2, 'whirlwinds': 2, 'stimulators': 2, 'wasting': 2, 'children': 2, 'presumption': 2, 'beach': 2, 'assessments': 2, 'tumble': 2, 'compromises': 2, 'Service': 2, 'Protection': 2, 'Associates': 2, 'taxpayers': 2, 'discrediting': 2, 'politics': 2, 'effectiveness': 2, 'ceilings': 2, 'bidding': 2, 'taboo': 2, 'pencil': 2, 'flurry': 2, 'severity': 2, 'themes': 2, 'confusion': 2, 'hostage': 2, 'whole': 2, 'style': 2, 'behavior': 2, 'adjustment': 2, 'Lincoln': 2, 'allies': 2, 'blockade': 2, 'Kabul': 2, 'collar': 2, 'underwriters': 2, 'fines': 2, 'horse': 2, 'dragger': 2, 'pioneers': 2, 'restatement': 2, 'flaws': 2, 'department': 2, 'domain': 2, 'length': 2, 'interviewer': 2, 'foothold': 2, 'knowledge': 2, 'patent': 2, 'prizes': 2, 'exhibitions': 2, 'Day': 2, 'wars': 2, 'Poland': 2, 'sweat': 2, 'exercise': 2, 'branch': 2, 'bones': 2, 'burns': 2, 'engineers': 2, 'fires': 2, 'neck': 2, 'masters': 2, 'conversion': 2, 'continuation': 2, 'punishment': 2, 'accumulation': 2, 'planning': 2, 'feats': 2, 'road': 2, 'Eurodebt': 2, 'streamlining': 2, 'broadcasting': 2, 'PCs': 2, 'charts': 2, 'pregnancy': 2, 'Stubblefield': 2, 'layoffs': 2, 'proposition': 2, 'sketches': 2, 'haul': 2, 'IFAR': 2, 'wall': 2, 'windshield': 2, 'statute': 2, 'parallel': 2, 'treaty': 2, 'Ortega': 2, 'cancer': 2, 'discovery': 2, 'pairs': 2, 'cells': 2, 'women': 2, 'cascade': 2, 'identities': 2, 'potatoes': 2, 'Quebecor': 2, 'contractor': 2, 'monopoly': 2, 'examination': 2, 'eagerness': 2, 'counting': 2, 'motion': 2, 'voices': 2, 'distinctions': 2, 'vigil': 2, 'soldiers': 2, 'advisers': 2, 'rivals': 2, 'veteran': 2, 'allusions': 2, 'ingredient': 2, 'scenarios': 2, 'fallout': 2, 'bouts': 2, 'airwaves': 2, 'repercussions': 2, 'score': 2, 'grace': 2, 'wife': 2, 'luck': 2, 'input': 2, 'perceptions': 2, 'MTM': 2, 'rash': 2, 'lights': 2, 'survival': 2, 'seriousness': 2, 'floors': 2, 'breakage': 2, 'boosts': 2, 'RJR': 2, 'troops': 2, 'sweep': 2, 'Leagues': 2, 'titles': 2, 'dozens': 2, 'camera': 2, 'economist': 2, 'overtures': 2, 'currencies': 2, 'closing': 2, 'criticisms': 2, 'beaches': 2, 'characterization': 2, 'slip': 2, 'Venice': 2, 'encouragement': 2, 'lining': 2, 'televisions': 2, 'auction': 2, 'sight': 2, 'Parliament': 2, 'marketer': 2, 'smell': 2, 'Oil': 2, 'boxes': 2, 'olds': 2, 'doctor': 2, 'lunch': 2, 'butt': 2, 'gestures': 2, 'mall': 2, 'love': 2, 'rethink': 2, 'directives': 2, 'abducted': 2, 'expiration': 2, 'fruits': 2, 'monitoring': 2, 'distinction': 2, 'bombing': 2, 'penchant': 2, 'accident': 2, 'prestige': 2, 'companion': 2, 'sights': 2, 'placement': 2, 'consolidation': 2, 'adoption': 2, 'timing': 2, 'assurance': 2, 'Hub': 2, 'specialist': 2, 'listing': 2, 'temperatures': 2, 'Aeronautics': 2, 'lands': 2, 'lives': 2, 'landscape': 2, 'CDs': 2, 'sugar': 2, 'Pentagon': 2, 'truth': 2, 'threats': 2, 'desire': 2, 'stem': 2, 'commodity': 2, 'users': 2, 'shortcomings': 2, 'bits': 2, 'rig': 2, 'wells': 2, 'indexation': 2, 'instruments': 2, 'economics': 2, 'silver': 2, 'friends': 2, 'purpose': 2, 'class': 2, 'bets': 2, 'states': 2, 'salvo': 2, 'McCammon': 2, 'reassessment': 2, 'embargo': 2, 'abuse': 2, 'husband': 2, 'imagination': 2, 'crisis': 2, 'restriction': 2, 'concentration': 2, 'character': 2, 'custody': 2, 'nomination': 2, 'mayor': 2, 'nuances': 2, 'bag': 2, 'outflow': 2, 'quote': 2, 'coup': 2, 'notion': 2, 'abuses': 2, 'overtime': 2, 'domestic-production': 2, 'bars': 2, 'counterbid': 2, 'forfeiture': 2, 'broker': 2, 'reporting': 2, 'representation': 2, 'imposition': 2, 'Prize': 2, 'evolution': 2, 'belongings': 2, 'prison': 2, 'skills': 2, 'visitor': 2, 'colony': 2, 'third': 2, 'go-ahead': 2, 'squeeze': 2, 'consul': 2, 'overlay': 2, 'Claudio': 2, 'virtue': 2, 'grasp': 2, 'interpreter': 2, 'assignment': 2, 'Smith': 2, 'rite': 2, 'shelters': 2, 'environment': 2, 'drama': 2, 'phenomenon': 2, 'union': 2, 'exporter': 2, 'dissolution': 2, 'rubles': 2, 'Fed': 2, 'norms': 2, 'Apple': 2, 'copyrights': 2, 'undercurrent': 2, 'energies': 2, 'customer': 2, 'agenda': 2, 'listings': 2, 'showcase': 2, 'exhibit': 2, 'Boeing': 2, 'scrutiny': 2, 'anathema': 2, 'Alar': 2, 'semblance': 2, 'clues': 2, 'eighth': 2, 'pass': 2, 'sandwiches': 2, 'agent': 2, 'recipients': 2, 'royalties': 2, 'scientists': 2, 'contacts': 2, 'ends': 2, 'file': 2, 'maturities': 2, 'cushion': 2, 'microcosm': 2, 'designs': 2, 'adapting': 2, 'exerpts': 2, 'ruble': 2, 'existence': 2, 'maneuver': 2, 'buckets': 2, 'compensation': 2, 'Objections': 2, 'Constitution': 2, 'Davis': 2, 'classes': 2, 'listeners': 2, 'fabric': 2, 'fruit': 2, 'ouster': 2, 'guy': 2, 'steam': 2, 'draft': 2, 'lift': 2, 'outlays': 2, 'productivity': 2, 'dementia': 2, 'infection': 2, 'AZT': 2, 'shoulder': 2, 'bureaucrats': 2, 'CBS': 2, 'fix': 2, 'sponsors': 2, 'jumps': 2, 'toy': 2, 'weaknesses': 2, 'IBM': 2, 'general': 2, 'domination': 2, 'sympathy': 2, 'reins': 2, 'baptism': 2, 'hat': 2, 'correspondent': 2, 'reviews': 2, 'sledding': 2, 'drop-off': 2, 'stones': 2, 'diamond': 2, 'oasis': 2, 'sand': 2, 'rationale': 2, 'extensions': 2, 'ceremony': 2, 'pecks': 2, 'Fujis': 2, 'liabilities': 2, 'promotions': 2, 'commonality': 2, 'neighborhood': 2, 'rocks': 2, 'barometer': 2, 'measures': 2, 'buffer': 2, 'chairs': 2, 'parity': 2, 'Iran': 2, 'tools': 2, 'traces': 2, 'meaning': 2, 'rebuff': 2, 'maze': 2, 'fleets': 2, 'pension': 2, 'distance': 2, 'moments': 2, 'crowd': 2, 'tour': 2, 'Army': 2, 'overruns': 2, 'eligible': 2, 'bidder': 2, 'Tele-Communications': 2, 'proceedings': 2, 'mileage': 2, 'cycle': 2, 'PLC': 2, 'pockets': 2, 'liquidation': 2, 'skepticism': 2, 'captives': 2, 'sideline': 2, 'glucose': 2, 'catheter': 2, 'shields': 2, 'healing': 2, 'evaluations': 2, 'coalition': 2, 'spelling': 2, 'swipe': 2, 'facts': 2, 'household': 2, 'Airlines': 2, 'media': 2, 'magazines': 2, 'videotape': 2, 'books': 2, 'spinoff': 2, 'jury': 2, 'consultants': 2, 'niche': 2, 'exclusion': 2, 'gridlock': 2, 'back-ups': 2, 'commuters': 2, 'knight': 2, 'pawn': 2, 'queen': 2, 'CD': 2, 'paragraph': 2, 'partnerships': 2, 'bourbon': 2, 'teachers': 2, 'withdrawals': 2, 'Drexel': 2, 'retirement': 2, 'Arizona': 2, 'hint': 2, 'decades': 2, 'commerce': 2, 'organization': 2, 'Daiwa': 2, 'secret': 2, 'prepayments': 2, 'Register': 2, 'brakes': 2, 'mechanism': 2, 'stretch': 2, 'Shield': 2, 'asbestos': 2, 'files': 2, 'salaries': 2, 'pump': 2, 'clarifications': 2, 'stay': 2, 'bond': 2, 'watershed': 2, 'glimpse': 2, 'understanding': 2, 'hats': 2, 'column': 2, 'chapter': 2, 'accords': 2, 'tube': 2, 'rift': 2, 'Australia': 2, 'Dallas': 2, 'correlation': 2, 'hair': 2, 'accent': 2, 'tree': 2, 'root': 2, 'roster': 2, 'melding': 2, 'gallery': 2, 'cannon': 2, 'crime': 2, 'spin': 2, 'Center': 2, 'contest': 2, 'convulsions': 2, 'breed': 2, 'desk': 2, 'Walker': 2, 'SEC': 2, 'friend': 2, 'fact': 2, 'qualities': 2, 'cigarettes': 2, 'abortion': 2, 'runway': 2, 'flip-flop': 2, 'breakthrough': 2, 'Kong': 2, 'nest': 2, 'capital-assets': 2, 'receipt': 2, 'trains': 2, 'stretches': 2, 'inflow': 2, 'fly-fishing': 2, 'commercials': 2, 'Realist': 2, 'Gorbachev': 2, 'displays': 2, 'clampdown': 2, 'TVs': 2, 'surprises': 2, 'kickbacks': 2, 'horrors': 2, 'freefall': 2, 'outlay': 2, 'ramifications': 2, 'aide': 2, 'hints': 2, 'bursts': 2, 'specials': 2, 'affiliate': 2, 'riskier': 2, 'color': 2, 'junkets': 2, 'ticket': 2, 'soundness': 2, 'incidence': 2, 'admits': 2, 'registrants': 2, 'amendment': 2, 'jackets': 2, 'symptoms': 2, 'misstatements': 2, 'race': 2, 'Milunovich': 2, 'Food': 2, 'North': 2, 'rematch': 2, 'spirit': 2, 'transplants': 2, 'spreads': 2, 'cargo': 2, 'contempt': 2, 'commentaries': 2, 'West': 2, 'manuscript': 2, 'Sandinistas': 2, 'accommodation': 2, 'columns': 2, 'text': 2, 'releases': 2, 'English': 2, 'era': 2, 'conduct': 2, 'acquittal': 2, 'clout': 2, 'Bridge': 2, 'findings': 2, 'shareholding': 2, 'redemption': 2, 'past': 2, 'slew': 2, 'clouds': 2, 'flames': 2, 'seniority': 2, 'appropriateness': 2, 'ranges': 2, 'object': 2, 'anti-abortionists': 2, 'Whittington': 2, 'spigots': 2, 'Valley': 2, 'ombudsman': 2, 'WCRS': 2, 'refugees': 2, 'motions': 2, 'readings': 2, 'crash': 2, 'dislocation': 2, 'instrument': 2, 'Crest': 2, 'location': 2, 'brochures': 2, 'Honecker': 2, 'Politburo': 2, 'Vaezi': 2, 'evening': 2, 'USAir': 2, 'enough': 2, 'ship': 2, 'deck': 2, 'decks': 2, 'Pepsi': 2, 'conglomerate': 2, 'prejudices': 2, 'cast': 2, 'legacy': 2, 'pronouncements': 2, 'chairmanship': 2, 'nostalgia': 2, 'put': 2, 'features': 2, 'device': 2, 'operators': 2, 'demeanor': 2, 'assistant': 2, 'displacing': 2, 'changing': 2, 'inefficiency': 2, 'command': 2, 'intelligence': 2, 'recordings': 2, 'shah': 2, 'back': 2, 'indictments': 2, 'line-up': 2, 'therapy': 2, 'gasoline': 2, 'blends': 2, 'certificates': 2, 'approaches': 2, 'paths': 2, 'calm': 2, 'lawmakers': 2, 'debentures': 2, 'Bearings': 2, 'laboratories': 2, 'liftoff': 2, 'United': 2, 'downdraft': 2, 'advertisers': 2, 'Abraham': 2, 'amortization': 2, 'bakeries': 2, 'pipe': 2, 'viewer': 2, 'Armenians': 2, 'landfall': 2, 'jetliner': 2, 'heap': 2, 'lifting': 2, 'lounge': 2, 'doubts': 2, '800-number': 1, 'sport': 1, 'pain': 1, 'hits': 1, 'split-finger': 1, 'triumph': 1, 'ditto': 1, 'runner': 1, 'Baker': 1, 'Pay': 1, 'a.m.': 1, 'Receipts': 1, 'examples': 1, 'certificate': 1, 'intent': 1, 'equities': 1, 'Bourse': 1, 'up': 1, 'meltdown': 1, 'breakers': 1, 'crack': 1, 'borders': 1, 'jaw': 1, 'advancement': 1, 'EMPLOYEES': 1, 'inventors': 1, 'James': 1, 'breaker': 1, 'rationality': 1, 'home-delivery': 1, 'Pitfalls': 1, 'pitfalls': 1, 'Sunlight': 1, 'Willis': 1, 'liberals': 1, 'Hill': 1, 'MacDonald': 1, 'Treaty': 1, 'procession': 1, 'crowds': 1, 'reappraisal': 1, 'ambition': 1, 'mom': 1, 'aftershocks': 1, 'credence': 1, 'hangover': 1, 'halts': 1, 'soulmates': 1, 'concession': 1, 'airports': 1, 'Huntsman': 1, 'legislature': 1, 'gift': 1, 'atrocities': 1, 'dispatches': 1, 'comeback': 1, 'Franz': 1, 'video': 1, 'Butler': 1, 'DeBat': 1, 'recessions': 1, 'relevancy': 1, 'Warehouse': 1, 'technologies': 1, 'microprocessor': 1, 'Burmah': 1, 'Korps': 1, 'lockstep': 1, 'consumption': 1, 'transport': 1, 'northeast': 1, 'ISI': 1, 'anxiety': 1, 'Shopkorn': 1, 'pell-mell': 1, 'cheers': 1, 'possiblity': 1, 'countdown': 1, 'shirts': 1, 'socks': 1, 'menswear': 1, 'Fromstein': 1, 'will': 1, 'updates': 1, 'Kingdom': 1, 'Simpson': 1, 'Mall': 1, 'Campbell': 1, 'falling': 1, 'recording': 1, 'nonstops': 1, '757': 1, 'thrust': 1, 'Stram': 1, 'impacts': 1, 'bonanza': 1, 'dimension': 1, 'imponderable': 1, 'percent': 1, 'entrance': 1, 'spoonfuls': 1, 'superconcentrates': 1, 'shelves': 1, 'packaging': 1, 'prominence': 1, 'Tide': 1, 'detergents': 1, 'barrage': 1, 'discussion': 1, 'theories': 1, 'contrast': 1, 'chuckles': 1, 'deficiencies': 1, 'Syms': 1, 'lobbyist': 1, 'wheat': 1, 'bushels': 1, 'snap': 1, 'affect': 1, 'Bates': 1, 'Malson': 1, 'insensitivity': 1, 'Camaro-Firebird': 1, 'beating': 1, 'prescriptions': 1, 'memorialist': 1, 'families': 1, 'protagonist': 1, 'psychiatrist': 1, 'part-owner': 1, 'undertakings': 1, 'dissenter': 1, 'flavor': 1, 'Blackmun': 1, 'liberal': 1, 'Howard': 1, 'foray': 1, 'newscast': 1, 'raises': 1, 'tinkering': 1, 'cable-TV': 1, 'Stengel': 1, 'View': 1, 'realm': 1, 'orbit': 1, 'tack': 1, 'dockets': 1, 'Ranch': 1, 'vicitims': 1, 'fugitives': 1, 'Posner': 1, 'Office': 1, 'slot': 1, 'classmates': 1, 'dialects': 1, 'bane': 1, 'television': 1, 'S.A.': 1, 'GEC': 1, 'tables': 1, 'halls': 1, 'patrons': 1, 'can': 1, 'favors': 1, 'flowers': 1, 'inheritor': 1, 'shvartze': 1, 'analysis': 1, 'self': 1, 'co-existence': 1, 'yuppies': 1, 'Maddie': 1, 'incompatibility': 1, 'mischief': 1, 'shtik': 1, 'shmaltzy': 1, 'deficit-reduction': 1, 'Rostenkowski': 1, 'sacrifice': 1, 'freeze': 1, 'graph': 1, 'manifestation': 1, 'corporations': 1, 'resiliency': 1, 'platitudes': 1, 'scorn': 1, 'sleaze': 1, 'likes': 1, 'witness': 1, 'defendant': 1, 'shield': 1, 'plus': 1, 'stockpiles': 1, 'King': 1, 'checkbooks': 1, 'landmark': 1, 'warfare': 1, 'Kudlow': 1, 'shortfall': 1, 'storm': 1, 'clubs': 1, 'TC': 1, 'novelties': 1, 'exception': 1, 'Grail': 1, 'dynamite': 1, 'stopper': 1, 'circuits': 1, 'objection': 1, 'Nightwatch': 1, 'Chimerine': 1, 'outbreak': 1, 'cutting': 1, 'Ravitz': 1, 'Eurobond': 1, 'Stage': 1, 'obeisance': 1, 'compliance': 1, 'clusters': 1, 'Age': 1, 'tune': 1, 'potpourri': 1, 'improviser': 1, 'redistributionism': 1, 'printing': 1, 'purposes': 1, 'tassels': 1, 'row': 1, 'organs': 1, 'anthers': 1, 'peculiarities': 1, 'hybrids': 1, 'skirmish': 1, 'industries': 1, 'wrath': 1, 'swig': 1, 'ballparks': 1, 'bunt': 1, 'workout': 1, 'brainchild': 1, 'duels': 1, 'camaraderie': 1, 'baseball': 1, 'pistol': 1, 'Ford': 1, 'howl': 1, 'shareholdings': 1, 'Brissette': 1, 'attendee': 1, 'none': 1, 'convocation': 1, 'naggings': 1, 'zip': 1, '12-inches': 1, 'half-an-hour': 1, 'balloon': 1, 'proportions': 1, 'drinks': 1, 'Khan': 1, 'sailing': 1, 'railbikes': 1, 'disservice': 1, 'carpet': 1, 'ex-dividend': 1, 'inflation-fighting': 1, 'thriller': 1, 'marriage': 1, 'wisecracks': 1, 'tricks': 1, 'super-user': 1, 'discrepancy': 1, 'requisition': 1, 'Berkeley': 1, 'keychain': 1, 'hacker': 1, 'officers': 1, 'hatred': 1, 'Gant': 1, 'exemptions': 1, 'Basin': 1, 'chef': 1, 'inventor': 1, 'recipes': 1, 'bind': 1, 'creators': 1, 'buttons': 1, 'daughter': 1, 'bedrock': 1, 'whispering': 1, 'salesman': 1, 'apprehensions': 1, 'EG&G': 1, 'toes': 1, 'headache': 1, 'pills': 1, 'implementation': 1, 'CEO': 1, 'sequel': 1, 'proxies': 1, 'meters': 1, 'moniker': 1, 'landowner': 1, 'Marunouchi': 1, 'Bonfire': 1, 'mastermind': 1, 'Milk': 1, 'Fresca': 1, 'cutouts': 1, 'flaps': 1, 'Cichan': 1, 'infrastructure': 1, 'faithful': 1, 'scope': 1, 'churches': 1, 'republics': 1, 'predicament': 1, 'constitution': 1, 'crackdown': 1, 'reactor': 1, 'swaps': 1, 'troublemakers': 1, 'Philippines': 1, 'harmony': 1, 'rehearing': 1, 'classifications': 1, 'die-hards': 1, 'body': 1, 'predecessors': 1, 'diplomacy': 1, 'stature': 1, 'quantification': 1, 'protesters': 1, 'proponent': 1, 'recourse': 1, 'overuse': 1, 'speeding': 1, 'infamy': 1, 'wounds': 1, 'breaking': 1, 'spotlight': 1, 'criteria': 1, 'Horses': 1, 'horse-breeding': 1, 'audits': 1, 'Kirkendall': 1, 'grievance': 1, 'mine': 1, 'Morgan': 1, 'quisling': 1, 'Fabric': 1, 'plurality': 1, 'lackeys': 1, 'serials': 1, 'Rouge': 1, 'diagnosis': 1, 'current': 1, 'nerves': 1, 'magnet': 1, 'seizures': 1, 'probes': 1, 'certainty': 1, 'protectionism': 1, 'landing': 1, 'description': 1, 'levy': 1, 'Edelson': 1, 'treasure-trove': 1, 'Rewards': 1, 'shortcut': 1, 'Greif': 1, 'Bancorp.': 1, 'Palmero': 1, 'Rogers': 1, 'Devario': 1, 'Schneider': 1, 'mergers': 1, 'Mesa': 1, 'viewers': 1, 'innocence': 1, 'videotapes': 1, 'Ansco': 1, 'NASA': 1, 'appropriations': 1, 'fights': 1, 'prerogatives': 1, 'Fe': 1, 'whitewash': 1, 'Bureau': 1, 'packet': 1, 'meat': 1, 'write-downs': 1, 'truck': 1, 'helix': 1, 'Swanson': 1, 'default': 1, 'Levin': 1, 'Hunter': 1, 'specific': 1, 'Ozal': 1, 'referendum': 1, 'curb': 1, 'trough': 1, 'Simon': 1, 'Chemical': 1, 'Avery': 1, 'havens': 1, 'UV-B': 1, 'gathering': 1, 'settlements': 1, 'delisting': 1, 'shipment': 1, 'fancy': 1, 'magic': 1, 'lugs': 1, 'bike': 1, 'Pfeiffer': 1, 'Bing': 1, 'appearance': 1, 'Gen-Probe': 1, 'counterparts': 1, 'Shapovalov': 1, 'inventiveness': 1, 'journalist': 1, 'Soviets': 1, 'acts': 1, 'contractions': 1, 'bodies': 1, 'minute': 1, 'bowling': 1, 'lanes': 1, \"somethin'\": 1, 'ghosts': 1, 'nod': 1, 'haunts': 1, 'Chevy': 1, 'trap': 1, 'University': 1, 'happenings': 1, 'footsteps': 1, 'cord': 1, 'goings-on': 1, 'Hyman': 1, 'crew': 1, 'hank': 1, 'Saveth': 1, 'burger': 1, 'resumes': 1, 'medicine': 1, 'Press': 1, 'distributions': 1, 'weekend': 1, 'hoards': 1, 'grievances': 1, 'good': 1, 'symbolism': 1, 'amendments': 1, 'resurrection': 1, 'retribution': 1, 'executions': 1, 'sentencings': 1, 'entries': 1, 'Carvain': 1, 'wigs': 1, 'bondholders': 1, 'walkouts': 1, 'structures': 1, 'processes': 1, 'synthesis': 1, 'mold': 1, 'quotations': 1, 'refurbishment': 1, 'Dodgers': 1, 'perimeter': 1, 'NEC': 1, 'bash': 1, 'PC': 1, 'compatibility': 1, 'ovulation': 1, 'repeaters': 1, 'patient': 1, 'export': 1, 'presents': 1, 'Cemetery': 1, 'Tracer': 1, 'airtime': 1, 'ad': 1, 'miscarriages': 1, 'courts': 1, 'submarine': 1, 'fraud': 1, 'herbicides': 1, 'faction': 1, 'Proleukin': 1, 'records': 1, 'originators': 1, 'transfers': 1, 'developments': 1, 'TPA': 1, 'streptokinase': 1, 'battery': 1, 'White': 1, 'cell': 1, 'Minna': 1, 'glimmer': 1, 'Carver': 1, 'bull': 1, 'newspaper': 1, 'tabloid': 1, 'appropriation': 1, 'assertions': 1, 'skins': 1, 'neighborhoods': 1, 'single-A': 1, 'Allianz': 1, 'Bancroft': 1, 'Midler': 1, 'imitation': 1, 'Palestinian': 1, 'bus': 1, 'sentences': 1, 'harassment': 1, 'amnesty': 1, 'personnel': 1, 'breakup': 1, 'dynamism': 1, 'tenders': 1, 'pacts': 1, 'dealer-manager': 1, 'roots': 1, 'Foret': 1, 'Eastern': 1, 'McCall': 1, 'fads': 1, 'bowl': 1, 'innocents': 1, 'teaspoons': 1, 'dip': 1, 'FDA': 1, 'Metamucil': 1, 'Krishnamurthy': 1, 'rain': 1, 'places': 1, 'sparkle': 1, 'mockery': 1, 'backwater': 1, 'Heinhold': 1, 'insurers': 1, 'Federation': 1, 'clinics': 1, 'photocopiers': 1, 'liberties': 1, 'upswing': 1, 'S&P': 1, 'blacklisting': 1, 'coordination': 1, 'confluence': 1, 'premiere': 1, 'dweller': 1, 'passes': 1, 'boardroom': 1, 'jab': 1, 'laggard': 1, 'TransCanada': 1, 'rainbow': 1, 'neckties': 1, 'strides': 1, 'refurbishing': 1, 'feud': 1, 'shame': 1, 'attorneys': 1, 'supplement': 1, 'aliens': 1, 'alarm': 1, 'wardens': 1, 'commander': 1, 'enlightenment': 1, 'Trustcorp': 1, 'politician': 1, 'permanence': 1, 'seeds': 1, 'predictions': 1, 'Heller': 1, 'performances': 1, 'repression': 1, 'Sisulu': 1, 'phrase': 1, 'resurgence': 1, 'legion': 1, 'Leavitt': 1, 'turbines': 1, 'Steinbach': 1, 'Jays': 1, 'outfielders': 1, 'burgs': 1, 'craftsmen': 1, 'snags': 1, 'quantity': 1, 'nail': 1, 'community': 1, 'Rey': 1, 'Renoir': 1, 'minds': 1, 'Kern': 1, 'Unisys': 1, 'Midwest': 1, 'mincemeat': 1, 'Straszheim': 1, 'handout': 1, 'flows': 1, 'vassals': 1, 'intention': 1, 'lotteries': 1, 'scrape': 1, 'sensitivity': 1, 'prohibition': 1, 'conspiracies': 1, 'peek': 1, 'Peters': 1, 'MGM': 1, 'document': 1, 'dilution': 1, 'enforcement': 1, 'Antolini': 1, 'Nasdaq': 1, 'pressured': 1, 'stadium': 1, 'podium': 1, 'tongue': 1, 'disdain': 1, 'habitats': 1, 'Rubenstein': 1, 'truce': 1, 'oversight': 1, 'consultation': 1, 'dissatisfaction': 1, 'Weill': 1, 'pull-backs': 1, 'coterie': 1, 'housework': 1, 'payers': 1, 'maturity': 1, 'candor': 1, 'fountains': 1, 'import': 1, 'celebrities': 1, 'fragility': 1, 'honor': 1, 'May': 1, 'reams': 1, 'near-mutiny': 1, 'plaudits': 1, 'phalanx': 1, 'Kidder': 1, 'synergy': 1, 'Centurion': 1, 'budgeting': 1, 'honorarium': 1, 'Edwards': 1, 'confrontations': 1, 'disposition': 1, 'spice': 1, 'handicap': 1, 'GM': 1, 'finding': 1, 'hospitality': 1, 'Koskotas': 1, 'objective': 1, 'Vigdor': 1, 'pleasure': 1, 'count': 1, 'accuracy': 1, 'metal': 1, 'megaquestions': 1, 'tide': 1, 'Hoffman': 1, 'horizons': 1, 'scripts': 1, 'Brown': 1, 'prisoner': 1, 'peanuts': 1, 're-creactions': 1, 'casualty': 1, 'Wednesdays': 1, 'portable': 1, 'storage': 1, 'Grimm': 1, 'disasters': 1, 'Snedeker': 1, 'Goodfriend': 1, 'constituency': 1, 'wavering': 1, 'McFadden': 1, 'outsider': 1, 'locals': 1, 'investigators': 1, 'cage': 1, 'Adler': 1, 'pulp': 1, 'extrusions': 1, 'oversupply': 1, 'lists': 1, 'shelter': 1, 'headaches': 1, 'near-panic': 1, 'arithmetic': 1, 'theory': 1, 'cracks': 1, 'flaw': 1, 'samples': 1, 'flooding': 1, 'Senate': 1, 'eyes': 1, 'sharecroppers': 1, 'crusade': 1, 'planners': 1, 'upside': 1, 'Soares-Kemp': 1, 'restaurants': 1, 'Wagg': 1, 'remarketings': 1, 'single-A-minus': 1, 'melanin': 1, 'rand': 1, 'contributors': 1, 'blending': 1, 'lubricant': 1, 'phone': 1, 'telexes': 1, 'diseases': 1, 'microbes': 1, 'charter': 1, 'tank': 1, 'half-interest': 1, 'hunger': 1, 'supervisor': 1, 'Lopez': 1, 'pistols': 1, 'balls': 1, 'controller': 1, 'soil-nutrients': 1, 'polices': 1, 'mutation': 1, 'sons': 1, 'Frankfurt': 1, 'Rothschilds': 1, 'squads': 1, 'banker': 1, 'limitations': 1, 'sideshow': 1, 'Respect': 1, 'haven': 1, 'roads': 1, 'mountain': 1, 'ire': 1, 'student-athlete': 1, 'shuttles': 1, 'fiber': 1, 'attendees': 1, 'subjects': 1, 'manifesto': 1, 'farms': 1, 'exploits': 1, 'arrests': 1, 'inning': 1, 'duel': 1, 'opener': 1, 'outfield': 1, 'namesake': 1, 'card': 1, 'Scot': 1, 'dream': 1, 'photographs': 1, 'photo': 1, 'apartment': 1, 'apartments': 1, 'ordinance': 1, 'requirement': 1, 'crops': 1, 'bullet': 1, 'mayoralty': 1, 'slippage': 1, 'birthdays': 1, 'whites': 1, 'tenure': 1, 'personification': 1, 'say': 1, 'moratorium': 1, 'colleagues': 1, 'Guard': 1, 'potholes': 1, 'determination': 1, 'ineffectiveness': 1, 'Dinkins': 1, 'adjuster': 1, 'bricks': 1, 'dishes': 1, 'yards': 1, 'appliances': 1, 'countersuit': 1, 'AT&T': 1, 'outflows': 1, 'headline': 1, 'Brouwer': 1, 'smattering': 1, 'sterling': 1, 'uncertainties': 1, 'stopgap': 1, 'defender': 1, 'senator': 1, 'heroes': 1, 'ambiguities': 1, 'thinker': 1, 'yearning': 1, 'mainstay': 1, 'Marine': 1, 'shipyard': 1, 'chassis': 1, 'Harwood': 1, 'repeats': 1, 'Hartley': 1, 'horn': 1, 'precautions': 1, 'averages': 1, 'functioning': 1, 'Jones': 1, 'composites': 1, 'disorder': 1, 'Leigh-Pemberton': 1, 'makers': 1, 'bugs': 1, 'spearhead': 1, 'Corvette': 1, 'transistors': 1, 'descendant': 1, 'caster': 1, 'skyscraper': 1, 'commutes': 1, 'Harrison': 1, 'infractions': 1, 'individual': 1, 'diminution': 1, 'placing': 1, 'limbs': 1, 'spittle': 1, 'crooks': 1, 'tradition': 1, 'nobility': 1, 'meditation': 1, 'playwright': 1, 'surrogate': 1, 'glimpses': 1, 'Phoenix': 1, 'iteration': 1, 'skill': 1, 'tunnels': 1, 'businessmen': 1, 'brushes': 1, 'connoisseur': 1, 'demise': 1, 'advocate': 1, 'Filipino': 1, 'advocates': 1, 'languages': 1, 'uproar': 1, 'debates': 1, 'weekdays': 1, 'polish': 1, 'puppets': 1, 'topics': 1, 'Emhart': 1, 'Archibald': 1, 'underwriter': 1, 'jewels': 1, 'Tiffany': 1, 'Leish': 1, 'stamps': 1, 'snakes': 1, 'enactment': 1, 'authors': 1, 'diversity': 1, 'scheme': 1, 'platform': 1, 'pimps': 1, 'Isabella': 1, 'pluses': 1, 'editorial': 1, 'virility': 1, 'protocol': 1, 'mementos': 1, 'propriety': 1, 'footing': 1, 'scabs': 1, 'Organization': 1, 'OAS': 1, 'counterweight': 1, 'Fish': 1, 'coyote': 1, 'lubricants': 1, 'affirmation': 1, 'B.V.': 1, 'Europeans': 1, 'Roper': 1, 'ratification': 1, 'trustee': 1, 'Deng': 1, 'stigma': 1, 'Nixon': 1, 'Plan': 1, 'bankers': 1, 'subcontractors': 1, 'vendor': 1, 'Digital': 1, 'comptroller': 1, 'gnawing': 1, 'commentary': 1, 'delegates': 1, 'clock': 1, 'bartering': 1, 'disease': 1, 'dissonance': 1, 'Drabinsky': 1, 'chlorofluorocarbons': 1, 'thumbs-down': 1, 'allowances': 1, 'supports': 1, 'biography': 1, 'Holt': 1, 'quotation': 1, 'sanctity': 1, 'bar': 1, 'obligation': 1, 'concomitant': 1, 'remark': 1, 'interpretation': 1, 'pig': 1, 'whereabouts': 1, 'heroine': 1, 'Release': 1, 'Arby': 1, 'making': 1, 'wrap': 1, 'wagon': 1, 'pilgrimage': 1, 'emotion': 1, 'Politics': 1, 'appointments': 1, 'Barclay': 1, 'endorsements': 1, 'Again': 1, 'fence': 1, 'Agency': 1, 'impetus': 1, 'Payroll': 1, 'headlines': 1, 'outrage': 1, 'references': 1, 'doldrums': 1, 'scanners': 1, 'resignations': 1, 'coins': 1, 'laugh': 1, 'baby': 1, 'aids': 1, 'whimpers': 1, 'depth': 1, 'pull': 1, 'turbine': 1, 'Doubleday': 1, 'Bock': 1, 'escalation': 1, 'ride': 1, 'presentation': 1, 'chill': 1, 'Hotel': 1, 'resort': 1, 'tenth': 1, 'Dollar': 1, 'Petroleum': 1, 'ignorance': 1, 'gardens': 1, 'garden': 1, 'violet': 1, 'cones': 1, 'interiors': 1, 'waterfall': 1, 'jail': 1, 'Bartlett': 1, 'Economy': 1, 'breather': 1, 'David': 1, 'subscriptions': 1, 'packets': 1, 'Bronner': 1, 'Chivas': 1, 'Boren': 1, 'Chinese': 1, 'stock-taking': 1, 'sinking': 1, 'fresco': 1, 'carnival': 1, 'Kristin': 1, 'walk': 1, 'hotel-casino': 1, 'Grand': 1, 'rollers': 1, 'President': 1, 'usurpation': 1, 'Doctrine': 1, 'incumbents': 1, 'fault': 1, 'ax': 1, 'aftereffects': 1, 'Hills': 1, 'tremors': 1, 'panel': 1, 'Turner': 1, 'ear': 1, 'listener': 1, 'hill': 1, 'fashions': 1, 'pilots': 1, 'Provigo': 1, 'Cowan': 1, 'Nye': 1, 'intensity': 1, 'seal': 1, 'ESPs': 1, 'utilization': 1, 'Robertson': 1, 'Boesky': 1, 'tracks': 1, 'supervision': 1, 'Bolling': 1, 'Port': 1, 'grain': 1, 'bales': 1, 'steadiness': 1, 'caution': 1, 'combat': 1, 'diplomat': 1, 'leases': 1, 'pricecutting': 1, 'treatments': 1, 'ravages': 1, 'co-founder': 1, 'strikes': 1, 'illustration': 1, 'slum': 1, 'travel': 1, 'Joseph': 1, 'bankruptcies': 1, 'Bloomingdale': 1, 'Order': 1, 'catch-up': 1, 'Isacsson': 1, 'Klinsky': 1, 'Chase': 1, 'Pilson': 1, 'beeping': 1, 'Barton': 1, 'kick': 1, 'lobbying': 1, 'Flom': 1, 'criminal': 1, 'microphone': 1, 'Laff': 1, 'Menell': 1, 'distributer': 1, 'Congo': 1, 'June': 1, 'infringement': 1, 'contents': 1, 'gun': 1, 'Americans': 1, 'speakers': 1, 'chauvinism': 1, 'vetoes': 1, 'stockholders': 1, 'friendship': 1, 'buddy': 1, 'USX': 1, 'precondition': 1, 'Fatah': 1, 'terrorism': 1, 'contention': 1, 'offshoots': 1, 'uneasiness': 1, 'dive': 1, 'Loeb': 1, 'Glazer': 1, 'Lidgerwood': 1, 'concrete': 1, 'sphere': 1, 'waste': 1, 'scandals': 1, 'shells': 1, 'Namibia': 1, 'mist': 1, 'attractions': 1, 'chews': 1, 'maintainence': 1, 'penny': 1, 'hanging': 1, 'taxpayer': 1, 'MIDDLEMAN': 1, 'breakdowns': 1, 'outgrowth': 1, 'Delicious': 1, 'establishment': 1, 'apple': 1, 'worm': 1, 'trees': 1, 'connection': 1, 'expenditure': 1, 'hallmark': 1, 'identification': 1, 'stewardship': 1, 'preclearance': 1, 'reach': 1, 'scholar': 1, 'TRO': 1, 'State': 1, 'barns': 1, 'bosses': 1, 'hog': 1, 'feed': 1, 'undergirding': 1, 'rye': 1, 'fertilizer': 1, 'peasants': 1, 'cows': 1, 'bottle': 1, 'pressures': 1, 'Gramm-Rudman': 1, 'Tribe': 1, 'notions': 1, 'replay': 1, 'forfeitures': 1, 'RICO': 1, 'Mondays': 1, 'adjustments': 1, 'venues': 1, 'Bakker': 1, 'Gabor': 1, 'aria': 1, 'lifts': 1, 'connections': 1, 'conductor': 1, 'anguish': 1, 'lilt': 1, 'Rossini': 1, 'Tehran': 1, 'machetes': 1, 'Luber': 1, 'credit-worthiness': 1, 'credit-ratings': 1, 'reinterpretation': 1, 'appendages': 1, 'proliferation': 1, 'contingency': 1, 'prosecutors': 1, 'defendants': 1, 'bugaboo': 1, 'mound': 1, 'hassles': 1, 'mounds': 1, 'nightmare': 1, 'manuals': 1, 'productions': 1, 'masses': 1, 'collage': 1, 'maid': 1, 'T-bills': 1, 'half-hour': 1, 'ringer': 1, 'while': 1, 'acceptances': 1, 'splints': 1, 'animals': 1, 'code': 1, 'racehorse': 1, 'Axa': 1, 'prospectus': 1, 'GE': 1, 'Orr': 1, 'disclosures': 1, 'examinations': 1, 'folks': 1, 'slap': 1, 'Viacom': 1, 'Time': 1, 'Ries': 1, 'engines': 1, 'concentrate': 1, 'LBO': 1, 'heavyweights': 1, 'KKR': 1, 'proceeding': 1, 'mass': 1, 'velocity': 1, 'Dow': 1, 'International': 1, 'franchisee': 1, 'Massachusetts': 1, 'Waggoner': 1, 'allegiance': 1, 'protein': 1, 'proteins': 1, 'catheters': 1, 'movements': 1, 'achievements': 1, 'shoe': 1, 'Ball': 1, 'experimentation': 1, 'goals': 1, 'Institute': 1, 'mines': 1, 'advisory': 1, 'mushrooms': 1, 'traffickers': 1, 'MPD': 1, 'casinos': 1, 'World': 1, 'lapse': 1, 'hard-charging': 1, 'Reebok': 1, 'toys': 1, 'kidnapping': 1, 'profiles': 1, 'sums': 1, 'League': 1, 'verdicts': 1, 'calling': 1, 'Boies': 1, 'Reasoner': 1, 'attitudes': 1, 'feel': 1, 'Ostrager': 1, 'refrigerators': 1, 'compressors': 1, 'Buente': 1, 'stationery': 1, 'franchisees': 1, 'employee': 1, 'standing-room': 1, 'rides': 1, 'peninsula': 1, 'Thought': 1, 'whippings': 1, 'Weasel': 1, 'offside': 1, 'bishop': 1, 'king': 1, 'fashionable': 1, 'bourbons': 1, 'hitches': 1, 'chords': 1, 'glitz': 1, 'affairs': 1, 'silence': 1, 'Hansen': 1, 'stages': 1, 'Mechanisms': 1, 'soot': 1, 'permits': 1, 'Pittsburgh': 1, 'profit-taking': 1, 'Club': 1, 'beliefs': 1, 'creativity': 1, 'inch': 1, 'libel': 1, 'shred': 1, 'prey': 1, 'mystery': 1, 'R': 1, 'grounding': 1, 'textbooks': 1, 'principals': 1, 'changeover': 1, 'suitor': 1, 'numerator': 1, 'understatement': 1, 'Satisfaction': 1, 'commonwealth': 1, 'insurer': 1, 'dictator': 1, 'residence': 1, 'warren': 1, 'endeavors': 1, 'fraction': 1, 'residue': 1, 'Japanese': 1, 'Giroldi': 1, 'Men': 1, 'artifact': 1, 'hideouts': 1, 'civilians': 1, 'Prop.': 1, 'debris': 1, 'disgorgement': 1, 'captain': 1, 'Lombardo': 1, 'Silas': 1, 'Winners': 1, 'ships': 1, 'chiefs': 1, 'dailies': 1, 'Express': 1, 'contender': 1, 'Life': 1, 'rivalry': 1, 'treasury': 1, 'presses': 1, 'lagoons': 1, 'blue': 1, 'surface': 1, 'croaker': 1, 'whooper': 1, 'coverts': 1, 'transmissions': 1, 'chores': 1, 'island': 1, 'literature': 1, 'region': 1, 'centuries': 1, 'sympathizers': 1, 'album': 1, 'infusion': 1, 'Realty': 1, 'finger': 1, 'reputations': 1, 'brief': 1, 'misrepresentations': 1, 'bottom': 1, 'counterclaim': 1, 'contamination': 1, 'slick': 1, 'waivers': 1, 'Jan.': 1, 'Legent': 1, 'decree': 1, 'over-allotment': 1, 'half-share': 1, 'directive': 1, 'apprehension': 1, 'no-no': 1, 'stickler': 1, 'affair': 1, 'fairness': 1, 'corporation': 1, 'heist': 1, 'Watergate': 1, 'archness': 1, 'snapshots': 1, 'party-giving': 1, 'soirees': 1, 'meals': 1, 'occupation': 1, 'porcelain': 1, 'journal': 1, 'diet': 1, 'rooms': 1, 'Tack': 1, 'turnabout': 1, 'Hitachi': 1, 'shakeout': 1, 'redemptions': 1, 'avenue': 1, 'drink': 1, 'friendships': 1, 'one-upsmanship': 1, 'municipality': 1, 'Mistake': 1, 'witch': 1, 'dangers': 1, 'dropper': 1, 'stress': 1, 'nameplates': 1, 'grandchildren': 1, 'grandkids': 1, 'invasion': 1, 'nameplate': 1, 'Volvo': 1, 'holes': 1, 'bucks': 1, 'Sagos': 1, 'Imperial': 1, 'dimensions': 1, 'Koreans': 1, 'damn': 1, 'recital': 1, 'predilection': 1, 'motif': 1, 'orchestra': 1, 'kudos': 1, 'bra': 1, 'Maidenform': 1, 'exclusivity': 1, 'Rosenthal': 1, 'drain': 1, 'tribute': 1, 'hires': 1, 'ethos': 1, 'mistakes': 1, 'harangues': 1, 'stab': 1, 'chauffeurs': 1, 'corpse': 1, 'pizzazz': 1, 'unveiling': 1, 'Texaco': 1, 'speculators': 1, 'inadequacy': 1, 'confidants': 1, 'Navy': 1, 'Lavelle': 1, 'nominations': 1, 'Cowboys': 1, 'seasons': 1, 'Hurricanes': 1, 'elbows': 1, 'Aikman': 1, 'Walsh': 1, 'lease': 1, 'bureaucracy': 1, 'Finks': 1, 'secretaries': 1, 'Taylor': 1, 'Franklin-Trout': 1, 'documentary': 1, 'Sasser': 1, 'excuse': 1, 'agendas': 1, 'horns': 1, 'Blondes': 1, 'driving': 1, 'preamble': 1, 'drinking': 1, 'fetus': 1, 'wasteland': 1, 'rebels': 1, 'Selassie': 1, 'developer': 1, 'Rafales': 1, 'F-18s': 1, 'Rafale': 1, 'crises': 1, 'typhoons': 1, 'fiddle': 1, 'passports': 1, 'croissants': 1, 'hunt': 1, 'burglary': 1, 'upgrading': 1, 'researcher': 1, 'OTC': 1, 'designer': 1, 'glamour': 1, 'valuations': 1, 'Medical': 1, 'reign': 1, 'S&L': 1, 'watts': 1, 'congressman': 1, 'sentencing': 1, 'victor': 1, 'tires': 1, 'emission': 1, 'forest': 1, 'redevelopment': 1, 'beeswax': 1, 'wood': 1, 'acorns': 1, 'Koch': 1, 'undertone': 1, \"fancy'shvartzer\": 1, 'Mason': 1, 'Burke': 1, 'constraint': 1, 'reservation': 1, 'suntan': 1, 'principle': 1, 'chemicals': 1, 'financier': 1, 'nuts': 1, 'basics': 1, 'Henning': 1, 'Courthouse': 1, 'Needs': 1, 'reaches': 1, 'housewives': 1, 'specimens': 1, 'pangs': 1, 'joke': 1, 'screens': 1, 'Harbors': 1, 'insider': 1, 'Calverley': 1, 'proponents': 1, 'plastic': 1, 'stalwarts': 1, 'Boesel': 1, 'lockup': 1, 'guesswork': 1, 'insistence': 1, 'pitches': 1, 'reshuffling': 1, 'Lederberg': 1, 'Baltimore': 1, 'corrections': 1, 'quacks': 1, 'flock': 1, 'scrubbers': 1, 'stagnation': 1, 'accomplishments': 1, 'dam': 1, 'upturn': 1, 'reversals': 1, 'procedure': 1, 'FT-SE': 1, 'restructure': 1, 'selections': 1, 'province': 1, 'relaxation': 1, 'goatee': 1, 'kronor': 1, 'decade': 1, 'SE/30': 1, 'Haines': 1, 'reforms': 1, 'seconds': 1, 'aluminum': 1, 'hurt': 1, 'struggles': 1, 'Quantum': 1, 'pull-out': 1, 'survivor': 1, 'marches': 1, 'airport': 1, 'Hayes': 1, 'barbs': 1, 'injection': 1, 'fusion': 1, 'electrodes': 1, 'reality': 1, 'detectors': 1, 'neutrons': 1, 'efficiencies': 1, 'sluggishness': 1, 'pasture': 1, 'McCarthy': 1, 'wedge': 1, 'Riese': 1, 'telephone': 1, 'nickname': 1, 'autographs': 1, 'rundown': 1, 'payoff': 1, 'magnitude': 1, 'riskiness': 1, 'deviation': 1, 'dislike': 1, 'demonstration': 1, 'exit': 1, 'Dracula': 1, 'slurs': 1, 'dog': 1, 'founder': 1, 'Peterson': 1, 'anybody': 1, 'pause': 1, 'millionaires': 1, 'indulgence': 1, 'BMW': 1, 'toddler': 1, 'pizzas-with-everything': 1, 'dilemma': 1, 'college': 1, 'education': 1, 'racehorses': 1, 'discrepancies': 1, 'agents': 1, 'multitude': 1, 'tipsters': 1, 'deckhands': 1, 'pursuers': 1, 'glare': 1, 'category': 1, 'formality': 1, 'well': 1, 'lure': 1, 'trappings': 1, 'pants': 1, 'similarities': 1, 'retirees': 1, 'exam': 1, 'beneficiaries': 1, 'twists': 1, 'bonuses': 1, 'Maalox': 1, 'overcapacity': 1, 'oomph': 1, 'Hirschfeld': 1, \"D'Arcy\": 1, 'vacationers': 1, 'affiliation': 1, 'awards': 1, 'Vacation': 1, 'coconuts': 1, 'surtax': 1, 'reform': 1, 'co-sponsors': 1, 'mink': 1, 'overdependence': 1, 'embroidery': 1, 'leftists': 1, 'courage': 1, 'drumroll': 1, 'Stevens': 1, 'pennies': 1, 'boatload': 1, 'breadth': 1, 'oddity': 1, 'medal': 1, 'rubber': 1, 'bicycle': 1, 'Nghe': 1, 'rice': 1, 'entrepreneur': 1, 'darling': 1, 'capabilities': 1, 'laptops': 1, 'creditor': 1, 'volcano': 1, 'IRS': 1, 'convention': 1, 'bulwark': 1, 'Florio': 1, 'curbs': 1, 'Hispanics': 1, 'photograph': 1, 'footnote': 1, 'pessimism': 1, 'categories': 1, 'undoing': 1, 'aging': 1, 'shuttle-busing': 1, 'amenities': 1, 'microphones': 1, 'candles': 1, 'zenith': 1, 'takeovers': 1, 'Aug.': 1, 'micro-liquidity': 1, 'equivalents': 1, 'gauge': 1, 'Index': 1, 'Lufkin': 1, 'Chandross': 1, 'par': 1, 'causes': 1, 'charities': 1, 'percentages': 1, 'mailing': 1, 'coattails': 1, 'thoughts': 1, 'coal': 1, 'workdays': 1, 'premises': 1, 'connotations': 1, 'finance': 1, 'Buffett': 1, 'thrashing': 1, 'shooting': 1, 'Flashdance': 1, 'kernel': 1, 'Gorillas': 1, 'widow': 1, 'tape': 1, 'Legend': 1, 'Puttnam': 1, 'bundles': 1, 'heyday': 1, 'Corcoran': 1, 'secrets': 1, 'dearth': 1, 'underwritten': 1, 'Tigers': 1, 'intimacy': 1, 'friendliness': 1, 'occurrence': 1, 'postcards': 1, 'quake': 1, 'eyewitness': 1, 'plume': 1, 'motorist': 1, 'weighting': 1, 'hardships': 1, 'February': 1, 'plenum': 1, 'averaging': 1, 'unraveling': 1, 'Gray': 1, 'omission': 1, 'Thevenot': 1, 'cameo': 1, 'Tokyo': 1, 'divergence': 1, 'cellars': 1, 'purchasing': 1, 'renown': 1, 'fascists': 1, 'sun': 1, 'century': 1, 'vacuum': 1, 'Chile': 1, 'disbanding': 1, 'symmetry': 1, 'nights': 1, 'WWOR': 1, 'WTXF': 1, 'Fox': 1, 'prelude': 1, 'surprise': 1, 'privatization': 1, 'wiggle': 1, 'signatures': 1, 'bureaus': 1, 'Safeco': 1, 'double-A': 1, 'triple-A': 1, 'editors': 1, 'wires': 1, 'announcements': 1, 'abstracts': 1, 'logos': 1, 'format': 1, 'breaks': 1, 'Jibril': 1, 'warm-up': 1, 'catamaran': 1, 'Cup': 1, 'Hoelzer': 1, 'binge': 1, 'shippers': 1, 'entities': 1, 'Deloitte': 1, 'audit': 1, 'queries': 1, 'drill': 1, 'trailer': 1, 'flashlights': 1, 'Gulf': 1, 'shuts': 1, 'mechanisms': 1, \"'d\": 1, 'employer': 1, 'boutique': 1, 'comparison': 1, 'Republicans': 1, 'Republican': 1, 'bacon': 1, 'defeat': 1, 'Democrats': 1, 'subcommittee': 1, 'Markets': 1, 'guts': 1, 'remorse': 1, 'constituents': 1, 'hotel': 1, 'wreckage': 1, 'flotilla': 1, 'fishing': 1, 'communists': 1, 'overseers': 1, 'narrator': 1, 'resentment': 1, 'courtesy': 1, 'Texans': 1, 'theme': 1, 'nose': 1, 'buddies': 1, 'Declaration': 1, 'Discovision': 1, 'California': 1, 'desecration': 1, 'Cela': 1, 'pit': 1, 'CBOE': 1, 'GATT': 1, 'condominium': 1, 'Lambert': 1, 'Dictionary': 1, 'dialing': 1, 'Jeep': 1, 'Plant': 1, 'library': 1, 'patterns': 1, 'worker': 1, 'abolition': 1, 'perfection': 1, 'preaching': 1, 'townhouses': 1, 'shantytown': 1, 'God': 1, 'Workers': 1, 'RATIOS': 1, 'ratios': 1, 'luster': 1, 'makes': 1, 'inventory': 1, 'parting': 1, 'annuities': 1, 'pencils': 1, 'sheaths': 1, 'Little': 1, 'Well': 1, 'excerpts': 1, 'frames': 1, 'triage': 1, 'dogs': 1, 'sounds': 1, 'rebounded': 1, 'nervousness': 1, 'starts': 1, 'clamp': 1, 'overstatement': 1, 'Lot': 1, 'Charleston': 1, 'populism': 1, 'Pemex': 1, 'crude': 1, 'overhaul': 1, 'petrochemicals': 1, 'apologies': 1, 'wives': 1, 'difficulty': 1, 'issuer': 1, 'moderation': 1, 'complexity': 1, 'recurrence': 1, 'borrower': 1, 'ingredients': 1, 'unwillingness': 1, 'objectives': 1, 'viewpoints': 1, 'politicians': 1, 'alternative': 1, 'windows': 1, 'whiskey': 1, 'distillery': 1, 'beers': 1, 'Heineken': 1, 'mainframes': 1, 'Shannon': 1, 'turbulence': 1, 'Himebaugh': 1, 'spacecraft': 1, 'Jupiter': 1, 'paradox': 1, 'ocean': 1, 'craft': 1, 'experiments': 1, 'doses': 1, 'galaxies': 1, 'Disney': 1, 'Steinberg': 1, 'boards': 1, 'documentation': 1, 'Gibson': 1, 'refund': 1, 'ante': 1, 'aftermath': 1, 'caseload': 1, 'rescue': 1, 'highways': 1, 'Pankyo': 1, 'Christmas': 1, 'ranking': 1, 'last': 1, 'pretensions': 1, 'run-up': 1, 'spreadsheet': 1, 'tiles': 1, 'sensors': 1, 'factories': 1, 'show-stoppers': 1, 'stomachs': 1, 'salmonella': 1, 'assault': 1, 'buck': 1, 'gum': 1, 'screenplay': 1, 'brothers': 1, 'piano': 1, 'costumes': 1, 'Lang': 1, 'Isuzu': 1, 'McNamee': 1, 'Pan': 1, 'Coupes': 1, 'sins': 1, 'HUD': 1, 'Rock': 1, 'welfare': 1, 'realities': 1, 'paeans': 1, 'necks': 1, 'avalanche': 1, 'America': 1, 'empires': 1, 'consequence': 1, 'shock': 1, 'achievement': 1, 'crews': 1, 'inspection': 1, 'measurements': 1, 'authorization': 1, 'Georgia-Pacific': 1, 'homemaker': 1, 'clutter': 1, 'non-user': 1, 'attachment': 1, 'hug': 1, 'skids': 1, 'wastes': 1, 'carrot': 1, 'Barber': 1, 'owning': 1, 'pardon': 1, 'exclusions': 1, 'prosperity': 1, 'one-fourth': 1, 'GNP': 1, 'maps': 1, 'rows': 1, 'prince': 1, 'Patients': 1, 'Teich': 1, 'Krenz': 1, 'creature': 1, 'statehood': 1, 'recipe': 1, 'compliments': 1, 'necessity': 1, 'speeches': 1, 'devotion': 1, 'renewal': 1, 'utopia': 1, 'cues': 1, 'Greece': 1, 'Equitec': 1, 'teeth': 1, 'acquirer': 1, 'Becker': 1, 'incursion': 1, 'instability': 1, 'gold': 1, 'lira': 1, 'firefighters': 1, 'beds': 1, 'Ms.': 1, 'Taber': 1, 'repayments': 1, 'redoubt': 1, 'shoppers': 1, 'manufacturing': 1, 'furnaces': 1, 'Oakland': 1, 'temblor': 1, 'destruction': 1, 'Freres': 1, 'carping': 1, 'Segar': 1, 'piles': 1, 'cola': 1, 'survivors': 1, 'surgery': 1, 'Republic': 1, 'patience': 1, 'seating': 1, 'streak': 1, 'narrative': 1, 'credentials': 1, 'nominee': 1, 'journey': 1, 'happening': 1, 'underwriting': 1, 'Irises': 1, 'eyebrows': 1, 'Germans': 1, 'reunification': 1, 'border': 1, 'ideology': 1, 'resilience': 1, 'Barakat': 1, 'Starzl': 1, 'stays': 1, 'dosage': 1, 'necessities': 1, 'F': 1, 'ethics': 1, 'preparedness': 1, 'accomplishment': 1, 'comedy': 1, 'falseness': 1, 'verse': 1, 'pettiness': 1, 'adaptation': 1, 'silences': 1, 'dissection': 1, 'homecoming': 1, 'Ruth': 1, 'Death': 1, 'usability': 1, 'Bradley': 1, 'pany': 1, 'carpets': 1, 'fumes': 1, 'Dutch': 1, 'paychecks': 1, 'Guinness': 1, 'coincidence': 1, 'gratuity': 1, 'rises': 1, 'one-half': 1, 'decreases': 1, 'Next': 1, 'revolution': 1, 'sell': 1, 'clips': 1, 'counterpart': 1, 'receipts': 1, 'October': 1, 'rebate': 1, 'Mastergate': 1, 'paraphernalia': 1, 'band': 1, 'impersonations': 1, 'succession': 1, 'fun': 1, 'flunky': 1, 'obfuscation': 1, 'Johnson': 1, 'toe': 1, 'hoisting': 1, 'Gutfreunds': 1, 'nests': 1, 'Fear': 1, 'corners': 1, 'weddings': 1, 'speedup': 1, 'missions': 1, 'Comeback': 1, 'Miller': 1, 'ink': 1, 'analyst': 1, 'VS': 1, 'Wang': 1, 'pride': 1, 'revenues': 1, 'shipsets': 1, 'Sherman': 1, 'luminaries': 1, 'ridicule': 1, 'cross': 1, 'roommate': 1, 'masks': 1, 'Nature': 1, 'Good-bye': 1, 'accountability': 1, 'servants': 1, 'modernization': 1, 'signature': 1, 'crematoriums': 1, 'coup-makers': 1, 'cadet': 1, 'excuses': 1, 'son': 1, 'cult': 1, 'elite': 1, 'cache': 1, 'prisoners': 1, 'Torrijos': 1, 'wiretaps': 1, 'Panamanians': 1, 'Panamanian': 1, 'protectors': 1, 'Briggs': 1, 'beheading': 1, 'killing': 1, 'summary': 1, 'smoking': 1, 'Kristiansen': 1, 'Journalists': 1, 'planet': 1, 'famine': 1, 'tumors': 1, 'probability': 1, 'chemistry': 1, 'soft-drinks': 1, 'jitters': 1, 'Hooker': 1, 'cartoons': 1, 'misquotation': 1, 'levamisole': 1, 'gasolines': 1, 'carrier': 1, 'Starr': 1, 'deadlines': 1, 'perks': 1, 'caches': 1, 'gifts': 1, 'helicopters': 1, 'thrill': 1, 'trail': 1, 'bastion': 1, 'revenge': 1, 'McDermott': 1, 'Gupta': 1, 'mess': 1, 'cry': 1, 'facsimiles': 1, 'middlemen': 1, 'lapses': 1, 'stewards': 1, 'extinction': 1, 'conservationists': 1, 'furniture': 1, 'assembly': 1, 'Fletcher': 1, 'Afghanistan': 1, 'Hekhmatyar': 1, 'minefields': 1, 'soul': 1, 'episode': 1, 'idiocy': 1, 'retrenchment': 1, 'divide': 1, 'exhibition': 1, 'collectors': 1, 'blue-chips': 1, 'weightings': 1, 'shutdown': 1, 'analyses': 1, 'privileges': 1, 'illustrations': 1, 'carry-forward': 1, 'optimism': 1, 'advertisement': 1, 'depositors': 1, 'Mehl': 1, 'disbursements': 1, 'resource': 1, 'hike': 1, 'consents': 1, 'intraday': 1, 'midday': 1, 'Foods': 1, 'evaluation': 1, 'ADRs': 1, 'architecture': 1, 'RISC': 1, 're-election': 1, 'benchmark': 1, 'labs': 1, 'leap': 1, 'callers': 1, 'depths': 1, 'airlift': 1, 'explusion': 1, 'clarification': 1, 'India': 1, 'Israel': 1, 'magistrate': 1, 'bloodbath': 1, 'ray': 1, 'Wolf': 1, 'update': 1, 'borrowings': 1, 'instruction': 1, 'Berlitz': 1, 'synthesizers': 1, 'listening': 1, 'litany': 1, 'yearn': 1, 'preparation': 1, 'gimmicks': 1, 'deterrent': 1, 'ant': 1, 'vigor': 1, 'sculpture': 1, 'dealership': 1, 'bear': 1, 'abandonment': 1, 'lawn': 1, 'Command': 1, 'ghost': 1, 'C-17': 1, 'training': 1, 'jillions': 1, 'admiral': 1, 'chains': 1, 'master': 1, 'excesses': 1, 'galleries': 1, 'Paul': 1, 'deadline': 1, 'authenticity': 1, 'brim': 1, 'FASB': 1, 'translations': 1, 'Read': 1, 'amplifiers': 1, 'fluctuations': 1, 'prescription': 1, 'Neff': 1, 'LeFrere': 1, 'Management': 1, 'fluff': 1, 'blunder': 1, 'overreaction': 1, 'denial': 1, 'pipelines': 1, 'MLX': 1, 'compiler': 1, 'expo': 1, 'casino': 1, 'fouling': 1, 'LeMans': 1, 'minicars': 1, 'openers': 1, 'softies': 1, 'newsletter': 1, 'non-event': 1, 'start-up': 1, 'homage': 1, 'beauty': 1, 'calmness': 1, 'novel': 1, 'wings': 1, 'propane': 1, 'rage': 1, 'crew-rest': 1, 'Aeroflot': 1, 'Lingus': 1, 'toehold': 1, 'kings': 1, 'means': 1, 'prediction': 1, 'Kodak': 1, 'Cohen': 1, 'solicitor': 1, 'July': 1, 'rotation': 1, 'luxury': 1, 'therapists': 1, 'balm': 1, 'masseuse': 1, 'consciousness': 1, 'professionalism': 1, 'Emerson': 1, 'touching': 1, 'knees': 1, 'Development': 1, 'corner': 1, 'McGlade': 1, 'Hood': 1, 'foul-up': 1, 'plaintiff': 1, 'Alexander': 1, 'swat': 1, 'windfalls': 1, 'Minella': 1, 'Feinman': 1, 'defaults': 1, 'tonic': 1, 'basket': 1, 'Murphy': 1, 'Trump': 1})\n",
            "\n",
            "Frequent Nouns (2nd):\n",
            "Counter({'$': 1784, '%': 359, 'market': 282, 'quarter': 276, 'years': 219, 'company': 190, 'year': 169, 'shares': 167, 'time': 125, 'months': 120, 'yen': 115, 'stock': 114, 'trading': 112, 'Inc.': 106, 'markets': 98, 'companies': 97, 'Corp.': 95, 'U.S.': 94, 'sales': 92, 'business': 90, 'cents': 89, 'stocks': 85, 'prices': 85, 'September': 79, 'end': 75, 'earnings': 74, 'period': 69, 'operations': 69, 'million': 68, 'sale': 67, 'August': 67, 'people': 66, 'unit': 64, 'price': 63, 'part': 62, 'revenue': 61, 'products': 60, 'it': 59, 'one': 58, 'group': 58, 'days': 58, 'industry': 54, 'income': 53, 'bonds': 53, 'investors': 52, 'system': 52, 'plan': 51, 'area': 50, 'board': 49, 'bid': 48, 'Co.': 47, 'loans': 47, 'Japan': 47, 'dollars': 46, 'economy': 45, 'office': 45, 'government': 45, 'court': 44, 'meeting': 43, 'assets': 42, 'funds': 42, 'weeks': 41, 'banks': 41, 'levels': 41, 'issues': 41, 'way': 41, 'July': 40, 'firms': 40, 'effort': 39, 'profit': 39, 'exchange': 38, 'businesses': 38, 'debt': 38, 'rates': 38, 'week': 38, 'them': 38, 'offer': 37, 'Congress': 37, 'Europe': 37, 'growth': 36, 'money': 36, 'level': 35, '1990': 35, 'those': 35, 'world': 35, 'work': 35, 'contract': 35, 'president': 34, 'day': 34, '1987': 33, 'program': 33, 'Board': 33, 'law': 33, 'francs': 33, 'case': 32, 'computers': 32, 'transaction': 32, 'cash': 32, 'tons': 32, 'Inc': 32, 'use': 31, 'stores': 31, 'value': 30, 'policy': 30, 'rate': 30, 'bill': 29, 'own': 29, 'losses': 29, 'countries': 29, 'customers': 29, 'securities': 29, 'plans': 29, 'issue': 29, 'basis': 29, 'offering': 29, 'result': 29, 'employees': 29, '1989': 28, 'interest': 28, '1988': 28, 'country': 28, 'month': 28, 'state': 28, 'plant': 28, 'concern': 27, 'half': 27, 'costs': 27, 'firm': 27, 'areas': 27, 'cases': 27, 'production': 27, 'subsidiary': 27, 'point': 27, 'life': 26, 'units': 26, 'number': 26, 'members': 26, 'contracts': 26, 'York': 25, 'amount': 25, 'bank': 25, 'maker': 25, 'future': 25, 'shareholders': 25, 'deal': 24, 'share': 24, 'Bank': 24, 'programs': 24, 'history': 24, 'stake': 24, 'increase': 24, 'all': 24, 'Jaguar': 24, 'return': 23, 'legislation': 23, 'acquisition': 23, 'trade': 23, '1986': 23, 'March': 23, 'officials': 23, 'investment': 23, 'problems': 23, 'investments': 23, 'Exchange': 22, 'groups': 22, 'dollar': 22, 'Corp': 22, 'cost': 22, 'power': 22, 'June': 22, 'plants': 22, 'line': 22, 'cars': 22, 'Oct.': 22, 'crash': 21, 'Commission': 21, 'Nov.': 21, 'demand': 21, 'clients': 21, 'volume': 21, 'Ltd.': 21, 'goods': 21, 'risk': 21, 'action': 21, 'control': 21, 'inflation': 21, 'House': 21, 'portfolio': 21, 'earthquake': 21, 'him': 20, 'May': 20, 'place': 20, 'that': 20, 'accounts': 20, 'oil': 20, 'division': 20, '1985': 20, 'capital': 20, 'lines': 20, 'buy-out': 20, 'rights': 20, 'states': 20, 'workers': 20, 'hours': 20, 'Street': 19, 'marks': 19, 'Group': 19, 'Friday': 19, 'report': 19, 'project': 19, 'agreement': 19, 'efforts': 19, 'management': 19, 'services': 19, 'pence': 18, 'gain': 18, 'regulators': 18, 'chairman': 18, 'orders': 18, 'times': 18, 'holders': 18, 'credit': 18, 'problem': 18, 'account': 18, 'America': 18, 'currency': 18, 'Court': 18, 'concerns': 18, 'this': 18, 'campaign': 17, 'London': 17, 'position': 17, 'activity': 17, 'reserves': 17, 'performance': 17, 'session': 17, 'list': 17, 'Co': 17, 'October': 17, 'California': 17, 'product': 17, 'index': 17, 'field': 17, 'talks': 17, 'venture': 17, 'land': 17, 'loss': 17, 'series': 17, 'taxes': 17, 'support': 17, 'home': 17, 'charges': 17, 'agency': 17, 'research': 17, 'children': 17, 'process': 16, 'results': 16, 'city': 16, 'bills': 16, 'others': 16, 'attempt': 16, 'parts': 16, 'change': 16, 'decline': 16, 'ventures': 16, 'century': 16, 'machines': 16, 'par': 16, 'premium': 16, 'term': 16, 'Monday': 15, 'facilities': 15, 'billion': 15, 'equipment': 15, 'January': 15, 'gains': 15, 'financing': 15, 'C$': 15, 'aircraft': 15, 'estimate': 15, 'holdings': 15, 'Department': 15, 'information': 15, 'other': 15, 'officer': 15, 'advance': 15, 'building': 15, 'some': 15, 'insurance': 15, 'activities': 15, 'committee': 15, 'force': 14, 'offices': 14, '1992': 14, 'Institute': 14, 'conference': 14, 'plunge': 14, 'themselves': 14, 'form': 14, 'battle': 14, 'paper': 14, 'development': 14, 'recession': 14, 'April': 14, 'December': 14, 'gas': 14, 'machine': 14, '1991': 14, 'policies': 14, 'date': 14, 'abortion': 14, 'abortions': 14, 'strategy': 14, 'quarters': 14, 'Bush': 14, 'purchase': 14, 'sector': 14, 'AG': 14, 'University': 14, 'creditors': 14, 'headquarters': 14, 'imports': 14, 'systems': 14, 'A$': 14, 'television': 13, 'PLC': 13, 'notes': 13, 'team': 13, 'more': 13, 'construction': 13, 'Union': 13, 'terms': 13, 'course': 13, 'Tokyo': 13, 'news': 13, 'side': 13, 'City': 13, 'Poland': 13, 'interests': 13, 'rest': 13, 'equity': 13, 'advertising': 13, 'capacity': 13, 'region': 13, 'increases': 13, 'provisions': 13, 'steel': 13, 'Washington': 13, 'intent': 13, 'decade': 13, 'record': 13, 'operation': 13, 'directors': 13, 'lawyers': 13, 'payments': 13, 'network': 13, 'proposal': 13, 'technology': 13, 'Francisco': 13, 'disaster': 13, 'weekend': 12, 'advertisers': 12, 'response': 12, 'exchanges': 12, 'transactions': 12, 'things': 12, 'speculation': 12, 'projects': 12, 'democracy': 12, 'nation': 12, 'past': 12, 'most': 12, 'interview': 12, 'items': 12, 'fact': 12, '1970s': 12, '1981': 12, 'drugs': 12, 'institutions': 12, 'computer': 12, '1980': 12, 'family': 12, 'hands': 12, 'hand': 12, 'Senate': 12, 'leaders': 12, 'November': 12, 'favor': 12, 'profits': 12, 'returns': 12, 'job': 12, 'Chicago': 12, 'house': 12, 'range': 12, 'suit': 12, 'defendants': 12, 'principle': 11, 'minutes': 11, 'Canada': 11, 'makers': 11, 'close': 11, 'rise': 11, 'drop': 11, 'auction': 11, 'prospects': 11, 'center': 11, 'barrels': 11, 'safety': 11, 'environment': 11, 'buyers': 11, 'direction': 11, 'matter': 11, 'agencies': 11, 'now': 11, 'takeover': 11, 'property': 11, 'public': 11, 'investigation': 11, 'mind': 11, 'competition': 11, 'mainframes': 11, 'meetings': 11, 'war': 11, 'example': 11, 'acquisitions': 11, 'estate': 11, 'Warner': 11, 'February': 11, 'strength': 11, 'move': 11, 'trend': 11, 'homes': 11, 'subject': 11, 'aid': 11, 'buildings': 11, 'name': 10, 'situation': 10, 'fall': 10, 'net': 10, 'spending': 10, 'water': 10, 'changes': 10, 'us': 10, 'floor': 10, 'futures': 10, 'chain': 10, 'Sept.': 10, 'producers': 10, '1984': 10, 'exports': 10, 'dispute': 10, 'magazine': 10, 'space': 10, 'each': 10, 'population': 10, 'Committee': 10, 'behalf': 10, 'GM': 10, 'service': 10, 'society': 10, 'corporations': 10, 'debate': 10, 'much': 10, 'protection': 10, 'restructuring': 10, 'ways': 10, 'documents': 10, 'elections': 10, 'top': 10, 'stations': 10, 'Center': 10, 'order': 10, 'competitors': 10, 'parent': 10, 'trial': 10, 'role': 10, 'victims': 10, 'bureau': 10, 'calls': 9, 'relief': 9, 'administration': 9, 'Paris': 9, 'events': 9, 'average': 9, 'anticipation': 9, 'conditions': 9, 'deposits': 9, 'negotiations': 9, 'suppliers': 9, 'industries': 9, 'settlement': 9, 'dividends': 9, 'sign': 9, 'speech': 9, 'summer': 9, 'Texas': 9, 'rape': 9, 'permission': 9, 'association': 9, 'vote': 9, 'executives': 9, 'trades': 9, 'lenders': 9, 'investor': 9, 'success': 9, 'fund': 9, 'budget': 9, 'CDs': 9, 'car': 9, 'ground': 9, 'hopes': 9, 'laws': 9, 'view': 9, 'style': 9, 'class': 9, 'points': 9, 'maturity': 9, 'run': 9, '1982': 9, 'something': 9, 'China': 9, 'beginning': 9, 'cuts': 9, 'drug': 9, 'collapse': 9, 'rebels': 9, 'gold': 9, 'names': 9, 'ones': 9, '1983': 9, 'reports': 9, 'death': 9, 'Kidder': 9, 'loan': 9, 'cells': 9, 'charge': 9, 'ability': 9, 'total': 9, 'restrictions': 9, 'claims': 9, 'retirement': 9, 'TV': 9, 'UAL': 9, 'contest': 8, 'surgery': 8, 'game': 8, 'customer': 8, 'hour': 8, 'weakness': 8, 'wake': 8, 'selling': 8, 'declines': 8, 'decisions': 8, 'consumers': 8, 'politics': 8, 'quality': 8, 'event': 8, 'citizens': 8, 'reaction': 8, 'impact': 8, 'data': 8, 'assumption': 8, 'deals': 8, 'party': 8, 'families': 8, 'Britain': 8, 'statement': 8, 'anything': 8, 'generation': 8, 'visit': 8, 'practices': 8, 'usual': 8, 'moves': 8, 'drives': 8, 'magazines': 8, 'show': 8, 'grounds': 8, 'defense': 8, 'evidence': 8, 'health': 8, '1980s': 8, 'version': 8, 'tax': 8, 'another': 8, 'fees': 8, 'hearings': 8, 'portfolios': 8, 'tests': 8, 'News': 8, 'table': 8, 'decision': 8, 'options': 8, 'West': 8, 'press': 8, 'Association': 8, 'story': 8, 'pressure': 8, 'boards': 8, 'lire': 8, 'size': 8, 'brands': 8, 'community': 8, 'brand': 8, 'majority': 8, 'jobs': 8, 'anyone': 8, 'Moscow': 8, 'benefits': 8, 'facility': 8, 'bids': 8, 'uncertainty': 8, 'chips': 8, 'brokers': 8, 'quake': 8, 'liability': 8, 'manufacturers': 8, 'model': 8, 'Contras': 8, 'Dec.': 8, 'shows': 8, 'Hugo': 8, 'individuals': 8, 'factories': 8, 'culture': 8, 'metals': 8, 'pilots': 8, 'kronor': 8, 'front': 8, 'positions': 8, 'moment': 8, 'head': 8, 'EDT': 7, 'season': 7, 'analysts': 7, 'rooms': 7, 'reasons': 7, 'manner': 7, 'rules': 7, 'school': 7, 'scale': 7, 'election': 7, 'values': 7, 'leadership': 7, 'movies': 7, 'fashion': 7, 'sides': 7, 'back': 7, 'resort': 7, 'Africa': 7, 'sense': 7, 'me': 7, 'marketplace': 7, 'Treasury': 7, 'trust': 7, 'spring': 7, 'kind': 7, 'source': 7, 'announcement': 7, 'director': 7, 'proceedings': 7, 'Journal': 7, 'Office': 7, 'branches': 7, 'actions': 7, 'prison': 7, 'women': 7, 'France': 7, 'street': 7, 'cut': 7, 'review': 7, 'deficit': 7, 'Airlines': 7, 'measure': 7, 'measures': 7, 'screen': 7, 'margin': 7, 'Florida': 7, 'drive': 7, 'franchise': 7, 'output': 7, 'town': 7, 'Germany': 7, 'County': 7, 'staff': 7, 'light': 7, 'England': 7, 'proceeds': 7, 'Express': 7, 'heart': 7, 'any': 7, 'packages': 7, 'East': 7, 'district': 7, 'vehicles': 7, 'cause': 7, 'the': 7, 'traders': 7, 'station': 7, 'ceiling': 7, 'System': 7, 'Mixte': 7, 'rumors': 7, 'millions': 7, 'standards': 7, 'common': 7, 'fraud': 7, 'subsidiaries': 7, 'test': 7, 'advice': 7, 'hope': 7, 'opportunity': 7, 'damage': 7, 'Nicaragua': 7, 'purposes': 7, 'merger': 7, 'Paribas': 7, 'supply': 7, 'crisis': 7, 'crime': 7, 'Park': 7, 'partner': 7, 'set': 7, 'trip': 7, 'buying': 7, 'media': 7, 'forces': 7, 'farmers': 7, 'parties': 7, 'assistance': 7, 'models': 7, 'expenses': 7, 'amendment': 7, 'articles': 7, 'connection': 7, 'thrifts': 6, 'hits': 6, 'mark': 6, 'States': 6, 'carrier': 6, 'equities': 6, 'routes': 6, 'ban': 6, 'package': 6, 'margins': 6, 'excess': 6, 'periods': 6, 'copper': 6, 'executive': 6, 'volatility': 6, 'planes': 6, 'flights': 6, 'extent': 6, 'progress': 6, 'failure': 6, 'Soviets': 6, 'devices': 6, 'manager': 6, 'department': 6, 'buy-outs': 6, 'amounts': 6, 'funding': 6, 'compromise': 6, 'indication': 6, 'fields': 6, 'college': 6, 'condition': 6, 'owners': 6, 'operators': 6, 'HUD': 6, 'matters': 6, 'hearing': 6, 'houses': 6, 'type': 6, 'summit': 6, '1990s': 6, 'practice': 6, 'many': 6, 'Ford': 6, 'Service': 6, 'wage': 6, 'fire': 6, 'surge': 6, 'approval': 6, 'affiliate': 6, 'communities': 6, 'relationship': 6, 'fight': 6, 'candidates': 6, 'movement': 6, 'Kong': 6, 'alliance': 6, 'Gorbachev': 6, 'studies': 6, 'hold': 6, 'face': 6, 'Democrats': 6, 'yield': 6, 'design': 6, 'study': 6, 'exposure': 6, 'union': 6, 'age': 6, 'partnership': 6, 'patients': 6, 'expense': 6, 'payroll': 6, 'schools': 6, 'socialism': 6, 'baseball': 6, 'Series': 6, 'students': 6, 'swings': 6, 'Reagan': 6, 'ads': 6, 'lawsuits': 6, 'check': 6, 'eggs': 6, 'Columbia': 6, 'Act': 6, 'couple': 6, 'mine': 6, 'profitability': 6, 'ownership': 6, 'Oakland': 6, 'sort': 6, 'purchases': 6, 'art': 6, 'damages': 6, 'risks': 6, 'broker': 6, '1994': 6, 'Ltd': 6, 'Dallas': 6, 'banking': 6, 'Noriega': 6, 'reform': 6, 'phone': 6, 'liquidity': 6, 'suits': 6, 'block': 6, 'delivery': 6, 'flow': 6, 'disasters': 6, 'security': 6, 'coverage': 6, '10': 6, 'Aug.': 6, 'release': 6, 'resorts': 6, 'panic': 5, 'revenues': 5, 'games': 5, 'teams': 5, 'Pacific': 5, 'economics': 5, 'unions': 5, 'respect': 5, 'tactics': 5, 'pieces': 5, 'mortgages': 5, 'behavior': 5, 'litigation': 5, 'segments': 5, 'contrast': 5, 'energy': 5, 'flight': 5, 'commitment': 5, 'Partners': 5, 'beef': 5, 'atmosphere': 5, 'completion': 5, 'combination': 5, 'legislature': 5, 'chief': 5, 'will': 5, 'delays': 5, 'polyethylene': 5, 'hotels': 5, 'demands': 5, 'need': 5, 'tools': 5, 'supplies': 5, 'lawsuit': 5, 'consolidation': 5, 'mid-1990s': 5, 'Connaught': 5, 'site': 5, 'takeovers': 5, 'Avenue': 5, 'four': 5, 'eye': 5, 'opportunities': 5, 'Savings': 5, 'Wednesday': 5, 'Average': 5, 'crude': 5, 'Midwest': 5, 'sport': 5, 'blacks': 5, 'category': 5, 'chemicals': 5, 'stage': 5, 'defendant': 5, 'thousands': 5, 'sellers': 5, 'accord': 5, 'players': 5, 'users': 5, 'resistance': 5, 'gene': 5, 'carriers': 5, 'training': 5, '1976': 5, 'factors': 5, 'slowdown': 5, 'convention': 5, 'questions': 5, 'access': 5, 'book': 5, 'borrowing': 5, 'judges': 5, 'Hunt': 5, 'Japanese': 5, 'choice': 5, 'corporation': 5, 'owner': 5, 'request': 5, 'Sony': 5, 'image': 5, 'rivals': 5, 'commissions': 5, 'Hungary': 5, 'proposals': 5, 'cards': 5, 'airline': 5, 'high': 5, 'agenda': 5, 'politicians': 5, 'road': 5, 'allegations': 5, 'taxpayers': 5, '1974': 5, 'communications': 5, 'Asia': 5, 'payment': 5, 'door': 5, 'slide': 5, 'centers': 5, 'seconds': 5, 'bankers': 5, 'resources': 5, 'Television': 5, 'forms': 5, 'adviser': 5, 'cities': 5, 'man': 5, 'portion': 5, 'regard': 5, 'seats': 5, 'theory': 5, 'cooperation': 5, 'abuse': 5, 'affiliates': 5, 'types': 5, 'marketing': 5, 'nine': 5, 'shipments': 5, 'Ministry': 5, 'manufacturing': 5, 'materials': 5, 'commission': 5, 'fear': 5, 'Foundation': 5, 'partners': 5, 'arbitrage': 5, 'means': 5, 'insurer': 5, 'donations': 5, 'victory': 5, 'cancer': 5, 'outlets': 5, 'strike': 5, 'Thursday': 5, 'Fed': 5, '1970': 5, 'stability': 5, 'improvements': 5, 'planning': 5, 'lives': 5, 'experience': 5, 'outsiders': 5, 'emergency': 5, 'discussion': 5, 'confusion': 5, 'software': 5, 'lunch': 5, 'dividend': 5, 'feet': 5, 'men': 5, 'Panama': 5, 'advisers': 5, 'article': 5, 'device': 5, 'Pentagon': 5, 'consideration': 5, 'agents': 5, 'someone': 5, 'retailers': 5, 'grain': 5, 'pulp': 5, 'buyer': 5, 'Fund': 5, 'deaths': 5, 'general': 5, 'producer': 5, 'start': 5, 'developers': 5, 'two': 5, 'exhibition': 5, 'provision': 5, 'play': 5, 'surprise': 5, 'while': 5, 'improvement': 5, 'properties': 5, 'chains': 5, 'places': 5, 'Drexel': 5, 'LIN': 5, 'Services': 5, 'Jr.': 5, 'lending': 5, 'experiments': 5, 'instance': 5, 'pages': 5, 'jurors': 5, 'freeway': 5, 'estimates': 5, 'Area': 5, 'Wall': 5, 'organizations': 5, 'bay': 5, 'collection': 5, 'threat': 5, 'Hollywood': 5, 'borrowings': 4, 'bailout': 4, 'flexibility': 4, 'guy': 4, 'bonus': 4, 'airlines': 4, 'excuse': 4, 'nations': 4, 'travel': 4, 'her': 4, 'Administration': 4, 'Australia': 4, 'crops': 4, 'influence': 4, 'phase': 4, 'procedures': 4, 'dealings': 4, 'adjustment': 4, 'B-3': 4, 'microprocessors': 4, 'reason': 4, 'sugar': 4, 'repairs': 4, 'step': 4, 'Field': 4, 'correction': 4, 'Tuesday': 4, 'Honecker': 4, 'S.A.': 4, 'Estate': 4, '1979': 4, 'representatives': 4, 'electricity': 4, 'sheet': 4, 'telephone': 4, 'colleagues': 4, 'violations': 4, 'last': 4, 'Jan.': 4, 'supplier': 4, 'burden': 4, 'linage': 4, 'attempts': 4, 'reorganization': 4, 'victories': 4, 'justice': 4, 'minds': 4, 'morning': 4, 'reduction': 4, 'programming': 4, 'material': 4, 'Hill': 4, 'differences': 4, 'search': 4, 'witnesses': 4, 'waste': 4, 'managers': 4, 'leverage': 4, 'everyone': 4, '100': 4, 'IBM': 4, 'Brothers': 4, 'music': 4, 'numbers': 4, 'there': 4, 'confrontation': 4, 'refusal': 4, 'weapons': 4, 'employment': 4, 'packaging': 4, 'shareholder': 4, 'boost': 4, 'length': 4, 'single-A-2': 4, 'authorities': 4, 'Germans': 4, 'theft': 4, 'label': 4, 'officers': 4, 'Pennsylvania': 4, 'judge': 4, '101': 4, 'Community': 4, 'Council': 4, 'turnover': 4, 'finances': 4, 'studio': 4, 'inquiry': 4, 'today': 4, 'Americans': 4, 'diseases': 4, 'panel': 4, 'disobedience': 4, 'everything': 4, 'governor': 4, 'enactment': 4, 'assessment': 4, 'IRS': 4, 'adjustments': 4, 'injury': 4, 'sectors': 4, 'rubles': 4, 'living': 4, 'strikes': 4, 'Mesa': 4, 'rally': 4, 'commercials': 4, 'sell-off': 4, 'Keating': 4, 'steelmaker': 4, 'rating': 4, 'shot': 4, 'scenario': 4, 'sites': 4, 'announcements': 4, 'institution': 4, 'Management': 4, 'relations': 4, 'neighborhood': 4, 'hundreds': 4, 'aliens': 4, 'shift': 4, 'International': 4, 'crunch': 4, 'crimes': 4, 'circumstances': 4, 'books': 4, 'middle': 4, 'body': 4, 'visits': 4, 'Stearns': 4, 'injuries': 4, 'treatment': 4, 'distribution': 4, 'cell': 4, 'bet': 4, 'transportation': 4, 'neighborhoods': 4, 'note': 4, 'Square': 4, 'blood': 4, 'boom': 4, 'idea': 4, 'movie': 4, 'goal': 4, 'duty': 4, 'speed': 4, 'advantage': 4, 'wall': 4, 'involvement': 4, 'filing': 4, 'call': 4, 'film': 4, 'status': 4, 'lack': 4, 'roads': 4, 'approach': 4, 'presidency': 4, 'controversy': 4, 'residents': 4, 'privatization': 4, 'lots': 4, 'miles': 4, 'figures': 4, 'fiction': 4, 'script': 4, 'expansion': 4, 'networks': 4, 'momentum': 4, 'Stores': 4, 'sources': 4, 'pit': 4, 'corn': 4, 'utility': 4, 'districts': 4, 'committees': 4, 'votes': 4, 'possible': 4, 'pound': 4, 'Beijing': 4, 'yard': 4, 'fuel': 4, 'savings': 4, 'expiration': 4, 'coffee': 4, 'papers': 4, 'Life': 4, 'section': 4, 'emergencies': 4, 'applications': 4, 'Boston': 4, 'client': 4, 'path': 4, 'language': 4, 'Campeau': 4, 'fee': 4, 'sheets': 4, 'emphasis': 4, 'Geneva': 4, 'meantime': 4, 'tariffs': 4, 'criticism': 4, 'restaurants': 4, 'animals': 4, 'comments': 4, 'artist': 4, 'Republicans': 4, 'food': 4, 'contributions': 4, 'effects': 4, 'segment': 4, 'Bridge': 4, 'limits': 4, 'Portugal': 4, 'hotel': 4, 'air': 4, 'storage': 4, 'organization': 4, 'Brown': 4, 'mid-October': 4, 'notion': 4, 'Moody': 4, 'consultants': 4, 'Angeles': 4, 'whites': 4, 'KKR': 4, 'stand': 4, 'interstates': 4, 'solutions': 4, '1959': 4, 'Atlantic': 4, 'senators': 4, 'video': 4, 'scandal': 4, 'II': 4, 'works': 4, 'help': 4, 'Navy': 4, 'Mexico': 4, 'trouble': 4, 'displays': 4, 'rejection': 4, 'heat': 4, 'lot': 4, 'attention': 4, 'backs': 4, 'contribution': 4, 'arena': 4, 'default': 4, 'reinforcement': 4, 'alternative': 4, 'Eurocom': 4, 'masters': 4, 'Iran': 4, 'Army': 4, 'publisher': 4, 'middlemen': 4, 'massage': 4, 'newspapers': 3, 'headline': 3, 'playoffs': 3, 'innings': 3, 'a.m.': 3, 'break': 3, 'mergers': 3, 'jetliners': 3, 'rebound': 3, 'fever': 3, 'fairness': 3, 'duties': 3, 'Sullivan': 3, 'responsibility': 3, 'itself': 3, 'dioxide': 3, 'initiative': 3, 'lawmakers': 3, 'Philadelphia': 3, 'staffers': 3, 'rout': 3, 'maturities': 3, 'Mac': 3, 'depreciation': 3, 'black': 3, 'rolls': 3, 'classes': 3, 'parents': 3, 'base': 3, 'Ba-3': 3, 'Air': 3, 'oils': 3, 'Namibia': 3, 'recovery': 3, 'wells': 3, 'p.m.': 3, 'spree': 3, 'launch': 3, 'thing': 3, 'Houston': 3, 'timetable': 3, 'Investments': 3, 'acres': 3, 'bushels': 3, 'Korea': 3, 'symbol': 3, 'swap': 3, 'arrangements': 3, 'song': 3, 'Trump': 3, 'speculators': 3, 'ruling': 3, 'School': 3, 'circulation': 3, 'mission': 3, 'Cairo': 3, 'channels': 3, 'concentration': 3, 'Europeans': 3, 'missiles': 3, 'cans': 3, 'friends': 3, 'Man': 3, 'hair': 3, 'tradition': 3, 'remarks': 3, 'senator': 3, 'departures': 3, 'B-2': 3, '2000': 3, 'guys': 3, 'editor': 3, 'self-incrimination': 3, 'row': 3, 'Witter': 3, 'hurry': 3, 'versions': 3, 'Compaq': 3, 'words': 3, 'sets': 3, 'engines': 3, 'challenges': 3, 'tool': 3, 'letters': 3, 'tracks': 3, 'ideas': 3, 'timing': 3, 'seasons': 3, 'knight': 3, 'eyes': 3, 'farmer': 3, 'attack': 3, 'Vienna': 3, 'Singapore': 3, 'single-A-3': 3, 'degree': 3, 'components': 3, 'detail': 3, 'user': 3, 'appearance': 3, 'second': 3, 'architecture': 3, 'restaurant': 3, 'girlfriend': 3, 'decades': 3, 'Health': 3, 'issuers': 3, 'context': 3, 'CBS': 3, 'stages': 3, 'Power': 3, 'promotion': 3, 'merchandise': 3, 'distributor': 3, 'South': 3, 'wages': 3, 'Israel': 3, 'percentage': 3, 'Hawaii': 3, 'records': 3, 'Philippines': 3, '1995': 3, 'potential': 3, 'three': 3, 'vessel': 3, 'audience': 3, '1969': 3, 'mile': 3, 'growers': 3, 'post': 3, 'Eastern': 3, 'economists': 3, 'desire': 3, 'gap': 3, 'workings': 3, 'conjunction': 3, 'receivables': 3, '1963': 3, 'investigations': 3, 'chance': 3, 'reforms': 3, 'beer': 3, 'care': 3, 'cycles': 3, 'Nekoosa': 3, 'governments': 3, 'StatesWest': 3, 'Index': 3, 'Hutton': 3, 'examination': 3, 'sessions': 3, 'absence': 3, 'powers': 3, 'pipeline': 3, 'Datapoint': 3, 'affair': 3, 'Channel': 3, 'bacteria': 3, 'refinery': 3, 'amendments': 3, 'tape': 3, 'opening': 3, 'USX': 3, 'vessels': 3, 'cycle': 3, 'radiation': 3, 'surface': 3, 'evaluation': 3, 'exception': 3, 'facts': 3, 'race': 3, 'shoes': 3, 'Party': 3, 'capitalization': 3, 'Goldsmith': 3, 'debentures': 3, 'screens': 3, 'array': 3, 'expertise': 3, 'Agency': 3, 'semiconductors': 3, 'technologies': 3, 'exercise': 3, 'consultant': 3, 'woman': 3, 'violation': 3, 'employer': 3, 'polls': 3, 'compensation': 3, 'universities': 3, 'Edisto': 3, 'Baker': 3, 'empire': 3, 'sound': 3, 'prosecutors': 3, 'bondholders': 3, 'sentiment': 3, 'perestroika': 3, 'realism': 3, 'standard': 3, 'shipment': 3, 'dealers': 3, 'shortfall': 3, 'wealth': 3, 'Rica': 3, 'army': 3, 'genes': 3, 'strategies': 3, 'disease': 3, 'No.': 3, 'labs': 3, 'arrangement': 3, 'doorstep': 3, 'Quebec': 3, 'discrimination': 3, 'Force': 3, 'right': 3, 'Scottsdale': 3, 'exploration': 3, 'disks': 3, 'Times': 3, 'spate': 3, 'leader': 3, 'protesters': 3, 'Lawson': 3, 'psyllium': 3, 'India': 3, 'shelves': 3, 'P&G': 3, 'page': 3, 'iceberg': 3, 'store': 3, 'merits': 3, 'claim': 3, 'opposition': 3, '14': 3, 'forecast': 3, 'phenomenon': 3, 'doubt': 3, 'horses': 3, 'windows': 3, 'copies': 3, 'divisions': 3, 'military': 3, 'Securities': 3, 'integration': 3, 'environmentalists': 3, 'climate': 3, 'TVs': 3, 'halt': 3, 'BellSouth': 3, 'willingness': 3, 'Computer': 3, 'Communications': 3, 'installations': 3, 'Afghanistan': 3, 'pullout': 3, 'sweep': 3, 'cosmetics': 3, '1973': 3, 'writing': 3, 'maneuver': 3, 'glasnost': 3, 'specialists': 3, 'GE': 3, 'Lynch': 3, 'contractor': 3, 'courts': 3, 'Creek': 3, 'poor': 3, 'Detroit': 3, 'manipulation': 3, 'mills': 3, 'premiums': 3, 'round': 3, 'vehicle': 3, 'engineers': 3, 'teachers': 3, 'checks': 3, 'jurisdiction': 3, 'thinking': 3, 'sterling': 3, 'making': 3, '3/4': 3, 'S&P': 3, 'travelers': 3, 'cough': 3, 'basket': 3, 'inception': 3, 'perspective': 3, 'Associates': 3, 'locations': 3, 'fuels': 3, 'homer': 3, 'newspaper': 3, 'meters': 3, 'import': 3, 'incinerator': 3, 'primary': 3, 'spot': 3, 'floors': 3, 'storm': 3, 'clothes': 3, 'picture': 3, 'Boren': 3, 'principles': 3, 'revival': 3, 'resignations': 3, 'statements': 3, 'bugs': 3, 'lower': 3, 'tower': 3, 'cent': 3, 'English': 3, 'breaks': 3, 'charities': 3, 'revisions': 3, 'Theater': 3, 'lobbyists': 3, 'split': 3, 'EC': 3, 'labor': 3, 'workstations': 3, 'ties': 3, 'recorders': 3, 'visitors': 3, 'Digital': 3, 'bidders': 3, 'church': 3, 'Amendment': 3, 'journalism': 3, 'incentives': 3, 'sedan': 3, 'considerations': 3, 'Medical': 3, 'mother': 3, 'researchers': 3, 'drama': 3, 'deadline': 3, 'Christmas': 3, 'mushrooms': 3, 'dates': 3, 'solicitation': 3, 'buy-back': 3, 'plaintiffs': 3, 'conviction': 3, '1960s': 3, 'inventories': 3, 'bottom': 3, 'opinion': 3, 'fleet': 3, 'extension': 3, 'AZT': 3, 'syndrome': 3, 'affairs': 3, 'platform': 3, 'conversation': 3, 'errors': 3, 'Stanley': 3, 'night': 3, 'jail': 3, 'apples': 3, 'guarantee': 3, 'minister': 3, 'Inouye': 3, 'reductions': 3, 'criminals': 3, 'guidelines': 3, '1999': 3, 'yields': 3, 'Wang': 3, 'bell': 3, 'midafternoon': 3, 'failures': 3, 'subscribers': 3, 'HBO': 3, 'withdrawal': 3, 'silver': 3, 'experiment': 3, 'protein': 3, 'Gruntal': 3, 'King': 3, 'neglect': 3, 'Kohl': 3, '2662.91': 3, 'findings': 3, 'wife': 3, '35': 3, 'normal': 3, 'gallons': 3, 'consumption': 3, 'liquor': 3, 'shops': 3, 'Memories': 3, 'friendship': 3, 'rain': 3, 'stretch': 3, 'manufacturer': 3, 'incident': 3, 'leases': 3, 'toothpaste': 3, 'rush': 3, 'member': 3, 'addition': 3, 'MGM/UA': 3, 'territory': 3, 'scheme': 3, 'wars': 3, 'apartheid': 3, 'Cuba': 3, 'demonstrators': 3, '1997': 3, 'requirements': 3, '1/2': 3, 'highway': 3, 'holidays': 3, 'Treasurys': 3, 'investing': 3, 'USAir': 3, 'Direct': 3, 'sorts': 3, 'signs': 3, 'interpretation': 3, 'Stockholm': 3, 'Webster/Eagle': 3, 'metal': 3, 'neutrons': 3, 'club': 3, 'Constitution': 3, 'passengers': 3, 'Turkey': 3, 'equivalent': 3, 'Courter': 3, 'stuff': 3, 'quantities': 3, 'survival': 3, 'complaint': 3, 'calendar': 3, 'War': 3, 'Wednesdays': 3, 'Pakistan': 3, 'columns': 3, 'races': 3, 'Chevrolet': 3, 'Forest': 3, 'NASA': 3, '1/4': 3, 'Systems': 3, 'fears': 3, 'Options': 3, 'probe': 3, 'SDI': 3, 'antibodies': 3, 'Shannon': 3, 'consultation': 2, 'editions': 2, 'Advertising': 2, 'stands': 2, 'inning': 2, 'seat': 2, 'AMR': 2, 'expectations': 2, 'Dataproducts': 2, 'crush': 2, 'Telerate': 2, 'option': 2, 'collateral': 2, 'education': 2, 'chicken': 2, 'views': 2, 'coalition': 2, 'guarantees': 2, 'housing': 2, 'arbitragers': 2, 'excesses': 2, '200': 2, 'commerce': 2, 'declaration': 2, 'upside': 2, 'flood': 2, 'punts': 2, '15': 2, 'midnight': 2, 'cameras': 2, 'photography': 2, 'color': 2, 'Switzerland': 2, 'indicator': 2, 'outlook': 2, 'C': 2, 'Caa': 2, 'Calor': 2, 'suppression': 2, 'string': 2, 'hurricane': 2, 'supermarket': 2, 'dip': 2, 'yesterday': 2, 'strain': 2, 'red': 2, 'desks': 2, 'boxes': 2, 'Dow': 2, 'stride': 2, 'freedoms': 2, 'unrest': 2, 'backlash': 2, 'Arrow': 2, 'Manpower': 2, 'pounds': 2, 'player': 2, 'Applied': 2, 'chaos': 2, 'Morris': 2, 'Cincinnati': 2, 'wave': 2, 'several': 2, 'Lilly': 2, 'recordings': 2, 'U.K.': 2, 'plastics': 2, 'needs': 2, 'nothing': 2, 'quota': 2, 'discount': 2, 'Attack': 2, 'varieties': 2, 'Hills': 2, 'styles': 2, 'statutes': 2, 'alternatives': 2, 'petrochemicals': 2, 'embargo': 2, 'warrants': 2, 'Boesky': 2, 'thrift': 2, 'crop': 2, 'McKesson': 2, '1993': 2, 'notice': 2, 'Merieux': 2, 'turn': 2, 'recall': 2, 'cultures': 2, 'hero': 2, 'benefit': 2, 'relatives': 2, 'smelter': 2, 'fortunes': 2, 'landlords': 2, 'dissents': 2, 'opinions': 2, 'reporters': 2, 'format': 2, 'prize': 2, 'Klerk': 2, 'ANC': 2, 'elements': 2, 'gathering': 2, 'Moslems': 2, 'Jersey': 2, 'CenTrust': 2, 'ratings': 2, 'host': 2, 'coin': 2, 'championships': 2, 'investigator': 2, 'Mafia': 2, 'Italy': 2, 'contractors': 2, 'jeans': 2, 'racism': 2, 'ribbons': 2, 'mischief': 2, 'salesman': 2, 'topics': 2, 'Medicare': 2, 'Time': 2, 'Bull': 2, 'downgrade': 2, 'nerves': 2, 'Lantos': 2, 'Bill': 2, 'notions': 2, 'himself': 2, 'inference': 2, 'you-know-what': 2, 'shelf': 2, 'pool': 2, 'testing': 2, 'stockholders': 2, 'blame': 2, 'less': 2, '1972': 2, 'entertainment': 2, 'Show': 2, 'accumulation': 2, 'Springs': 2, 'insiders': 2, 'participants': 2, 'personality': 2, 'images': 2, 'evening': 2, 'titans': 2, 'sun': 2, '1978': 2, 'White': 2, 'pitchers': 2, 'cheek': 2, 'protests': 2, 'telecommunications': 2, 'balloon': 2, 'motion': 2, 'fundamentals': 2, 'finance': 2, 'Malaysia': 2, 'A.': 2, 'Fiat': 2, 'assemblies': 2, 'readers': 2, '1967': 2, 'priority': 2, 'nests': 2, 'printers': 2, 'stones': 2, 'pipelines': 2, 'planners': 2, 'HealthVest': 2, 'concept': 2, 'underwear': 2, 'courthouse': 2, 'chair': 2, 'corruption': 2, 'reputation': 2, 'landfills': 2, 'coupon': 2, 'Belgium': 2, 'billions': 2, 'Texaco': 2, 'pills': 2, 'nominees': 2, 'Guber': 2, 'contention': 2, 'drain': 2, 'border': 2, 'colony': 2, 'Warsaw': 2, 'bidding': 2, 'marriage': 2, 'spouses': 2, 'sex': 2, 'dealerships': 2, 'topic': 2, 'businessmen': 2, 'demonstrations': 2, 'demonstration': 2, 'chickens': 2, 'arms': 2, 'combat': 2, 'thumb': 2, 'either': 2, 'Spielvogel': 2, 'exile': 2, 'superconductors': 2, 'congress': 2, 'bosses': 2, 'buildup': 2, 'comment': 2, 'agreements': 2, 'Pinkerton': 2, 'Brands': 2, 'consumer': 2, 'entity': 2, 'consensus': 2, 'GNP': 2, 'overhaul': 2, 'Oppenheimer': 2, 'flows': 2, 'era': 2, 'Cos.': 2, 'theme': 2, 'smokers': 2, 'arguments': 2, 'prime': 2, '30': 2, 'a': 2, 'Coates': 2, 'Investigation': 2, 'footing': 2, 'LTV': 2, 'insulin': 2, 'variety': 2, 'exclusion': 2, 'pact': 2, 'maintenance': 2, 'outcry': 2, 'municipals': 2, 'Major': 2, 'purchasers': 2, 'free': 2, 'utilities': 2, 'bricks': 2, 'raise': 2, 'entry': 2, 'bikes': 2, 'bike': 2, 'Peugeot': 2, 'advances': 2, 'weaknesses': 2, '1966': 2, 'know-how': 2, 'islands': 2, 'golf': 2, 'grades': 2, 'degrees': 2, 'infection': 2, 'hospital': 2, 'minorities': 2, 'substance': 2, 'killers': 2, 'Chapter': 2, 'woes': 2, 'Chile': 2, 'Soviet': 2, 'single-A-1': 2, 'Osaka': 2, 'Machinery': 2, 'presentations': 2, 'lag': 2, 'employee': 2, 'bleeding': 2, 'mortality': 2, 'question': 2, 'interviews': 2, 'Football': 2, 'commercial': 2, 'Cross': 2, 'message': 2, 'pregnancy': 2, 'limitations': 2, 'chamber': 2, 'transfers': 2, 'associations': 2, 'discoveries': 2, 'printing': 2, 'Quebecor': 2, '1977': 2, 'A': 2, 'Montreal': 2, 'coast': 2, 'resolution': 2, 'knees': 2, 'filings': 2, 'prosecution': 2, 'structure': 2, 'ally': 2, 'wire': 2, 'Green': 2, 'Young': 2, 'performers': 2, 'tailspin': 2, 'steps': 2, 'desecration': 2, 'signature': 2, 'waterworks': 2, 'municipalities': 2, 'fair': 2, 'cereals': 2, 'Bureau': 2, 'Maryland': 2, 'Nashua': 2, 'repression': 2, 'Yale': 2, 'certificates': 2, 'classroom': 2, 'plea': 2, 'Calgary': 2, 'Toronto': 2, 'bulk': 2, 'shirts': 2, 'TVS': 2, 'link': 2, 'lieu': 2, 'casings': 2, 'universe': 2, 'guilders': 2, 'aggregates': 2, 'resignation': 2, 'violence': 2, 'pace': 2, 'plate': 2, 'departments': 2, 'objectives': 2, 'schedule': 2, 'prominence': 2, 'conservatism': 2, 'minicomputers': 2, 'mediator': 2, 'forecasts': 2, 'scenarios': 2, 'homeowners': 2, 'coal': 2, 'activists': 2, 'pay': 2, 'alarm': 2, 'inches': 2, 'catalog': 2, 'deficits': 2, 'proof': 2, 'Peck': 2, 'corner': 2, '1462.93': 2, 'outskirts': 2, 'Ortega': 2, 'cabinet': 2, 'indications': 2, 'gifts': 2, 'instances': 2, 'mechanism': 2, 'membership': 2, 'foreigners': 2, 'Hotel': 2, 'dinner': 2, 'sophistication': 2, 'Star': 2, 'ranks': 2, 'presidents': 2, 'camps': 2, 'fun': 2, 'complex': 2, 'Petrochemical': 2, 'Oklahoma': 2, 'address': 2, 'Spain': 2, 'tasks': 2, 'Morocco': 2, 'staffs': 2, 'statistics': 2, 'adults': 2, 'Manhattan': 2, 'Worth': 2, 'task': 2, 'Banks': 2, 'economies': 2, 'John': 2, 'giant': 2, 'actors': 2, 'broadcast': 2, 'features': 2, '1971': 2, 'requests': 2, 'worth': 2, 'Delaware': 2, 'Rally': 2, 'Wendy': 2, 'instruments': 2, 'obligations': 2, 'compliance': 2, 'Merc': 2, 'harvest': 2, '7/8': 2, '1975': 2, 'Octel': 2, '2596.72': 2, 'psychology': 2, 'lapses': 2, 'prelude': 2, 'warming': 2, '1930s': 2, 'poverty': 2, 'appropriations': 2, 'child': 2, 'holding': 2, 'H.': 2, 'BIP': 2, 'brokerage': 2, 'Bourse': 2, 'text': 2, 'disadvantage': 2, 'adoption': 2, 'horizon': 2, 'attitude': 2, 'offerings': 2, 'maximum': 2, 'indexation': 2, 'allowances': 2, 'instrument': 2, 'toxin': 2, 'Frankfurt': 2, 'landscape': 2, 'Brussels': 2, 'pricing': 2, 'Club': 2, 'environmentalism': 2, 'good': 2, 'sports': 2, 'coaches': 2, 'athletics': 2, 'wool': 2, 'accounting': 2, 'likelihood': 2, 'opponents': 2, 'enterprises': 2, '1960': 2, 'boy': 2, 'column': 2, 'kilometers': 2, 'walk': 2, 'Giuliani': 2, 'son': 2, '1950s': 2, '3': 2, 'foundation': 2, 'lawn': 2, 'adjusters': 2, 'Gatos': 2, 'AT&T': 2, 'redemption': 2, 'belief': 2, 'shocks': 2, 'disappointments': 2, 'promises': 2, 'turmoil': 2, 'whole': 2, 'calculations': 2, 'Bethlehem': 2, 'turbulence': 2, 'independents': 2, 'Members': 2, 'island': 2, 'young': 2, 'criminality': 2, 'Morishita': 2, 'hemorrhaging': 2, 'honor': 2, 'privilege': 2, 'allies': 2, 'invitation': 2, 'flag': 2, 'rear': 2, 'adventure': 2, 'Gradmann': 2, 'passage': 2, 'aide': 2, 'outrage': 2, 'Wisconsin': 2, 'Pont': 2, 'arsenal': 2, 'Trust': 2, 'sanctions': 2, 'massacre': 2, 'hospitals': 2, 'pensions': 2, 'promotions': 2, 'ruble': 2, 'Kodak': 2, 'pair': 2, 'disintegration': 2, '1906': 2, 'associates': 2, 'CFCs': 2, 'issuance': 2, 'quotations': 2, 'scholarship': 2, 'enterprise': 2, 'Malcolm': 2, 'warrant': 2, 'dishonesty': 2, 'supporters': 2, 'SEC': 2, 'panels': 2, 'rhetoric': 2, 'tension': 2, 'Vila': 2, 'campaigns': 2, 'aim': 2, 'pesticides': 2, 'gyrations': 2, 'respectability': 2, 'reporter': 2, 'conduct': 2, 'trends': 2, 'tie': 2, 'Delmed': 2, 'coins': 2, 'Ohio': 2, 'emotion': 2, 'campuses': 2, 'edition': 2, 'Vegas': 2, 'Gardens': 2, 'creation': 2, 'garden': 2, 'distributions': 2, 'developer': 2, 'room': 2, 'discussions': 2, 'reversal': 2, 'Strip': 2, 'shortage': 2, 'tourists': 2, 'hotel-casinos': 2, 'destination': 2, 'bankruptcy': 2, 'dead': 2, 'testimony': 2, 'plight': 2, 'discrepancies': 2, '2004': 2, 'DRAMs': 2, 'Provigo': 2, 'traffic': 2, 'discounting': 2, 'Coors': 2, 'Miller': 2, 'expectation': 2, 'workweek': 2, 'Labor': 2, 'Development': 2, 'Gonzalez': 2, 'pesetas': 2, 'sentence': 2, 'FBI': 2, 'capabilities': 2, 'indexes': 2, 'slump': 2, 'symptoms': 2, 'transfusion': 2, 'childhood': 2, 'Czechoslovakia': 2, 'stress': 2, 'purpose': 2, 'PaineWebber': 2, 'Games': 2, 'slip': 2, 'viewers': 2, 'load': 2, 'employers': 2, 'mainframe': 2, 'act': 2, 'arm': 2, 'conspiracy': 2, 'claimants': 2, 'USA': 2, 'patents': 2, 'Corry': 2, 'Roderick': 2, 'Marathon': 2, 'spurt': 2, 'surplus': 2, 'ministry': 2, 'doctors': 2, 'sand': 2, 'complaints': 2, 'euphoria': 2, 'audiences': 2, 'evolution': 2, 'currencies': 2, 'apple': 2, 'engineering': 2, 'Fujis': 2, 'student': 2, 'borrowers': 2, 'Program': 2, 'reserve': 2, 'Quayle': 2, 'subsidies': 2, 'tenure': 2, 'voters': 2, 'representation': 2, 'constituents': 2, 'perception': 2, 'prosecutions': 2, 'categories': 2, 'hardware': 2, 'treaty': 2, 'openness': 2, 'ABM': 2, 'credibility': 2, 'Hampshire': 2, 'balance': 2, 'Communists': 2, 'freedom': 2, 'Solidarity': 2, 'creatures': 2, 'sentences': 2, '2019': 2, 'character': 2, 'edge': 2, 'Bates': 2, 'partnerships': 2, 'roof': 2, 'setbacks': 2, 'fronts': 2, 'relationships': 2, 'Showtime': 2, 'studios': 2, 'hub': 2, 'Day': 2, 'LBO': 2, 'hole': 2, 'critics': 2, '11': 2, 'jury': 2, 'applicants': 2, 'Lloyd': 2, 'mining': 2, 'Wachovia': 2, 'capability': 2, 'AIDS': 2, 'virus': 2, 'viability': 2, 'Olivetti': 2, 'automobiles': 2, 'mph': 2, 'delay': 2, 'faith': 2, 'outcome': 2, 'scientists': 2, 'Institutes': 2, 'computing': 2, 'substitutes': 2, 'Antarctica': 2, 'Bay': 2, 'CD': 2, 'bourbon': 2, 'Protection': 2, 'republics': 2, 'profit-taking': 2, 'libel': 2, 'grade': 2, 'relation': 2, 'conservatorship': 2, 'ratios': 2, 'bias': 2, 'Rico': 2, 'National': 2, 'complicity': 2, 'intrusion': 2, 'pattern': 2, 'boilers': 2, 'Wars': 2, 'MeraBank': 2, 'midst': 2, 'infighting': 2, 'theaters': 2, 'Pictures': 2, 'Victoire': 2, 'retaliation': 2, 'stories': 2, 'Ikegai-Goss': 2, 'Gulf': 2, 'photographs': 2, 'Sherwin': 2, 'attorneys': 2, 'Industries': 2, 'Whitten': 2, 'alert': 2, 'proportion': 2, 'open': 2, 'persona': 2, '5': 2, 'syndicate': 2, 'breach': 2, 'current': 2, 'Miami': 2, 'name-dropping': 2, 'Cleveland': 2, 'occasions': 2, 'purse': 2, 'dealership': 2, 'recital': 2, 'Lesk': 2, 'Omaha': 2, 'agent': 2, 'mechanics': 2, 'innovation': 2, 'perjury': 2, 'deck': 2, 'humanity': 2, 'Policy': 2, 'stream': 2, 'slew': 2, 'league': 2, 'Fidel': 2, 'spectrum': 2, 'bureaucrats': 2, 'trespass': 2, 'ages': 2, 'troops': 2, 'Somalia': 2, 'establishment': 2, 'Rafale': 2, 'Vietnam': 2, 'birds': 2, 'mall': 2, 'personnel': 2, 'Bond': 2, 'patrols': 2, 'person': 2, 'ivory': 2, 'immigrants': 2, 'disruptions': 2, 'accidents': 2, 'recognition': 2, 'characters': 2, 'perceptions': 2, 'display': 2, '3/8': 2, 'Airways': 2, 'retailing': 2, 'content': 2, 'formulation': 2, 'rises': 2, 'productivity': 2, 'deregulation': 2, 'quest': 2, 'letter': 2, 'desk': 2, 'regions': 2, 'Picop': 2, 'consortium': 2, 'commitments': 2, 'audit': 2, 'Canaan': 2, 'Krenz': 2, 'Politburo': 2, 'factory': 2, 'reactions': 2, 'variations': 2, 'tritium': 2, 'detectors': 2, 'slaughter': 2, 'buck': 2, 'processing': 2, 'minimills': 2, 'low': 2, 'competence': 2, 'you': 2, 'tuitions': 2, 'promise': 2, 'principal': 2, 'formula': 2, 'greedy': 2, 'renewal': 2, 'fraction': 2, 'fares': 2, 'Pittsburgh': 2, 'furs': 2, 'patterns': 2, 'attrition': 2, 'Hanoi': 2, 'literature': 2, 'rice': 2, 'trucks': 2, 'M$': 2, 'Lumpur': 2, 'Dukakis': 2, 'posts': 2, 'spots': 2, 'skiers': 2, 'kids': 2, 'concrete': 2, 'suggestions': 2, 'raising': 2, 'additions': 2, '12': 2, 'Bros.': 2, 'seller': 2, 'scripts': 2, 'romance': 2, 'B2': 2, 'trader': 2, 'smoke': 2, 'career': 2, 'prose': 2, 'publishing': 2, 'mail': 2, 'minute': 2, 'title': 2, 'standpoint': 2, 'AB': 2, 'waffle': 2, 'wires': 2, 'distributors': 2, 'Deloitte': 2, 'publishers': 2, 'Reserve': 2, 'constituencies': 2, 'Cambodia': 2, 'hunger': 2, 'third': 2, 'earthquakes': 2, 'kilograms': 2, 'Commerciale': 2, 'Sununu': 2, 'landing': 2, 'Madrid': 2, 'GATT': 2, '1947': 2, 'reactors': 2, 'Cherokee': 2, 'medium': 2, 'Aruba': 2, 'competitor': 2, 'Line': 2, 'railroad': 2, 'confidence': 2, 'Holding': 2, 'pencils': 2, 'B.A.T': 2, 'Motors': 2, 'glory': 2, 'controls': 2, 'expenditures': 2, 'legislatures': 2, 'Sacramento': 2, 'Gallery': 2, 'pipes': 2, 'shield': 2, 'mouth': 2, 'Thompson': 2, 'Empire': 2, 'capitalism': 2, 'scores': 2, 'Petco': 2, 'loyalty': 2, 'soup': 2, 'catastrophes': 2, 'streets': 2, 'Cruz': 2, 'workplace': 2, 'Diego': 2, 'Ms.': 2, 'freeways': 2, 'lock': 2, 'existence': 2, 'Misanthrope': 2, 'theater': 2, 'Darman': 2, 'buy': 2, 'here': 2, 'scandals': 2, 'soldiers': 2, 'five': 2, 'MacDonald': 2, 'academy': 2, 'Cubans': 2, 'Spadafora': 2, 'mornings': 2, 'gasolines': 2, 'parks': 2, 'lists': 2, 'weather': 2, 'IMF': 2, 'analysis': 2, 'discharge': 2, 'pile': 2, 'Sotheby': 2, 'paintings': 2, 'simulators': 2, 'payout': 2, 'IPO': 2, 'Airport': 2, 'Aeroflot': 2, 'downturn': 2, 'Network': 1, 'CNN': 1, 'Arnold': 1, 'grants': 1, 'mean': 1, 'bushel': 1, 'Cubs': 1, 'Reuschel': 1, '2-1': 1, '5-1': 1, 'droughts': 1, 'bats': 1, 'conveyance': 1, 'Desire': 1, 'Coliseum': 1, 'go': 1, 'apathy': 1, 'heroes': 1, 'Bashers': 1, 'equation': 1, 'Performance': 1, 'account-churning': 1, 'Reuters': 1, 'resumption': 1, 'optimism': 1, 'p.m': 1, 'mid-conversation': 1, 'Southeast': 1, 'surpluses': 1, 'underwritings': 1, 'Bear': 1, 'Selig': 1, 'rails': 1, 'Orioles': 1, 'ninth': 1, 'bat': 1, 'divisive': 1, 'surveys': 1, 'bargaining': 1, 'microchip': 1, 'diners': 1, 'Floodlights': 1, 'messages': 1, 'Push': 1, 'Soap': 1, 'endorsements': 1, 'Rome': 1, 'march': 1, 'Mattress': 1, '35087.38': 1, '35133.83': 1, 'downside': 1, 'sheep-like': 1, 'Kamp': 1, 'attorney': 1, 'bargain-hunting': 1, '5.74': 1, 'Lautenberg': 1, 'behind-the-scenes': 1, 'Poles': 1, '4/32': 1, '1.42': 1, 'originators': 1, 'ADT': 1, 'regulations': 1, 'Regatta': 1, 'Gitano': 1, 'trademark': 1, '6,930,000': 1, '5,500,000': 1, 'inadequate': 1, 'collections': 1, 'tapes': 1, 'Newsletter': 1, 'stars': 1, 'spreads': 1, 'ad': 1, 'contests': 1, 'prizes': 1, 'processors': 1, 'Photographers': 1, '223.0': 1, 'onset': 1, 'recoveries': 1, 'recessions': 1, '80': 1, 'Birkel': 1, 'pasta': 1, 'sauces': 1, 'Ca': 1, 'microprocessor': 1, 'Alliant': 1, 'Intel': 1, 'Burmah': 1, 'collectability': 1, 'biscuits': 1, 'Angola': 1, 'pits': 1, 'repair': 1, 'bag': 1, 'hose': 1, 'ISI': 1, 'Memotec': 1, 'comeback': 1, 'Aluminium': 1, 'imbalances': 1, '114.5': 1, 'Skipper': 1, 'Pizza': 1, 'Hut': 1, 'shortages': 1, 'extinction': 1, 'Gadhafi': 1, 'Egypt': 1, 'formalities': 1, 'peninsula': 1, 'resolve': 1, 'guerrillas': 1, 'Peabody': 1, 'Cluett': 1, 'labels': 1, 'underachiever': 1, 'objective': 1, 'Drop': 1, 'Charles': 1, '707s': 1, 'hypermarket': 1, 'Atlanta': 1, 'respectively': 1, 'Bristol-Myers': 1, '8:30': 1, 'highs': 1, 'scheduling': 1, 'Phoenix': 1, 'Antonio': 1, 'fleets': 1, '757': 1, 'Sunday': 1, 'Holland': 1, 'Roberts': 1, 'allotment': 1, 'quotas': 1, 'telephones': 1, 'washload': 1, 'soapsuds': 1, 'Guard': 1, 'powders': 1, 'powder': 1, 'combinations': 1, 'difference': 1, 'Mosbacher': 1, 'Sulka': 1, 'hawks': 1, 'bloc': 1, 'Salomon': 1, 'HK$': 1, 'Ideal': 1, 'wheat': 1, 'concentrate': 1, 'developments': 1, 'provider': 1, 'processor': 1, 'PCS': 1, 'Firebird': 1, 'medicines': 1, 'Wilson': 1, 'emotions': 1, 'Bronx': 1, 'Capote': 1, 'liver': 1, 'clothing': 1, 'envelope': 1, 'album': 1, \"'70s\": 1, 'comeuppance': 1, 'valuations': 1, 'rent': 1, 'rents': 1, 'dissent': 1, 'fifth': 1, 'deadlines': 1, 'giveaways': 1, '300,000': 1, 'radio': 1, '4,393,237': 1, 'briefing': 1, 'reference': 1, 'tables': 1, 'grazers': 1, 'newscasts': 1, 'identity': 1, 'Broadcasting': 1, 'Case': 1, 'reporting': 1, 'limbo': 1, 'Sunbelt': 1, 'foreclosure': 1, 'ouster': 1, 'emigres': 1, 'withholdings': 1, 'motives': 1, 'Supervision': 1, 'illiquidity': 1, 'households': 1, 'invaders': 1, 'reunions': 1, 'showgirls': 1, 'Genscher': 1, 'pancakes': 1, 'contracting': 1, 'manufacture': 1, 'Ferranti': 1, 'Aerospace': 1, 'pendulum': 1, 'intergrated-steel': 1, 'prediction': 1, 'difficulty': 1, 'bus': 1, 'lounge': 1, 'worms': 1, 'Soup': 1, 'mustache': 1, 'underdog': 1, 'Bostonians': 1, 'wishes': 1, 'sitcoms': 1, 'preachiness': 1, 'lips': 1, 'calm': 1, 'Ways': 1, 'Bentsen': 1, 'retirees': 1, 'Safety': 1, 'ESOP': 1, 'paychecks': 1, 'weekly': 1, 'semimonthly': 1, 'reimbursements': 1, 'Ba-2': 1, '2200': 1, 'possibility': 1, 'equivalents': 1, 'meat': 1, 'loaves': 1, 'witness': 1, 'proceeding': 1, 'counsel': 1, 'Robinson-Humphrey': 1, '449.33': 1, '462.98': 1, 'Cellular': 1, '40': 1, 'medicine': 1, 'Macrodantin': 1, 'trusts': 1, 'ASKO': 1, 'Ahold': 1, 'unproductive': 1, 'policy-making': 1, 'initiatives': 1, 'Week': 1, 'anxiety': 1, 'assistant': 1, 'Maserati': 1, 'downsizing': 1, 'keyboards': 1, 'possibilities': 1, 'portables': 1, 'Zenith': 1, 'Missile': 1, 'Delta': 1, 'complementary': 1, 'comparisons': 1, 'pigments': 1, 'polypropylene': 1, 'Quantum': 1, 'ideal': 1, 'Winnetka': 1, 'listening': 1, 'Sonata': 1, 'polyrhythms': 1, 'Free': 1, 'intermission': 1, 'mirroring': 1, 'pictures': 1, 'claptrap': 1, 'UNESCO': 1, 'obfuscation': 1, 'concepts': 1, 'pollen': 1, 'flower': 1, 'emasculation': 1, 'toughness': 1, 'Zealand': 1, 'Wellington': 1, 'kinds': 1, 'stadiums': 1, 'elixir': 1, 'Fingers': 1, 'Kingman': 1, 'Suns': 1, 'Castro': 1, 'Morley': 1, 'malice': 1, 'Aiken': 1, 'Commons': 1, 'Elanco': 1, 'retreating': 1, '2680': 1, '2120.5': 1, '178.9': 1, 'Metromedia': 1, 'sportif': 1, 'itinerary': 1, 'blase': 1, 'Foggs': 1, 'imperative': 1, 'drinking': 1, 'burner': 1, 'soil': 1, 'youths': 1, 'Coca-Cola': 1, 'IFI': 1, 'Agnellis': 1, 'Agnelli': 1, 'Alisarda': 1, 'indifference': 1, 'Units': 1, 'dyes': 1, '719,000': 1, 'spy-chasing': 1, 'sweetheart': 1, 'habit': 1, 'observatory': 1, 'Stoll': 1, 'terminal': 1, 'hunt': 1, 'hacker': 1, 'Mips': 1, 'Sun': 1, 'InfoCorp': 1, 'license': 1, 'Gramm-Rudman': 1, 'wallet': 1, 'looseleaf': 1, 'cream': 1, 'recipes': 1, 'Dozen': 1, 'scratch': 1, 'Weekes': 1, 'Healthcare': 1, 'inadvertence': 1, 'swearing': 1, 'oppression': 1, 'distributorship': 1, 'feuding': 1, 're-election': 1, 'clerk': 1, 'accomplishments': 1, 'Conference': 1, 'appointments': 1, 'blink': 1, 'Tribune-Democrat': 1, 'courtroom': 1, 'Ebensburg': 1, 'Pontiac-Cadillac': 1, 'stationery': 1, 'concession': 1, 'muse': 1, 'newsprint': 1, 'courses': 1, 'dismissal': 1, 'Enfield': 1, 'seisho': 1, 'duplicity': 1, 'Ross': 1, 'Vanities': 1, 'Guber-Peters': 1, 'bottles': 1, 'Tastes': 1, 'milks': 1, 'butterfat': 1, 'fanfare': 1, 'pins': 1, 'finery': 1, 'Douglas': 1, 'takeoff': 1, 'Tempe': 1, 'messiah': 1, 'theocracy': 1, 'graying': 1, 'Moon': 1, 'procreation': 1, 'rifles': 1, 'Province': 1, 'Moonies': 1, 'Azerbaijan': 1, 'Tadzhikistan': 1, 'Uzbekistan': 1, 'Turkmenia': 1, 'Armenia': 1, 'Kirgizia': 1, 'unemployment': 1, 'judiciary': 1, 'reactor': 1, 'offenders': 1, 'teenagers': 1, 'revolution': 1, 'self-criticism': 1, 'Kitada': 1, 'trend-setters': 1, 'coupe': 1, 'minicars': 1, 'clocks': 1, 'rigidity': 1, 'Azoff': 1, 'handling': 1, 'sea': 1, 'pro-': 1, 'box': 1, 'grievances': 1, 'slogans': 1, 'grievance': 1, 'misdemeanors': 1, 'rancor': 1, 'propagandists': 1, 'evaders': 1, 'enforcement': 1, 'deterrents': 1, 'Taxation': 1, 'Chambers': 1, 'cattle': 1, 'leeway': 1, 'arbitrator': 1, 'Achenbaum': 1, 'thanks': 1, 'non-clients': 1, 'intimacy': 1, 'Hyundai': 1, 'Lives': 1, 'Cotton': 1, 'bases': 1, 'imperialists': 1, 'manhood': 1, 'Rouge': 1, 'Clinic': 1, 'tissue': 1, 'disorders': 1, 'brain': 1, 'Hospital': 1, 'magnets': 1, 'stimulation': 1, 'epileptics': 1, 'hormone': 1, 'muscles': 1, 'amputation': 1, 'theories': 1, 'Laboratory': 1, 'tale': 1, 'qualities': 1, 'unfamiliarity': 1, 'missions': 1, 'semantics': 1, 'Baja': 1, 'Year': 1, 'dash': 1, 'bear': 1, 'Americana': 1, 'Arrest': 1, '1850': 1, 'detective': 1, 'Olympics': 1, 'Sutro': 1, 'Kingdom': 1, 'controversies': 1, 'watch': 1, 'Containers': 1, 'pot': 1, 'elderly': 1, 'treatments': 1, 'closures': 1, 'Brantford': 1, 'Grove': 1, 'uninvited': 1, 'tens': 1, 'rhythm': 1, '2645.08': 1, 'climb': 1, 'worries': 1, 'advocates': 1, 'airwaves': 1, 'arts': 1, 'liberty': 1, '1,120': 1, 'subset': 1, 'clues': 1, 'impediment': 1, 'Stuart-James': 1, 'Lambert': 1, 'Kemp': 1, 'start-up': 1, 'ticket': 1, 'Commerce': 1, 'trainer': 1, 'trousers': 1, '24': 1, 'performances': 1, 'wrongdoing': 1, 'deputies': 1, 'coverup': 1, 'receivership': 1, 'DNA': 1, 'Cie': 1, 'lift': 1, 'Chevron': 1, 'Motor': 1, 'conflict': 1, 'Managua': 1, 'Conservatives': 1, 'heck': 1, 'Standard': 1, 'drill': 1, 'necessary': 1, '97.275': 1, 'Professional': 1, 'Law': 1, 'Triangle': 1, 'Avery': 1, 'item': 1, 'cart': 1, 'defensiveness': 1, 'Scotto': 1, 'Norwegians': 1, 'NASD': 1, 'denominations': 1, 'forefront': 1, 'biking': 1, 'management-by-objective': 1, 'globalization': 1, 'middleman': 1, 'builder': 1, 'Hicks': 1, 'backers': 1, '2102.2': 1, '362': 1, '35417.44': 1, '35452.72': 1, 'reach': 1, 'doors': 1, 'attractive': 1, 'refunding': 1, '92-14': 1, '99-04': 1, 'nervous': 1, '97.25': 1, '95.11': 1, '500,000': 1, 'witches': 1, 'inventions': 1, 'glance': 1, 'slashes': 1, 'finger': 1, 'shoulder': 1, 'carpet': 1, 'gizmo': 1, 'regime': 1, 'minimum': 1, 'haunts': 1, 'sensibilities': 1, 'Educators': 1, 'forays': 1, 'rafters': 1, 'Mannington': 1, 'Kentucky': 1, 'kitchen': 1, 'leg': 1, 'saints': 1, 'cats': 1, 'Vortex': 1, 'peak': 1, 'whiplash': 1, 'Higgins': 1, 'vengeance': 1, 'vote-getters': 1, 'tone': 1, 'Louisville': 1, 'specialties': 1, 'Colleges': 1, 'fabric': 1, 'nurses': 1, 'Care': 1, 'salvage': 1, 'NRM': 1, 'nationalists': 1, 'Mitchell': 1, 'unconstitutional': 1, 'homicides': 1, 'hire': 1, 'terrorists': 1, 'Thurmond': 1, 'penalty': 1, 'convictions': 1, 'Jones': 1, 'adequate': 1, 'Britton': 1, 'Morristown': 1, 'rapport': 1, 'communication': 1, 'Feb.': 1, 'doldrums': 1, 'Gates': 1, 'reshuffle': 1, 'soviet': 1, 'perfume': 1, 'cooperatives': 1, 'Deputies': 1, 'former': 1, 'tenets': 1, 'Russo': 1, 'decision-making': 1, 'Pirelli': 1, '162': 1, 'exposures': 1, \"A's\": 1, '2603.48': 1, 'introductions': 1, 'chart': 1, 'pencil': 1, 'machinery': 1, 'anybody': 1, 'NEC': 1, 'PCs': 1, '66': 1, '1,000': 1, 'Dome': 1, 'McCormack': 1, 'RU-486': 1, 'foundations': 1, 'contraceptives': 1, 'clinic': 1, 'posture': 1, 'beneficiaries': 1, 'pullback': 1, 'truth': 1, 'fax': 1, 'watercolor': 1, 'handlers': 1, 'closet': 1, 'Acapulco': 1, 'Snow': 1, 'expert': 1, 'seaboard': 1, 'cap': 1, 'Broncos': 1, 'devastation': 1, 'Doubles': 1, 'Creswell': 1, 'DES': 1, 'Dynamics': 1, 'Lavery': 1, 'successes': 1, 'blunder': 1, 'cease-fire': 1, 'enemies': 1, 'laundering': 1, 'winners': 1, 'diagnosis': 1, 'tumor': 1, 'chromosomes': 1, 'probes': 1, 'copy': 1, 'tedious': 1, 'deletions': 1, 'malignancy': 1, 'p53': 1, 'cockpit': 1, 'Dumpty': 1, 'Eggs': 1, 'over-capacity': 1, 'lender': 1, 'Bosworth': 1, 'potatoes': 1, 'Donnelley': 1, 'Kerlone': 1, 'Pharmaceuticals': 1, '70': 1, 'bench': 1, 'Golenbock': 1, 'word': 1, 'Giants': 1, 'DPC': 1, 'Boeing': 1, 'Arctic': 1, 'Foothills': 1, 'mainline': 1, '1998': 1, 'Lyonnais': 1, 'Allianz': 1, 'schemes': 1, 'prepayments': 1, 'Bancroft': 1, 'appearing': 1, 'heirs': 1, 'singers': 1, 'N.V.': 1, 'Papermils': 1, 'troubles': 1, 'memory': 1, 'autonomy': 1, 'cliff': 1, 'diplomats': 1, 'Bass': 1, 'Bell': 1, 'Finance': 1, 'extreme': 1, 'Pulp': 1, '360': 1, 'motors': 1, 'quadrupling': 1, 'fad': 1, 'bran': 1, 'Sidhpur': 1, 'mustard': 1, 'Delhi': 1, 'eyebrow': 1, 'fleas': 1, 'laxatives': 1, 'Metamucil': 1, 'globe': 1, 'healthy': 1, 'dice': 1, 'dereliction': 1, 'Business': 1, 'between': 1, 'difficulties': 1, '1949': 1, 'blast': 1, 'repeat': 1, 'high-mindedness': 1, 'sensationalism': 1, 'dislike': 1, 'Jewboy': 1, 'kinfolk': 1, 'sack': 1, 'fleshpots': 1, 'Kate': 1, 'patriarchy': 1, 'chapter': 1, 'dance': 1, 'charm': 1, 'rapist': 1, 'double-C': 1, 'single-B-minus': 1, 'ABC': 1, 'moxie': 1, 'designs': 1, 'sweaters': 1, 'Moore': 1, 'S.A': 1, 'recommending': 1, 'Jimmy': 1, 'liquidation': 1, 'EST': 1, 'authorization': 1, 'Angels': 1, 'landings': 1, 'Voronezh': 1, 'Good': 1, 'sky': 1, '2:25': 1, 'sightings': 1, 'rocks': 1, 'clearing': 1, 'Invasion': 1, 'salt': 1, 'chlorine': 1, 'Netherlands': 1, 'vests': 1, 'Kevlar': 1, 'coatings': 1, 'courage': 1, 'taxation': 1, 'Thatcher': 1, 'globalist': 1, 'protectionism': 1, 'Alan': 1, 'Y&R': 1, 'Macy': 1, 'moderation': 1, 'peace': 1, 'freeing': 1, 'peacemakers': 1, 'Pretoria': 1, 'townships': 1, 'Lester': 1, 'megawatts': 1, 'turbines': 1, 'Borax': 1, 'fluctuations': 1, 'Boveri': 1, 'baseballs': 1, 'out': 1, 'Gibson': 1, 'triumph': 1, 'card': 1, 'wins': 1, '99': 1, 'pennant': 1, 'triples': 1, 'One': 1, 'component': 1, 'ODI': 1, 'copying': 1, 'coffin': 1, 'wrangling': 1, 'harms': 1, 'wheeling': 1, 'Inspectorate': 1, 'meadows': 1, 'Alps': 1, 'Rey': 1, 'raid': 1, 'Investment': 1, 'Wichita': 1, 'Pinick': 1, 'caution': 1, 'Roy': 1, 'Cabinet': 1, 'autocrat': 1, 'bind': 1, 'wings': 1, 'Pty.': 1, 'Greens': 1, 'tongue': 1, '37': 1, 'canals': 1, 'Samsung': 1, 'Soyuz': 1, 'iron': 1, 'pen': 1, 'Semel': 1, 'ambitions': 1, 'shortcomings': 1, 'Security': 1, 'Sansui': 1, 'Nadir': 1, 'McCaw': 1, 'meanwhile': 1, 'decree': 1, 'chorus': 1, 'Lufkin': 1, 'Nasdaq': 1, 'selloffs': 1, '437.68': 1, '448.80': 1, 'Starpointe': 1, 'joint-implants': 1, 'nationalization': 1, 'recommendations': 1, '35527.29': 1, '35378.44': 1, 'sidelines': 1, 'Cortes': 1, 'assault': 1, 'survivors': 1, 'Faberge': 1, 'counters': 1, 'test-marketing': 1, 'soaps': 1, 'image-making': 1, 'Olay': 1, 'mid-30s': 1, 'casino': 1, 'damper': 1, 'Upham': 1, 'ultimatums': 1, 'half-baked': 1, 'boss': 1, 'pretext': 1, 'Bundesbank': 1, 'replacements': 1, 'stay': 1, 'polling': 1, 'practitioners': 1, 'palm': 1, 'readership': 1, 'famines': 1, 'wives': 1, 'Langendorf': 1, 'Greenspan': 1, 'mistakes': 1, 'backgrounds': 1, 'rehearing': 1, 'cutting': 1, 'syngeries': 1, 'Capital': 1, '7:30': 1, 'Taiwan': 1, 'naphtha': 1, 'Bataan': 1, 'speakers': 1, 'Wright': 1, 'clause': 1, 'conservatives': 1, 'Exterior': 1, 'shape': 1, '700': 1, 'trials': 1, 'bargains': 1, 'homeland': 1, 'Marcoses': 1, 'divisiveness': 1, 'Rochester': 1, 'Orleans': 1, 'Greenfield': 1, 'unworkable': 1, 'vendors': 1, 'Horton': 1, 'irregularities': 1, 'wildlife': 1, 'objectivity': 1, 'bequest': 1, 'subcommittee': 1, 'ususal': 1, 'grip': 1, 'Rectifier': 1, 'Resources': 1, 'alliances': 1, 'SAS': 1, 'Finnair': 1, 'kidnapping': 1, 'murders': 1, 'unknowns': 1, 'epsiode': 1, 'cutbacks': 1, 'sitcom': 1, 'Middletown': 1, '10,000': 1, 'extras': 1, 'half-time': 1, 'laughter': 1, 'Ciba-Geigy': 1, 'megabyte': 1, 'battery': 1, 'Taipei': 1, 'Henderson': 1, 'inspection': 1, 'perchlorate': 1, 'Schaumburg': 1, 'catastrophe': 1, 'Vancouver': 1, 'Patterson': 1, 'Leaseway': 1, 'NBC-TV': 1, 'N.A.': 1, 'Acquisition': 1, 'Kofcoh': 1, 'Erath': 1, 'subpoenas': 1, 'suspensions': 1, 'merchants': 1, '1.10': 1, 'daily': 1, 'Barney': 1, 'avoid': 1, 'Cascade': 1, 'recapitalization': 1, 'Chemical': 1, 'Foods': 1, 'REMICs': 1, 'deductible': 1, 'overruns': 1, 'Innopac': 1, 'Leominster': 1, 'Nestle': 1, 'bodies': 1, 'classrooms': 1, 'educators': 1, 'quiz': 1, 'gainers': 1, 'retrieval': 1, 'ice': 1, 'oceans': 1, 'predictions': 1, 'concentrations': 1, '1900': 1, 'Bufton': 1, 'allocations': 1, 'Mississippi': 1, 'ponds': 1, 'Arkansas': 1, 'river': 1, 'sums': 1, '5,000': 1, 'shakeout': 1, 'dangers': 1, 'fluctuation': 1, 'journal': 1, 'diabetics': 1, 'Indianapolis': 1, 'unawareness': 1, 'animal': 1, 'man-hours': 1, 'uncertainties': 1, 'Scenarios': 1, 'Chiefs': 1, 'Defense': 1, 'sequence': 1, 'essay': 1, 'Suisse': 1, 'strengths': 1, '13/16': 1, 'sunglasses': 1, 'lenses': 1, 'Bancorp': 1, 'rand': 1, 'mid-November': 1, 'Francais': 1, 'Generale': 1, 'Smelting': 1, 'Brockville': 1, 'disgust': 1, 'chalk': 1, 'blackboard': 1, 'best': 1, 'BSN': 1, 'Continent': 1, 'aflatoxin': 1, 'subtilis': 1, 'competitiveness': 1, 'charter': 1, 'brethren': 1, 'Sharpshooter': 1, 'wrench': 1, 'crust': 1, 'wallets': 1, 'coaster': 1, 'allotments': 1, 'Sniper': 1, 'drilling': 1, 'rigs': 1, 'Caspar': 1, 'hamburgers': 1, 'vault': 1, 'Whittier': 1, 'compensations': 1, 'temple': 1, 'tickets': 1, 'gate': 1, 'attendants': 1, 'nets': 1, 'designer': 1, 'Chyron': 1, 'Sierra': 1, 'swaps': 1, 'goodwill': 1, 'poisons': 1, 'bacterium': 1, 'Rothschild': 1, 'propaganda': 1, 'palace': 1, 'commodities': 1, 'vapors': 1, 'workroom': 1, 'Dearborn': 1, 'restriction': 1, 'Coventry': 1, 'Redford': 1, 'Sundance': 1, 'Project': 1, 'Utah': 1, 'guests': 1, 'experiences': 1, 'Students': 1, 'minority': 1, 'athletes': 1, 'herd': 1, 'fullest': 1, '28': 1, 'Genius': 1, 'lasers': 1, 'psychobiology': 1, 'Somerset': 1, 'Crestmont': 1, 'Libya': 1, 'well': 1, 'comprehensiveness': 1, 'phases': 1, 'earliest': 1, 'ministries': 1, 'favorite': 1, 'love': 1, 'poet': 1, 'Martha': 1, 'Turnpike': 1, 'neighbor': 1, 'nickname': 1, 'hesitation': 1, 'Exit': 1, 'somebody': 1, 'kid': 1, 'Southam': 1, 'Hees': 1, 'layoffs': 1, 'Eastman': 1, 'professor': 1, 'Assembly': 1, 'Roh': 1, 'sizes': 1, 'landholdings': 1, 'handicapped': 1, 'talk': 1, 'Espectador': 1, 'mayor': 1, 'trough': 1, 'bust': 1, 'candidate': 1, 'indecisiveness': 1, 'activist': 1, 'Beame': 1, 'late': 1, 'Dinkins': 1, 'clue': 1, 'Rangel': 1, 'Brooklyn': 1, 'candidacy': 1, 'politicking': 1, 'window': 1, 'countertop': 1, 'Coast': 1, 'bathrooms': 1, 'Hammacks': 1, 'Watsonville': 1, 'FCC': 1, 'MCI': 1, 'Brouwer': 1, 'Nabisco': 1, 'nonevent': 1, 'plot': 1, 'fiasco': 1, 'Vandenberg': 1, 'journey': 1, 'societies': 1, 'virtues': 1, 'pride': 1, 'shipyards': 1, 'outsider': 1, 'stockbroker': 1, 'anger': 1, 'US$': 1, 'Murdoch': 1, 'Antar': 1, 'Rights': 1, 'Eddie': 1, 'market-maker': 1, 'brains': 1, 'specific': 1, 'sliver': 1, 'instructions': 1, 'generations': 1, 'shop': 1, 'fabrication': 1, 'Beltway': 1, 'tract': 1, 'Colinas': 1, 'Klein': 1, 'twists': 1, 'Breeden': 1, 'Markets': 1, 'felonies': 1, 'implications': 1, 'beggars': 1, 'talent': 1, 'intellect': 1, 'neighbors': 1, 'throats': 1, 'Hassan': 1, 'Arabic': 1, 'classics': 1, 'robbing': 1, 'mentor': 1, 'Nasser': 1, 'bullets': 1, 'morality': 1, 'genres': 1, 'Song': 1, 'God': 1, 'vacations': 1, 'Nadelmann': 1, 'legalization': 1, 'tooling': 1, 'Northrop': 1, 'functions': 1, 'cost-cutting': 1, 'dents': 1, 'sarakin': 1, 'Christies': 1, 'shirt': 1, 'Aichi': 1, 'Tinker': 1, 'legislators': 1, 'Filipino': 1, 'locks': 1, 'tactic': 1, 'Ernst': 1, 'method': 1, 'Shimbun': 1, 'Tiffany': 1, 'flashlights': 1, 'crackdown': 1, 'constrictors': 1, 'armpits': 1, '2613.73': 1, 'chancellor': 1, 'pillar': 1, 'entitlement': 1, 'Chrysler': 1, 'Measure': 1, 'decadence': 1, 'Angelo': 1, 'dynamic': 1, 'Shakespeare': 1, 'imagination': 1, 'fate': 1, 'laugh': 1, 'minuses': 1, 'cloture': 1, 'Marsh': 1, 'modifications': 1, 'configuration': 1, '800,000': 1, '100,000': 1, 'Stirling': 1, 'boot': 1, 'engagements': 1, 'homeless': 1, 'ordeal': 1, 'pulpit': 1, 'royalties': 1, 'lawyer': 1, 'secretary': 1, 'solace': 1, 'master': 1, 'hemisphere': 1, 'OAS': 1, 'Americas': 1, 'quips': 1, 'cartoons': 1, 'demise': 1, 'cursing': 1, 'comedies': 1, 'Viroqua': 1, 'backlog': 1, 'G.m.b.H.': 1, 'lubricants': 1, 'cleaning': 1, 'small': 1, 'markka': 1, 'Kabel': 1, 'Strasbourg': 1, 'Kyle': 1, '65': 1, '22': 1, 'Equifax': 1, 'Lee': 1, 'arrests': 1, 'counterrevolutionary': 1, 'EPO': 1, 'uncovered': 1, 'responsibilities': 1, 'roles': 1, 'junket': 1, 'Krasnoyarsk': 1, 'extraordinary': 1, 'prestige': 1, 'Nightline': 1, 'mess': 1, 'norm': 1, 'refrain': 1, 'ethos': 1, 'Cineplex': 1, 'Prohibition': 1, 'parliament': 1, 'negotiation': 1, 'workstation': 1, 'founder': 1, 'writings': 1, 'copyright': 1, 'Yorker': 1, 'description': 1, 'historians': 1, 'humanities': 1, 'teaching': 1, 'anxieties': 1, 'daughter': 1, 'Crane': 1, 'Posner': 1, 'Yacos': 1, 'regulator': 1, 'photos': 1, 'bumps': 1, 'cheetah': 1, 'fuel-economy': 1, 'whimsy': 1, 'dummy': 1, 'mentality': 1, 'saying': 1, '18': 1, 'attacks': 1, 'Neal': 1, 'intervention': 1, 'celebrity': 1, 'Centers': 1, 'bed': 1, 'affections': 1, 'chemical': 1, 'scare': 1, 'pesticide': 1, 'residues': 1, '2653.28': 1, 'conclusions': 1, 'Whitford': 1, 'SMU': 1, 'Clements': 1, 'liaisons': 1, 'zone': 1, 'sofa': 1, 'steroids': 1, 'standing': 1, 'Massachusetts': 1, 'dock': 1, 'worker': 1, 'Workers': 1, 'UMW': 1, 'Ehrlich': 1, 'Ogden': 1, 'vaults': 1, 'truck': 1, 'Chekhov': 1, 'fertility': 1, 'distress': 1, 'storytelling': 1, 'Commonwealth': 1, 'Schimmel': 1, 'Ventures': 1, 'faculty': 1, 'dramatization': 1, 'painter': 1, 'Gray': 1, 'Stephenson': 1, 'technicality': 1, 'holder': 1, 'park': 1, 'midsummer': 1, 'tip': 1, 'masonry': 1, 'rhododendron': 1, 'heights': 1, 'tartans': 1, 'battalion': 1, 'shade': 1, 'riverfront': 1, 'Hudson': 1, 'Robinson': 1, 'knots': 1, 'Rails': 1, 'breaker': 1, 'curb': 1, 'Ruder': 1, 'jokes': 1, 'short': 1, 'addresses': 1, 'Trend': 1, 'differential': 1, 'Chinese': 1, '1,642': 1, 'deportation': 1, '1868': 1, 'mourning': 1, 'Italians': 1, 'accident': 1, 'lagoon': 1, 'AGIP': 1, '11,795': 1, '75,500': 1, 'facelifts': 1, 'pedestrians': 1, 'intersection': 1, 'lane': 1, 'occupancy': 1, 'Kerkorian': 1, 'Grand': 1, 'pockets': 1, 'Representatives': 1, 'large': 1, 'corps': 1, 'appropriation': 1, 'contacts': 1, 'broadcasts': 1, 'discipline': 1, 'Smith': 1, 'overbuilding': 1, 'Falls': 1, 'deeds': 1, 'yards': 1, 'indestructibility': 1, 'hearts': 1, 'outfits': 1, 'Espre': 1, 'Gruppe': 1, 'yearbook': 1, 'crashes': 1, 'evil': 1, 'beans': 1, 'Federated': 1, 'celebration': 1, 'shipping': 1, 'erosion': 1, 'Consultants': 1, 'second-quarter': 1, 'dedication': 1, 'mask': 1, 'chip': 1, 'Alert': 1, 'Republic': 1, 'Insurance': 1, 'machinists': 1, 'Swissair': 1, 'Lampoon': 1, 'dispositions': 1, \"'80s\": 1, 'bar': 1, '35442.40': 1, '35587.85': 1, 'flurry': 1, 'Zeta': 1, 'northeast': 1, 'legacy': 1, 'cocoa': 1, 'Beghin-Say': 1, 'A.T.B.': 1, 'F-14': 1, 'Grumman': 1, 'Emery': 1, 'setback': 1, '784': 1, 'Kellogg': 1, 'Mills': 1, 'friction': 1, 'encouragement': 1, 'uses': 1, 'inertia': 1, 'dementia': 1, 'suitor': 1, 'Bloomingdale': 1, 'Store': 1, 'jet': 1, 'Paulo': 1, 'Austria': 1, '11,586': 1, '14,099': 1, '37,820': 1, '44,796': 1, 'bankruptcies': 1, '2,046': 1, '1,892': 1, 'TW': 1, 'Coniston': 1, 'Builders': 1, 'focus': 1, 'aggressiveness': 1, 'dial': 1, 'WHEC-TV': 1, 'NBC': 1, 'ratings-getter': 1, 'proliferation': 1, 'salesmen': 1, 'monitoring': 1, 'tapings': 1, 'eavesdropping': 1, 'phones': 1, 'abuses': 1, 'catalogs': 1, 'watching': 1, 'networking': 1, 'cartridge': 1, 'Saltzburg': 1, 'Fresenius': 1, 'Eminase': 1, 'Saab': 1, 'Kildare': 1, '178.8': 1, 'Corps': 1, 'closure': 1, 'walls': 1, 'mid-1991': 1, 'element': 1, 'Apple': 1, 'HyperCard': 1, 'knowledge': 1, 'prevention': 1, 'stance': 1, 'Asia-Pacific': 1, 'interloper': 1, 'Steel': 1, 'Oil': 1, 'Hutchison': 1, 'backbone': 1, 'piece': 1, 'dialogue': 1, 'acts': 1, 'theirs': 1, 'Jerusalem': 1, 'territories': 1, 'terrorism': 1, 'Arens': 1, 'incidents': 1, 'bombs': 1, 'intifadah': 1, 'PLO': 1, 'Deposit': 1, 'double-A-3': 1, 'mismatch': 1, 'eve': 1, 'Allstate': 1, 'pressures': 1, 'Partnership': 1, 'anywhere': 1, 'Socialists': 1, 'McKinsey': 1, 'beach': 1, 'Malibu': 1, 'shovels': 1, 'interior': 1, '1908': 1, 'rag': 1, 'diamonds': 1, 'trap': 1, 'anteaters': 1, 'layers': 1, 'waves': 1, 'knot': 1, 'heel': 1, 'inquiries': 1, 'residence': 1, 'golfers': 1, 'rough': 1, 'embassy': 1, 'roots': 1, 'Appleseed': 1, 'Delicious': 1, 'shoots': 1, 'looks': 1, 'strains': 1, 'capita': 1, 'perversion': 1, 'grower': 1, 'appeal': 1, 'Virginia': 1, 'providing': 1, 'defaulters': 1, 'crises': 1, 'UCLA': 1, 'exporters': 1, 'diaper': 1, 'Artzt': 1, 'census': 1, 'Jews': 1, '51': 1, 'council': 1, 'Birmingham': 1, 'Attorneys': 1, 'TROs': 1, 'forfeiture': 1, 'TRO': 1, 'offense': 1, '69,980': 1, '37,860': 1, '158,863': 1, '94,543': 1, 'ballooning': 1, '46,995': 1, 'scavengers': 1, '22,336': 1, 'Accords': 1, '8,355': 1, '5,651': 1, 'Georgetown': 1, 'Palestinians': 1, 'Arabs': 1, 'radar': 1, 'Congressmen': 1, 'showers': 1, 'covenants': 1, 'trunk': 1, 'hogs': 1, 'fingers': 1, 'zlotys': 1, 'procurement': 1, 'shame': 1, 'envy': 1, 'scraps': 1, 'hens': 1, 'look': 1, 'village': 1, 'reservoir': 1, 'acre': 1, 'pork': 1, 'farms': 1, 'bargain': 1, 'vodka': 1, 'Grabowiec': 1, 'once': 1, 'odds': 1, 'Oman': 1, 'Alaska': 1, 'Affairs': 1, 'mid-1980s': 1, 'Division': 1, 'injustices': 1, 'cancellation': 1, 'cast': 1, 'lesbians': 1, 'drapes': 1, 'Violetta': 1, 'Turandot': 1, 'greenhouse': 1, 'voice': 1, 'baritone': 1, 'musicians': 1, 'Lyric': 1, 'behest': 1, 'Traviata': 1, 'Festival': 1, 'festival': 1, 'Yaaba': 1, 'arrest': 1, 'refugees': 1, 'Baird': 1, 'lens': 1, 'Dun': 1, 'performer': 1, 'pageant': 1, 'eons': 1, 'improbability': 1, 'fossils': 1, 'Shale': 1, 'beasties': 1, 'prosoma': 1, 'oddities': 1, 'Review': 1, 'elsewhere': 1, 'tab': 1, '2002': 1, 'architects': 1, 'codes': 1, 'anthology': 1, 'Stein': 1, 'influences': 1, 'rigor': 1, 'speaking': 1, 'yuppies': 1, 'dalliances': 1, 'derring-do': 1, 'Summerfolk': 1, 'Helpern': 1, 'Debussy': 1, 'Inco': 1, 'swoon': 1, 'six-month': 1, 'Plymouth': 1, 'divestitures': 1, 'Cage': 1, 'afternoon': 1, 'unraveling': 1, 'train': 1, 'weapon': 1, 'well-being': 1, 'racehorses': 1, 'Hulings': 1, 'Spendthrift': 1, 'barn': 1, 'legs': 1, 'racetrack': 1, 'ethics': 1, 'newcomers': 1, 'submission': 1, 'Donuts': 1, 'automation': 1, 'disposition': 1, 'commissioners': 1, 'mudslinging': 1, 'Orr': 1, 'Solar': 1, '1739.3': 1, 'recommendatons': 1, '35526.55': 1, '35544.47': 1, 'Pioneer': 1, 'examinations': 1, 'testers': 1, 'anti-competitive': 1, 'worse': 1, 'Mix': 1, 'bevy': 1, 'Trout': 1, 'Boy': 1, 'Paxus': 1, '75,000': 1, 'auctions': 1, 'centimeters': 1, '10:40': 1, 'raiders': 1, 'incompetence': 1, 'recapitalizations': 1, 'treasuries': 1, 'cathodes': 1, 'library': 1, 'videotape': 1, 'Kravis': 1, 'carrot': 1, 'Gillett': 1, 'LBOs': 1, 'ranges': 1, 'halted': 1, 'dozens': 1, 'ravages': 1, 'Hardee': 1, '99.93': 1, 'Staar': 1, 'orthodoxy': 1, 'Lebanon': 1, 'comrades': 1, 'blasts': 1, 'tensions': 1, 'Utilities': 1, 'embryo': 1, 'alcohol': 1, 'wastes': 1, 'artery': 1, 'smell': 1, 'Psychiatry': 1, 'Relocation': 1, 'disruption': 1, 'wad': 1, 'lamp': 1, 'cemetery': 1, 'assassination': 1, 'hyping': 1, 'Fried': 1, 'ring': 1, 'lighting': 1, 'Ladenburg': 1, 'corporate': 1, 'cornea': 1, 'significance': 1, 'dose': 1, 'antibody': 1, 'pocket': 1, 'aspect': 1, 'females': 1, 'searches': 1, 'reviews': 1, 'bastion': 1, '1945': 1, 'investigators': 1, 'squads': 1, 'precision': 1, 'waters': 1, 'catsup': 1, 'ketchup': 1, 'entrepreneurs': 1, 'Strategy': 1, 'Nevada': 1, 'unease': 1, 'cookbooks': 1, 'pointers': 1, 'Goldston': 1, 'Fireman': 1, 'Months': 1, 'heels': 1, 'start-ups': 1, 'undertones': 1, 'craving': 1, 'cry': 1, 'verdict': 1, 'litigants': 1, 'Harrisburg': 1, 'Cravath': 1, 'transport': 1, 'Vinson': 1, 'physically': 1, 'attitudes': 1, 'origin': 1, 'Thacher': 1, 'masseurs': 1, 'chlorofluorocarbons': 1, 'banishment': 1, 'conjecture': 1, 'layer': 1, 'formulations': 1, 'depletion': 1, 'Louisiana': 1, 'leave': 1, 'NFIB': 1, 'franchisees': 1, 'negotiators': 1, 'railcars': 1, 'BART': 1, 'weakling': 1, 'grandmasters': 1, 'flair': 1, '720,000': 1, 'draw': 1, 'crouch': 1, 'outpost': 1, 'D.T': 1, 'threats': 1, 'Blumenfeld': 1, 'rum': 1, 'spirits': 1, 'Liqueur': 1, 'drink': 1, 'porches': 1, 'faint': 1, 'Federal-Mogul': 1, 'mill': 1, 'starts': 1, 'ships': 1, 'clones': 1, 'movements': 1, 'nature': 1, 'rebellion': 1, 'self-definition': 1, 'definition': 1, 'Math': 1, 'textbooks': 1, 'Nelson': 1, 'Spectator': 1, 'morale': 1, 'Hingham': 1, 'Folcroft': 1, 'inflow': 1, 'urgency': 1, 'two-thirds': 1, 'deflators': 1, 'Productivity': 1, 'Living': 1, 'shampoo': 1, 'borders': 1, 'settlements': 1, 'appointment': 1, 'RTC': 1, 'origins': 1, 'present': 1, 'mismanagement': 1, '70,000': 1, 'ports': 1, 'Lockerbie': 1, 'flavor': 1, 'graduation': 1, 'outstanding': 1, 'carry-forwards': 1, 'pilot': 1, 'Wolf': 1, 'rule': 1, 'coup': 1, 'timidity': 1, 'custody': 1, 'warning': 1, 'North': 1, 'Iran-Contra': 1, 'Zeal': 1, 'mind-set': 1, 'Valley': 1, 'explosions': 1, 'figure': 1, 'Croix': 1, 'Lyondell': 1, '2012': 1, '2014': 1, '2016': 1, 'nicknames': 1, 'breed': 1, 'bullhorn': 1, 'mold': 1, 'Ingersoll': 1, 'clashes': 1, 'Goodson': 1, 'boat': 1, 'Ogilvy': 1, 'Saatchi': 1, 'Consulting': 1, 'logistics': 1, 'Biederman': 1, 'Indies': 1, 'Fleming': 1, 'TNT': 1, 'spite': 1, '99.80': 1, 'fury': 1, 'A&M': 1, 'ridges': 1, 'remains': 1, 'hook': 1, 'fish': 1, 'seacoast': 1, 'atolls': 1, 'Refuge': 1, 'mistake': 1, 'oak': 1, 'pronunciation': 1, 'dreams': 1, 'fame': 1, 'despair': 1, 'bigotry': 1, 'tributes': 1, 'vision': 1, 'Cleopatra': 1, 'Casablanca': 1, 'Marseillaise': 1, 'haul': 1, 'intention': 1, 'GAF': 1, 'substances': 1, 'asbestos': 1, 'Bundy': 1, 'artwork': 1, 'lithographs': 1, 'Lavin': 1, 'Alliance': 1, 'deflator': 1, '35689.98': 1, '35586.60': 1, 'backdrop': 1, '554': 1, 'Guadalajara': 1, 'Matamoros': 1, 'droplets': 1, 'discretion': 1, 'Morfey': 1, 'jealousy': 1, 'chairmanship': 1, 'Kurzweil': 1, 'norms': 1, 'uprising': 1, 'Budapest': 1, 'challenge': 1, 'touchdown': 1, 'Pasadena': 1, 'plots': 1, 'Aoun': 1, 'hostages': 1, 'Iranians': 1, 'softening': 1, 'Schools': 1, 'importer': 1, 'WPP': 1, 'buyouts': 1, 'snubbing': 1, 'constituent': 1, 'Riegle': 1, 'insistence': 1, 'guise': 1, 'yes': 1, 'tantamount': 1, 'Movieline': 1, 'outside': 1, 'Russia': 1, 'crowds': 1, 'co-publisher': 1, 'cuisine': 1, 'Izvestia': 1, 'cookbook': 1, 'important': 1, 'memories': 1, 'husband': 1, 'Russian': 1, 'poetry': 1, 'Russians': 1, 'abating': 1, 'export': 1, 'advancements': 1, 'Agricole': 1, 'S.p.A': 1, 'Venetoen': 1, 'Banco': 1, 'circuits': 1, 'titanate': 1, 'speeds': 1, 'representations': 1, 'retailer': 1, 'Shack': 1, 'Tandy': 1, 'defaults': 1, 'junk': 1, 'pals': 1, 'entrance': 1, 'affiliation': 1, 'Sardi': 1, 'Stretch': 1, 'Trumps': 1, 'Flottl': 1, 'torch': 1, 'Lake': 1, 'Wizard': 1, 'Nuys': 1, 'journalists': 1, 'fake': 1, 'Parkway': 1, 'lake': 1, 'habits': 1, 'bags': 1, 'attraction': 1, 'crooks': 1, 'palms': 1, 'trunks': 1, 'tracts': 1, 'fronds': 1, 'cutters': 1, 'HDTVs': 1, 'converters': 1, 'dinosaur': 1, 'beast': 1, 'gambling': 1, 'pachinko': 1, 'JSP': 1, 'Kaifu': 1, 'abroad': 1, 'basketball': 1, 'pack': 1, 'hips': 1, 'composers': 1, 'composer': 1, 'accompanist': 1, 'apartment': 1, 'espousal': 1, 'sections': 1, 'hock': 1, 'Maidenform': 1, 'apparel': 1, '1920s': 1, 'veterans': 1, 'classifications': 1, 'Federal': 1, 'procedure': 1, 'briefings': 1, 'limit': 1, 'depot': 1, 'Hump': 1, 'hangar': 1, 'givebacks': 1, 'Steinberg': 1, 'videos': 1, '23': 1, 'miniseries': 1, 'inspirations': 1, 'topicality': 1, 'incest': 1, 'Hoover': 1, 'Williams': 1, 'Kennedy': 1, 'Anchorage': 1, 'prejudice': 1, 'dump': 1, 'memorial': 1, 'noise': 1, 'Pennzoil': 1, 'Housing': 1, 'writer': 1, 'Book': 1, 'NSC': 1, 'Sperry': 1, 'Clearwater': 1, 'equiment': 1, 'releases': 1, 'folks': 1, 'archrival': 1, 'struggle': 1, 'rookie': 1, 'attendance': 1, 'football': 1, 'Bright': 1, 'Bowls': 1, 'Sportdom': 1, 'halls': 1, 'Vikings': 1, 'stadium': 1, 'NFL': 1, 'say': 1, 'gridlock': 1, 'replacement': 1, 'Rock': 1, 'suite': 1, 'Days': 1, 'critique': 1, 'presentation': 1, 'slipshod': 1, 'Israelis': 1, 'disclosure': 1, 'Comptroller': 1, 'New': 1, 'Entertainment': 1, 'languages': 1, 'signal': 1, 'circles': 1, 'Gauloises': 1, 'parking': 1, 'SA': 1, 'cigarettes': 1, 'Missouri': 1, 'horn': 1, 'Movement': 1, 'executions': 1, 'Ethiopia': 1, 'Dese': 1, 'port': 1, 'Eritrea': 1, 'Asmara': 1, 'Eritreans': 1, 'Horn': 1, 'Sudan': 1, 'cones': 1, 'Kuwait': 1, 'Crusaders': 1, 'plane': 1, 'preference': 1, 'inability': 1, 'A330-300s': 1, 'Tristars': 1, 'Cathay': 1, 'structures': 1, 'amazement': 1, 'breakfast': 1, 'possessions': 1, 'pillowcases': 1, 'pets': 1, 'cat': 1, 'kingpins': 1, 'roofs': 1, 'HIB': 1, 'EXBT': 1, 'counter': 1, 'Hambrecht': 1, 'graveyard': 1, 'valor': 1, 'writedowns': 1, 'double-B': 1, 'double-B-plus': 1, 'bribes': 1, 'Rich': 1, 'preparation': 1, 'towns': 1, 'boosters': 1, 'exits': 1, 'commuters': 1, 'brewing': 1, 'police': 1, 'Interface': 1, 'collaboration': 1, 'patrol': 1, 'alarms': 1, 'entrepreneurship': 1, 'Ortiz': 1, 'criminology': 1, 'worst': 1, 'diversification': 1, 'unsettlement': 1, 'translations': 1, 'linkages': 1, 'formaldehyde': 1, 'salmon': 1, 'Iceland': 1, 'Vermont': 1, 'oaks': 1, 'blows': 1, 'upset': 1, 'Liberal': 1, 'moustache': 1, 'Carson': 1, 'deception': 1, 'Ambrosiano': 1, 'Vatican': 1, 'official': 1, 'Signal': 1, 'Realist': 1, 'Western': 1, 'Donaldson': 1, 'directories': 1, 'prostitution': 1, 'Pisa': 1, 'drinks': 1, 'televising': 1, 'Sport': 1, 'licenses': 1, 'target': 1, 'resales': 1, 'Inlet': 1, 'Catch-22': 1, 'lawyering': 1, 'offers': 1, 'Kids': 1, 'Disasters': 1, 'deficiency': 1, 'B-1': 1, 'Nikons': 1, 'extremes': 1, 'AIW': 1, 'allegory': 1, 'strokes': 1, 'tomorrow': 1, 'televisions': 1, 'diameter': 1, 'electroluminescence': 1, 'Thompson-CSF': 1, 'commanders': 1, 'cruisers': 1, 'tanks': 1, 'SHV': 1, 'Braintree': 1, 'reasoning': 1, 'fibers': 1, 'resistant': 1, 'Price': 1, 'Paper': 1, 'Barn': 1, 'cyclicals': 1, 'Anacomp': 1, 'concessions': 1, 'benchmark': 1, 'Jamaica': 1, 'then-minister': 1, 'Asher/Gould': 1, 'Baltimore': 1, 'NIH': 1, 'chemistry': 1, 'Beach': 1, 'settings': 1, 'duck': 1, 'citizenry': 1, 'turnaround': 1, 'rail': 1, 'shippers': 1, 'trailer': 1, 'containers': 1, 'skill': 1, 'memorandums': 1, '35588.36': 1, 'observers': 1, '5,440': 1, 'bit': 1, '778': 1, 'correspondence': 1, 'assassinations': 1, 'coups': 1, 'curbs': 1, 'Noxell': 1, 'MBB': 1, 'remainder': 1, 'personal-income': 1, 'Vickers': 1, 'coffers': 1, 'SKr205': 1, 'stakes': 1, 'renaissance': 1, 'internationalization': 1, 'Basf': 1, 'band': 1, 'minerals': 1, 'Waterbury': 1, 'quarterly': 1, 'Illinois': 1, 'tablets': 1, '21': 1, 'Cordis': 1, 'Parliament': 1, 'winds': 1, 'congressmen': 1, 'apparatus': 1, 'humor': 1, 'Hager': 1, 'temperatures': 1, 'Fleischmann': 1, 'chemists': 1, 'tunnel': 1, 'rays': 1, 'laboratory': 1, 'feedlots': 1, 'placements': 1, 'ranches': 1, 'winter': 1, 'sandwiches': 1, '131,146': 1, 'franchisers': 1, 'Restaurants': 1, 'Cobbs': 1, 'hobby': 1, 'autos': 1, 'waiting': 1, 'dimension': 1, 'Seidman': 1, 'nexus': 1, 'Federation': 1, 'certificate': 1, 'regulation': 1, 'Meridian': 1, 'IAFP': 1, 'Peterson': 1, 'selection': 1, 'gullible': 1, 'Valentine': 1, 'Prison': 1, 'locales': 1, 'U.': 1, 'formulas': 1, 'projections': 1, 'tuition': 1, 'receipts': 1, 'audits': 1, 'dependents': 1, 'Rubin': 1, 'recreation': 1, 'Orlando': 1, 'delinquents': 1, 'preferences': 1, 'suckers': 1, 'caller': 1, 'stranger': 1, 'lotteries': 1, 'in-crowd': 1, 'excitement': 1, 'legitimacy': 1, 'pitches': 1, 'James': 1, 'pursuits': 1, 'household': 1, 'lap': 1, 'consequences': 1, 'illnesses': 1, 'Maalox': 1, 'Oberhausen': 1, '2683.20': 1, 'oiler': 1, 'Maine': 1, 'height': 1, 'Rohrer': 1, 'discounts': 1, 'couples': 1, 'rooftops': 1, 'Islands': 1, 'trips': 1, 'fare': 1, 'clergy': 1, 'oilfield': 1, 'Greece': 1, 'fur': 1, 'lambskin': 1, 'skins': 1, 'allure': 1, 'hepatitis': 1, 'globulin': 1, 'editorial': 1, 'hinterlands': 1, 'bylines': 1, 'assurance': 1, 'professionals': 1, 'earners': 1, 'Reynolds': 1, 'DEC': 1, 'dentists': 1, 'mix': 1, 'discrepencies': 1, 'volumes': 1, '12,017,724': 1, '2,157,656': 1, 'financier': 1, 'mid-September': 1, 'flip-flop': 1, 'tires': 1, 'restoration': 1, 'rubber': 1, 'strip': 1, 'soldier': 1, 'villagers': 1, 'writers': 1, 'intellectuals': 1, 'dealer': 1, 'folklore': 1, 'secretary-general': 1, 'moi': 1, 'conglomerate': 1, 'warehouses': 1, 'foods': 1, 'turf': 1, 'Trustcorp': 1, 'Florio': 1, 'opponent': 1, 'hawk': 1, 'ambivalence': 1, 'commissioner': 1, 'Kean': 1, 'Ozzie': 1, 'reformers': 1, 'mater': 1, 'fireworks': 1, 'boomers': 1, 'slopes': 1, 'mom': 1, 'excursions': 1, 'faces': 1, 'Highway': 1, 'aisle': 1, 'ballroom': 1, 'Citicorp': 1, 'acquirers': 1, 'shopping': 1, 'Harley-Davidson': 1, 'skittishness': 1, 'Authority': 1, '1.48': 1, 'panhandler': 1, 'ripoffs': 1, 'inducement': 1, 'solicitations': 1, 'Mothers': 1, 'assurances': 1, 'counterparts': 1, 'River': 1, 'aspects': 1, 'Plaza': 1, 'sum': 1, 'Atlas': 1, 'premises': 1, 'Orwell': 1, 'safe': 1, 'screenplay': 1, 'Bonfire': 1, 'powerhouse': 1, 'manpower': 1, 'whiz': 1, 'ink': 1, 'films': 1, 'Mist': 1, 'gorillas': 1, 'Peters': 1, 'forest': 1, 'Gorillas': 1, 'widow': 1, 'Way': 1, 'Jean': 1, 'ingrates': 1, 'Barris': 1, 'flesh': 1, 'spenders': 1, 'respondents': 1, 'Ba3': 1, 'receiver': 1, 'telex': 1, 'tanker': 1, '470.80': 1, '8.59': 1, '3.80': 1, 'Alex': 1, 'colleague': 1, 'afternoons': 1, 'Stadium': 1, 'postmarks': 1, \"'71\": 1, 'Walkmen': 1, 'Shearson': 1, 'Fridays': 1, 'dissemination': 1, 'efficiency': 1, 'sometime': 1, 'easing': 1, 'shopkeepers': 1, 'legislating': 1, 'tax-writers': 1, 'incomes': 1, '215,845': 1, 'pitcher': 1, 'chronicle': 1, 'worlds': 1, 'Ohls': 1, 'Magazine': 1, 'soft': 1, 'drops': 1, 'troublesome': 1, 'totals': 1, 'novels': 1, 'Duarte': 1, 'plains': 1, 'Rolls-Royce': 1, 'novel': 1, 'nonintervention': 1, 'onslaught': 1, 'Peru': 1, 'dictator': 1, 'Saturdays': 1, 'Popular': 1, 'Bradley': 1, 'Reebok': 1, 'CML': 1, 'debris': 1, 'tremblor': 1, 'cables': 1, 'roadway': 1, 'jackets': 1, 'frame': 1, 'Segundo': 1, 'absolutism': 1, 'exceptions': 1, 'both': 1, 'trimesters': 1, 'bureaus': 1, 'swoop': 1, 'reading': 1, 'subscriber': 1, 'memos': 1, 'tobacco': 1, 'miscommunication': 1, 'prohibitions': 1, 'Record': 1, 'conflicts': 1, 'monohull': 1, 'backyard': 1, 'mural': 1, 'Depression': 1, 'Stamford': 1, 'possession': 1, '15,000': 1, 'bullion': 1, 'maneuvering': 1, 'sidewalk': 1, '1845': 1, 'prisons': 1, 'inmates': 1, 'preparedness': 1, 'Tips': 1, 'gear': 1, 'checkpoints': 1, 'rides': 1, 'Irving': 1, 'Maloney': 1, 'American': 1, 'Levine': 1, 'brief': 1, 'Richmond': 1, 'Buffalo': 1, 'softness': 1, '1,235': 1, 'Stevenson': 1, 'district/state': 1, 'disdain': 1, '13': 1, '1932': 1, 'then': 1, 'State': 1, 'banker': 1, 'frenzy': 1, 'epiphany': 1, 'rescission': 1, 'rescissions': 1, 'Nixon': 1, 'goodies': 1, 'Monte': 1, 'arteries': 1, 'Agnos': 1, 'domination': 1, 'tyranny': 1, 'Cambodians': 1, 'genocide': 1, 'Penh': 1, 'non-communists': 1, 'proviso': 1, 'Clinton': 1, 'twang': 1, 'Beer': 1, 'F.S.B.': 1, 'debut': 1, 'Easterners': 1, 'lifestyle': 1, 'Independents': 1, 'Alamo': 1, 'Waring': 1, 'balls': 1, 'consent': 1, 'TransAtlantic': 1, 'dwellings': 1, 'aftermath': 1, '35544.87': 1, 'outlooks': 1, '785': 1, 'tour': 1, 'mid-afternoon': 1, 'renewals': 1, 'CSC': 1, 'cleanup': 1, 'bombings': 1, 'Spanish': 1, 'crew': 1, 'counterpart': 1, '32': 1, 'Block': 1, 'Code': 1, 'fans': 1, 'Pool': 1, 'Seabrook': 1, 'Queensland': 1, 'counts': 1, 'Superstitions': 1, 'pickup': 1, 'fighters': 1, 'cartridges': 1, 'route': 1, 'delta': 1, 'Alberta': 1, 'importance': 1, 'Helmsley': 1, 'sight': 1, 'Cape': 1, 'William': 1, 'right-wing': 1, 'Afrikanerdom': 1, 'aspirations': 1, 'Afrikaners': 1, 'tea': 1, 'judgment': 1, 'loads': 1, 'PROSPECTS': 1, 'Babel': 1, 'following': 1, 'Scorpio': 1, 'goals': 1, 'Audi': 1, 'Franco': 1, 'patent': 1, 'ears': 1, 'cores': 1, 'Guides': 1, 'thickness': 1, 'glass': 1, 'Marin': 1, 'intervals': 1, '880': 1, 'ride': 1, '10.03': 1, '35107.56': 1, '35242.65': 1, 'weakest': 1, 'marketmaking': 1, 'XL': 1, 'Crossair': 1, 'Battery': 1, 'subcontracting': 1, 'Quina': 1, 'private': 1, 'above': 1, 'Pemex': 1, 'salary': 1, '140,000': 1, 'sovereignty': 1, 'isolation': 1, 'counseling': 1, 'ball': 1, 'score': 1, 'pie': 1, 'Bancorp.': 1, '20%-plus': 1, 'hospitalization': 1, 'Hospitals': 1, 'Renault': 1, 'independence': 1, 'unpleasantness': 1, 'stew': 1, 'Blanchard': 1, 'compatriots': 1, 'anti-abortionists': 1, 'fetuses': 1, 'targets': 1, 'techniques': 1, 'defensive': 1, 'expenditure': 1, 'interim': 1, 'legerdemain': 1, 'county': 1, 'next': 1, 'fertilizers': 1, 'predators': 1, 'Saturday': 1, 'bridge': 1, '10:45': 1, 'trains': 1, 'arrivals': 1, 'Whitbread': 1, 'pubs': 1, 'survey': 1, 'Grenfell': 1, '453,000': 1, 'Triad': 1, 'Aeronautics': 1, 'gases': 1, 'Earth': 1, 'moons': 1, 'Io': 1, 'pad': 1, 'Neptune': 1, 'magistrate': 1, 'impeachment': 1, 'Brotherhood': 1, 'Dunn': 1, 'Tower': 1, 'mortgage': 1, 'Olympia': 1, 'microcomputer': 1, 'slop': 1, 'FEMA': 1, 'bridges': 1, 'hazards': 1, 'retrofitting': 1, 'drought': 1, 'deductibility': 1, 'PACs': 1, 'pledge': 1, 'Almanac': 1, 'brochure': 1, 'Ana': 1, 'aviation': 1, 'fighter': 1, 'cost-sharing': 1, 'Microsoft': 1, 'roadways': 1, 'Research': 1, 'temblor': 1, 'inventory': 1, 'technicians': 1, 'missile': 1, 'republic': 1, 'cylinder': 1, 'baskets': 1, 'Agriculture': 1, 'bakeries': 1, 'gum': 1, 'sentimentality': 1, 'musicianship': 1, 'condescension': 1, 'brothers': 1, 'pianos': 1, 'time-hotels': 1, 'stint': 1, 'patience': 1, 'Grease': 1, 'comedy': 1, 'Mining': 1, 'laboratories': 1, 'submarine': 1, 'Futures': 1, 'creator': 1, 'Femina': 1, 'helm': 1, 'Wight': 1, 'multinationals': 1, 'giants': 1, 'MGM': 1, 'Heidelberg': 1, 'sins': 1, 'cronies': 1, 'Fame': 1, 'bidder': 1, 'neighbhorhoods': 1, 'zones': 1, 'gangs': 1, 'perfection': 1, 'pyramids': 1, 'charity': 1, '1929': 1, 'Nation': 1, 'freight': 1, 'ground-handling': 1, 'freighters': 1, 'destinations': 1, 'JAL': 1, 'market-making': 1, 'flashlight': 1, 'glitches': 1, 'Franciscans': 1, 'plays': 1, 'refineries': 1, 'thought': 1, 'Heinz': 1, 'Loom': 1, 'choices': 1, 'favorites': 1, 'similarity': 1, 'ploys': 1, 'coupons': 1, 'Folgers': 1, 'friend': 1, 'policyholders': 1, 'reinsurance': 1, 'placement': 1, 'domes': 1, 'Motorfair': 1, 'armory': 1, 'Capel': 1, 'bonuses': 1, 'effect': 1, 'write-down': 1, 'anniversary': 1, 'Quick': 1, 'hardy': 1, 'Libor': 1, 'profile': 1, 'apartments': 1, 'epicenter': 1, 'infrastructure': 1, 'terminals': 1, 'location': 1, 'Corollas': 1, '6': 1, 'reconstruction': 1, 'cement': 1, 'sunrise': 1, 'tragedy': 1, 'south': 1, 'District': 1, 'nozzles': 1, 'Luxembourg': 1, 'Know': 1, 'pools': 1, '99.90': 1, 'reunification': 1, 'ailment': 1, 'Church': 1, 'reformer': 1, 'democratization': 1, 'Bonn': 1, 'drinker': 1, 'being': 1, 'paradise': 1, 'summaries': 1, 'unity': 1, 'muck': 1, 'Chongju': 1, 'willingess': 1, 'Aviv': 1, 'moments': 1, 'Seattle': 1, 'luck': 1, 'Today': 1, 'Equitec': 1, 'Hathaway': 1, 'Commodore': 1, '60': 1, 'outgrowth': 1, 'Finanziaria': 1, 'Odeon': 1, 'shelters': 1, 'noon': 1, 'disposal': 1, 'Electric': 1, '300': 1, 'Matilda': 1, 'Woman': 1, 'Lang': 1, 'Wales': 1, 'absurd': 1, 'reproval': 1, 'apology': 1, 'Bertussi': 1, 'Southwest': 1, 'installments': 1, 'delegation': 1, 'cranes': 1, 'stockroom': 1, 'Alto': 1, 'protectors': 1, 'outages': 1, 'buses': 1, 'median': 1, 'double-decking': 1, 'reinforced': 1, '8': 1, 'rods': 1, 'Freeway': 1, 'duration': 1, 'blankets': 1, 'textile': 1, 'Merchants': 1, 'brick': 1, 'faultlines': 1, 'Charlotte': 1, 'weakening': 1, 'Mideast': 1, 'delegate': 1, 'Medellin': 1, 'slaying': 1, 'Properties': 1, 'nastiest': 1, 'trail': 1, 'privacy': 1, 'circus': 1, 'first': 1, 'Christie': 1, 'gates': 1, 'celebrations': 1, 'disintegrating': 1, 'airport': 1, 'Journal/Europe': 1, 'distillers': 1, 'debacle': 1, 'Sumita': 1, 'precaution': 1, 'yet': 1, 'organs': 1, 'transplants': 1, 'cyclosporine': 1, 'gouging': 1, 'necessities': 1, 'Carolina': 1, 'Laband': 1, 'revivals': 1, 'Alceste': 1, 'Philinte': 1, '1666': 1, 'pentameter': 1, 'Bartlett': 1, 'six': 1, 'Homecoming': 1, 'rage': 1, 'philosophy': 1, 'university': 1, 'Salesman': 1, '13,000': 1, 'Steppenwolf': 1, '463.28': 1, '453.05': 1, 'Kelton': 1, 'batches': 1, 'adhesive': 1, 'thoroughfare': 1, 'Pepper': 1, 'drivers': 1, 'founding': 1, 'Carey': 1, '2008': 1, '2018': 1, 'double-A-1': 1, 'FDA': 1, 'cover': 1, 'Fitzwater': 1, 'priorities': 1, '35015.38': 1, '2135.5': 1, 'Turnbull': 1, 'positioning': 1, 'AVX': 1, 'puts': 1, 'suspension': 1, 'chairmen': 1, '0.6287': 1, 'amalgamation': 1, 'drawbacks': 1, 'Version': 1, 'Recognition': 1, 'Prospect': 1, 'Beretta': 1, 'Corsica': 1, 'FirstSouth': 1, 'Watson': 1, 'trepidation': 1, 'MPI': 1, 'self-righteousness': 1, 'portrayal': 1, 'outset': 1, 'Strategies': 1, 'Mondale': 1, 'Mae': 1, 'grandees': 1, 'barons': 1, 'dark': 1, 'ton': 1, 'duplex': 1, 'trees': 1, 'guard': 1, 'greenmail': 1, 'Boardrooms': 1, 'decorators': 1, 'immoral': 1, 'illegal': 1, 'noblemen': 1, 'Counsel': 1, 'Lockheed': 1, '47.125': 1, '27': 1, 'Polaroid': 1, 'discouragement': 1, 'negativism': 1, 'usage': 1, 'Balcor': 1, 'Skies': 1, 'detergent': 1, 'fixtures': 1, 'drawings': 1, 'episode': 1, 'coordination': 1, 'adversary': 1, 'throne': 1, 'gringos': 1, 'tendencies': 1, 'maid': 1, 'buttons': 1, 'militarism': 1, 'privileges': 1, 'handbills': 1, 'conversations': 1, 'sergeants': 1, 'rent-a-colonel': 1, 'Somoza': 1, 'commander': 1, 'violin': 1, 'superiors': 1, 'monster': 1, 'Omnibank': 1, 'run-up': 1, 'cheap': 1, '449.89': 1, 'licensee': 1, 'Brooks': 1, 'rats': 1, 'Environmentalists': 1, 'solution': 1, 'methods': 1, 'Hooker': 1, 'malls': 1, 'mid-season': 1, 'Robots': 1, 'Be': 1, 'one-third': 1, 'mixtures': 1, 'Lincoln': 1, 'cache': 1, 'restitution': 1, 'deposit': 1, 'shuttle': 1, 'experts': 1, 'announced': 1, 'CPAs': 1, 'honesty': 1, '1955': 1, 'tips': 1, 'pursuit': 1, 'Sierras': 1, 'terror': 1, 'cyclist': 1, 'bicycles': 1, 'Trail': 1, 'bans': 1, 'rift': 1, 'wilderness': 1, 'hikers': 1, 'etiquette': 1, 'Hall': 1, 'determination': 1, 'Keefe': 1, 'Gandhi': 1, 'indignation': 1, 'policeman': 1, 'collector': 1, 'precincts': 1, 'Bofors': 1, 'disappointment': 1, 'Indians': 1, 'Parsow': 1, 'Permanente': 1, 'satellite': 1, 'riders': 1, 'impassiveness': 1, 'ounce': 1, 'soybeans': 1, 'elephant': 1, 'puppies': 1, 'laborers': 1, 'Section': 1, 'outfit': 1, 'Banc': 1, 'single-B-1': 1, 'single-B-3': 1, 'single-B-2': 1, 'Kabul': 1, 'caveat': 1, 'fanatics': 1, 'moderates': 1, 'pants': 1, 'defenses': 1, 'causes': 1, 'sails': 1, 'Allen': 1, 'saga': 1, 'homosexuals': 1, 'College': 1, 'argument': 1, 'equality': 1, 'succession': 1, 'federation': 1, 'Indonesia': 1, 'Bangkok': 1, 'jumpiness': 1, 'eye-blink': 1, 'Jupiter': 1, 'orbit': 1, 'pi': 1, 'doctrine': 1, 'Chestman': 1, 'overzealousness': 1, 'specificity': 1, 'edges': 1, 'statues': 1, '1/8': 1, 'elevator': 1, 'Banxquote': 1, 'operator': 1, 'Viacom': 1, 'Edelman': 1, 'analyses': 1, 'lows': 1, 'bewildering': 1, 'Linear': 1, 'arbitration': 1, 'ABC-TV': 1, 'individual': 1, 'setting': 1, 'branch': 1, 'reverse': 1, 'MIPs': 1, 'Food': 1, 'airing': 1, 'Sports': 1, 'originator': 1, 'voting': 1, 'diet': 1, 'sponsor': 1, 'depth': 1, 'Integrated': 1, 'Jose': 1, 'taking': 1, 'exodus': 1, 'Atlantis': 1, 'flag-burner': 1, 'objections': 1, 'Macmillan': 1, 'concert': 1, 'gratitude': 1, 'technique': 1, 'Sutra': 1, 'accompaniment': 1, 'themes': 1, 'astringency': 1, 'scotch': 1, 'fervor': 1, '283': 1, 'Smithsonian': 1, 'Geographic': 1, 'LaWarre': 1, 'showroom': 1, 'interiors': 1, 'recorder': 1, 'follower': 1, 'innovator': 1, 'Goshen': 1, 'shrines': 1, 'incense': 1, 'ayatollah': 1, 'Marines': 1, 'RDF': 1, 'Tampa': 1, 'bedroom': 1, 'brigades': 1, 'S&L': 1, 'fling': 1, 'cigarette': 1, 'freespender': 1, 'phrase': 1, 'Wilderness': 1, 'Tiepolo': 1, 'scholars': 1, 'provenance': 1, 'Rubens': 1, 'grapes': 1, 'appreciation': 1, 'curators': 1, 'cup': 1, 'linen': 1, 'ingots': 1, 'specialty': 1, 'Bakery': 1, 'Order': 1, 'exposition': 1, 'Venice': 1, 'rivers': 1, 'Albania': 1, 'Baltic': 1, 'Paev': 1, 'twisting': 1, 'plus': 1, 'Kia': 1, 'sublicense': 1, 'Academy': 1, 'majors': 1, 'hitch': 1, 'strengthening': 1, 'IPOs': 1, 'clouds': 1, 'adjective': 1, 'beauty': 1, 'inferior': 1, 'profession': 1, 'dignity': 1, 'mode': 1, 'dusk': 1, 'farm': 1, 'airplanes': 1, 'Sea': 1, 'ovens': 1, 'bucket': 1, 'inserts': 1, 'restraints': 1, 'award': 1, 'Fujitsu': 1, 'tacos': 1, 'Pepsi': 1, 'Midland': 1, 'resale': 1, 'deliveries': 1, 'transfer': 1, 'Steve': 1, 'watchman': 1, 'Keene': 1, 'participant': 1, 'bustle': 1, 'rubfests': 1, 'touch': 1, 'supports': 1, 'padding': 1, 'skin': 1, 'killings': 1, 'nervousness': 1, 'error': 1, 'Alexander': 1, 'belt': 1, '323.85': 1, 'Merrill': 1, 'long-term': 1, '50,000': 1, 'stalling': 1, 'responses': 1})\n"
          ]
        }
      ]
    },
    {
      "cell_type": "markdown",
      "source": [
        "# Step #2: Feature Selection + Model\n",
        " - Naive Bayes classifier from scikit-learn\n",
        " - I will consider the identity of v, p, n1, and n2 as features"
      ],
      "metadata": {
        "id": "uIvcA_3cM3Ir"
      }
    },
    {
      "cell_type": "markdown",
      "source": [
        "Extract features and labels:"
      ],
      "metadata": {
        "id": "vn_KV00qNgZn"
      }
    },
    {
      "cell_type": "code",
      "source": [
        "features = []\n",
        "labels = []\n",
        "\n",
        "for example in pp_examples:\n",
        "    v, n1, p, n2 = example['keywords']\n",
        "    features.append({'v': v, 'n1': n1, 'p': p, 'n2': n2})\n",
        "    labels.append(example['answer'])"
      ],
      "metadata": {
        "id": "Ly8qCbOTNiFe"
      },
      "execution_count": 45,
      "outputs": []
    },
    {
      "cell_type": "markdown",
      "source": [
        "Naive Bayes classifiers work with numeric features, so we need to convert our categorical features (v, n1, p, n2) to numeric representations. We can use label encoding for this."
      ],
      "metadata": {
        "id": "x75QZ_PvNsKQ"
      }
    },
    {
      "cell_type": "code",
      "source": [
        "from sklearn.preprocessing import LabelEncoder\n",
        "\n",
        "label_encoder = LabelEncoder()\n",
        "for feature in features:\n",
        "    for key in feature:\n",
        "        feature[key] = label_encoder.fit_transform([feature[key]])[0]\n"
      ],
      "metadata": {
        "id": "Z8z2kfBtNtCp"
      },
      "execution_count": 46,
      "outputs": []
    },
    {
      "cell_type": "markdown",
      "source": [
        "**Split data and implement classifier:**\n",
        "- split the data into training, validation, and testing sets"
      ],
      "metadata": {
        "id": "_2pzLzO1N1ck"
      }
    },
    {
      "cell_type": "code",
      "source": [
        "train_amt = int(0.6 * len(features))  # 60% for training\n",
        "val_amt = int(0.2 * len(features))    # 20% for validation\n",
        "test_amt = len(features) - train_amt - val_amt\n",
        "\n",
        "train_features, val_features, test_features = features[:train_amt], features[train_amt:train_amt+val_amt], features[-test_amt:]\n",
        "train_labels, val_labels, test_labels = labels[:train_amt], labels[train_amt:train_amt+val_amt], labels[-test_amt:]\n",
        "train_feature_array = [[feature[key] for key in feature] for feature in train_features]\n"
      ],
      "metadata": {
        "id": "HAgPUfWbPKnR"
      },
      "execution_count": 49,
      "outputs": []
    },
    {
      "cell_type": "markdown",
      "source": [
        "- initialize and train the Naive Bayes classifier:\n"
      ],
      "metadata": {
        "id": "oOfF64UtPUH3"
      }
    },
    {
      "cell_type": "code",
      "source": [
        "from sklearn.naive_bayes import GaussianNB\n",
        "classifier = GaussianNB()\n",
        "classifier.fit(train_feature_array, train_labels)"
      ],
      "metadata": {
        "colab": {
          "base_uri": "https://localhost:8080/",
          "height": 75
        },
        "id": "W1szgkfbPdBN",
        "outputId": "61498b07-363f-42e6-99a7-83d7fd1320b5"
      },
      "execution_count": 54,
      "outputs": [
        {
          "output_type": "execute_result",
          "data": {
            "text/plain": [
              "GaussianNB()"
            ],
            "text/html": [
              "<style>#sk-container-id-2 {color: black;background-color: white;}#sk-container-id-2 pre{padding: 0;}#sk-container-id-2 div.sk-toggleable {background-color: white;}#sk-container-id-2 label.sk-toggleable__label {cursor: pointer;display: block;width: 100%;margin-bottom: 0;padding: 0.3em;box-sizing: border-box;text-align: center;}#sk-container-id-2 label.sk-toggleable__label-arrow:before {content: \"▸\";float: left;margin-right: 0.25em;color: #696969;}#sk-container-id-2 label.sk-toggleable__label-arrow:hover:before {color: black;}#sk-container-id-2 div.sk-estimator:hover label.sk-toggleable__label-arrow:before {color: black;}#sk-container-id-2 div.sk-toggleable__content {max-height: 0;max-width: 0;overflow: hidden;text-align: left;background-color: #f0f8ff;}#sk-container-id-2 div.sk-toggleable__content pre {margin: 0.2em;color: black;border-radius: 0.25em;background-color: #f0f8ff;}#sk-container-id-2 input.sk-toggleable__control:checked~div.sk-toggleable__content {max-height: 200px;max-width: 100%;overflow: auto;}#sk-container-id-2 input.sk-toggleable__control:checked~label.sk-toggleable__label-arrow:before {content: \"▾\";}#sk-container-id-2 div.sk-estimator input.sk-toggleable__control:checked~label.sk-toggleable__label {background-color: #d4ebff;}#sk-container-id-2 div.sk-label input.sk-toggleable__control:checked~label.sk-toggleable__label {background-color: #d4ebff;}#sk-container-id-2 input.sk-hidden--visually {border: 0;clip: rect(1px 1px 1px 1px);clip: rect(1px, 1px, 1px, 1px);height: 1px;margin: -1px;overflow: hidden;padding: 0;position: absolute;width: 1px;}#sk-container-id-2 div.sk-estimator {font-family: monospace;background-color: #f0f8ff;border: 1px dotted black;border-radius: 0.25em;box-sizing: border-box;margin-bottom: 0.5em;}#sk-container-id-2 div.sk-estimator:hover {background-color: #d4ebff;}#sk-container-id-2 div.sk-parallel-item::after {content: \"\";width: 100%;border-bottom: 1px solid gray;flex-grow: 1;}#sk-container-id-2 div.sk-label:hover label.sk-toggleable__label {background-color: #d4ebff;}#sk-container-id-2 div.sk-serial::before {content: \"\";position: absolute;border-left: 1px solid gray;box-sizing: border-box;top: 0;bottom: 0;left: 50%;z-index: 0;}#sk-container-id-2 div.sk-serial {display: flex;flex-direction: column;align-items: center;background-color: white;padding-right: 0.2em;padding-left: 0.2em;position: relative;}#sk-container-id-2 div.sk-item {position: relative;z-index: 1;}#sk-container-id-2 div.sk-parallel {display: flex;align-items: stretch;justify-content: center;background-color: white;position: relative;}#sk-container-id-2 div.sk-item::before, #sk-container-id-2 div.sk-parallel-item::before {content: \"\";position: absolute;border-left: 1px solid gray;box-sizing: border-box;top: 0;bottom: 0;left: 50%;z-index: -1;}#sk-container-id-2 div.sk-parallel-item {display: flex;flex-direction: column;z-index: 1;position: relative;background-color: white;}#sk-container-id-2 div.sk-parallel-item:first-child::after {align-self: flex-end;width: 50%;}#sk-container-id-2 div.sk-parallel-item:last-child::after {align-self: flex-start;width: 50%;}#sk-container-id-2 div.sk-parallel-item:only-child::after {width: 0;}#sk-container-id-2 div.sk-dashed-wrapped {border: 1px dashed gray;margin: 0 0.4em 0.5em 0.4em;box-sizing: border-box;padding-bottom: 0.4em;background-color: white;}#sk-container-id-2 div.sk-label label {font-family: monospace;font-weight: bold;display: inline-block;line-height: 1.2em;}#sk-container-id-2 div.sk-label-container {text-align: center;}#sk-container-id-2 div.sk-container {/* jupyter's `normalize.less` sets `[hidden] { display: none; }` but bootstrap.min.css set `[hidden] { display: none !important; }` so we also need the `!important` here to be able to override the default hidden behavior on the sphinx rendered scikit-learn.org. See: https://github.com/scikit-learn/scikit-learn/issues/21755 */display: inline-block !important;position: relative;}#sk-container-id-2 div.sk-text-repr-fallback {display: none;}</style><div id=\"sk-container-id-2\" class=\"sk-top-container\"><div class=\"sk-text-repr-fallback\"><pre>GaussianNB()</pre><b>In a Jupyter environment, please rerun this cell to show the HTML representation or trust the notebook. <br />On GitHub, the HTML representation is unable to render, please try loading this page with nbviewer.org.</b></div><div class=\"sk-container\" hidden><div class=\"sk-item\"><div class=\"sk-estimator sk-toggleable\"><input class=\"sk-toggleable__control sk-hidden--visually\" id=\"sk-estimator-id-2\" type=\"checkbox\" checked><label for=\"sk-estimator-id-2\" class=\"sk-toggleable__label sk-toggleable__label-arrow\">GaussianNB</label><div class=\"sk-toggleable__content\"><pre>GaussianNB()</pre></div></div></div></div></div>"
            ]
          },
          "metadata": {},
          "execution_count": 54
        }
      ]
    },
    {
      "cell_type": "markdown",
      "source": [
        "- convert validation and test features to 2D arrays"
      ],
      "metadata": {
        "id": "_qRdaCi0QVjH"
      }
    },
    {
      "cell_type": "code",
      "source": [
        "val_feature_array = [[feature[key] for key in feature] for feature in val_features]\n",
        "test_feature_array = [[feature[key] for key in feature] for feature in test_features]"
      ],
      "metadata": {
        "id": "LulOs0WoQYFp"
      },
      "execution_count": 62,
      "outputs": []
    },
    {
      "cell_type": "markdown",
      "source": [
        "- make predictions on the validation set\n",
        "- evaluate the model on the validation set"
      ],
      "metadata": {
        "id": "zKZkO3BtQK6s"
      }
    },
    {
      "cell_type": "code",
      "source": [
        "from sklearn.metrics import accuracy_score\n",
        "\n",
        "val_predictions = classifier.predict(val_feature_array)\n",
        "val_accuracy = accuracy_score(val_labels, val_predictions)\n",
        "print(f\"Validation Accuracy: {val_accuracy}\\n\")"
      ],
      "metadata": {
        "colab": {
          "base_uri": "https://localhost:8080/"
        },
        "id": "mECPA8KJQNRk",
        "outputId": "1df75531-4920-4aa1-822b-9a2e9b2d7a86"
      },
      "execution_count": 66,
      "outputs": [
        {
          "output_type": "stream",
          "name": "stdout",
          "text": [
            "Validation Accuracy: 0.5345194353123187\n",
            "\n"
          ]
        },
        {
          "output_type": "stream",
          "name": "stderr",
          "text": [
            "/usr/local/lib/python3.10/dist-packages/sklearn/naive_bayes.py:515: RuntimeWarning: divide by zero encountered in log\n",
            "  n_ij = -0.5 * np.sum(np.log(2.0 * np.pi * self.var_[i, :]))\n",
            "/usr/local/lib/python3.10/dist-packages/sklearn/naive_bayes.py:516: RuntimeWarning: invalid value encountered in divide\n",
            "  n_ij -= 0.5 * np.sum(((X - self.theta_[i, :]) ** 2) / (self.var_[i, :]), 1)\n"
          ]
        }
      ]
    },
    {
      "cell_type": "markdown",
      "source": [
        "- make predictions on test set\n",
        "- evaluate the model on the test set"
      ],
      "metadata": {
        "id": "aIDnqAoOQd8a"
      }
    },
    {
      "cell_type": "code",
      "source": [
        "test_predictions = classifier.predict(test_feature_array)\n",
        "test_accuracy = accuracy_score(test_labels, test_predictions)\n",
        "print(f\"Test Accuracy: {test_accuracy}\\n\")\n"
      ],
      "metadata": {
        "colab": {
          "base_uri": "https://localhost:8080/"
        },
        "id": "HkGrDL-7QhVo",
        "outputId": "36aaf50f-0087-4468-dbe9-ce02b8fd5c66"
      },
      "execution_count": 67,
      "outputs": [
        {
          "output_type": "stream",
          "name": "stdout",
          "text": [
            "Test Accuracy: 0.540112120626329\n",
            "\n"
          ]
        },
        {
          "output_type": "stream",
          "name": "stderr",
          "text": [
            "/usr/local/lib/python3.10/dist-packages/sklearn/naive_bayes.py:515: RuntimeWarning: divide by zero encountered in log\n",
            "  n_ij = -0.5 * np.sum(np.log(2.0 * np.pi * self.var_[i, :]))\n",
            "/usr/local/lib/python3.10/dist-packages/sklearn/naive_bayes.py:516: RuntimeWarning: invalid value encountered in divide\n",
            "  n_ij -= 0.5 * np.sum(((X - self.theta_[i, :]) ** 2) / (self.var_[i, :]), 1)\n"
          ]
        }
      ]
    },
    {
      "cell_type": "markdown",
      "source": [
        "## On Generating N-Grams"
      ],
      "metadata": {
        "id": "Fe0J8DNxo7jG"
      }
    },
    {
      "cell_type": "code",
      "source": [
        "from sklearn.feature_extraction.text import CountVectorizer"
      ],
      "metadata": {
        "id": "hlZdaoi-TEXh"
      },
      "execution_count": null,
      "outputs": []
    },
    {
      "cell_type": "markdown",
      "source": [
        "The input of *any* machine learning model must be numerical. Since words (nor characters) aren’t numbers, we have to work a bit to convert them into a numerical representation.\n",
        "\n",
        "Such a numerical representation is also called a vector (a fancy name for a list of numbers…). A common way to achieve such vector is to perform measurements on the text (as we discussed in the first sessions – performing measurement on an apple).\n",
        "\n",
        "Such features could be the identity of a single word, given as an index number, or its frequency in a corpus or in the sentence, or TF-IDF on a corpus. Features can also be a composition of multiple words together (e.g., only the verb and the preposition), with the same or other techniques. This is also called an **n-gram**.\n",
        "\n",
        "One way to vectorize text is using that count transformer ([CountVectorizer](https://scikit-learn.org/stable/modules/generated/sklearn.feature_extraction.text.CountVectorizer.html)) from scikit-learn. These vectorizers work in two part:\n",
        "*\tFirst they learn ([fit](https://scikit-learn.org/stable/modules/generated/sklearn.feature_extraction.text.CountVectorizer.html#sklearn.feature_extraction.text.CountVectorizer.fit)) from some input data. In the case of CountVectorizer, it expects a list of sentences (a corpus) to learn from. It will then learn how many different words (types) the corpus contains, and will build a vocabulary for those words: each word will get an index number. It also cleans up the text from stop words and punctuation, and you could even ask it to learn representations of n-grams, instead of single words (a parameter of the CountVectorizer itself).\n",
        "*\tAfter learning the size of the vocabulary, it can transform any list of text into a vectorized representation. Given a list of new text inputs, sentences in different lengths (also the list itself can be any length – for example, it can be made of a single sentence, but it has to be a list), the [transform](https://scikit-learn.org/stable/modules/generated/sklearn.feature_extraction.text.CountVectorizer.html#sklearn.feature_extraction.text.CountVectorizer.transform) method will return a vector representation in the size of the learned vocabulary, where every position represent a specific word (a type) from the learned corpus. The value on that position is the number of occurrences of that word in that given sentence. Piling up these three vectors, one on top of the other, would yield a matrix (a table / excel sheet of numbers), where every column represent a specific word in our vocabulary.\n",
        "*\t`X_transformed = vectorizer.fit_transform(X)` ▶ [fit_transform](https://scikit-learn.org/stable/modules/generated/sklearn.feature_extraction.text.CountVectorizer.html#sklearn.feature_extraction.text.CountVectorizer.fit_transform) is a method that does both parts (fitting – counting the vocabulary types, and then converting that input text into the vector or even a matrix if there are more than one string) in one go.\n",
        "*\tThe result of the CountVectorizer is indeed a (sparse) matrix in a form of scipy’s scr_matrix. To convert it into an array, you can call its method “toarray()”:\n"
      ],
      "metadata": {
        "id": "GoJDQ5BjRD1b"
      }
    },
    {
      "cell_type": "code",
      "source": [
        "# to use the CountVectorizer, we must convert the tuples into \"full\" sentences;\n",
        "joined_sentences = [' '.join(example['keywords']) for example in train_examples[:10]]\n",
        "joined_sentences"
      ],
      "metadata": {
        "colab": {
          "base_uri": "https://localhost:8080/"
        },
        "id": "I5b1E6xMTGQM",
        "outputId": "e74d72ad-6934-4518-d3d3-8da13748e9d8"
      },
      "execution_count": null,
      "outputs": [
        {
          "output_type": "execute_result",
          "data": {
            "text/plain": [
              "['creating obstacle to sale',\n",
              " 'restrict RTC to borrowings',\n",
              " 'maintain assets of thrifts',\n",
              " 'leaving spending for bailout',\n",
              " 'leaving spending at $',\n",
              " 'including interest over years',\n",
              " 'subtracting value of assets',\n",
              " 'say opponents of plan',\n",
              " 'pay price of consultation',\n",
              " 'want kind of flexibility']"
            ]
          },
          "metadata": {},
          "execution_count": 43
        }
      ]
    },
    {
      "cell_type": "code",
      "source": [
        "# CountVectorizer would, by default, tokenize the sentence by separating by\n",
        "# spaces and collect a vocabulary from all the different words it finds:\n",
        "vect = CountVectorizer()\n",
        "vect.fit(joined_sentences)\n",
        "print(f\"vocabulary size: {len(vect.vocabulary_)}\")\n",
        "vect.get_feature_names_out()"
      ],
      "metadata": {
        "colab": {
          "base_uri": "https://localhost:8080/"
        },
        "id": "RDZ6jlsOUKli",
        "outputId": "7cb37e4c-c094-442b-fcee-696e155b28d7"
      },
      "execution_count": null,
      "outputs": [
        {
          "output_type": "stream",
          "name": "stdout",
          "text": [
            "vocabulary size: 31\n"
          ]
        },
        {
          "output_type": "execute_result",
          "data": {
            "text/plain": [
              "array(['assets', 'at', 'bailout', 'borrowings', 'consultation',\n",
              "       'creating', 'flexibility', 'for', 'including', 'interest', 'kind',\n",
              "       'leaving', 'maintain', 'obstacle', 'of', 'opponents', 'over',\n",
              "       'pay', 'plan', 'price', 'restrict', 'rtc', 'sale', 'say',\n",
              "       'spending', 'subtracting', 'thrifts', 'to', 'value', 'want',\n",
              "       'years'], dtype=object)"
            ]
          },
          "metadata": {},
          "execution_count": 44
        }
      ]
    },
    {
      "cell_type": "code",
      "source": [
        "# We can use it to generate n-grams sized 1 (unigram) to 4:\n",
        "vect = CountVectorizer(ngram_range=(1, 4))\n",
        "vect.fit(joined_sentences)\n",
        "print(f\"vocabulary size: {len(vect.vocabulary_)}\")\n",
        "vect.get_feature_names_out()"
      ],
      "metadata": {
        "id": "SCDYy4wTFiK6",
        "outputId": "fcf925f7-ffc4-452e-ffa2-ce622f326541",
        "colab": {
          "base_uri": "https://localhost:8080/"
        }
      },
      "execution_count": null,
      "outputs": [
        {
          "output_type": "stream",
          "name": "stdout",
          "text": [
            "vocabulary size: 87\n"
          ]
        },
        {
          "output_type": "execute_result",
          "data": {
            "text/plain": [
              "array(['assets', 'assets of', 'assets of thrifts', 'at', 'bailout',\n",
              "       'borrowings', 'consultation', 'creating', 'creating obstacle',\n",
              "       'creating obstacle to', 'creating obstacle to sale', 'flexibility',\n",
              "       'for', 'for bailout', 'including', 'including interest',\n",
              "       'including interest over', 'including interest over years',\n",
              "       'interest', 'interest over', 'interest over years', 'kind',\n",
              "       'kind of', 'kind of flexibility', 'leaving', 'leaving spending',\n",
              "       'leaving spending at', 'leaving spending for',\n",
              "       'leaving spending for bailout', 'maintain', 'maintain assets',\n",
              "       'maintain assets of', 'maintain assets of thrifts', 'obstacle',\n",
              "       'obstacle to', 'obstacle to sale', 'of', 'of assets',\n",
              "       'of consultation', 'of flexibility', 'of plan', 'of thrifts',\n",
              "       'opponents', 'opponents of', 'opponents of plan', 'over',\n",
              "       'over years', 'pay', 'pay price', 'pay price of',\n",
              "       'pay price of consultation', 'plan', 'price', 'price of',\n",
              "       'price of consultation', 'restrict', 'restrict rtc',\n",
              "       'restrict rtc to', 'restrict rtc to borrowings', 'rtc', 'rtc to',\n",
              "       'rtc to borrowings', 'sale', 'say', 'say opponents',\n",
              "       'say opponents of', 'say opponents of plan', 'spending',\n",
              "       'spending at', 'spending for', 'spending for bailout',\n",
              "       'subtracting', 'subtracting value', 'subtracting value of',\n",
              "       'subtracting value of assets', 'thrifts', 'to', 'to borrowings',\n",
              "       'to sale', 'value', 'value of', 'value of assets', 'want',\n",
              "       'want kind', 'want kind of', 'want kind of flexibility', 'years'],\n",
              "      dtype=object)"
            ]
          },
          "metadata": {},
          "execution_count": 45
        }
      ]
    },
    {
      "cell_type": "markdown",
      "source": [
        "FOR ME:\n",
        "- create validTION SET"
      ],
      "metadata": {
        "id": "p_VyK0tCCyM-"
      }
    }
  ]
}
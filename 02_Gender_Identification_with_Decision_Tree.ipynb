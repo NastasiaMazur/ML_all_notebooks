{
  "cells": [
    {
      "cell_type": "markdown",
      "metadata": {
        "id": "view-in-github",
        "colab_type": "text"
      },
      "source": [
        "<a href=\"https://colab.research.google.com/github/NastasiaMazur/ML_all_notebooks/blob/main/02_Gender_Identification_with_Decision_Tree.ipynb\" target=\"_parent\"><img src=\"https://colab.research.google.com/assets/colab-badge.svg\" alt=\"Open In Colab\"/></a>"
      ]
    },
    {
      "cell_type": "markdown",
      "id": "fbe62552",
      "metadata": {
        "id": "fbe62552"
      },
      "source": [
        "# Gender Idetification\n",
        "\n",
        "Based on the nltk book: https://www.nltk.org/book/ch06.html"
      ]
    },
    {
      "cell_type": "markdown",
      "id": "a17e24e8",
      "metadata": {
        "id": "a17e24e8"
      },
      "source": [
        "### Data Download"
      ]
    },
    {
      "cell_type": "code",
      "execution_count": 1,
      "id": "8c11d370",
      "metadata": {
        "id": "8c11d370"
      },
      "outputs": [],
      "source": [
        "import nltk"
      ]
    },
    {
      "cell_type": "code",
      "execution_count": 2,
      "id": "dcc0696a",
      "metadata": {
        "colab": {
          "base_uri": "https://localhost:8080/"
        },
        "id": "dcc0696a",
        "outputId": "4494467f-5023-424e-a028-6e89875fe2df"
      },
      "outputs": [
        {
          "output_type": "stream",
          "name": "stderr",
          "text": [
            "[nltk_data] Downloading package names to /root/nltk_data...\n",
            "[nltk_data]   Unzipping corpora/names.zip.\n"
          ]
        },
        {
          "output_type": "execute_result",
          "data": {
            "text/plain": [
              "True"
            ]
          },
          "metadata": {},
          "execution_count": 2
        }
      ],
      "source": [
        "nltk.download('names')"
      ]
    },
    {
      "cell_type": "markdown",
      "id": "458403ec",
      "metadata": {
        "id": "458403ec"
      },
      "source": [
        "### Import the names Data"
      ]
    },
    {
      "cell_type": "code",
      "execution_count": 3,
      "id": "398bf104",
      "metadata": {
        "id": "398bf104"
      },
      "outputs": [],
      "source": [
        "from nltk.corpus import names"
      ]
    },
    {
      "cell_type": "code",
      "execution_count": 4,
      "id": "870cfd27",
      "metadata": {
        "id": "870cfd27"
      },
      "outputs": [],
      "source": [
        "male_names = names.words('male.txt')\n",
        "female_names = names.words('female.txt')"
      ]
    },
    {
      "cell_type": "markdown",
      "id": "265aebad",
      "metadata": {
        "id": "265aebad"
      },
      "source": [
        "# Data Exploration\n",
        "\n",
        "The first step in every task is **always** (!!!) to look at your data.\n",
        "\n",
        "The dataset contains about 8k names, mostly in English:"
      ]
    },
    {
      "cell_type": "code",
      "execution_count": 5,
      "id": "02619d56",
      "metadata": {
        "colab": {
          "base_uri": "https://localhost:8080/"
        },
        "id": "02619d56",
        "outputId": "d3afbb7a-0b3d-4c13-a014-ee05342fc081"
      },
      "outputs": [
        {
          "output_type": "stream",
          "name": "stdout",
          "text": [
            "there are 2943 male names and 5001 female names\n"
          ]
        }
      ],
      "source": [
        "print(f'there are {len(male_names)} male names and {len(female_names)} female names')"
      ]
    },
    {
      "cell_type": "code",
      "source": [
        "male_names[:10]"
      ],
      "metadata": {
        "colab": {
          "base_uri": "https://localhost:8080/"
        },
        "id": "aCTHmxj2qYAn",
        "outputId": "8e6e00b2-9300-447c-f407-2c9d878bf7d8"
      },
      "id": "aCTHmxj2qYAn",
      "execution_count": 6,
      "outputs": [
        {
          "output_type": "execute_result",
          "data": {
            "text/plain": [
              "['Aamir',\n",
              " 'Aaron',\n",
              " 'Abbey',\n",
              " 'Abbie',\n",
              " 'Abbot',\n",
              " 'Abbott',\n",
              " 'Abby',\n",
              " 'Abdel',\n",
              " 'Abdul',\n",
              " 'Abdulkarim']"
            ]
          },
          "metadata": {},
          "execution_count": 6
        }
      ]
    },
    {
      "cell_type": "code",
      "source": [
        "female_names[:10]"
      ],
      "metadata": {
        "colab": {
          "base_uri": "https://localhost:8080/"
        },
        "id": "FHF7ouUFqY14",
        "outputId": "4f842fc9-bdd6-45f7-ea4d-efaa63e134cf"
      },
      "id": "FHF7ouUFqY14",
      "execution_count": 7,
      "outputs": [
        {
          "output_type": "execute_result",
          "data": {
            "text/plain": [
              "['Abagael',\n",
              " 'Abagail',\n",
              " 'Abbe',\n",
              " 'Abbey',\n",
              " 'Abbi',\n",
              " 'Abbie',\n",
              " 'Abby',\n",
              " 'Abigael',\n",
              " 'Abigail',\n",
              " 'Abigale']"
            ]
          },
          "metadata": {},
          "execution_count": 7
        }
      ]
    },
    {
      "cell_type": "markdown",
      "id": "7814ddf4",
      "metadata": {
        "id": "7814ddf4"
      },
      "source": [
        "Some names can be either for boys or girls - Let's check how many of these names appear in both groups:"
      ]
    },
    {
      "cell_type": "code",
      "execution_count": 10,
      "id": "3e5bfeed",
      "metadata": {
        "id": "3e5bfeed",
        "colab": {
          "base_uri": "https://localhost:8080/"
        },
        "outputId": "32f3ce48-1a6c-4e93-aa4c-85367d95e725"
      },
      "outputs": [
        {
          "output_type": "stream",
          "name": "stdout",
          "text": [
            "in fact, there are 365 names which are common to boys and girls: \n",
            "\n",
            " ['Danny', 'Cat', 'Jan', 'Isadore', 'Torey', 'Allie', 'Donnie', 'Cody', 'Deane', 'Judy', 'Kelley', 'Judith', 'Freddie', 'Ariel', 'Tabby', 'Darryl', 'Georgie', 'Gene', 'Tommie', 'Sean', 'Dion', 'Page', 'Carey', 'Regan', 'Dani', 'Ronnie', 'Tallie', 'Maddy', 'Marty', 'Geri', 'Isa', 'Fred', 'Dominique', 'Abby', 'Evelyn', 'Noel', 'Stacy', 'Marietta', 'Holly', 'Constantine', 'Chris', 'Fran', 'Frankie', 'Lou', 'Bert', 'Mead', 'Robbie', 'Connie', 'Lindy', 'Rickie', 'Allyn', 'Sydney', 'Lin', 'Kirby', 'Merrill', 'Blake', 'Kit', 'Morlee', 'Bill', 'Shay', 'Jess', 'Sandy', 'Lyn', 'Shaun', 'Christian', 'Terri', 'Tim', 'Pennie', 'Barrie', 'Chad', 'Hazel', 'Martie', 'Vinny', 'Gabriel', 'Gus', 'Simone', 'Germaine', 'Hannibal', 'Micky', 'Shelley', 'Rene', 'Drew', 'Jordan', 'Shane', 'Mickie', 'Jean', 'Sunny', 'Kyle', 'Jody', 'Leland', 'Kip', 'Mel', 'Emmy', 'Donny', 'Brooke', 'Shayne', 'Francis', 'Andrea', 'Kris', 'Vin', 'Ruby', 'Corrie', 'Kim', 'George', 'Rey', 'Luce', 'Quentin', 'Caryl', 'Van', 'Marlo', 'Demetris', 'Christie', 'Timmy', 'Denny', 'Shawn', 'Ricki', 'Freddy', 'Darby', 'Britt', 'Bryn', 'Willie', 'Max', 'Gerry', 'Eddy', 'Clemmie', 'Bertie', 'Aubrey', 'Jermaine', 'Devin', 'Lorne', 'Gail', 'Leslie', 'Nicky', 'Pat', 'Abbie', 'Tracey', 'Ted', 'Toby', 'Tracie', 'Phil', 'Andie', 'Daffy', 'Gretchen', 'Lind', 'Karel', 'Ray', 'Elisha', 'Brook', 'Nat', 'Lesley', 'Adrien', 'Carroll', 'Darcy', 'Kelly', 'Cam', 'Pen', 'Sammy', 'Robin', 'Shelby', 'Alix', 'Sal', 'Terry', 'Ashley', 'Haley', 'Winny', 'Dorian', 'Beau', 'Quinn', 'Lynn', 'Eddie', 'Kelsey', 'Bo', 'Jackie', 'Wally', 'Abbey', 'Perry', 'Vinnie', 'Cal', 'Erin', 'Morgan', 'Dell', 'Hilary', 'Tobie', 'Ali', 'Wynn', 'Averil', 'Muffin', 'Ira', 'Del', 'Jaime', 'Meredith', 'Blair', 'Esme', 'Jessie', 'Corey', 'Gale', 'Bennie', 'Isador', 'Grace', 'Alex', 'Claude', 'Bobby', 'Julie', 'Clare', 'Frank', 'Jere', 'Trace', 'Millicent', 'Wallis', 'Jude', 'Felice', 'Bernie', 'Cory', 'Dionis', 'Paige', 'Cammy', 'Chrissy', 'Cary', 'Brooks', 'Saundra', 'Bobbie', 'Lee', 'Dale', 'Patrice', 'Jesse', 'Willi', 'Carlin', 'Cass', 'Gabriell', 'Justin', 'Tracy', 'Tony', 'Ikey', 'Courtney', 'Shaine', 'Dallas', 'Harley', 'Val', 'Angel', 'Georgia', 'Michele', 'Daniel', 'Randy', 'Laurie', 'Lindsey', 'Jerrie', 'Gayle', 'Tobe', 'Jerry', 'Jodie', 'Maxie', 'Patty', 'Benny', 'Merry', 'Timmie', 'Sonnie', 'Tabbie', 'Loren', 'Leigh', 'Kellen', 'Sonny', 'Glen', 'Pooh', 'Edie', 'Randi', 'Shell', 'Nichole', 'Niki', 'Alfie', 'Lauren', 'Carmine', 'Ginger', 'Gay', 'Sasha', 'Maurise', 'Hillary', 'Shea', 'Valentine', 'Jo', 'Gill', 'Nickie', 'Claire', 'Randie', 'Ronny', 'Virgie', 'Willy', 'Andy', 'Devon', 'Daryl', 'Vale', 'Tammie', 'Meryl', 'Pattie', 'Rikki', 'Penny', 'Michal', 'Cris', 'Lonnie', 'Juanita', 'Lane', 'Tammy', 'Sayre', 'Austin', 'Jodi', 'Lorrie', 'Joey', 'Sam', 'Whitney', 'Barry', 'Ollie', 'Tally', 'Merle', 'Brandy', 'Lindsay', 'Sibyl', 'Clem', 'Michel', 'Scotty', 'Matty', 'Shannon', 'Adrian', 'Augustine', 'Meade', 'Tommy', 'Jamie', 'Dory', 'Franky', 'Dennie', 'Haleigh', 'Ike', 'Alexis', 'Heath', 'Lanny', 'Sascha', 'Maddie', 'Dana', 'Billie', 'Carlie', 'Addie', 'Casey', 'Gerri', 'Marion', 'Rory', 'Winnie', 'Clair', 'Brett', 'Reggie', 'Angie', 'Kerry', 'Teddy', 'Ricky', 'Cecil', 'Nikki', 'Christy', 'Theo', 'Patsy', 'Ajay', 'Glenn', 'Billy', 'Henrie', 'Teddie', 'Dannie', 'Mattie', 'Tate', 'Wallie']\n"
          ]
        }
      ],
      "source": [
        "## YOUR TURN:\n",
        "# Find which names are common for both male and females:\n",
        "\n",
        "\n",
        "double_names = list(set(male_names).intersection(female_names))\n",
        "\n",
        "print(f'in fact, there are {len(double_names)} names which are common to boys and girls: \\n\\n {double_names}')"
      ]
    },
    {
      "cell_type": "markdown",
      "id": "9c3ec504",
      "metadata": {
        "id": "9c3ec504"
      },
      "source": [
        "Our task is to identify the person's gender by a given name.\n",
        "\n",
        "This task is a **Classification** task.\n",
        "\n",
        "In classification, the model must choose the correct label from a fixed set of possible labels.\n",
        "Examples of classification task include:\n",
        "\n",
        "- Spam detection (spam/not spam)\n",
        "- Assigning a topic to text (Politics, Spots, Economical)\n",
        "- Detecting entity names (locations, people, companies) - also called Named Entity Recognition (NER)\n",
        "\n",
        "A classifier is **supervised**, if it is trained using a set of correctly labeled pairs (X --> y).\n",
        "\n",
        "![](https://raw.githubusercontent.com/liadmagen/NLP-Course/master/images/feature_extractor.png)"
      ]
    },
    {
      "cell_type": "markdown",
      "id": "ea6021c8",
      "metadata": {
        "id": "ea6021c8"
      },
      "source": [
        "# 1. Classification with NLTK\n",
        "\n",
        "Let's start with creating a classifier with the `nltk` package, which we got to know in the first exercise.\n",
        "\n",
        "For this, we first create a small 'dataset' that combines both the female and the male names:"
      ]
    },
    {
      "cell_type": "code",
      "execution_count": 11,
      "id": "6a7ab894",
      "metadata": {
        "id": "6a7ab894"
      },
      "outputs": [],
      "source": [
        "labeled_names = ([(name, 'male') for name in male_names] + [(name, 'female') for name in female_names])"
      ]
    },
    {
      "cell_type": "markdown",
      "source": [
        "Then, we shuffle the names. This is always a good idea to shuffle the data - not to teach our models to be expecting any order..."
      ],
      "metadata": {
        "id": "R4cPg3kNpgfN"
      },
      "id": "R4cPg3kNpgfN"
    },
    {
      "cell_type": "code",
      "execution_count": 12,
      "id": "d2010946",
      "metadata": {
        "id": "d2010946"
      },
      "outputs": [],
      "source": [
        "import random\n",
        "\n",
        "random.shuffle(labeled_names)"
      ]
    },
    {
      "cell_type": "markdown",
      "source": [
        "Computers and machine learning models can't read. They don't understand the notion of words or characters. Ever character is represented by some number.\n",
        "\n",
        "For example, the [ASCII code](https://www.ascii-code.com/) represents the letter 'A' as the number 65, and the letter 'a' as the number 97.\n",
        "While in [Unicode](https://home.unicode.org/), \"A\" is represented by the code `U+0041` and \"a\" is represented by `U+0061`.\n",
        "\n",
        "And yet, these numbers don't mean much. It doesn't represent a vowel or constant, a frequent letter sucha s 'e', versus a relatively 'new' letter in the alphabeth, such as \"V\" vs \"U\", or \"Z\"...\n",
        "\n",
        "As linguists, we can use our language knowledge to craft new numeric features that represents better our data.\n",
        "\n",
        "Think: Which features can you craft to represent the gender in a first name?\n",
        "Also, You might want to visualize and explore the data with statistical tools to find feature ideas."
      ],
      "metadata": {
        "id": "qam9sZhKpfr_"
      },
      "id": "qam9sZhKpfr_"
    },
    {
      "cell_type": "code",
      "execution_count": 14,
      "id": "aaaffa4f",
      "metadata": {
        "id": "aaaffa4f",
        "colab": {
          "base_uri": "https://localhost:8080/"
        },
        "outputId": "0e3c4eea-84e7-4210-b3c7-dac504b92604"
      },
      "outputs": [
        {
          "output_type": "stream",
          "name": "stdout",
          "text": [
            "{'last_letter': 'a'}\n"
          ]
        }
      ],
      "source": [
        "### YOUR TURN:\n",
        "### Write a feature function that generate features to decide if a name if for male or female.\n",
        "### Given a name (word), return a dictionary of such features\n",
        "\n",
        "def gender_features(word: str) -> dict[str, float]:\n",
        "    # Which feature can we use to detect the gender?\n",
        "    # Craft at least one feature and return it as a feature dictionary\n",
        "    return {'last_letter': word[-1]}\n",
        "\n",
        "    #return {'our_awesoe_feature': 0 }\n",
        "\n",
        "\n",
        "name = 'Anna'\n",
        "features = gender_features(name)\n",
        "print(features)\n"
      ]
    },
    {
      "cell_type": "markdown",
      "source": [
        "Now that we have a feature function, let's use it to convert our dataset into numerical features, and train our first Machine Learning model:"
      ],
      "metadata": {
        "id": "2EZXnI0vrD8q"
      },
      "id": "2EZXnI0vrD8q"
    },
    {
      "cell_type": "code",
      "execution_count": 15,
      "id": "047b8e76",
      "metadata": {
        "id": "047b8e76"
      },
      "outputs": [],
      "source": [
        "feature_sets = [(gender_features(n), gender) for (n, gender) in labeled_names]\n",
        "\n",
        "# We divide the dataset to create an 'exam' for the model:\n",
        "train_set, test_set = feature_sets[500:], feature_sets[:500]\n",
        "\n",
        "# And define and train the NLTK classifier\n",
        "classifier = nltk.DecisionTreeClassifier.train(train_set)"
      ]
    },
    {
      "cell_type": "code",
      "execution_count": 16,
      "id": "bf84a643",
      "metadata": {
        "id": "bf84a643",
        "colab": {
          "base_uri": "https://localhost:8080/"
        },
        "outputId": "662b0a49-c003-4aa9-de7c-6e6f50fea72d"
      },
      "outputs": [
        {
          "output_type": "stream",
          "name": "stdout",
          "text": [
            "the gender prediction for Bill is male\n",
            "the gender prediction for Melissa is female\n",
            "the gender prediction for Barack is male\n",
            "the gender prediction for Michelle is female\n"
          ]
        }
      ],
      "source": [
        "for name in [\"Bill\", \"Melissa\", \"Barack\", \"Michelle\"]:\n",
        "  result = classifier.classify(gender_features(name))\n",
        "  print(f\"the gender prediction for {name} is {result}\")"
      ]
    },
    {
      "cell_type": "code",
      "execution_count": 17,
      "id": "f8c1e0be",
      "metadata": {
        "id": "f8c1e0be",
        "colab": {
          "base_uri": "https://localhost:8080/"
        },
        "outputId": "a754cb71-fff9-4a0c-ffeb-2080f32eed93"
      },
      "outputs": [
        {
          "output_type": "stream",
          "name": "stdout",
          "text": [
            "0.77\n"
          ]
        }
      ],
      "source": [
        "print(nltk.classify.accuracy(classifier, test_set))"
      ]
    },
    {
      "cell_type": "code",
      "execution_count": 18,
      "id": "2e96fe94",
      "metadata": {
        "id": "2e96fe94",
        "colab": {
          "base_uri": "https://localhost:8080/"
        },
        "outputId": "e2c3ee56-497e-4d32-e877-c79daf65f509"
      },
      "outputs": [
        {
          "output_type": "stream",
          "name": "stdout",
          "text": [
            "last_letter= ? ........................................ female\n",
            "last_letter=a? ........................................ female\n",
            "last_letter=b? ........................................ male\n",
            "last_letter=c? ........................................ male\n",
            "last_letter=d? ........................................ male\n",
            "last_letter=e? ........................................ female\n",
            "last_letter=f? ........................................ male\n",
            "last_letter=g? ........................................ male\n",
            "last_letter=h? ........................................ female\n",
            "last_letter=i? ........................................ female\n",
            "last_letter=j? ........................................ male\n",
            "last_letter=k? ........................................ male\n",
            "last_letter=l? ........................................ male\n",
            "last_letter=m? ........................................ male\n",
            "last_letter=n? ........................................ male\n",
            "last_letter=o? ........................................ male\n",
            "last_letter=p? ........................................ male\n",
            "last_letter=r? ........................................ male\n",
            "last_letter=s? ........................................ male\n",
            "last_letter=t? ........................................ male\n",
            "last_letter=u? ........................................ male\n",
            "last_letter=v? ........................................ male\n",
            "last_letter=w? ........................................ male\n",
            "last_letter=x? ........................................ male\n",
            "last_letter=y? ........................................ female\n",
            "last_letter=z? ........................................ male\n",
            "\n"
          ]
        }
      ],
      "source": [
        "print(classifier.pretty_format())"
      ]
    },
    {
      "cell_type": "markdown",
      "id": "9c67bf45",
      "metadata": {
        "id": "9c67bf45"
      },
      "source": [
        "# 2. Classification with Scikit-Learn\n",
        "\n",
        "[Sci-Kit Learn](https://scikit-learn.org/stable/index.html) is an excellent package for machine learning and is widely used.\n",
        "It offers many different models, for both supervised and unsupervised learning, as well as tools such as pipelines that enables us to combine models together (ensemble).\n",
        "\n",
        "Let's use its Decision Tree model, together with metric tools to evaluate how well our model does:"
      ]
    },
    {
      "cell_type": "code",
      "execution_count": 19,
      "id": "5af92b97",
      "metadata": {
        "id": "5af92b97"
      },
      "outputs": [],
      "source": [
        "import numpy as np\n",
        "\n",
        "from sklearn import tree, utils\n",
        "from sklearn.model_selection import train_test_split\n",
        "from sklearn.metrics import classification_report\n",
        "\n",
        "from matplotlib import pyplot as plt\n",
        "\n",
        "label2idx = {'male':0, 'female': 1}\n",
        "idx2label = {0: 'male', 1: 'female'}"
      ]
    },
    {
      "cell_type": "markdown",
      "source": [
        "We start by creating our dataset (X) and our prediction targets (y).\n",
        "\n",
        "Our goal is to create a discriminative model: $f(X) → y$"
      ],
      "metadata": {
        "id": "DX7Xt-A9uaDm"
      },
      "id": "DX7Xt-A9uaDm"
    },
    {
      "cell_type": "code",
      "execution_count": 20,
      "id": "fa72abe3",
      "metadata": {
        "id": "fa72abe3"
      },
      "outputs": [],
      "source": [
        "X = male_names + female_names\n",
        "y = [label2idx['male']] * len(male_names) + [label2idx['female']] * len(female_names)"
      ]
    },
    {
      "cell_type": "markdown",
      "id": "558312b5",
      "metadata": {
        "id": "558312b5"
      },
      "source": [
        "Let's shuffle the data a bit:"
      ]
    },
    {
      "cell_type": "code",
      "execution_count": 21,
      "id": "aa14f884",
      "metadata": {
        "id": "aa14f884"
      },
      "outputs": [],
      "source": [
        "X, y = utils.shuffle(X, y)"
      ]
    },
    {
      "cell_type": "markdown",
      "source": [
        "And divide our data into a training-set, and an unseen testing-set:"
      ],
      "metadata": {
        "id": "HGEG9tdPvxcc"
      },
      "id": "HGEG9tdPvxcc"
    },
    {
      "cell_type": "code",
      "execution_count": 22,
      "id": "881a147b",
      "metadata": {
        "id": "881a147b"
      },
      "outputs": [],
      "source": [
        "X_train, X_test, y_train, y_test = train_test_split(X, y)"
      ]
    },
    {
      "cell_type": "code",
      "execution_count": 23,
      "id": "fdadde80",
      "metadata": {
        "id": "fdadde80"
      },
      "outputs": [],
      "source": [
        "assert len(X_train) == len(y_train)\n",
        "assert len(X_test) == len(y_test)"
      ]
    },
    {
      "cell_type": "markdown",
      "source": [
        "And initialize our [Decision Tree](https://scikit-learn.org/stable/modules/generated/sklearn.tree.DecisionTreeClassifier.html):"
      ],
      "metadata": {
        "id": "c602vMWHvN31"
      },
      "id": "c602vMWHvN31"
    },
    {
      "cell_type": "code",
      "execution_count": 24,
      "id": "bbfaef5e",
      "metadata": {
        "id": "bbfaef5e"
      },
      "outputs": [],
      "source": [
        "clf = tree.DecisionTreeClassifier(max_depth=2, random_state=1234)"
      ]
    },
    {
      "cell_type": "markdown",
      "source": [
        "Now we need our Feature Function again.\n",
        "Unlike NLTK, which requires a dictionary, with SKLearn, we need to return a list of features (a vector).\n",
        "\n",
        "Here, we just return the last letter of the name as a feature. The python function [`ord`](https://docs.python.org/3/library/functions.html#ord) returns the unicode numerical code of the character."
      ],
      "metadata": {
        "id": "V-7f8B3LvW59"
      },
      "id": "V-7f8B3LvW59"
    },
    {
      "cell_type": "code",
      "execution_count": 25,
      "id": "7f6266d9",
      "metadata": {
        "id": "7f6266d9"
      },
      "outputs": [],
      "source": [
        "def gender_feature_function(name):\n",
        "    return ord(name[-1])"
      ]
    },
    {
      "cell_type": "code",
      "source": [
        "assert gender_feature_function(\"Željko\") == 111"
      ],
      "metadata": {
        "id": "LTpP4fzFwqc2"
      },
      "id": "LTpP4fzFwqc2",
      "execution_count": 26,
      "outputs": []
    },
    {
      "cell_type": "markdown",
      "source": [
        "Now we can use our feature function and convert our data into numerical features:"
      ],
      "metadata": {
        "id": "OlF_jvv8v9lY"
      },
      "id": "OlF_jvv8v9lY"
    },
    {
      "cell_type": "code",
      "execution_count": 27,
      "id": "288cc9c8",
      "metadata": {
        "id": "288cc9c8"
      },
      "outputs": [],
      "source": [
        "X_train = list(map(gender_feature_function, X_train))\n",
        "X_test = list(map(gender_feature_function, X_test))"
      ]
    },
    {
      "cell_type": "code",
      "source": [
        "X_train[:10]"
      ],
      "metadata": {
        "colab": {
          "base_uri": "https://localhost:8080/"
        },
        "id": "_Zw1fghywNZl",
        "outputId": "dc4b5ffe-c5fc-463e-d04d-18192f61a83c"
      },
      "id": "_Zw1fghywNZl",
      "execution_count": 28,
      "outputs": [
        {
          "output_type": "execute_result",
          "data": {
            "text/plain": [
              "[101, 114, 97, 121, 101, 110, 101, 114, 97, 121]"
            ]
          },
          "metadata": {},
          "execution_count": 28
        }
      ]
    },
    {
      "cell_type": "markdown",
      "source": [
        "Before using our training data vector for training the model, we sometimes may need to reshape its structure. Specifically, instead of having it as a list of numbers, we want it as a \"column\" of numbers."
      ],
      "metadata": {
        "id": "4y97Qyk2x01c"
      },
      "id": "4y97Qyk2x01c"
    },
    {
      "cell_type": "code",
      "execution_count": 29,
      "id": "725a8cef",
      "metadata": {
        "id": "725a8cef"
      },
      "outputs": [],
      "source": [
        "X_train = np.array(X_train).reshape(-1, 1)\n",
        "X_test = np.array(X_test).reshape(-1, 1)"
      ]
    },
    {
      "cell_type": "code",
      "source": [
        "X_train.shape"
      ],
      "metadata": {
        "colab": {
          "base_uri": "https://localhost:8080/"
        },
        "id": "WcAtJxa5xxmU",
        "outputId": "4cf9c679-d3f3-413c-8076-24e37957a5ff"
      },
      "id": "WcAtJxa5xxmU",
      "execution_count": 30,
      "outputs": [
        {
          "output_type": "execute_result",
          "data": {
            "text/plain": [
              "(5958, 1)"
            ]
          },
          "metadata": {},
          "execution_count": 30
        }
      ]
    },
    {
      "cell_type": "markdown",
      "source": [
        "Let's take a peek and ensure our data is in the way we want it to be:"
      ],
      "metadata": {
        "id": "f3c4q4uGyta2"
      },
      "id": "f3c4q4uGyta2"
    },
    {
      "cell_type": "code",
      "execution_count": 31,
      "id": "399dd6fa",
      "metadata": {
        "colab": {
          "base_uri": "https://localhost:8080/"
        },
        "id": "399dd6fa",
        "outputId": "45bb5bc5-8ee7-49c0-cb1f-88d4ed723afe"
      },
      "outputs": [
        {
          "output_type": "stream",
          "name": "stdout",
          "text": [
            "[(array([101]), 0), (array([114]), 0), (array([97]), 1), (array([121]), 1), (array([101]), 1)]\n"
          ]
        }
      ],
      "source": [
        "print(list(zip(X_train[:5], y_train[:5])))"
      ]
    },
    {
      "cell_type": "markdown",
      "source": [
        "And finally, we are ready to train our model:"
      ],
      "metadata": {
        "id": "Uc8Ez9QAyyvm"
      },
      "id": "Uc8Ez9QAyyvm"
    },
    {
      "cell_type": "code",
      "execution_count": 32,
      "id": "362a560d",
      "metadata": {
        "id": "362a560d"
      },
      "outputs": [],
      "source": [
        "clf = clf.fit(X_train, y_train)"
      ]
    },
    {
      "cell_type": "code",
      "execution_count": 33,
      "id": "778aadce",
      "metadata": {
        "colab": {
          "base_uri": "https://localhost:8080/",
          "height": 406
        },
        "id": "778aadce",
        "outputId": "5898c0ba-e8c9-4c79-c3f6-ee4c5c9925fb"
      },
      "outputs": [
        {
          "output_type": "display_data",
          "data": {
            "text/plain": [
              "<Figure size 640x480 with 1 Axes>"
            ],
            "image/png": "[encoded data removed]"
          },
          "metadata": {}
        }
      ],
      "source": [
        "tree.plot_tree(clf, feature_names = [\"last_letter\"])\n",
        "plt.show()"
      ]
    },
    {
      "cell_type": "markdown",
      "source": [
        "Now that we have a model, we can evaluate how well we did.\n",
        "\n",
        "SKLearn has many different metrics to test our model. For classification tasks, the most common are:\n",
        "- Precision\n",
        "- Recall\n",
        "- F-Score\n",
        "- Area under curve (AUC)\n",
        "- Mathew's Correlation Coefficience (MCC)\n",
        "\n",
        "But many more exists, and it depends on the task in hand, to decide which one would represent our data bet.\n",
        "\n",
        "\n",
        "Note: Be careful and don't blindly trust the metrics. Always be judgemental and stay critical about your results and achievements. Here's an excellent video about the topic - and why we should suspect our resutls: https://www.youtube.com/watch?v=r_V1pveRKoo"
      ],
      "metadata": {
        "id": "BC-KOCNr0IKc"
      },
      "id": "BC-KOCNr0IKc"
    },
    {
      "cell_type": "code",
      "execution_count": 34,
      "id": "544f4397",
      "metadata": {
        "id": "544f4397"
      },
      "outputs": [],
      "source": [
        "predictions = clf.predict(X_test)"
      ]
    },
    {
      "cell_type": "code",
      "execution_count": 35,
      "id": "5460b50e",
      "metadata": {
        "colab": {
          "base_uri": "https://localhost:8080/"
        },
        "id": "5460b50e",
        "outputId": "dca4e631-e95b-4ab4-a0a7-72736929724f"
      },
      "outputs": [
        {
          "output_type": "stream",
          "name": "stdout",
          "text": [
            "              precision    recall  f1-score   support\n",
            "\n",
            "           0       0.62      0.67      0.64       744\n",
            "           1       0.79      0.75      0.77      1242\n",
            "\n",
            "    accuracy                           0.72      1986\n",
            "   macro avg       0.70      0.71      0.71      1986\n",
            "weighted avg       0.73      0.72      0.72      1986\n",
            "\n"
          ]
        }
      ],
      "source": [
        "print(classification_report(y_test, predictions))"
      ]
    },
    {
      "cell_type": "markdown",
      "source": [
        "---\n",
        "\n",
        "We can use [`graphviz`](https://graphviz.org/) to visualize the tree we trained, and understand which features are more important, and have more weight.\n",
        "\n",
        "Graphviz creates an image of the tree, which looks something like this:\n",
        "\n",
        "![](https://raw.githubusercontent.com/liadmagen/NLP-Course/master/images/DecisionTree.png)"
      ],
      "metadata": {
        "id": "u553-MF5o0nw"
      },
      "id": "u553-MF5o0nw"
    },
    {
      "cell_type": "code",
      "execution_count": 36,
      "id": "c67c4b8e",
      "metadata": {
        "id": "c67c4b8e"
      },
      "outputs": [],
      "source": [
        "import graphviz\n",
        "\n",
        "\n",
        "dot_data = tree.export_graphviz(clf,\n",
        "                                out_file=None,\n",
        "                                feature_names=['last_letter'],\n",
        "                                class_names=[\"male\", \"female\"],\n",
        "                                filled=True,\n",
        "                                rounded=True,\n",
        "                               )\n",
        "graph = graphviz.Source(dot_data)"
      ]
    },
    {
      "cell_type": "code",
      "execution_count": 37,
      "id": "4a1721e8",
      "metadata": {
        "id": "4a1721e8",
        "colab": {
          "base_uri": "https://localhost:8080/",
          "height": 35
        },
        "outputId": "3957ec61-ff5b-481a-fb84-2bd296257ba4"
      },
      "outputs": [
        {
          "output_type": "execute_result",
          "data": {
            "text/plain": [
              "'Source.gv.pdf'"
            ],
            "application/vnd.google.colaboratory.intrinsic+json": {
              "type": "string"
            }
          },
          "metadata": {},
          "execution_count": 37
        }
      ],
      "source": [
        "graph.view()"
      ]
    },
    {
      "cell_type": "markdown",
      "source": [
        "## Excercise: Improve the results\n",
        "\n",
        "With a naive last-letter feature, we got about an F-Score of ~71-73.\n",
        "This is not great: 1 out of 4 names is wrongly classified.\n",
        "\n",
        "How can we improve it further? which features can we craft?\n",
        "1. Perform statistical analysis of the dataset: which letters are the most common for every gender, and in which position do they appear?\n",
        "2. Create additional features and re-train the model. Can you score above 80%? above 90%? above 95%?"
      ],
      "metadata": {
        "id": "VQcrxB1p1j6I"
      },
      "id": "VQcrxB1p1j6I"
    },
    {
      "cell_type": "code",
      "source": [],
      "metadata": {
        "id": "TALVo3Rm1-se"
      },
      "id": "TALVo3Rm1-se",
      "execution_count": null,
      "outputs": []
    },
    {
      "cell_type": "code",
      "source": [
        "import numpy as np\n",
        "\n",
        "from sklearn import tree, utils\n",
        "from sklearn.model_selection import train_test_split\n",
        "from sklearn.metrics import classification_report\n",
        "\n",
        "from matplotlib import pyplot as plt\n",
        "\n",
        "label2idx = {'male':0, 'female': 1}\n",
        "idx2label = {0: 'male', 1: 'female'}"
      ],
      "metadata": {
        "id": "fvQgbTKMQFZT"
      },
      "id": "fvQgbTKMQFZT",
      "execution_count": 176,
      "outputs": []
    },
    {
      "cell_type": "code",
      "source": [
        "X = male_names + female_names\n",
        "y = [label2idx['male']] * len(male_names) + [label2idx['female']] * len(female_names)"
      ],
      "metadata": {
        "id": "sY-BElqaQIa4"
      },
      "id": "sY-BElqaQIa4",
      "execution_count": 177,
      "outputs": []
    },
    {
      "cell_type": "code",
      "source": [
        "X, y = utils.shuffle(X, y)"
      ],
      "metadata": {
        "id": "WVRh7XgVQLu8"
      },
      "id": "WVRh7XgVQLu8",
      "execution_count": 178,
      "outputs": []
    },
    {
      "cell_type": "code",
      "source": [
        "X_train, X_test, y_train, y_test = train_test_split(X, y)"
      ],
      "metadata": {
        "id": "cUBagn6DQMD4"
      },
      "id": "cUBagn6DQMD4",
      "execution_count": 179,
      "outputs": []
    },
    {
      "cell_type": "code",
      "source": [
        "assert len(X_train) == len(y_train)\n",
        "assert len(X_test) == len(y_test)"
      ],
      "metadata": {
        "id": "h1xy3a1JQOT0"
      },
      "id": "h1xy3a1JQOT0",
      "execution_count": 180,
      "outputs": []
    },
    {
      "cell_type": "code",
      "source": [
        "clf = tree.DecisionTreeClassifier(max_depth=2, random_state=1234)"
      ],
      "metadata": {
        "id": "4OBukoapQQeu"
      },
      "id": "4OBukoapQQeu",
      "execution_count": 181,
      "outputs": []
    },
    {
      "cell_type": "code",
      "source": [],
      "metadata": {
        "id": "XX3HSmB_QS6m"
      },
      "id": "XX3HSmB_QS6m",
      "execution_count": null,
      "outputs": []
    },
    {
      "cell_type": "code",
      "source": [
        "def first_letter_feature(name):\n",
        "    return ord(name[0])\n",
        "\n",
        "def last_two_letters_feature(name):\n",
        "    # Return the ASCII values of the last two characters separately\n",
        "    return ord(name[-2]), ord(name[-1])\n",
        "\n",
        "def vowel_count_feature(name):\n",
        "    vowels = set(\"aeiouAEIOU\")\n",
        "    return sum(1 for char in name if char in vowels)\n",
        "\n",
        "def consonant_count_feature(name):\n",
        "    return len(name) - vowel_count_feature(name)\n"
      ],
      "metadata": {
        "id": "OhbvGp8cPhgD"
      },
      "id": "OhbvGp8cPhgD",
      "execution_count": 182,
      "outputs": []
    },
    {
      "cell_type": "code",
      "source": [
        "from collections import Counter\n",
        "\n",
        "def letter_frequency_feature(name):\n",
        "    letter_counts = Counter(name.lower())\n",
        "    # Normalize the counts to get frequencies\n",
        "    total_letters = sum(letter_counts.values())\n",
        "    frequencies = {letter: count / total_letters for letter, count in letter_counts.items()}\n",
        "    return frequencies\n",
        "\n",
        "# Example usage\n",
        "print(letter_frequency_feature(\"John\"))"
      ],
      "metadata": {
        "colab": {
          "base_uri": "https://localhost:8080/"
        },
        "id": "DAnGZQ8cZu_h",
        "outputId": "f1b6b580-42ed-43c3-8dcf-90025ba5886f"
      },
      "id": "DAnGZQ8cZu_h",
      "execution_count": 189,
      "outputs": [
        {
          "output_type": "stream",
          "name": "stdout",
          "text": [
            "{'j': 0.25, 'o': 0.25, 'h': 0.25, 'n': 0.25}\n"
          ]
        }
      ]
    },
    {
      "cell_type": "code",
      "source": [
        "\n",
        "from scipy import stats\n",
        "\n",
        "def analyze_letter_positions(names, gender):\n",
        "    letter_positions = {letter: [] for letter in 'abcdefghijklmnopqrstuvwxyz'}\n",
        "\n",
        "    for name in names:\n",
        "        for i, letter in enumerate(name.lower()):\n",
        "            if letter.isalpha():\n",
        "                letter_positions[letter].append(i)\n",
        "\n",
        "    # Calculate statistics for each letter\n",
        "    for letter, positions in letter_positions.items():\n",
        "        if positions:\n",
        "            print(f\"Letter '{letter}' in {gender} names:\")\n",
        "            print(f\"   Mean position: {np.mean(positions)}\")\n",
        "            print(f\"   Median position: {np.median(positions)}\")\n",
        "\n",
        "            # Check if positions list is not empty before accessing the mode\n",
        "            if len(positions) > 0:\n",
        "                mode_result = stats.mode(positions)\n",
        "                # Use mode_result.mode directly without indexing\n",
        "                print(f\"   Mode position: {mode_result.mode}\")\n",
        "            else:\n",
        "                print(f\"   Mode position: N/A (no data)\")\n",
        "\n",
        "            print()\n",
        "\n",
        "# Example usage\n",
        "analyze_letter_positions(male_names, 'male')\n",
        "analyze_letter_positions(female_names, 'female')\n"
      ],
      "metadata": {
        "colab": {
          "base_uri": "https://localhost:8080/"
        },
        "id": "MzTLtn8CZxvE",
        "outputId": "1e85dfcf-a21d-46d4-8bb7-9d4334e867a2"
      },
      "id": "MzTLtn8CZxvE",
      "execution_count": 190,
      "outputs": [
        {
          "output_type": "stream",
          "name": "stdout",
          "text": [
            "Letter 'a' in male names:\n",
            "   Mean position: 2.028520499108734\n",
            "   Median position: 1.0\n",
            "   Mode position: 1\n",
            "\n",
            "Letter 'b' in male names:\n",
            "   Mean position: 1.3994845360824741\n",
            "   Median position: 1.0\n",
            "   Mode position: 0\n",
            "\n",
            "Letter 'c' in male names:\n",
            "   Mean position: 2.334\n",
            "   Median position: 2.0\n",
            "   Mode position: 0\n",
            "\n",
            "Letter 'd' in male names:\n",
            "   Mean position: 3.0660501981505943\n",
            "   Median position: 3.0\n",
            "   Mode position: 3\n",
            "\n",
            "Letter 'e' in male names:\n",
            "   Mean position: 3.098569969356486\n",
            "   Median position: 3.0\n",
            "   Mode position: 1\n",
            "\n",
            "Letter 'f' in male names:\n",
            "   Mean position: 2.1171548117154813\n",
            "   Median position: 2.0\n",
            "   Mode position: 0\n",
            "\n",
            "Letter 'g' in male names:\n",
            "   Mean position: 1.7845303867403315\n",
            "   Median position: 2.0\n",
            "   Mode position: 0\n",
            "\n",
            "Letter 'h' in male names:\n",
            "   Mean position: 2.2714285714285714\n",
            "   Median position: 1.0\n",
            "   Mode position: 0\n",
            "\n",
            "Letter 'i' in male names:\n",
            "   Mean position: 2.923076923076923\n",
            "   Median position: 3.0\n",
            "   Mode position: 1\n",
            "\n",
            "Letter 'j' in male names:\n",
            "   Mean position: 0.32515337423312884\n",
            "   Median position: 0.0\n",
            "   Mode position: 0\n",
            "\n",
            "Letter 'k' in male names:\n",
            "   Mean position: 2.622047244094488\n",
            "   Median position: 3.0\n",
            "   Mode position: 3\n",
            "\n",
            "Letter 'l' in male names:\n",
            "   Mean position: 2.92863436123348\n",
            "   Median position: 3.0\n",
            "   Mode position: 2\n",
            "\n",
            "Letter 'm' in male names:\n",
            "   Mean position: 1.9858657243816253\n",
            "   Median position: 2.0\n",
            "   Mode position: 0\n",
            "\n",
            "Letter 'n' in male names:\n",
            "   Mean position: 3.5614439324116742\n",
            "   Median position: 3.0\n",
            "   Mode position: 2\n",
            "\n",
            "Letter 'o' in male names:\n",
            "   Mean position: 2.9982285208148802\n",
            "   Median position: 3.0\n",
            "   Mode position: 1\n",
            "\n",
            "Letter 'p' in male names:\n",
            "   Mean position: 1.8246445497630333\n",
            "   Median position: 1.0\n",
            "   Mode position: 0\n",
            "\n",
            "Letter 'q' in male names:\n",
            "   Mean position: 1.3181818181818181\n",
            "   Median position: 0.0\n",
            "   Mode position: 0\n",
            "\n",
            "Letter 'r' in male names:\n",
            "   Mean position: 2.6609442060085837\n",
            "   Median position: 2.0\n",
            "   Mode position: 2\n",
            "\n",
            "Letter 's' in male names:\n",
            "   Mean position: 2.7748756218905473\n",
            "   Median position: 3.0\n",
            "   Mode position: 0\n",
            "\n",
            "Letter 't' in male names:\n",
            "   Mean position: 2.865810968494749\n",
            "   Median position: 3.0\n",
            "   Mode position: 3\n",
            "\n",
            "Letter 'u' in male names:\n",
            "   Mean position: 2.366359447004608\n",
            "   Median position: 2.0\n",
            "   Mode position: 1\n",
            "\n",
            "Letter 'v' in male names:\n",
            "   Mean position: 1.9754901960784315\n",
            "   Median position: 2.0\n",
            "   Mode position: 3\n",
            "\n",
            "Letter 'w' in male names:\n",
            "   Mean position: 1.2355212355212355\n",
            "   Median position: 0.0\n",
            "   Mode position: 0\n",
            "\n",
            "Letter 'x' in male names:\n",
            "   Mean position: 1.9696969696969697\n",
            "   Median position: 2.0\n",
            "   Mode position: 2\n",
            "\n",
            "Letter 'y' in male names:\n",
            "   Mean position: 3.58739837398374\n",
            "   Median position: 4.0\n",
            "   Mode position: 4\n",
            "\n",
            "Letter 'z' in male names:\n",
            "   Mean position: 1.7088607594936709\n",
            "   Median position: 1.0\n",
            "   Mode position: 0\n",
            "\n",
            "Letter 'a' in female names:\n",
            "   Mean position: 3.1083516483516482\n",
            "   Median position: 3.0\n",
            "   Mode position: 1\n",
            "\n",
            "Letter 'b' in female names:\n",
            "   Mean position: 1.505281690140845\n",
            "   Median position: 2.0\n",
            "   Mode position: 0\n",
            "\n",
            "Letter 'c' in female names:\n",
            "   Mean position: 1.3983050847457628\n",
            "   Median position: 0.0\n",
            "   Mode position: 0\n",
            "\n",
            "Letter 'd' in female names:\n",
            "   Mean position: 2.2642073778664007\n",
            "   Median position: 2.0\n",
            "   Mode position: 0\n",
            "\n",
            "Letter 'e' in female names:\n",
            "   Mean position: 3.5370592468217796\n",
            "   Median position: 4.0\n",
            "   Mode position: 1\n",
            "\n",
            "Letter 'f' in female names:\n",
            "   Mean position: 0.8976744186046511\n",
            "   Median position: 0.0\n",
            "   Mode position: 0\n",
            "\n",
            "Letter 'g' in female names:\n",
            "   Mean position: 1.4421296296296295\n",
            "   Median position: 1.0\n",
            "   Mode position: 0\n",
            "\n",
            "Letter 'h' in female names:\n",
            "   Mean position: 2.362796833773087\n",
            "   Median position: 1.5\n",
            "   Mode position: 1\n",
            "\n",
            "Letter 'i' in female names:\n",
            "   Mean position: 3.1707398727820557\n",
            "   Median position: 3.0\n",
            "   Mode position: 4\n",
            "\n",
            "Letter 'j' in female names:\n",
            "   Mean position: 0.29906542056074764\n",
            "   Median position: 0.0\n",
            "   Mode position: 0\n",
            "\n",
            "Letter 'k' in female names:\n",
            "   Mean position: 1.1135802469135803\n",
            "   Median position: 0.0\n",
            "   Mode position: 0\n",
            "\n",
            "Letter 'l' in female names:\n",
            "   Mean position: 2.8101604278074865\n",
            "   Median position: 3.0\n",
            "   Mode position: 2\n",
            "\n",
            "Letter 'm' in female names:\n",
            "   Mean position: 1.1100811123986094\n",
            "   Median position: 0.0\n",
            "   Mode position: 0\n",
            "\n",
            "Letter 'n' in female names:\n",
            "   Mean position: 3.6548132183908044\n",
            "   Median position: 4.0\n",
            "   Mode position: 2\n",
            "\n",
            "Letter 'o' in female names:\n",
            "   Mean position: 1.7863993025283347\n",
            "   Median position: 1.0\n",
            "   Mode position: 1\n",
            "\n",
            "Letter 'p' in female names:\n",
            "   Mean position: 1.1981132075471699\n",
            "   Median position: 0.0\n",
            "   Mode position: 0\n",
            "\n",
            "Letter 'q' in female names:\n",
            "   Mean position: 2.473684210526316\n",
            "   Median position: 3.0\n",
            "   Mode position: 3\n",
            "\n",
            "Letter 'r' in female names:\n",
            "   Mean position: 2.2990570273911093\n",
            "   Median position: 2.0\n",
            "   Mode position: 2\n",
            "\n",
            "Letter 's' in female names:\n",
            "   Mean position: 2.4084033613445377\n",
            "   Median position: 2.0\n",
            "   Mode position: 0\n",
            "\n",
            "Letter 't' in female names:\n",
            "   Mean position: 3.37921146953405\n",
            "   Median position: 3.0\n",
            "   Mode position: 2\n",
            "\n",
            "Letter 'u' in female names:\n",
            "   Mean position: 1.8266331658291457\n",
            "   Median position: 1.0\n",
            "   Mode position: 1\n",
            "\n",
            "Letter 'v' in female names:\n",
            "   Mean position: 1.347985347985348\n",
            "   Median position: 1.0\n",
            "   Mode position: 0\n",
            "\n",
            "Letter 'w' in female names:\n",
            "   Mean position: 0.86\n",
            "   Median position: 0.0\n",
            "   Mode position: 0\n",
            "\n",
            "Letter 'x' in female names:\n",
            "   Mean position: 2.5853658536585367\n",
            "   Median position: 2.0\n",
            "   Mode position: 2\n",
            "\n",
            "Letter 'y' in female names:\n",
            "   Mean position: 3.4973031283710894\n",
            "   Median position: 4.0\n",
            "   Mode position: 4\n",
            "\n",
            "Letter 'z' in female names:\n",
            "   Mean position: 1.9387755102040816\n",
            "   Median position: 2.0\n",
            "   Mode position: 2\n",
            "\n"
          ]
        }
      ]
    },
    {
      "cell_type": "code",
      "source": [
        "# from collections import Counter\n",
        "\n",
        "# def letter_frequency_analysis(names, gender):\n",
        "#     gender_names = [name for name, label in zip(names, gender) if label == 0]\n",
        "#     letter_frequencies = Counter(\"\".join(gender_names))\n",
        "#     total_names = len(gender_names)\n",
        "#     letter_probabilities = {letter: count / total_names for letter, count in letter_frequencies.items()}\n",
        "#     return letter_probabilities\n",
        "\n",
        "# male_letter_probabilities = letter_frequency_analysis(X, y)\n",
        "\n",
        "# # You can do the same for female names\n",
        "# female_letter_probabilities = letter_frequency_analysis(X, y)\n",
        "\n",
        "# # Now you can use these probabilities as features\n",
        "# def male_letter_frequency_feature(name):\n",
        "#     return sum(male_letter_probabilities.get(char, 0) for char in name)\n",
        "\n",
        "# def female_letter_frequency_feature(name):\n",
        "#     return sum(female_letter_probabilities.get(char, 0) for char in name)\n",
        "\n",
        "# def positional_letter_frequency_analysis(names, gender, position):\n",
        "#     gender_names = [name for name, label in zip(names, gender) if label == 0]\n",
        "#     position_letters = [name[position] for name in gender_names if len(name) > position]\n",
        "#     letter_frequencies = Counter(position_letters)\n",
        "#     total_letters = len(position_letters)\n",
        "#     letter_probabilities = {letter: count / total_letters for letter, count in letter_frequencies.items()}\n",
        "#     return letter_probabilities\n",
        "\n",
        "# # Example for the first position\n",
        "# male_first_letter_probabilities = positional_letter_frequency_analysis(X, y, 0)\n",
        "\n",
        "# # Now you can use these probabilities as features\n",
        "# def male_first_letter_frequency_feature(name):\n",
        "#     return male_first_letter_probabilities.get(name[0], 0)\n"
      ],
      "metadata": {
        "id": "9kJ-v1YoYaCF"
      },
      "id": "9kJ-v1YoYaCF",
      "execution_count": 166,
      "outputs": []
    },
    {
      "cell_type": "code",
      "source": [
        "assert first_letter_feature(\"Željko\") == 381\n",
        "assert last_two_letters_feature(\"Željko\") == (107, 111)\n",
        "assert vowel_count_feature(\"John\") == 1\n",
        "assert consonant_count_feature(\"John\") == 3"
      ],
      "metadata": {
        "id": "-Aluj0ZwQbks"
      },
      "id": "-Aluj0ZwQbks",
      "execution_count": 191,
      "outputs": []
    },
    {
      "cell_type": "code",
      "source": [
        "X_train = list(map(gender_feature_function, X_train))\n",
        "X_test = list(map(gender_feature_function, X_test))"
      ],
      "metadata": {
        "id": "F3aGUMRpQj2B"
      },
      "id": "F3aGUMRpQj2B",
      "execution_count": 192,
      "outputs": []
    },
    {
      "cell_type": "code",
      "source": [
        "X_train[:10]"
      ],
      "metadata": {
        "colab": {
          "base_uri": "https://localhost:8080/"
        },
        "id": "kjoJCohMQmtG",
        "outputId": "a6dc78f4-7af6-4f2b-8630-878539558365"
      },
      "id": "kjoJCohMQmtG",
      "execution_count": 193,
      "outputs": [
        {
          "output_type": "execute_result",
          "data": {
            "text/plain": [
              "[97, 101, 101, 101, 97, 110, 97, 97, 121, 97]"
            ]
          },
          "metadata": {},
          "execution_count": 193
        }
      ]
    },
    {
      "cell_type": "code",
      "source": [
        "X_train = np.array(X_train).reshape(-1, 1)\n",
        "X_test = np.array(X_test).reshape(-1, 1)"
      ],
      "metadata": {
        "id": "CHWlLDvxQtRJ"
      },
      "id": "CHWlLDvxQtRJ",
      "execution_count": 194,
      "outputs": []
    },
    {
      "cell_type": "code",
      "source": [
        "X_train.shape"
      ],
      "metadata": {
        "colab": {
          "base_uri": "https://localhost:8080/"
        },
        "id": "up2X12TbQtsB",
        "outputId": "8f6858e5-34a9-4434-d792-d25ad4662558"
      },
      "id": "up2X12TbQtsB",
      "execution_count": 195,
      "outputs": [
        {
          "output_type": "execute_result",
          "data": {
            "text/plain": [
              "(5958, 1)"
            ]
          },
          "metadata": {},
          "execution_count": 195
        }
      ]
    },
    {
      "cell_type": "code",
      "source": [
        "print(list(zip(X_train[:5], y_train[:5])))"
      ],
      "metadata": {
        "colab": {
          "base_uri": "https://localhost:8080/"
        },
        "id": "oGOVETFkQzI6",
        "outputId": "270ad94a-3c82-4f83-a7c7-aa4644f22fe5"
      },
      "id": "oGOVETFkQzI6",
      "execution_count": 196,
      "outputs": [
        {
          "output_type": "stream",
          "name": "stdout",
          "text": [
            "[(array([97]), 1), (array([101]), 1), (array([101]), 1), (array([101]), 1), (array([97]), 1)]\n"
          ]
        }
      ]
    },
    {
      "cell_type": "code",
      "source": [
        "clf = clf.fit(X_train, y_train)"
      ],
      "metadata": {
        "id": "CcfnHwBGQ2E3"
      },
      "id": "CcfnHwBGQ2E3",
      "execution_count": 197,
      "outputs": []
    },
    {
      "cell_type": "code",
      "source": [
        "tree.plot_tree(clf, feature_names = [\"first_letter_feature\", \"letter_frequency_featur\", \"analyze_letter_positions\"])\n",
        "plt.show()"
      ],
      "metadata": {
        "colab": {
          "base_uri": "https://localhost:8080/",
          "height": 406
        },
        "id": "k0VprIAAQ48w",
        "outputId": "1c7b2e55-7013-4636-ddd4-24e4c240992b"
      },
      "id": "k0VprIAAQ48w",
      "execution_count": 198,
      "outputs": [
        {
          "output_type": "display_data",
          "data": {
            "text/plain": [
              "<Figure size 640x480 with 1 Axes>"
            ],
            "image/png": "[encoded data removed]"
          },
          "metadata": {}
        }
      ]
    },
    {
      "cell_type": "code",
      "source": [
        "predictions = clf.predict(X_test)"
      ],
      "metadata": {
        "id": "doIXy9lgTBOx"
      },
      "id": "doIXy9lgTBOx",
      "execution_count": 199,
      "outputs": []
    },
    {
      "cell_type": "code",
      "source": [
        "print(classification_report(y_test, predictions))"
      ],
      "metadata": {
        "colab": {
          "base_uri": "https://localhost:8080/"
        },
        "id": "8Zx8TxbUTEP-",
        "outputId": "30d3827d-1247-46a0-8d86-d987a10aab28"
      },
      "id": "8Zx8TxbUTEP-",
      "execution_count": 200,
      "outputs": [
        {
          "output_type": "stream",
          "name": "stdout",
          "text": [
            "              precision    recall  f1-score   support\n",
            "\n",
            "           0       0.58      0.66      0.62       694\n",
            "           1       0.80      0.74      0.77      1292\n",
            "\n",
            "    accuracy                           0.71      1986\n",
            "   macro avg       0.69      0.70      0.69      1986\n",
            "weighted avg       0.72      0.71      0.72      1986\n",
            "\n"
          ]
        }
      ]
    }
  ],
  "metadata": {
    "kernelspec": {
      "display_name": "Python 3 (ipykernel)",
      "language": "python",
      "name": "python3"
    },
    "language_info": {
      "codemirror_mode": {
        "name": "ipython",
        "version": 3
      },
      "file_extension": ".py",
      "mimetype": "text/x-python",
      "name": "python",
      "nbconvert_exporter": "python",
      "pygments_lexer": "ipython3",
      "version": "3.8.10"
    },
    "colab": {
      "provenance": [],
      "include_colab_link": true
    }
  },
  "nbformat": 4,
  "nbformat_minor": 5
}
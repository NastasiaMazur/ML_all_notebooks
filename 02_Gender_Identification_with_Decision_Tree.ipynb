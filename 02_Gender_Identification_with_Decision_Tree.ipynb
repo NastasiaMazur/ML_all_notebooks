{
  "cells": [
    {
      "cell_type": "markdown",
      "metadata": {
        "id": "view-in-github",
        "colab_type": "text"
      },
      "source": [
        "<a href=\"https://colab.research.google.com/github/NastasiaMazur/ML_all_notebooks/blob/main/02_Gender_Identification_with_Decision_Tree.ipynb\" target=\"_parent\"><img src=\"https://colab.research.google.com/assets/colab-badge.svg\" alt=\"Open In Colab\"/></a>"
      ]
    },
    {
      "cell_type": "markdown",
      "id": "fbe62552",
      "metadata": {
        "id": "fbe62552"
      },
      "source": [
        "# Gender Idetification\n",
        "\n",
        "Based on the nltk book: https://www.nltk.org/book/ch06.html"
      ]
    },
    {
      "cell_type": "markdown",
      "id": "a17e24e8",
      "metadata": {
        "id": "a17e24e8"
      },
      "source": [
        "### Data Download"
      ]
    },
    {
      "cell_type": "code",
      "execution_count": 2,
      "id": "8c11d370",
      "metadata": {
        "id": "8c11d370"
      },
      "outputs": [],
      "source": [
        "import nltk"
      ]
    },
    {
      "cell_type": "code",
      "execution_count": 4,
      "id": "dcc0696a",
      "metadata": {
        "colab": {
          "base_uri": "https://localhost:8080/"
        },
        "id": "dcc0696a",
        "outputId": "bf9984b4-105a-412e-f32d-f7d9712f635a"
      },
      "outputs": [
        {
          "output_type": "stream",
          "name": "stderr",
          "text": [
            "[nltk_data] Downloading package names to /root/nltk_data...\n",
            "[nltk_data]   Package names is already up-to-date!\n"
          ]
        },
        {
          "output_type": "execute_result",
          "data": {
            "text/plain": [
              "True"
            ]
          },
          "metadata": {},
          "execution_count": 4
        }
      ],
      "source": [
        "nltk.download('names')"
      ]
    },
    {
      "cell_type": "markdown",
      "id": "458403ec",
      "metadata": {
        "id": "458403ec"
      },
      "source": [
        "### Import the names Data"
      ]
    },
    {
      "cell_type": "code",
      "execution_count": 5,
      "id": "398bf104",
      "metadata": {
        "id": "398bf104"
      },
      "outputs": [],
      "source": [
        "from nltk.corpus import names"
      ]
    },
    {
      "cell_type": "code",
      "execution_count": 6,
      "id": "870cfd27",
      "metadata": {
        "id": "870cfd27"
      },
      "outputs": [],
      "source": [
        "male_names = names.words('male.txt')\n",
        "female_names = names.words('female.txt')"
      ]
    },
    {
      "cell_type": "markdown",
      "id": "265aebad",
      "metadata": {
        "id": "265aebad"
      },
      "source": [
        "# Data Exploration\n",
        "\n",
        "The first step in every task is **always** (!!!) to look at your data.\n",
        "\n",
        "The dataset contains about 8k names, mostly in English:"
      ]
    },
    {
      "cell_type": "code",
      "execution_count": 7,
      "id": "02619d56",
      "metadata": {
        "colab": {
          "base_uri": "https://localhost:8080/"
        },
        "id": "02619d56",
        "outputId": "72f2f170-b677-4787-c371-088f3a67b39c"
      },
      "outputs": [
        {
          "output_type": "stream",
          "name": "stdout",
          "text": [
            "there are 2943 male names and 5001 female names\n"
          ]
        }
      ],
      "source": [
        "print(f'there are {len(male_names)} male names and {len(female_names)} female names')"
      ]
    },
    {
      "cell_type": "code",
      "source": [
        "male_names[:10]"
      ],
      "metadata": {
        "colab": {
          "base_uri": "https://localhost:8080/"
        },
        "id": "aCTHmxj2qYAn",
        "outputId": "2b18a4d1-8a15-46f0-edff-7b86e7b68974"
      },
      "id": "aCTHmxj2qYAn",
      "execution_count": 8,
      "outputs": [
        {
          "output_type": "execute_result",
          "data": {
            "text/plain": [
              "['Aamir',\n",
              " 'Aaron',\n",
              " 'Abbey',\n",
              " 'Abbie',\n",
              " 'Abbot',\n",
              " 'Abbott',\n",
              " 'Abby',\n",
              " 'Abdel',\n",
              " 'Abdul',\n",
              " 'Abdulkarim']"
            ]
          },
          "metadata": {},
          "execution_count": 8
        }
      ]
    },
    {
      "cell_type": "code",
      "source": [
        "female_names[:10]"
      ],
      "metadata": {
        "colab": {
          "base_uri": "https://localhost:8080/"
        },
        "id": "FHF7ouUFqY14",
        "outputId": "788b7c81-cdf9-4e91-fddc-c51ae9d4bb7c"
      },
      "id": "FHF7ouUFqY14",
      "execution_count": 9,
      "outputs": [
        {
          "output_type": "execute_result",
          "data": {
            "text/plain": [
              "['Abagael',\n",
              " 'Abagail',\n",
              " 'Abbe',\n",
              " 'Abbey',\n",
              " 'Abbi',\n",
              " 'Abbie',\n",
              " 'Abby',\n",
              " 'Abigael',\n",
              " 'Abigail',\n",
              " 'Abigale']"
            ]
          },
          "metadata": {},
          "execution_count": 9
        }
      ]
    },
    {
      "cell_type": "markdown",
      "id": "7814ddf4",
      "metadata": {
        "id": "7814ddf4"
      },
      "source": [
        "Some names can be either for boys or girls - Let's check how many of these names appear in both groups:"
      ]
    },
    {
      "cell_type": "code",
      "execution_count": 10,
      "id": "3e5bfeed",
      "metadata": {
        "id": "3e5bfeed",
        "colab": {
          "base_uri": "https://localhost:8080/"
        },
        "outputId": "b353194a-1bae-4352-ff51-160e9fe31ee3"
      },
      "outputs": [
        {
          "output_type": "stream",
          "name": "stdout",
          "text": [
            "in fact, there are 365 names which are common to boys and girls: \n",
            "\n",
            " ['Regan', 'Hazel', 'Tate', 'Tommy', 'Gill', 'Lanny', 'Van', 'Shelley', 'Randi', 'Brooks', 'Barrie', 'Jodi', 'Pattie', 'Brook', 'Ronnie', 'Freddie', 'Allie', 'Nat', 'Alfie', 'Emmy', 'Demetris', 'Rey', 'Glenn', 'Fred', 'Lee', 'Adrien', 'Adrian', 'Erin', 'Robbie', 'Cam', 'Corrie', 'Gayle', 'Tabbie', 'Shayne', 'Cammy', 'Francis', 'Augustine', 'Bertie', 'Noel', 'Gerry', 'Sonnie', 'Virgie', 'George', 'Gerri', 'Joey', 'Rickie', 'Bernie', 'Clair', 'Saundra', 'Henrie', 'Willi', 'Denny', 'Kelsey', 'Wynn', 'Brandy', 'Cris', 'Lynn', 'Dionis', 'Jesse', 'Lonnie', 'Connie', 'Frankie', 'Judith', 'Nikki', 'Sean', 'Mickie', 'Marty', 'Maurise', 'Caryl', 'Freddy', 'Robin', 'Clemmie', 'Shane', 'Gabriel', 'Millicent', 'Tallie', 'Georgia', 'Morlee', 'Carmine', 'Sonny', 'Michele', 'Jessie', 'Marlo', 'Rene', 'Ginger', 'Andy', 'Vale', 'Carey', 'Meryl', 'Pooh', 'Donnie', 'Jodie', 'Kelley', 'Tobie', 'Kit', 'Ollie', 'Sascha', 'Winny', 'Jo', 'Lyn', 'Abbey', 'Val', 'Hilary', 'Chris', 'Jamie', 'Devin', 'Edie', 'Ronny', 'Haley', 'Addie', 'Jaime', 'Patty', 'Shelby', 'Sunny', 'Carlin', 'Perry', 'Geri', 'Drew', 'Lind', 'Frank', 'Mattie', 'Del', 'Shaun', 'Germaine', 'Hillary', 'Leigh', 'Ricki', 'Danny', 'Marion', 'Maddie', 'Tommie', 'Luce', 'Constantine', 'Jess', 'Terry', 'Karel', 'Abbie', 'Sibyl', 'Tim', 'Chrissy', 'Dennie', 'Wally', 'Isadore', 'Fran', 'Torey', 'Penny', 'Vin', 'Ruby', 'Jude', 'Shea', 'Abby', 'Michel', 'Claire', 'Angie', 'Hannibal', 'Bo', 'Lin', 'Britt', 'Grace', 'Reggie', 'Darcy', 'Dale', 'Matty', 'Jean', 'Juanita', 'Wallie', 'Tabby', 'Theo', 'Ariel', 'Aubrey', 'Ray', 'Shawn', 'Dannie', 'Mead', 'Muffin', 'Gay', 'Bill', 'Shell', 'Quentin', 'Bryn', 'Carlie', 'Sayre', 'Niki', 'Pat', 'Pen', 'Eddie', 'Sandy', 'Isa', 'Jan', 'Paige', 'Toby', 'Daniel', 'Casey', 'Bobbie', 'Shannon', 'Donny', 'Gretchen', 'Claude', 'Billy', 'Georgie', 'Sasha', 'Jermaine', 'Evelyn', 'Martie', 'Andie', 'Daryl', 'Willie', 'Simone', 'Benny', 'Judy', 'Timmie', 'Dani', 'Vinny', 'Ted', 'Ricky', 'Mel', 'Cory', 'Jere', 'Ashley', 'Lindsay', 'Lindsey', 'Teddie', 'Phil', 'Leslie', 'Tracy', 'Micky', 'Christy', 'Jody', 'Lane', 'Shaine', 'Nicky', 'Christie', 'Teddy', 'Trace', 'Blair', 'Devon', 'Jordan', 'Dana', 'Nichole', 'Michal', 'Gene', 'Sydney', 'Stacy', 'Lauren', 'Ajay', 'Rory', 'Tracey', 'Billie', 'Kellen', 'Dorian', 'Ira', 'Randy', 'Sam', 'Cecil', 'Dion', 'Alex', 'Scotty', 'Lou', 'Franky', 'Kelly', 'Tony', 'Averil', 'Ali', 'Cat', 'Rikki', 'Brett', 'Eddy', 'Laurie', 'Lorrie', 'Nickie', 'Carroll', 'Ike', 'Bennie', 'Alexis', 'Dell', 'Tammie', 'Jerrie', 'Whitney', 'Merle', 'Dominique', 'Tobe', 'Heath', 'Wallis', 'Darryl', 'Holly', 'Gabriell', 'Cal', 'Tally', 'Valentine', 'Loren', 'Julie', 'Ikey', 'Lindy', 'Alix', 'Maxie', 'Merry', 'Sammy', 'Vinnie', 'Kerry', 'Meade', 'Isador', 'Leland', 'Kris', 'Blake', 'Sal', 'Daffy', 'Cass', 'Timmy', 'Page', 'Courtney', 'Elisha', 'Darby', 'Lesley', 'Kyle', 'Andrea', 'Kip', 'Lorne', 'Patsy', 'Christian', 'Pennie', 'Kim', 'Corey', 'Tracie', 'Brooke', 'Barry', 'Cody', 'Gale', 'Dory', 'Bobby', 'Kirby', 'Haleigh', 'Terri', 'Shay', 'Cary', 'Jackie', 'Clare', 'Clem', 'Max', 'Harley', 'Winnie', 'Chad', 'Randie', 'Jerry', 'Morgan', 'Bert', 'Patrice', 'Gail', 'Dallas', 'Quinn', 'Meredith', 'Gus', 'Merrill', 'Esme', 'Angel', 'Willy', 'Beau', 'Allyn', 'Austin', 'Marietta', 'Deane', 'Justin', 'Maddy', 'Felice', 'Glen', 'Tammy']\n"
          ]
        }
      ],
      "source": [
        "## YOUR TURN:\n",
        "# Find which names are common for both male and females:\n",
        "\n",
        "\n",
        "double_names = list(set(male_names).intersection(female_names))\n",
        "\n",
        "print(f'in fact, there are {len(double_names)} names which are common to boys and girls: \\n\\n {double_names}')"
      ]
    },
    {
      "cell_type": "markdown",
      "id": "9c3ec504",
      "metadata": {
        "id": "9c3ec504"
      },
      "source": [
        "Our task is to identify the person's gender by a given name.\n",
        "\n",
        "This task is a **Classification** task.\n",
        "\n",
        "In classification, the model must choose the correct label from a fixed set of possible labels.\n",
        "Examples of classification task include:\n",
        "\n",
        "- Spam detection (spam/not spam)\n",
        "- Assigning a topic to text (Politics, Spots, Economical)\n",
        "- Detecting entity names (locations, people, companies) - also called Named Entity Recognition (NER)\n",
        "\n",
        "A classifier is **supervised**, if it is trained using a set of correctly labeled pairs (X --> y).\n",
        "\n",
        "![](https://raw.githubusercontent.com/liadmagen/NLP-Course/master/images/feature_extractor.png)"
      ]
    },
    {
      "cell_type": "markdown",
      "id": "ea6021c8",
      "metadata": {
        "id": "ea6021c8"
      },
      "source": [
        "# 1. Classification with NLTK\n",
        "\n",
        "Let's start with creating a classifier with the `nltk` package, which we got to know in the first exercise.\n",
        "\n",
        "For this, we first create a small 'dataset' that combines both the female and the male names:"
      ]
    },
    {
      "cell_type": "code",
      "execution_count": 11,
      "id": "6a7ab894",
      "metadata": {
        "id": "6a7ab894"
      },
      "outputs": [],
      "source": [
        "labeled_names = ([(name, 'male') for name in male_names] + [(name, 'female') for name in female_names])"
      ]
    },
    {
      "cell_type": "markdown",
      "source": [
        "Then, we shuffle the names. This is always a good idea to shuffle the data - not to teach our models to be expecting any order..."
      ],
      "metadata": {
        "id": "R4cPg3kNpgfN"
      },
      "id": "R4cPg3kNpgfN"
    },
    {
      "cell_type": "code",
      "execution_count": 12,
      "id": "d2010946",
      "metadata": {
        "id": "d2010946"
      },
      "outputs": [],
      "source": [
        "import random\n",
        "\n",
        "random.shuffle(labeled_names)"
      ]
    },
    {
      "cell_type": "markdown",
      "source": [
        "Computers and machine learning models can't read. They don't understand the notion of words or characters. Ever character is represented by some number.\n",
        "\n",
        "For example, the [ASCII code](https://www.ascii-code.com/) represents the letter 'A' as the number 65, and the letter 'a' as the number 97.\n",
        "While in [Unicode](https://home.unicode.org/), \"A\" is represented by the code `U+0041` and \"a\" is represented by `U+0061`.\n",
        "\n",
        "And yet, these numbers don't mean much. It doesn't represent a vowel or constant, a frequent letter sucha s 'e', versus a relatively 'new' letter in the alphabeth, such as \"V\" vs \"U\", or \"Z\"...\n",
        "\n",
        "As linguists, we can use our language knowledge to craft new numeric features that represents better our data.\n",
        "\n",
        "Think: Which features can you craft to represent the gender in a first name?\n",
        "Also, You might want to visualize and explore the data with statistical tools to find feature ideas."
      ],
      "metadata": {
        "id": "qam9sZhKpfr_"
      },
      "id": "qam9sZhKpfr_"
    },
    {
      "cell_type": "code",
      "execution_count": 13,
      "id": "aaaffa4f",
      "metadata": {
        "id": "aaaffa4f",
        "colab": {
          "base_uri": "https://localhost:8080/"
        },
        "outputId": "32ab3ceb-032c-46a9-d8c4-cc4c6e3d9589"
      },
      "outputs": [
        {
          "output_type": "stream",
          "name": "stdout",
          "text": [
            "{'last_letter': 'a'}\n"
          ]
        }
      ],
      "source": [
        "### YOUR TURN:\n",
        "### Write a feature function that generate features to decide if a name if for male or female.\n",
        "### Given a name (word), return a dictionary of such features\n",
        "\n",
        "def gender_features(word: str) -> dict[str, float]:\n",
        "    # Which feature can we use to detect the gender?\n",
        "    # Craft at least one feature and return it as a feature dictionary\n",
        "    return {'last_letter': word[-1]}\n",
        "\n",
        "    #return {'our_awesoe_feature': 0 }\n",
        "\n",
        "\n",
        "name = 'Anna'\n",
        "features = gender_features(name)\n",
        "print(features)\n"
      ]
    },
    {
      "cell_type": "markdown",
      "source": [
        "Now that we have a feature function, let's use it to convert our dataset into numerical features, and train our first Machine Learning model:"
      ],
      "metadata": {
        "id": "2EZXnI0vrD8q"
      },
      "id": "2EZXnI0vrD8q"
    },
    {
      "cell_type": "code",
      "execution_count": 16,
      "id": "047b8e76",
      "metadata": {
        "id": "047b8e76"
      },
      "outputs": [],
      "source": [
        "feature_sets = [(gender_features(n), gender) for (n, gender) in labeled_names]\n",
        "\n",
        "# We divide the dataset to create an 'exam' for the model:\n",
        "train_set, test_set = feature_sets[500:], feature_sets[:500]\n",
        "\n",
        "# And define and train the NLTK classifier\n",
        "classifier = nltk.DecisionTreeClassifier.train(train_set)"
      ]
    },
    {
      "cell_type": "code",
      "execution_count": 17,
      "id": "bf84a643",
      "metadata": {
        "id": "bf84a643",
        "colab": {
          "base_uri": "https://localhost:8080/"
        },
        "outputId": "7862db92-3527-40c3-a8f7-4f2e247ecb95"
      },
      "outputs": [
        {
          "output_type": "stream",
          "name": "stdout",
          "text": [
            "the gender prediction for Bill is male\n",
            "the gender prediction for Melissa is female\n",
            "the gender prediction for Barack is male\n",
            "the gender prediction for Michelle is female\n"
          ]
        }
      ],
      "source": [
        "for name in [\"Bill\", \"Melissa\", \"Barack\", \"Michelle\"]:\n",
        "  result = classifier.classify(gender_features(name))\n",
        "  print(f\"the gender prediction for {name} is {result}\")"
      ]
    },
    {
      "cell_type": "code",
      "execution_count": 18,
      "id": "f8c1e0be",
      "metadata": {
        "id": "f8c1e0be",
        "colab": {
          "base_uri": "https://localhost:8080/"
        },
        "outputId": "4fdfc9f9-3d7c-45c7-fa33-4541b60a9902"
      },
      "outputs": [
        {
          "output_type": "stream",
          "name": "stdout",
          "text": [
            "0.752\n"
          ]
        }
      ],
      "source": [
        "print(nltk.classify.accuracy(classifier, test_set))"
      ]
    },
    {
      "cell_type": "code",
      "execution_count": 19,
      "id": "2e96fe94",
      "metadata": {
        "id": "2e96fe94",
        "colab": {
          "base_uri": "https://localhost:8080/"
        },
        "outputId": "0fab3d84-b204-47bd-d796-8c961f7f79ee"
      },
      "outputs": [
        {
          "output_type": "stream",
          "name": "stdout",
          "text": [
            "last_letter= ? ........................................ female\n",
            "last_letter=a? ........................................ female\n",
            "last_letter=b? ........................................ male\n",
            "last_letter=c? ........................................ male\n",
            "last_letter=d? ........................................ male\n",
            "last_letter=e? ........................................ female\n",
            "last_letter=f? ........................................ male\n",
            "last_letter=g? ........................................ male\n",
            "last_letter=h? ........................................ female\n",
            "last_letter=i? ........................................ female\n",
            "last_letter=j? ........................................ male\n",
            "last_letter=k? ........................................ male\n",
            "last_letter=l? ........................................ male\n",
            "last_letter=m? ........................................ male\n",
            "last_letter=n? ........................................ male\n",
            "last_letter=o? ........................................ male\n",
            "last_letter=p? ........................................ male\n",
            "last_letter=r? ........................................ male\n",
            "last_letter=s? ........................................ male\n",
            "last_letter=t? ........................................ male\n",
            "last_letter=u? ........................................ male\n",
            "last_letter=v? ........................................ male\n",
            "last_letter=w? ........................................ male\n",
            "last_letter=x? ........................................ male\n",
            "last_letter=y? ........................................ female\n",
            "last_letter=z? ........................................ male\n",
            "\n"
          ]
        }
      ],
      "source": [
        "print(classifier.pretty_format())"
      ]
    },
    {
      "cell_type": "markdown",
      "id": "9c67bf45",
      "metadata": {
        "id": "9c67bf45"
      },
      "source": [
        "# 2. Classification with Scikit-Learn\n",
        "\n",
        "[Sci-Kit Learn](https://scikit-learn.org/stable/index.html) is an excellent package for machine learning and is widely used.\n",
        "It offers many different models, for both supervised and unsupervised learning, as well as tools such as pipelines that enables us to combine models together (ensemble).\n",
        "\n",
        "Let's use its Decision Tree model, together with metric tools to evaluate how well our model does:"
      ]
    },
    {
      "cell_type": "code",
      "execution_count": 20,
      "id": "5af92b97",
      "metadata": {
        "id": "5af92b97"
      },
      "outputs": [],
      "source": [
        "import numpy as np\n",
        "\n",
        "from sklearn import tree, utils\n",
        "from sklearn.model_selection import train_test_split\n",
        "from sklearn.metrics import classification_report\n",
        "\n",
        "from matplotlib import pyplot as plt\n",
        "\n",
        "label2idx = {'male':0, 'female': 1}\n",
        "idx2label = {0: 'male', 1: 'female'}"
      ]
    },
    {
      "cell_type": "markdown",
      "source": [
        "We start by creating our dataset (X) and our prediction targets (y).\n",
        "\n",
        "Our goal is to create a discriminative model: $f(X) → y$"
      ],
      "metadata": {
        "id": "DX7Xt-A9uaDm"
      },
      "id": "DX7Xt-A9uaDm"
    },
    {
      "cell_type": "code",
      "execution_count": 21,
      "id": "fa72abe3",
      "metadata": {
        "id": "fa72abe3"
      },
      "outputs": [],
      "source": [
        "X = male_names + female_names\n",
        "y = [label2idx['male']] * len(male_names) + [label2idx['female']] * len(female_names)"
      ]
    },
    {
      "cell_type": "markdown",
      "id": "558312b5",
      "metadata": {
        "id": "558312b5"
      },
      "source": [
        "Let's shuffle the data a bit:"
      ]
    },
    {
      "cell_type": "code",
      "execution_count": 22,
      "id": "aa14f884",
      "metadata": {
        "id": "aa14f884"
      },
      "outputs": [],
      "source": [
        "X, y = utils.shuffle(X, y)"
      ]
    },
    {
      "cell_type": "markdown",
      "source": [
        "And divide our data into a training-set, and an unseen testing-set:"
      ],
      "metadata": {
        "id": "HGEG9tdPvxcc"
      },
      "id": "HGEG9tdPvxcc"
    },
    {
      "cell_type": "code",
      "execution_count": 23,
      "id": "881a147b",
      "metadata": {
        "id": "881a147b"
      },
      "outputs": [],
      "source": [
        "X_train, X_test, y_train, y_test = train_test_split(X, y)"
      ]
    },
    {
      "cell_type": "code",
      "execution_count": 24,
      "id": "fdadde80",
      "metadata": {
        "id": "fdadde80"
      },
      "outputs": [],
      "source": [
        "assert len(X_train) == len(y_train)\n",
        "assert len(X_test) == len(y_test)"
      ]
    },
    {
      "cell_type": "markdown",
      "source": [
        "And initialize our [Decision Tree](https://scikit-learn.org/stable/modules/generated/sklearn.tree.DecisionTreeClassifier.html):"
      ],
      "metadata": {
        "id": "c602vMWHvN31"
      },
      "id": "c602vMWHvN31"
    },
    {
      "cell_type": "code",
      "execution_count": 25,
      "id": "bbfaef5e",
      "metadata": {
        "id": "bbfaef5e"
      },
      "outputs": [],
      "source": [
        "clf = tree.DecisionTreeClassifier(max_depth=2, random_state=1234)"
      ]
    },
    {
      "cell_type": "markdown",
      "source": [
        "Now we need our Feature Function again.\n",
        "Unlike NLTK, which requires a dictionary, with SKLearn, we need to return a list of features (a vector).\n",
        "\n",
        "Here, we just return the last letter of the name as a feature. The python function [`ord`](https://docs.python.org/3/library/functions.html#ord) returns the unicode numerical code of the character."
      ],
      "metadata": {
        "id": "V-7f8B3LvW59"
      },
      "id": "V-7f8B3LvW59"
    },
    {
      "cell_type": "code",
      "execution_count": 26,
      "id": "7f6266d9",
      "metadata": {
        "id": "7f6266d9"
      },
      "outputs": [],
      "source": [
        "def gender_feature_function(name):\n",
        "    return ord(name[-1])"
      ]
    },
    {
      "cell_type": "code",
      "source": [
        "assert gender_feature_function(\"Željko\") == 111"
      ],
      "metadata": {
        "id": "LTpP4fzFwqc2"
      },
      "id": "LTpP4fzFwqc2",
      "execution_count": 27,
      "outputs": []
    },
    {
      "cell_type": "markdown",
      "source": [
        "Now we can use our feature function and convert our data into numerical features:"
      ],
      "metadata": {
        "id": "OlF_jvv8v9lY"
      },
      "id": "OlF_jvv8v9lY"
    },
    {
      "cell_type": "code",
      "execution_count": 28,
      "id": "288cc9c8",
      "metadata": {
        "id": "288cc9c8"
      },
      "outputs": [],
      "source": [
        "X_train = list(map(gender_feature_function, X_train))\n",
        "X_test = list(map(gender_feature_function, X_test))"
      ]
    },
    {
      "cell_type": "code",
      "source": [
        "X_train[:10]"
      ],
      "metadata": {
        "colab": {
          "base_uri": "https://localhost:8080/"
        },
        "id": "_Zw1fghywNZl",
        "outputId": "9cafd90e-3623-4039-9456-4816bac91996"
      },
      "id": "_Zw1fghywNZl",
      "execution_count": 29,
      "outputs": [
        {
          "output_type": "execute_result",
          "data": {
            "text/plain": [
              "[100, 109, 101, 110, 108, 105, 121, 114, 101, 115]"
            ]
          },
          "metadata": {},
          "execution_count": 29
        }
      ]
    },
    {
      "cell_type": "markdown",
      "source": [
        "Before using our training data vector for training the model, we sometimes may need to reshape its structure. Specifically, instead of having it as a list of numbers, we want it as a \"column\" of numbers."
      ],
      "metadata": {
        "id": "4y97Qyk2x01c"
      },
      "id": "4y97Qyk2x01c"
    },
    {
      "cell_type": "code",
      "execution_count": 30,
      "id": "725a8cef",
      "metadata": {
        "id": "725a8cef"
      },
      "outputs": [],
      "source": [
        "X_train = np.array(X_train).reshape(-1, 1)\n",
        "X_test = np.array(X_test).reshape(-1, 1)"
      ]
    },
    {
      "cell_type": "code",
      "source": [
        "X_train.shape"
      ],
      "metadata": {
        "colab": {
          "base_uri": "https://localhost:8080/"
        },
        "id": "WcAtJxa5xxmU",
        "outputId": "64f46d22-5845-4a2d-a375-6e8bbc13d48d"
      },
      "id": "WcAtJxa5xxmU",
      "execution_count": 31,
      "outputs": [
        {
          "output_type": "execute_result",
          "data": {
            "text/plain": [
              "(5958, 1)"
            ]
          },
          "metadata": {},
          "execution_count": 31
        }
      ]
    },
    {
      "cell_type": "markdown",
      "source": [
        "Let's take a peek and ensure our data is in the way we want it to be:"
      ],
      "metadata": {
        "id": "f3c4q4uGyta2"
      },
      "id": "f3c4q4uGyta2"
    },
    {
      "cell_type": "code",
      "execution_count": 32,
      "id": "399dd6fa",
      "metadata": {
        "colab": {
          "base_uri": "https://localhost:8080/"
        },
        "id": "399dd6fa",
        "outputId": "970f84bb-7e67-402e-e360-d72f5843c8ef"
      },
      "outputs": [
        {
          "output_type": "stream",
          "name": "stdout",
          "text": [
            "[(array([100]), 0), (array([109]), 0), (array([101]), 1), (array([110]), 0), (array([108]), 0)]\n"
          ]
        }
      ],
      "source": [
        "print(list(zip(X_train[:5], y_train[:5])))"
      ]
    },
    {
      "cell_type": "markdown",
      "source": [
        "And finally, we are ready to train our model:"
      ],
      "metadata": {
        "id": "Uc8Ez9QAyyvm"
      },
      "id": "Uc8Ez9QAyyvm"
    },
    {
      "cell_type": "code",
      "execution_count": 33,
      "id": "362a560d",
      "metadata": {
        "id": "362a560d"
      },
      "outputs": [],
      "source": [
        "clf = clf.fit(X_train, y_train)"
      ]
    },
    {
      "cell_type": "code",
      "execution_count": 34,
      "id": "778aadce",
      "metadata": {
        "colab": {
          "base_uri": "https://localhost:8080/",
          "height": 406
        },
        "id": "778aadce",
        "outputId": "6260d2aa-f809-4179-a957-9df129695d38"
      },
      "outputs": [
        {
          "output_type": "display_data",
          "data": {
            "text/plain": [
              "<Figure size 640x480 with 1 Axes>"
            ],
            "image/png": "[encoded data removed]"
          },
          "metadata": {}
        }
      ],
      "source": [
        "tree.plot_tree(clf, feature_names = [\"last_letter\"])\n",
        "plt.show()"
      ]
    },
    {
      "cell_type": "markdown",
      "source": [
        "Now that we have a model, we can evaluate how well we did.\n",
        "\n",
        "SKLearn has many different metrics to test our model. For classification tasks, the most common are:\n",
        "- Precision\n",
        "- Recall\n",
        "- F-Score\n",
        "- Area under curve (AUC)\n",
        "- Mathew's Correlation Coefficience (MCC)\n",
        "\n",
        "But many more exists, and it depends on the task in hand, to decide which one would represent our data bet.\n",
        "\n",
        "\n",
        "Note: Be careful and don't blindly trust the metrics. Always be judgemental and stay critical about your results and achievements. Here's an excellent video about the topic - and why we should suspect our resutls: https://www.youtube.com/watch?v=r_V1pveRKoo"
      ],
      "metadata": {
        "id": "BC-KOCNr0IKc"
      },
      "id": "BC-KOCNr0IKc"
    },
    {
      "cell_type": "code",
      "execution_count": 35,
      "id": "544f4397",
      "metadata": {
        "id": "544f4397"
      },
      "outputs": [],
      "source": [
        "predictions = clf.predict(X_test)"
      ]
    },
    {
      "cell_type": "code",
      "execution_count": 36,
      "id": "5460b50e",
      "metadata": {
        "colab": {
          "base_uri": "https://localhost:8080/"
        },
        "id": "5460b50e",
        "outputId": "73b8b25b-5af3-42b8-c654-145b7fd2c23b"
      },
      "outputs": [
        {
          "output_type": "stream",
          "name": "stdout",
          "text": [
            "              precision    recall  f1-score   support\n",
            "\n",
            "           0       0.59      0.68      0.63       716\n",
            "           1       0.80      0.73      0.77      1270\n",
            "\n",
            "    accuracy                           0.71      1986\n",
            "   macro avg       0.70      0.71      0.70      1986\n",
            "weighted avg       0.73      0.71      0.72      1986\n",
            "\n"
          ]
        }
      ],
      "source": [
        "print(classification_report(y_test, predictions))"
      ]
    },
    {
      "cell_type": "markdown",
      "source": [
        "---\n",
        "\n",
        "We can use [`graphviz`](https://graphviz.org/) to visualize the tree we trained, and understand which features are more important, and have more weight.\n",
        "\n",
        "Graphviz creates an image of the tree, which looks something like this:\n",
        "\n",
        "![](https://raw.githubusercontent.com/liadmagen/NLP-Course/master/images/DecisionTree.png)"
      ],
      "metadata": {
        "id": "u553-MF5o0nw"
      },
      "id": "u553-MF5o0nw"
    },
    {
      "cell_type": "code",
      "execution_count": 37,
      "id": "c67c4b8e",
      "metadata": {
        "id": "c67c4b8e"
      },
      "outputs": [],
      "source": [
        "import graphviz\n",
        "\n",
        "\n",
        "dot_data = tree.export_graphviz(clf,\n",
        "                                out_file=None,\n",
        "                                feature_names=['last_letter'],\n",
        "                                class_names=[\"male\", \"female\"],\n",
        "                                filled=True,\n",
        "                                rounded=True,\n",
        "                               )\n",
        "graph = graphviz.Source(dot_data)"
      ]
    },
    {
      "cell_type": "code",
      "execution_count": 38,
      "id": "4a1721e8",
      "metadata": {
        "id": "4a1721e8",
        "colab": {
          "base_uri": "https://localhost:8080/",
          "height": 35
        },
        "outputId": "5e9377d8-24a8-4196-baf1-9da2fa146f08"
      },
      "outputs": [
        {
          "output_type": "execute_result",
          "data": {
            "text/plain": [
              "'Source.gv.pdf'"
            ],
            "application/vnd.google.colaboratory.intrinsic+json": {
              "type": "string"
            }
          },
          "metadata": {},
          "execution_count": 38
        }
      ],
      "source": [
        "graph.view()"
      ]
    },
    {
      "cell_type": "markdown",
      "source": [
        "## Excercise: Improve the results\n",
        "\n",
        "With a naive last-letter feature, we got about an F-Score of ~71-73.\n",
        "This is not great: 1 out of 4 names is wrongly classified.\n",
        "\n",
        "How can we improve it further? which features can we craft?\n",
        "1. Perform statistical analysis of the dataset: which letters are the most common for every gender, and in which position do they appear?\n",
        "2. Create additional features and re-train the model. Can you score above 80%? above 90%? above 95%?"
      ],
      "metadata": {
        "id": "VQcrxB1p1j6I"
      },
      "id": "VQcrxB1p1j6I"
    },
    {
      "cell_type": "code",
      "source": [],
      "metadata": {
        "id": "TALVo3Rm1-se"
      },
      "id": "TALVo3Rm1-se",
      "execution_count": null,
      "outputs": []
    },
    {
      "cell_type": "code",
      "source": [
        "import numpy as np\n",
        "\n",
        "from sklearn import tree, utils\n",
        "from sklearn.model_selection import train_test_split\n",
        "from sklearn.metrics import classification_report\n",
        "\n",
        "from matplotlib import pyplot as plt\n",
        "\n",
        "label2idx = {'male':0, 'female': 1}\n",
        "idx2label = {0: 'male', 1: 'female'}"
      ],
      "metadata": {
        "id": "fvQgbTKMQFZT"
      },
      "id": "fvQgbTKMQFZT",
      "execution_count": 113,
      "outputs": []
    },
    {
      "cell_type": "code",
      "source": [
        "X = male_names + female_names\n",
        "y = [label2idx['male']] * len(male_names) + [label2idx['female']] * len(female_names)"
      ],
      "metadata": {
        "id": "sY-BElqaQIa4"
      },
      "id": "sY-BElqaQIa4",
      "execution_count": 114,
      "outputs": []
    },
    {
      "cell_type": "code",
      "source": [
        "X, y = utils.shuffle(X, y)"
      ],
      "metadata": {
        "id": "WVRh7XgVQLu8"
      },
      "id": "WVRh7XgVQLu8",
      "execution_count": 115,
      "outputs": []
    },
    {
      "cell_type": "code",
      "source": [
        "X_train, X_test, y_train, y_test = train_test_split(X, y)"
      ],
      "metadata": {
        "id": "cUBagn6DQMD4"
      },
      "id": "cUBagn6DQMD4",
      "execution_count": 116,
      "outputs": []
    },
    {
      "cell_type": "code",
      "source": [
        "assert len(X_train) == len(y_train)\n",
        "assert len(X_test) == len(y_test)"
      ],
      "metadata": {
        "id": "h1xy3a1JQOT0"
      },
      "id": "h1xy3a1JQOT0",
      "execution_count": 117,
      "outputs": []
    },
    {
      "cell_type": "code",
      "source": [
        "clf = tree.DecisionTreeClassifier(max_depth=2, random_state=1234)"
      ],
      "metadata": {
        "id": "4OBukoapQQeu"
      },
      "id": "4OBukoapQQeu",
      "execution_count": 118,
      "outputs": []
    },
    {
      "cell_type": "code",
      "source": [
        "# from collections import Counter\n",
        "\n",
        "# # Analyze letter frequencies for male and female names\n",
        "# def analyze_letter_frequencies(names_list):\n",
        "#     all_letters = ''.join(names_list)\n",
        "#     letter_counts = Counter(all_letters)\n",
        "#     total_names = len(names_list)\n",
        "\n",
        "#     # Calculate frequencies for each letter\n",
        "#     letter_frequencies = {letter: count / total_names for letter, count in letter_counts.items()}\n",
        "\n",
        "#     return letter_frequencies\n",
        "\n",
        "# # Get letter frequencies for male and female names\n",
        "# male_letter_frequencies = analyze_letter_frequencies(male_names)\n",
        "# female_letter_frequencies = analyze_letter_frequencies(female_names)\n",
        "\n",
        "# # Print the most common letters for each gender\n",
        "# print(\"Most common letters for male names:\", Counter(male_letter_frequencies).most_common(5))\n",
        "# print(\"Most common letters for female names:\", Counter(female_letter_frequencies).most_common(5))"
      ],
      "metadata": {
        "id": "wHJjAdt8-z2v",
        "outputId": "90e8f689-23d2-4d85-fce7-3d4addaf9b11",
        "colab": {
          "base_uri": "https://localhost:8080/"
        }
      },
      "id": "wHJjAdt8-z2v",
      "execution_count": 99,
      "outputs": [
        {
          "output_type": "stream",
          "name": "stdout",
          "text": [
            "Most common letters for male names: [('e', 0.6248725790010193), ('a', 0.49949031600407745), ('r', 0.48623853211009177), ('n', 0.4162419300033979), ('i', 0.4087665647298675)]\n",
            "Most common letters for female names: [('a', 0.8188362327534493), ('e', 0.7832433513297341), ('i', 0.5806838632273545), ('n', 0.5250949810037993), ('l', 0.45670865826834633)]\n"
          ]
        }
      ]
    },
    {
      "cell_type": "code",
      "source": [
        "# Function to analyze letter frequencies and positions\n",
        "def analyze_letter_positions(names_list):\n",
        "    all_letters = ''.join(names_list)\n",
        "    letter_counts = Counter(all_letters)\n",
        "\n",
        "    # Create a dictionary to store letter frequencies and positions\n",
        "    letter_info = {}\n",
        "\n",
        "    for name in names_list:\n",
        "        for i, letter in enumerate(name):\n",
        "            if letter not in letter_info:\n",
        "                letter_info[letter] = {'count': 0, 'positions': []}\n",
        "\n",
        "            letter_info[letter]['count'] += 1\n",
        "            letter_info[letter]['positions'].append(i)\n",
        "\n",
        "    # Calculate frequencies for each letter\n",
        "    letter_frequencies = {letter: count / len(names_list) for letter, count in letter_counts.items()}\n",
        "\n",
        "    return letter_frequencies, letter_info\n",
        "\n",
        "# Get letter frequencies and positions for male and female names\n",
        "male_letter_frequencies, male_letter_info = analyze_letter_positions(male_names)\n",
        "female_letter_frequencies, female_letter_info = analyze_letter_positions(female_names)\n",
        "\n",
        "# Print the most common letters for each gender\n",
        "print(\"\\nMost common letters for male names:\", Counter(male_letter_frequencies).most_common(5))\n",
        "print(\"Most common letters for female names:\", Counter(female_letter_frequencies).most_common(5))\n",
        "\n",
        "# Print the most common positions for each letter in male and female names\n",
        "print(\"\\nMost common positions for each letter in male names:\")\n",
        "for letter, info in male_letter_info.items():\n",
        "    common_positions = Counter(info['positions']).most_common(3)  # Change 3 to the desired number of common positions\n",
        "    print(f\"{letter}: {common_positions}\")\n",
        "\n",
        "print(\"\\nMost common positions for each letter in female names:\")\n",
        "for letter, info in female_letter_info.items():\n",
        "    common_positions = Counter(info['positions']).most_common(3)  # Change 3 to the desired number of common positions\n",
        "    print(f\"{letter}: {common_positions}\")"
      ],
      "metadata": {
        "id": "rVpY0JKIAOEK",
        "outputId": "d4fc360e-d41f-4603-d00d-3477d0d03f81",
        "colab": {
          "base_uri": "https://localhost:8080/"
        }
      },
      "id": "rVpY0JKIAOEK",
      "execution_count": 125,
      "outputs": [
        {
          "output_type": "stream",
          "name": "stdout",
          "text": [
            "Most common letters for male names: [('e', 0.6248725790010193), ('a', 0.49949031600407745), ('r', 0.48623853211009177), ('n', 0.4162419300033979), ('i', 0.4087665647298675)]\n",
            "Most common letters for female names: [('a', 0.8188362327534493), ('e', 0.7832433513297341), ('i', 0.5806838632273545), ('n', 0.5250949810037993), ('l', 0.45670865826834633)]\n",
            "\n",
            "Most common positions for each letter in male names:\n",
            "A: [(0, 213)]\n",
            "a: [(1, 687), (2, 248), (4, 206)]\n",
            "m: [(2, 135), (3, 90), (4, 51)]\n",
            "i: [(1, 306), (4, 267), (3, 221)]\n",
            "r: [(2, 504), (3, 249), (1, 220)]\n",
            "o: [(1, 359), (4, 200), (3, 137)]\n",
            "n: [(2, 277), (3, 266), (5, 249)]\n",
            "b: [(2, 101), (3, 59), (1, 24)]\n",
            "e: [(1, 481), (4, 415), (5, 261)]\n",
            "y: [(4, 155), (5, 84), (2, 72)]\n",
            "t: [(3, 201), (4, 110), (2, 108)]\n",
            "d: [(3, 165), (2, 137), (6, 81)]\n",
            "l: [(2, 243), (3, 201), (1, 166)]\n",
            "u: [(1, 189), (2, 64), (3, 49)]\n",
            "k: [(3, 79), (4, 26), (2, 25)]\n",
            "h: [(1, 157), (4, 92), (3, 82)]\n",
            "c: [(2, 104), (3, 92), (4, 43)]\n",
            "s: [(3, 124), (2, 111), (4, 106)]\n",
            "g: [(3, 67), (2, 65), (4, 27)]\n",
            "f: [(3, 68), (2, 35), (4, 29)]\n",
            "p: [(3, 36), (4, 18), (1, 16)]\n",
            "j: [(3, 7), (2, 5), (1, 4)]\n",
            "w: [(2, 42), (3, 30), (4, 15)]\n",
            "x: [(2, 15), (3, 8), (1, 1)]\n",
            "z: [(3, 12), (2, 12), (1, 10)]\n",
            "v: [(3, 62), (2, 56), (1, 18)]\n",
            "B: [(0, 173)]\n",
            "C: [(0, 166), (5, 1)]\n",
            "D: [(0, 146), (5, 1)]\n",
            "q: [(3, 3), (5, 2), (6, 1)]\n",
            "E: [(0, 119)]\n",
            "F: [(0, 87), (5, 1)]\n",
            "G: [(0, 156)]\n",
            "H: [(0, 163)]\n",
            "-: [(4, 10)]\n",
            "P: [(0, 101), (5, 4)]\n",
            "I: [(0, 45)]\n",
            "J: [(0, 144)]\n",
            "L: [(0, 113), (5, 2)]\n",
            "M: [(0, 200), (5, 1)]\n",
            "K: [(0, 70)]\n",
            "N: [(0, 77)]\n",
            "O: [(0, 52)]\n",
            "Q: [(0, 15)]\n",
            "R: [(0, 200)]\n",
            "S: [(0, 238)]\n",
            "T: [(0, 188)]\n",
            "U: [(0, 22)]\n",
            "V: [(0, 50)]\n",
            "W: [(0, 151)]\n",
            "X: [(0, 7)]\n",
            "Y: [(0, 16)]\n",
            "Z: [(0, 31)]\n",
            "\n",
            "Most common positions for each letter in female names:\n",
            "A: [(0, 443), (6, 4), (3, 4)]\n",
            "b: [(2, 163), (3, 91), (4, 33)]\n",
            "a: [(1, 1254), (4, 621), (5, 565)]\n",
            "g: [(2, 79), (3, 78), (4, 27)]\n",
            "e: [(1, 825), (5, 684), (4, 666)]\n",
            "l: [(2, 560), (3, 459), (4, 448)]\n",
            "i: [(4, 753), (3, 728), (1, 559)]\n",
            "y: [(4, 287), (3, 174), (5, 140)]\n",
            "r: [(2, 897), (3, 427), (1, 304)]\n",
            "c: [(2, 129), (3, 102), (4, 61)]\n",
            "d: [(3, 211), (2, 172), (4, 90)]\n",
            "h: [(1, 255), (3, 130), (4, 93)]\n",
            "n: [(2, 586), (3, 504), (4, 473)]\n",
            "s: [(2, 252), (3, 242), (4, 179)]\n",
            "o: [(1, 634), (2, 153), (3, 151)]\n",
            "t: [(2, 245), (3, 225), (5, 217)]\n",
            "m: [(2, 144), (3, 95), (1, 73)]\n",
            "j: [(3, 12), (2, 5), (4, 4)]\n",
            "x: [(2, 16), (3, 14), (6, 2)]\n",
            "f: [(2, 32), (3, 20), (4, 10)]\n",
            "u: [(1, 216), (2, 75), (3, 44)]\n",
            "z: [(2, 37), (3, 16), (5, 4)]\n",
            "p: [(2, 36), (3, 23), (4, 12)]\n",
            "v: [(2, 83), (1, 39), (3, 31)]\n",
            "k: [(3, 53), (4, 25), (2, 24)]\n",
            "q: [(3, 12), (2, 8), (4, 6)]\n",
            "-: [(5, 9), (4, 8), (3, 3)]\n",
            "M: [(0, 484), (5, 3), (4, 2)]\n",
            "D: [(0, 308), (5, 2), (4, 1)]\n",
            "C: [(0, 469), (5, 1)]\n",
            "B: [(0, 246)]\n",
            "J: [(0, 293), (6, 3)]\n",
            "w: [(2, 19), (1, 18), (3, 7)]\n",
            " : [(3, 2), (4, 1), (2, 1)]\n",
            "E: [(0, 251), (6, 1)]\n",
            "': [(1, 1)]\n",
            "L: [(0, 332), (2, 1), (5, 1)]\n",
            "F: [(0, 144)]\n",
            "G: [(0, 213), (6, 1)]\n",
            "H: [(0, 124)]\n",
            "I: [(0, 83)]\n",
            "K: [(0, 276), (7, 1)]\n",
            "N: [(0, 158)]\n",
            "O: [(0, 66)]\n",
            "P: [(0, 121)]\n",
            "Q: [(0, 9)]\n",
            "R: [(0, 247)]\n",
            "S: [(0, 309)]\n",
            "T: [(0, 198)]\n",
            "U: [(0, 14)]\n",
            "V: [(0, 105)]\n",
            "W: [(0, 54)]\n",
            "X: [(0, 5)]\n",
            "Y: [(0, 18)]\n",
            "Z: [(0, 31), (4, 1)]\n"
          ]
        }
      ]
    },
    {
      "cell_type": "code",
      "source": [
        "# Modify gender_features2 to include additional features based on letter frequencies\n",
        "def gender_features2(word: str) -> dict[str, float]:\n",
        "    features = {'suffix1': word[-1:], 'suffix2': word[-2:]}\n",
        "    features.update({'male_letter_freq_' + letter: male_letter_frequencies[letter] for letter in word})\n",
        "    features.update({'female_letter_freq_' + letter: female_letter_frequencies[letter] for letter in word})\n",
        "    return features"
      ],
      "metadata": {
        "colab": {
          "base_uri": "https://localhost:8080/"
        },
        "id": "4Shci2p97QhN",
        "outputId": "f82d9746-ea71-4d45-b472-ed01726b174b"
      },
      "id": "4Shci2p97QhN",
      "execution_count": 102,
      "outputs": [
        {
          "output_type": "stream",
          "name": "stdout",
          "text": [
            "{'suffix1': 'a', 'suffix2': 'na'}\n"
          ]
        }
      ]
    },
    {
      "cell_type": "code",
      "source": [
        "# def gender_features2(name):\n",
        "#   features = {}\n",
        "#   features[\"first_letter\"] = name[0].lower()\n",
        "#   features[\"last_letter\"] = name[-1].lower()\n",
        "#   for letter in 'abcdefghijklmnopqrstuvwxyz':\n",
        "#     features[\"count({})\".format(letter)] = name.lower().count(letter)\n",
        "#     features[\"has({})\".format(letter)] = (letter in name.lower())\n",
        "#   return features\n",
        "\n",
        "# print(gender_features2('John'))"
      ],
      "metadata": {
        "id": "XX3HSmB_QS6m",
        "colab": {
          "base_uri": "https://localhost:8080/"
        },
        "outputId": "170fcc73-7e48-4706-9c82-b96c10f5e594"
      },
      "id": "XX3HSmB_QS6m",
      "execution_count": 64,
      "outputs": [
        {
          "output_type": "stream",
          "name": "stdout",
          "text": [
            "{'first_letter': 'j', 'last_letter': 'n', 'count(a)': 0, 'has(a)': False, 'count(b)': 0, 'has(b)': False, 'count(c)': 0, 'has(c)': False, 'count(d)': 0, 'has(d)': False, 'count(e)': 0, 'has(e)': False, 'count(f)': 0, 'has(f)': False, 'count(g)': 0, 'has(g)': False, 'count(h)': 1, 'has(h)': True, 'count(i)': 0, 'has(i)': False, 'count(j)': 1, 'has(j)': True, 'count(k)': 0, 'has(k)': False, 'count(l)': 0, 'has(l)': False, 'count(m)': 0, 'has(m)': False, 'count(n)': 1, 'has(n)': True, 'count(o)': 1, 'has(o)': True, 'count(p)': 0, 'has(p)': False, 'count(q)': 0, 'has(q)': False, 'count(r)': 0, 'has(r)': False, 'count(s)': 0, 'has(s)': False, 'count(t)': 0, 'has(t)': False, 'count(u)': 0, 'has(u)': False, 'count(v)': 0, 'has(v)': False, 'count(w)': 0, 'has(w)': False, 'count(x)': 0, 'has(x)': False, 'count(y)': 0, 'has(y)': False, 'count(z)': 0, 'has(z)': False}\n"
          ]
        }
      ]
    },
    {
      "cell_type": "code",
      "source": [
        "#assert first_letter_feature(\"Željko\") == 381\n",
        "#assert last_two_letters_feature(\"Željko\") == (107, 111)\n",
        "#assert vowel_count_feature(\"John\") == 1\n",
        "#assert consonant_count_feature(\"John\") == 3"
      ],
      "metadata": {
        "id": "-Aluj0ZwQbks"
      },
      "id": "-Aluj0ZwQbks",
      "execution_count": 82,
      "outputs": []
    },
    {
      "cell_type": "code",
      "source": [
        "X_train = list(map(gender_feature_function, X_train))\n",
        "X_test = list(map(gender_feature_function, X_test))"
      ],
      "metadata": {
        "id": "F3aGUMRpQj2B"
      },
      "id": "F3aGUMRpQj2B",
      "execution_count": 103,
      "outputs": []
    },
    {
      "cell_type": "code",
      "source": [
        "X_train[:10]"
      ],
      "metadata": {
        "colab": {
          "base_uri": "https://localhost:8080/"
        },
        "id": "kjoJCohMQmtG",
        "outputId": "4ba0e279-0646-4f3a-efa4-f6c3509f3906"
      },
      "id": "kjoJCohMQmtG",
      "execution_count": 104,
      "outputs": [
        {
          "output_type": "execute_result",
          "data": {
            "text/plain": [
              "[115, 97, 97, 110, 116, 108, 101, 97, 101, 101]"
            ]
          },
          "metadata": {},
          "execution_count": 104
        }
      ]
    },
    {
      "cell_type": "code",
      "source": [
        "X_train = np.array(X_train).reshape(-1, 1)\n",
        "X_test = np.array(X_test).reshape(-1, 1)"
      ],
      "metadata": {
        "id": "CHWlLDvxQtRJ"
      },
      "id": "CHWlLDvxQtRJ",
      "execution_count": 105,
      "outputs": []
    },
    {
      "cell_type": "code",
      "source": [
        "X_train.shape"
      ],
      "metadata": {
        "colab": {
          "base_uri": "https://localhost:8080/"
        },
        "id": "up2X12TbQtsB",
        "outputId": "22200d05-9efd-4006-bebf-81143cfc47ac"
      },
      "id": "up2X12TbQtsB",
      "execution_count": 106,
      "outputs": [
        {
          "output_type": "execute_result",
          "data": {
            "text/plain": [
              "(5958, 1)"
            ]
          },
          "metadata": {},
          "execution_count": 106
        }
      ]
    },
    {
      "cell_type": "code",
      "source": [
        "print(list(zip(X_train[:5], y_train[:5])))"
      ],
      "metadata": {
        "colab": {
          "base_uri": "https://localhost:8080/"
        },
        "id": "oGOVETFkQzI6",
        "outputId": "8d8391e9-fc22-4cd8-aeec-3caa3d369985"
      },
      "id": "oGOVETFkQzI6",
      "execution_count": 107,
      "outputs": [
        {
          "output_type": "stream",
          "name": "stdout",
          "text": [
            "[(array([115]), 0), (array([97]), 0), (array([97]), 1), (array([110]), 1), (array([116]), 0)]\n"
          ]
        }
      ]
    },
    {
      "cell_type": "code",
      "source": [
        "clf = clf.fit(X_train, y_train)"
      ],
      "metadata": {
        "id": "CcfnHwBGQ2E3"
      },
      "id": "CcfnHwBGQ2E3",
      "execution_count": 108,
      "outputs": []
    },
    {
      "cell_type": "code",
      "source": [
        "#tree.plot_tree(clf, feature_names = [\"gender_features2\"])\n",
        "tree.plot_tree(clf, feature_names=list(X_train[0].keys()))\n",
        "plt.show()"
      ],
      "metadata": {
        "colab": {
          "base_uri": "https://localhost:8080/",
          "height": 406
        },
        "id": "k0VprIAAQ48w",
        "outputId": "4bc42571-9526-4310-ab1c-9fd7a7f2b6ee"
      },
      "id": "k0VprIAAQ48w",
      "execution_count": 109,
      "outputs": [
        {
          "output_type": "display_data",
          "data": {
            "text/plain": [
              "<Figure size 640x480 with 1 Axes>"
            ],
            "image/png": "[encoded data removed]"
          },
          "metadata": {}
        }
      ]
    },
    {
      "cell_type": "code",
      "source": [
        "predictions = clf.predict(X_test)"
      ],
      "metadata": {
        "id": "doIXy9lgTBOx"
      },
      "id": "doIXy9lgTBOx",
      "execution_count": 110,
      "outputs": []
    },
    {
      "cell_type": "code",
      "source": [
        "print(classification_report(y_test, predictions))"
      ],
      "metadata": {
        "colab": {
          "base_uri": "https://localhost:8080/"
        },
        "id": "8Zx8TxbUTEP-",
        "outputId": "2ace1324-2973-4311-8c06-426cb794be7e"
      },
      "id": "8Zx8TxbUTEP-",
      "execution_count": 111,
      "outputs": [
        {
          "output_type": "stream",
          "name": "stdout",
          "text": [
            "              precision    recall  f1-score   support\n",
            "\n",
            "           0       0.62      0.68      0.65       744\n",
            "           1       0.79      0.75      0.77      1242\n",
            "\n",
            "    accuracy                           0.72      1986\n",
            "   macro avg       0.71      0.71      0.71      1986\n",
            "weighted avg       0.73      0.72      0.72      1986\n",
            "\n"
          ]
        }
      ]
    }
  ],
  "metadata": {
    "kernelspec": {
      "display_name": "Python 3 (ipykernel)",
      "language": "python",
      "name": "python3"
    },
    "language_info": {
      "codemirror_mode": {
        "name": "ipython",
        "version": 3
      },
      "file_extension": ".py",
      "mimetype": "text/x-python",
      "name": "python",
      "nbconvert_exporter": "python",
      "pygments_lexer": "ipython3",
      "version": "3.8.10"
    },
    "colab": {
      "provenance": [],
      "include_colab_link": true
    }
  },
  "nbformat": 4,
  "nbformat_minor": 5
}